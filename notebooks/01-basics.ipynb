{
 "cells": [
  {
   "cell_type": "markdown",
   "metadata": {},
   "source": [
    "### Base Comparison"
   ]
  },
  {
   "cell_type": "code",
   "execution_count": 1,
   "metadata": {},
   "outputs": [],
   "source": [
    "import pandas as pd\n",
    "import numpy as np\n",
    "from matplotlib import pyplot as plt"
   ]
  },
  {
   "cell_type": "code",
   "execution_count": 2,
   "metadata": {},
   "outputs": [],
   "source": [
    "%matplotlib inline"
   ]
  },
  {
   "cell_type": "code",
   "execution_count": 3,
   "metadata": {},
   "outputs": [],
   "source": [
    "n = 1000\n",
    "x = np.random.normal(0, 1, n)\n",
    "y = np.random.normal(0, 1, n)"
   ]
  },
  {
   "cell_type": "markdown",
   "metadata": {},
   "source": [
    "#### matplotlib"
   ]
  },
  {
   "cell_type": "code",
   "execution_count": 4,
   "metadata": {},
   "outputs": [
    {
     "data": {
      "image/png": "[encoded data removed]",
      "text/plain": [
       "<Figure size 432x288 with 1 Axes>"
      ]
     },
     "metadata": {
      "needs_background": "light"
     },
     "output_type": "display_data"
    }
   ],
   "source": [
    "plt.scatter(x, y);"
   ]
  },
  {
   "cell_type": "markdown",
   "metadata": {},
   "source": [
    "#### altair"
   ]
  },
  {
   "cell_type": "code",
   "execution_count": 5,
   "metadata": {},
   "outputs": [],
   "source": [
    "df = pd.DataFrame({\n",
    "    'x': x,\n",
    "    'y': y\n",
    "})"
   ]
  },
  {
   "cell_type": "code",
   "execution_count": 7,
   "metadata": {},
   "outputs": [
    {
     "name": "stdout",
     "output_type": "stream",
     "text": [
      "Collecting altair\n",
      "  Downloading altair-4.2.0-py3-none-any.whl (812 kB)\n",
      "     -------------------------------------- 812.8/812.8 KB 5.7 MB/s eta 0:00:00\n",
      "Requirement already satisfied: numpy in c:\\users\\jerem\\appdata\\roaming\\jupyterlab-desktop\\jlab_server\\lib\\site-packages (from altair) (1.22.3)\n",
      "Collecting toolz\n",
      "  Downloading toolz-0.11.2-py3-none-any.whl (55 kB)\n",
      "     ---------------------------------------- 55.8/55.8 KB 3.0 MB/s eta 0:00:00\n",
      "Requirement already satisfied: pandas>=0.18 in c:\\users\\jerem\\appdata\\roaming\\jupyterlab-desktop\\jlab_server\\lib\\site-packages (from altair) (1.4.2)\n",
      "Requirement already satisfied: entrypoints in c:\\users\\jerem\\appdata\\roaming\\jupyterlab-desktop\\jlab_server\\lib\\site-packages (from altair) (0.4)\n",
      "Requirement already satisfied: jinja2 in c:\\users\\jerem\\appdata\\roaming\\jupyterlab-desktop\\jlab_server\\lib\\site-packages (from altair) (3.1.1)\n",
      "Requirement already satisfied: jsonschema>=3.0 in c:\\users\\jerem\\appdata\\roaming\\jupyterlab-desktop\\jlab_server\\lib\\site-packages (from altair) (4.4.0)\n",
      "Requirement already satisfied: importlib-resources>=1.4.0 in c:\\users\\jerem\\appdata\\roaming\\jupyterlab-desktop\\jlab_server\\lib\\site-packages (from jsonschema>=3.0->altair) (5.7.1)\n",
      "Requirement already satisfied: pyrsistent!=0.17.0,!=0.17.1,!=0.17.2,>=0.14.0 in c:\\users\\jerem\\appdata\\roaming\\jupyterlab-desktop\\jlab_server\\lib\\site-packages (from jsonschema>=3.0->altair) (0.18.1)\n",
      "Requirement already satisfied: attrs>=17.4.0 in c:\\users\\jerem\\appdata\\roaming\\jupyterlab-desktop\\jlab_server\\lib\\site-packages (from jsonschema>=3.0->altair) (21.4.0)\n",
      "Requirement already satisfied: python-dateutil>=2.8.1 in c:\\users\\jerem\\appdata\\roaming\\jupyterlab-desktop\\jlab_server\\lib\\site-packages (from pandas>=0.18->altair) (2.8.2)\n",
      "Requirement already satisfied: pytz>=2020.1 in c:\\users\\jerem\\appdata\\roaming\\jupyterlab-desktop\\jlab_server\\lib\\site-packages (from pandas>=0.18->altair) (2022.1)\n",
      "Requirement already satisfied: MarkupSafe>=2.0 in c:\\users\\jerem\\appdata\\roaming\\jupyterlab-desktop\\jlab_server\\lib\\site-packages (from jinja2->altair) (2.1.1)\n",
      "Requirement already satisfied: zipp>=3.1.0 in c:\\users\\jerem\\appdata\\roaming\\jupyterlab-desktop\\jlab_server\\lib\\site-packages (from importlib-resources>=1.4.0->jsonschema>=3.0->altair) (3.8.0)\n",
      "Requirement already satisfied: six>=1.5 in c:\\users\\jerem\\appdata\\roaming\\jupyterlab-desktop\\jlab_server\\lib\\site-packages (from python-dateutil>=2.8.1->pandas>=0.18->altair) (1.16.0)\n",
      "Installing collected packages: toolz, altair\n",
      "Successfully installed altair-4.2.0 toolz-0.11.2\n",
      "Note: you may need to restart the kernel to use updated packages.\n"
     ]
    }
   ],
   "source": [
    "%pip install altair"
   ]
  },
  {
   "cell_type": "code",
   "execution_count": 8,
   "metadata": {},
   "outputs": [
    {
     "data": {
      "text/html": [
       "\n",
       "<div id=\"altair-viz-1fe522c7743e4fc986f0035865a330b3\"></div>\n",
       "<script type=\"text/javascript\">\n",
       "  var VEGA_DEBUG = (typeof VEGA_DEBUG == \"undefined\") ? {} : VEGA_DEBUG;\n",
       "  (function(spec, embedOpt){\n",
       "    let outputDiv = document.currentScript.previousElementSibling;\n",
       "    if (outputDiv.id !== \"altair-viz-1fe522c7743e4fc986f0035865a330b3\") {\n",
       "      outputDiv = document.getElementById(\"altair-viz-1fe522c7743e4fc986f0035865a330b3\");\n",
       "    }\n",
       "    const paths = {\n",
       "      \"vega\": \"https://cdn.jsdelivr.net/npm//vega@5?noext\",\n",
       "      \"vega-lib\": \"https://cdn.jsdelivr.net/npm//vega-lib?noext\",\n",
       "      \"vega-lite\": \"https://cdn.jsdelivr.net/npm//vega-lite@4.17.0?noext\",\n",
       "      \"vega-embed\": \"https://cdn.jsdelivr.net/npm//vega-embed@6?noext\",\n",
       "    };\n",
       "\n",
       "    function maybeLoadScript(lib, version) {\n",
       "      var key = `${lib.replace(\"-\", \"\")}_version`;\n",
       "      return (VEGA_DEBUG[key] == version) ?\n",
       "        Promise.resolve(paths[lib]) :\n",
       "        new Promise(function(resolve, reject) {\n",
       "          var s = document.createElement('script');\n",
       "          document.getElementsByTagName(\"head\")[0].appendChild(s);\n",
       "          s.async = true;\n",
       "          s.onload = () => {\n",
       "            VEGA_DEBUG[key] = version;\n",
       "            return resolve(paths[lib]);\n",
       "          };\n",
       "          s.onerror = () => reject(`Error loading script: ${paths[lib]}`);\n",
       "          s.src = paths[lib];\n",
       "        });\n",
       "    }\n",
       "\n",
       "    function showError(err) {\n",
       "      outputDiv.innerHTML = `<div class=\"error\" style=\"color:red;\">${err}</div>`;\n",
       "      throw err;\n",
       "    }\n",
       "\n",
       "    function displayChart(vegaEmbed) {\n",
       "      vegaEmbed(outputDiv, spec, embedOpt)\n",
       "        .catch(err => showError(`Javascript Error: ${err.message}<br>This usually means there's a typo in your chart specification. See the javascript console for the full traceback.`));\n",
       "    }\n",
       "\n",
       "    if(typeof define === \"function\" && define.amd) {\n",
       "      requirejs.config({paths});\n",
       "      require([\"vega-embed\"], displayChart, err => showError(`Error loading script: ${err.message}`));\n",
       "    } else {\n",
       "      maybeLoadScript(\"vega\", \"5\")\n",
       "        .then(() => maybeLoadScript(\"vega-lite\", \"4.17.0\"))\n",
       "        .then(() => maybeLoadScript(\"vega-embed\", \"6\"))\n",
       "        .catch(showError)\n",
       "        .then(() => displayChart(vegaEmbed));\n",
       "    }\n",
       "  })({\"config\": {\"view\": {\"continuousWidth\": 400, \"continuousHeight\": 300}}, \"data\": {\"name\": \"data-7d9851d6bc32783a533314bb9f21bb2f\"}, \"mark\": \"circle\", \"encoding\": {\"x\": {\"field\": \"x\", \"type\": \"quantitative\"}, \"y\": {\"field\": \"y\", \"type\": \"quantitative\"}}, \"$schema\": \"https://vega.github.io/schema/vega-lite/v4.17.0.json\", \"datasets\": {\"data-7d9851d6bc32783a533314bb9f21bb2f\": [{\"x\": 0.5705093996991967, \"y\": -0.9909153456139183}, {\"x\": -0.046429245019795055, \"y\": 0.26446397584844467}, {\"x\": -0.28823353867119283, \"y\": -0.1015482161825752}, {\"x\": -1.605932362853916, \"y\": -0.09401699421366667}, {\"x\": 0.7392679375988558, \"y\": -0.8306443578352396}, {\"x\": -0.3812458765011237, \"y\": 0.1451897844472711}, {\"x\": -0.05573879828437601, \"y\": 1.5662182513610896}, {\"x\": 1.1374643781691771, \"y\": -0.21512549791141872}, {\"x\": 0.7665254982436565, \"y\": 0.24680686421971354}, {\"x\": 0.09745305145605304, \"y\": 0.027046208503975714}, {\"x\": -0.5650874168961978, \"y\": 0.0639519382583049}, {\"x\": 0.2685431852046344, \"y\": 1.0443937502588796}, {\"x\": 1.2510403599828865, \"y\": -0.8683751415145387}, {\"x\": 0.9325524837011078, \"y\": -1.1425492219256028}, {\"x\": -1.210441833259861, \"y\": -0.007627425205879909}, {\"x\": 1.8148617006989056, \"y\": 0.6010248766191796}, {\"x\": 0.6027990248366394, \"y\": -0.6514113778268181}, {\"x\": -0.8910225028784498, \"y\": 0.5458420240868074}, {\"x\": 0.6045339543097658, \"y\": -0.34857912762273846}, {\"x\": 1.8226340841616173, \"y\": 0.8747570973470669}, {\"x\": -0.22645293628723773, \"y\": 0.2104024359162279}, {\"x\": -0.9771993156232333, \"y\": 0.8528606282485063}, {\"x\": 0.6938958618195038, \"y\": 0.9170443836136294}, {\"x\": 0.07870221380000213, \"y\": -0.3284036405645763}, {\"x\": -1.2327482279582236, \"y\": 1.3803987646209863}, {\"x\": -1.414526150817607, \"y\": 0.09617366544208246}, {\"x\": -0.5744704741575436, \"y\": -1.7539610333494953}, {\"x\": 1.6337712721715323, \"y\": 0.4327404575852675}, {\"x\": 0.46701429830548874, \"y\": 0.32984691178086706}, {\"x\": 0.2719806920601227, \"y\": 1.7668745489690003}, {\"x\": 0.9151061887801673, \"y\": 0.3068971617467103}, {\"x\": -0.8900820616012575, \"y\": 0.6734975868943701}, {\"x\": 1.68627218172483, \"y\": 0.5929977588081583}, {\"x\": -1.3156910761691627, \"y\": -0.3447218898704605}, {\"x\": 0.05301802615462605, \"y\": -0.648445119772672}, {\"x\": 0.5038170794750381, \"y\": 0.4206568266404676}, {\"x\": 0.06699132339125938, \"y\": -1.38618850137651}, {\"x\": 0.40155896920780143, \"y\": -0.20213376731711283}, {\"x\": -0.6364575785543983, \"y\": -0.34966668540557944}, {\"x\": -0.22494092605381277, \"y\": 2.252740875218324}, {\"x\": 0.5534090407962873, \"y\": -0.8439534779791259}, {\"x\": -0.9330659503799177, \"y\": -2.4413542759591578}, {\"x\": -0.1209299864258243, \"y\": 1.3486998638382424}, {\"x\": 0.8947141237704785, \"y\": -2.035959574084624}, {\"x\": 0.47440088283984494, \"y\": -0.8927234029255184}, {\"x\": 0.4590886956010973, \"y\": -0.052367785616903625}, {\"x\": -1.007592527713029, \"y\": -0.32481668851079}, {\"x\": -0.021923154728581692, \"y\": -0.15559724359927213}, {\"x\": -0.5915046964979188, \"y\": 1.1727466824520782}, {\"x\": 1.5158416293110226, \"y\": 1.3657682889462757}, {\"x\": 1.000626478843747, \"y\": -0.7095458617835294}, {\"x\": -1.4760669957707353, \"y\": 0.1265451966478509}, {\"x\": 0.15810636267755793, \"y\": -0.7186177539713338}, {\"x\": -0.7625777930261727, \"y\": 1.6603971511919569}, {\"x\": 1.437249192835503, \"y\": -0.2864795264229841}, {\"x\": -1.7660463881571276, \"y\": 0.4519086824063292}, {\"x\": -1.0276032398000037, \"y\": -0.7445030107372798}, {\"x\": -0.48953559143398756, \"y\": 0.5516578612184077}, {\"x\": -1.9275090727620277, \"y\": 0.45302938655097724}, {\"x\": 0.044954405787097626, \"y\": 0.05437077002735646}, {\"x\": 0.425359652590295, \"y\": -0.28596668659309615}, {\"x\": 1.0669474461752722, \"y\": 0.5877030623435124}, {\"x\": -0.5134530374207914, \"y\": -1.2833112363188968}, {\"x\": 0.6321866758295177, \"y\": 0.6386074287627069}, {\"x\": -0.578776598887874, \"y\": 0.2660911799741244}, {\"x\": 0.2980920970463976, \"y\": -1.4821805272524773}, {\"x\": -1.1861908443246387, \"y\": -0.4387843132979307}, {\"x\": -0.39970989229873694, \"y\": 1.69243478519914}, {\"x\": 0.19423479202144436, \"y\": -1.3346250611502117}, {\"x\": -0.3071420688419402, \"y\": 0.24661829263572524}, {\"x\": 1.9526965967369325, \"y\": -0.2075578444596573}, {\"x\": 0.6220889335759373, \"y\": 0.9287217641556949}, {\"x\": -0.2978870656565284, \"y\": 0.9487714576485153}, {\"x\": -1.6046942107959077, \"y\": 0.3041974533714069}, {\"x\": 1.0824739622616126, \"y\": -0.633141947471459}, {\"x\": -1.4712096305196936, \"y\": 0.8747505685125179}, {\"x\": 0.9604893906964919, \"y\": -0.9618241945383695}, {\"x\": -0.15671471694027173, \"y\": -0.7098914659032871}, {\"x\": 0.2884915160905727, \"y\": -0.3728719129878736}, {\"x\": -0.30042700105334863, \"y\": 0.3080160191778325}, {\"x\": 0.7583471245773639, \"y\": -1.2292252373816972}, {\"x\": -1.465257227869819, \"y\": 2.0503917514444234}, {\"x\": 0.20742200880264247, \"y\": -0.9252236236479416}, {\"x\": 0.12244609793488814, \"y\": -0.29301856004622556}, {\"x\": -0.16073943056218623, \"y\": -1.0307516274066175}, {\"x\": -0.29577262360572515, \"y\": 1.1650050051355485}, {\"x\": -0.6300990257383143, \"y\": 0.8867189641980475}, {\"x\": -1.1121004706569044, \"y\": 0.13707525203114637}, {\"x\": 1.2874287216676144, \"y\": 0.6662982255880412}, {\"x\": -1.972200682990384, \"y\": 0.7224981759658662}, {\"x\": -0.10821203733834238, \"y\": 1.1489212763245686}, {\"x\": 0.5767941041436832, \"y\": -0.5337579734626274}, {\"x\": -0.8848317728761101, \"y\": -0.057259306356112545}, {\"x\": -0.608971257275743, \"y\": -2.1900206394810597}, {\"x\": 0.08412856028371155, \"y\": -0.2903438990866593}, {\"x\": 0.19281694772007077, \"y\": -0.07286925094975419}, {\"x\": 0.4747004460982221, \"y\": -1.8370063484945867}, {\"x\": 0.0231744371829485, \"y\": 0.7912975484675281}, {\"x\": -0.8073299107602684, \"y\": 1.7045024503840571}, {\"x\": 0.7098443161535405, \"y\": 0.3334982868734819}, {\"x\": 0.16183767307552305, \"y\": 0.03350449756077602}, {\"x\": -0.8451900270609919, \"y\": 0.9901587907393248}, {\"x\": -2.1889848923021056, \"y\": 0.730714058894687}, {\"x\": -1.3210712829234663, \"y\": -2.77260384492803}, {\"x\": -0.42491956237033635, \"y\": -0.007238094488668178}, {\"x\": 1.216361020045592, \"y\": 0.011131499286860684}, {\"x\": 0.9589045803673603, \"y\": 0.9945558080113577}, {\"x\": 0.6043571409427746, \"y\": -0.09200243063371798}, {\"x\": -0.9115103253258908, \"y\": -1.1040549776748052}, {\"x\": -1.6577346679960736, \"y\": -0.16512183068081507}, {\"x\": 1.0382210818080242, \"y\": -0.8112289617399481}, {\"x\": 0.5978010897957817, \"y\": 0.9550188804900533}, {\"x\": -1.3917971972921328, \"y\": 0.8206120052680839}, {\"x\": 0.0540947306819603, \"y\": -0.266391046779989}, {\"x\": 0.15773522174957483, \"y\": -0.7911431975357054}, {\"x\": 0.42128986319936856, \"y\": -0.25540535810530546}, {\"x\": 0.6031663954051655, \"y\": 0.01987626157280334}, {\"x\": 0.49431397371394575, \"y\": 0.8747705462848124}, {\"x\": 1.9552669969770977, \"y\": -1.680494091214453}, {\"x\": -0.5542091785215182, \"y\": 0.11472659884455162}, {\"x\": -0.4208790267600708, \"y\": -0.4970398601871001}, {\"x\": -0.6498680413525992, \"y\": 0.30272411333585125}, {\"x\": -1.3867384322108212, \"y\": -0.15586870898295654}, {\"x\": 1.4262653893971788, \"y\": -0.3725311077455874}, {\"x\": 1.2543471329956963, \"y\": -0.3027589588305061}, {\"x\": 0.3969144767210219, \"y\": 1.0121300614066318}, {\"x\": -1.224139015862176, \"y\": 2.607402863236132}, {\"x\": 0.9962286843841175, \"y\": 0.565807331322802}, {\"x\": 0.144847561047193, \"y\": -2.1953320680222905}, {\"x\": 1.4594337728200604, \"y\": 0.9907078123784}, {\"x\": -0.10838675895382194, \"y\": -1.0288461176771897}, {\"x\": -0.39596153414528823, \"y\": 0.23659951148660197}, {\"x\": 1.2823107154903104, \"y\": 0.45664922545293085}, {\"x\": -0.2038403239597601, \"y\": -0.9760187964768531}, {\"x\": -1.3532690381322685, \"y\": 0.7815576535249217}, {\"x\": 0.613301336227041, \"y\": 0.021894687566298296}, {\"x\": 2.007510692928435, \"y\": 0.517516966134207}, {\"x\": -0.3043017150683649, \"y\": -0.2260968054858013}, {\"x\": 0.44701112977249763, \"y\": 0.11443535438772025}, {\"x\": 0.02935234439285511, \"y\": -0.3167706718114087}, {\"x\": 0.19443938915188022, \"y\": -1.2393075212390998}, {\"x\": 1.6400032979614323, \"y\": -0.7892331777955736}, {\"x\": 0.9499134384066221, \"y\": -1.5619897762523873}, {\"x\": -0.1718737045898562, \"y\": -1.0904311115449608}, {\"x\": -1.254093482350058, \"y\": -0.8252219150944636}, {\"x\": -0.21439881463531119, \"y\": 0.6085525205130573}, {\"x\": 0.41309163933409426, \"y\": -1.0914651221482154}, {\"x\": -0.9576185342601149, \"y\": 0.3587815108955598}, {\"x\": 0.3524978893233378, \"y\": -0.17917122807528563}, {\"x\": 0.47512414632125416, \"y\": 0.05324897749735756}, {\"x\": -0.000385960398573243, \"y\": 0.23432700658088057}, {\"x\": -0.6737109169284916, \"y\": 0.4682302000573429}, {\"x\": 0.4042946430122089, \"y\": 1.0016595180886108}, {\"x\": 0.17287439562563633, \"y\": -0.5849027336441616}, {\"x\": -0.9726566537717525, \"y\": 1.5487523785165933}, {\"x\": 1.675422292956861, \"y\": -0.2784209833668763}, {\"x\": -0.7508611959231406, \"y\": -1.7690261820994804}, {\"x\": -0.5917672778641508, \"y\": 1.4692614155699344}, {\"x\": -0.44713240460503806, \"y\": 0.03518134663821222}, {\"x\": -0.3107404873393321, \"y\": 1.3804221941813357}, {\"x\": 1.4228987330828249, \"y\": 0.14390374057001415}, {\"x\": 2.1858494371861013, \"y\": 0.5318679546373795}, {\"x\": 1.0054075530350415, \"y\": 0.22650299395105977}, {\"x\": 1.7105604606366396, \"y\": -0.2630463068880037}, {\"x\": -0.568762446981781, \"y\": -1.8116859224632962}, {\"x\": 0.30174081079592047, \"y\": 1.7342844197990839}, {\"x\": 0.6360269347403534, \"y\": -0.7796139749456082}, {\"x\": 1.5008102414022593, \"y\": 0.45772860963891276}, {\"x\": -0.3040948581759841, \"y\": 0.056232725628425524}, {\"x\": -1.0021284942429394, \"y\": 0.2899456612076571}, {\"x\": -0.4364595782166813, \"y\": 0.8411539521123625}, {\"x\": -1.7969567785910956, \"y\": 0.7099529612678234}, {\"x\": 0.8287944595693139, \"y\": -0.18661183057478606}, {\"x\": -0.6259651386761144, \"y\": 0.2686770728080432}, {\"x\": -0.05055127078517647, \"y\": -1.2249250798632785}, {\"x\": -0.8303964232643002, \"y\": 1.070712824888094}, {\"x\": -1.6310497203791454, \"y\": 0.9208492950488201}, {\"x\": -0.7963771455828711, \"y\": 1.0373409320240972}, {\"x\": -0.7461226925624067, \"y\": -0.7122510710024859}, {\"x\": 0.3291059627756466, \"y\": -0.2174493113263328}, {\"x\": 0.1441711391838434, \"y\": -0.6154076703288142}, {\"x\": -1.760678641144077, \"y\": 1.2226116001787926}, {\"x\": -0.6905363119947522, \"y\": 0.9645356469573533}, {\"x\": 0.14825242446413184, \"y\": -1.3968294697925987}, {\"x\": 0.17502791840256898, \"y\": -1.198356919122044}, {\"x\": 1.5099919911069035, \"y\": 1.4294223013074068}, {\"x\": -0.2209761175101125, \"y\": -0.22368085674356955}, {\"x\": 0.7037315627736893, \"y\": 0.4703527014636048}, {\"x\": 0.47786012608847034, \"y\": -0.173624120627582}, {\"x\": -1.6844069624942355, \"y\": -0.29927367900515905}, {\"x\": -1.3808936803000949, \"y\": -0.6739292471313354}, {\"x\": -0.934329184133419, \"y\": -0.5446091679595945}, {\"x\": -0.19287415139460762, \"y\": -1.3452315553940202}, {\"x\": -0.756537978363958, \"y\": 0.14641638170143942}, {\"x\": -0.3256646139809767, \"y\": 1.7919519572103413}, {\"x\": -0.9811658403482743, \"y\": 0.3472982667474785}, {\"x\": -1.7463826519868784, \"y\": 0.2604046403260203}, {\"x\": -1.1631600283120835, \"y\": 1.0274448252537758}, {\"x\": 0.8366026638153026, \"y\": -0.8160031006968661}, {\"x\": 1.4810825131696828, \"y\": 2.0946270016923756}, {\"x\": 0.39252374677101115, \"y\": 0.37901525437142686}, {\"x\": -0.855823561274488, \"y\": 1.0490092996500868}, {\"x\": 1.5764432227065648, \"y\": 0.5418497608265174}, {\"x\": -1.0840387645439746, \"y\": 0.6763501021229383}, {\"x\": -0.8487349581504982, \"y\": 0.5111577648725361}, {\"x\": -1.1994414830037468, \"y\": 0.2074103527851781}, {\"x\": 1.0212245018640582, \"y\": 0.14637732201638282}, {\"x\": 1.3463372567018683, \"y\": 0.7260359313575239}, {\"x\": -1.415859620645886, \"y\": -0.2373235808793955}, {\"x\": -0.5022529473792172, \"y\": 0.5083952632367483}, {\"x\": -0.6224096437003487, \"y\": -0.24080962781452744}, {\"x\": 1.3802908584987341, \"y\": 0.5660872715119235}, {\"x\": -0.674763911724898, \"y\": 0.3035869432514232}, {\"x\": -0.4860404135101141, \"y\": 1.00705108801295}, {\"x\": 0.41592936428456184, \"y\": 0.9115407263929977}, {\"x\": 1.9305751445446544, \"y\": 0.5611590177662873}, {\"x\": -0.18300262140875623, \"y\": 0.9706053450921194}, {\"x\": 0.22603617248987196, \"y\": -0.3426535902166451}, {\"x\": 1.3354227188636616, \"y\": 1.0391848875849141}, {\"x\": 1.6985093656816237, \"y\": -0.38200335145326086}, {\"x\": 0.47204023444405613, \"y\": 1.9751366399467614}, {\"x\": 0.8867481157041324, \"y\": 0.014525271295329115}, {\"x\": 0.4053995372814408, \"y\": 1.416559533018082}, {\"x\": -0.956048386859498, \"y\": 1.172061603960289}, {\"x\": 0.6141091116933987, \"y\": 1.6207035550382858}, {\"x\": 0.44077108148118443, \"y\": -0.5071762049636178}, {\"x\": 0.05702527802427744, \"y\": 0.8861677221173908}, {\"x\": -0.5186804901135245, \"y\": -0.2869604010621238}, {\"x\": 0.3103704094453441, \"y\": -0.46232603922145465}, {\"x\": -0.6467217021616534, \"y\": 0.7322478700233848}, {\"x\": -0.3028882580461735, \"y\": -0.14814421870479008}, {\"x\": 1.225569268991191, \"y\": 1.215483033019346}, {\"x\": -0.63389363191986, \"y\": -0.5819742116261}, {\"x\": 1.956048826909396, \"y\": 0.6291522793027782}, {\"x\": -1.0279085591197776, \"y\": 1.740647890826669}, {\"x\": 0.19448986700051835, \"y\": 0.19403698070399775}, {\"x\": -0.162468735732836, \"y\": 0.3330311304089515}, {\"x\": -1.4567671942592282, \"y\": -1.185510059575577}, {\"x\": 1.4055894054470346, \"y\": 0.2700115875837215}, {\"x\": 0.18254492702006234, \"y\": -0.4305610479994879}, {\"x\": 0.1841998185594667, \"y\": -0.5522782728079386}, {\"x\": 0.5685177895467274, \"y\": -0.22792531035186428}, {\"x\": -2.314162918391486, \"y\": 0.8142140287856942}, {\"x\": -0.24029290544016144, \"y\": -0.08215685284604966}, {\"x\": -1.1602619746070888, \"y\": -1.067576845061546}, {\"x\": 0.23347172330453989, \"y\": 0.89365391379957}, {\"x\": -1.3261482077374025, \"y\": 1.1485814387095348}, {\"x\": -0.26018786884911554, \"y\": 0.12202230471609293}, {\"x\": -1.7924215395959764, \"y\": -0.701458660702838}, {\"x\": 0.6559881619068276, \"y\": 0.31684291351468474}, {\"x\": 0.5175683581482753, \"y\": -0.676596329444936}, {\"x\": 1.2492571132084163, \"y\": 1.508619213538027}, {\"x\": 2.000479429631616, \"y\": -0.6311398025144014}, {\"x\": -0.2644576032974429, \"y\": 0.20686218738713838}, {\"x\": 0.5250613511072697, \"y\": -1.5387038096681702}, {\"x\": 0.8369674829164575, \"y\": 0.9256633778952724}, {\"x\": -1.1346913200965083, \"y\": 0.14486262312838522}, {\"x\": 1.1756407264125863, \"y\": -1.6925093559382176}, {\"x\": 0.3550390189725692, \"y\": 0.9317054278763462}, {\"x\": 1.0571335435074207, \"y\": -2.204948970998147}, {\"x\": -0.3884284764764828, \"y\": -0.814281518590621}, {\"x\": -0.06742286737352221, \"y\": 0.49168182339180766}, {\"x\": 0.6737187715106776, \"y\": -0.1364421786900233}, {\"x\": -0.502004581644938, \"y\": -0.012709701586795658}, {\"x\": -0.010745251011785608, \"y\": -0.4082541610006725}, {\"x\": 1.1754039948697472, \"y\": 1.3270061500846906}, {\"x\": 0.26738259626094335, \"y\": -0.8038524139874623}, {\"x\": 1.3793587960723563, \"y\": 0.0749533061753649}, {\"x\": 2.4245776670088763, \"y\": 0.2331434622931812}, {\"x\": -1.0686354335838184, \"y\": 0.8598192985763722}, {\"x\": 0.67924014316778, \"y\": 0.38195719615428}, {\"x\": -2.2786175447846237, \"y\": 0.5296890237837519}, {\"x\": -0.7619635640574942, \"y\": -0.487056737907876}, {\"x\": 0.33291540086760113, \"y\": 1.9962311339363163}, {\"x\": -1.3569846683786249, \"y\": 2.280167104610195}, {\"x\": -0.40123008843382707, \"y\": 1.1473026565959559}, {\"x\": -0.02910933648449047, \"y\": -3.634078325654028}, {\"x\": 0.7074979206675659, \"y\": -2.212872924711357}, {\"x\": 0.5264418597751782, \"y\": -0.8469050803257963}, {\"x\": 0.13898123800354914, \"y\": -0.7395872816953996}, {\"x\": -0.9696158117011985, \"y\": -1.6514063928162686}, {\"x\": 0.5059808781697496, \"y\": -0.7236758354010142}, {\"x\": -1.626649451154695, \"y\": 1.7876797855778863}, {\"x\": -0.23355180038570664, \"y\": -0.573143911645733}, {\"x\": -0.7595861821359687, \"y\": 1.431359026473165}, {\"x\": 1.714548054139582, \"y\": 0.6687466529826892}, {\"x\": -0.9815598611797495, \"y\": -1.4108173987977164}, {\"x\": 0.5060068654611332, \"y\": -0.7363883303014787}, {\"x\": 1.8708571036791204, \"y\": -0.46312119355886794}, {\"x\": 0.2793993149056454, \"y\": 0.8534468688669521}, {\"x\": -0.38350630044397077, \"y\": 0.8594922460941046}, {\"x\": 0.3940660373696894, \"y\": 1.4725915807073138}, {\"x\": 0.3963721738872423, \"y\": 1.0994443585328253}, {\"x\": 1.3252292874796567, \"y\": -1.762638185029241}, {\"x\": -0.5008695317552254, \"y\": -1.4618012576031345}, {\"x\": -1.3567763228100223, \"y\": -0.05024850460119217}, {\"x\": -0.40634691998239736, \"y\": 2.2483522439545514}, {\"x\": 1.0351325825213913, \"y\": 0.24503874044262047}, {\"x\": 0.9280240103470409, \"y\": -1.5184200182662662}, {\"x\": -0.7623659300541709, \"y\": -0.7831330139956009}, {\"x\": -0.9555845450145027, \"y\": -0.9090019557151334}, {\"x\": -0.8965457222393849, \"y\": -0.2872001136704283}, {\"x\": -0.939294703146383, \"y\": 0.5880263723550053}, {\"x\": 0.8393985546726709, \"y\": -1.5139356992661706}, {\"x\": 2.134777786416516, \"y\": 1.001356405447336}, {\"x\": 0.12388955291178143, \"y\": -1.2480873438794033}, {\"x\": 1.906364550521263, \"y\": -0.2825958463393456}, {\"x\": -0.9443727790280163, \"y\": -0.06582132838521608}, {\"x\": 0.14196608515402506, \"y\": 2.281916057156832}, {\"x\": 1.6852459265983097, \"y\": -0.016760418157100644}, {\"x\": 0.7176603939689895, \"y\": 0.0029398282764133746}, {\"x\": 0.022178446549827657, \"y\": -0.8801703095160854}, {\"x\": -0.12693987421034478, \"y\": -1.2643221483842102}, {\"x\": 0.6292868276755894, \"y\": 2.5154074362999377}, {\"x\": 0.5530789578427253, \"y\": 0.6403702660059187}, {\"x\": 0.9753586348928411, \"y\": 0.22624075802427684}, {\"x\": -1.5752407443171186, \"y\": -0.2590166532668095}, {\"x\": -1.0938551843341746, \"y\": -0.658380627616766}, {\"x\": -0.5134311226558523, \"y\": 0.01246875460282705}, {\"x\": 0.952239027249016, \"y\": -0.7114119897705555}, {\"x\": -0.04304144233677182, \"y\": 1.6515233648786485}, {\"x\": -0.2265693677159084, \"y\": -0.8407249108034713}, {\"x\": 0.03406950966290403, \"y\": 0.4357866960270778}, {\"x\": -1.0330158470249036, \"y\": -0.5188803927828333}, {\"x\": -0.33996832420085776, \"y\": -0.30914629958699963}, {\"x\": -1.0766253236831758, \"y\": 0.0666736573086938}, {\"x\": -0.6576580365268855, \"y\": 0.75731336458693}, {\"x\": 1.3164234147215172, \"y\": 0.7440853204228167}, {\"x\": -0.9593961123913406, \"y\": -0.3950422969133606}, {\"x\": -1.267652096485612, \"y\": -3.4038995761445703}, {\"x\": 2.370071425433517, \"y\": 0.7406426534391023}, {\"x\": 0.20219611730640974, \"y\": 1.3276164889477144}, {\"x\": 0.19090653485949505, \"y\": 0.45211719796482724}, {\"x\": -0.6694424381062213, \"y\": 0.9226182142685471}, {\"x\": -2.1498144111895243, \"y\": -0.33530634758940703}, {\"x\": -0.6014343689283038, \"y\": 0.7432748760463999}, {\"x\": 0.15236210475743353, \"y\": -0.9077518568825549}, {\"x\": -0.6615084673117312, \"y\": -1.1725174606095634}, {\"x\": 0.9400746563957111, \"y\": -0.7248398973865482}, {\"x\": 0.6153184367343412, \"y\": -1.3202874864203802}, {\"x\": -1.2107097483059275, \"y\": -1.2866459103892391}, {\"x\": 1.096806579492555, \"y\": 0.2541436754340104}, {\"x\": 0.026437623146153517, \"y\": -0.0709921718472677}, {\"x\": 1.7419233056826597, \"y\": -1.8470389369304123}, {\"x\": 0.5491964431721472, \"y\": 1.5648912965540387}, {\"x\": 0.7140270357448675, \"y\": -0.28851282259628264}, {\"x\": 0.4637538712405602, \"y\": 1.18268345377021}, {\"x\": -1.7677775418860866, \"y\": -0.9660077170797376}, {\"x\": 0.1961790156754793, \"y\": -0.9555933785357001}, {\"x\": -0.22386198894734569, \"y\": 0.3465217769607452}, {\"x\": 1.8119177537210145, \"y\": 0.2265607669952949}, {\"x\": 1.4100608365693017, \"y\": -0.4902066030114973}, {\"x\": 0.4904382971825157, \"y\": 0.33266729030810743}, {\"x\": 0.5831974403637123, \"y\": 1.2091240684531614}, {\"x\": 0.13225950569474612, \"y\": -1.2024888452295033}, {\"x\": 1.399224952924906, \"y\": 0.935861514155236}, {\"x\": -0.557809078071205, \"y\": 1.1990771444206014}, {\"x\": 0.9728824760901423, \"y\": 0.7361595791247926}, {\"x\": -1.167511459327429, \"y\": 0.5061634074904842}, {\"x\": -0.580014655881758, \"y\": 2.7729963475097787}, {\"x\": -0.2933825657503302, \"y\": -0.5777081016443851}, {\"x\": -0.10842520635017891, \"y\": 0.24802273222095267}, {\"x\": 0.32458021556419603, \"y\": 1.6363751764341006}, {\"x\": -0.869262972039985, \"y\": -0.9904389052530921}, {\"x\": -0.21064585750771958, \"y\": 0.05161459234165868}, {\"x\": -0.5352866970194389, \"y\": 0.42566060905067676}, {\"x\": -0.8344571622480326, \"y\": -0.3411130845426242}, {\"x\": 1.0064297070226578, \"y\": 0.7268967450974115}, {\"x\": 0.8651448662912522, \"y\": 0.3714099399139942}, {\"x\": 1.0277421243896625, \"y\": -0.4230944700401239}, {\"x\": 0.21121205058190792, \"y\": -0.6877292028503097}, {\"x\": -0.6354295796106352, \"y\": -1.977468626274179}, {\"x\": -2.007806531085212, \"y\": 0.17778602766139326}, {\"x\": 0.7035028648521843, \"y\": 0.3274544036728609}, {\"x\": 0.6468948338454598, \"y\": -1.283840583066527}, {\"x\": 0.5081003796711183, \"y\": 1.5268581015969842}, {\"x\": -0.45808056002852154, \"y\": -0.6165128167432229}, {\"x\": 0.8121821277130707, \"y\": 2.083892298135822}, {\"x\": 0.6682600441960027, \"y\": 0.8780326676743794}, {\"x\": 0.057819410050195086, \"y\": 0.3776861872011947}, {\"x\": 0.9777010382538542, \"y\": -0.7513924790868959}, {\"x\": -0.5489124139602817, \"y\": 1.123496825983725}, {\"x\": -0.3399660509512894, \"y\": 0.6525056971474513}, {\"x\": 0.5705847016826145, \"y\": -0.15526582768567554}, {\"x\": 0.6958743791198567, \"y\": -0.4693354397562844}, {\"x\": -0.5386000464817842, \"y\": -0.16046015115907444}, {\"x\": 0.23751637541223047, \"y\": -1.276945936313665}, {\"x\": -1.2351207754599502, \"y\": 0.48828151382256013}, {\"x\": -0.569045668190747, \"y\": -0.330004604873981}, {\"x\": 1.898432070399813, \"y\": -0.3847680366650388}, {\"x\": 0.1316257073671614, \"y\": -1.1613402113855624}, {\"x\": 0.2881025116245094, \"y\": 0.0015671597713012404}, {\"x\": 0.433542882869736, \"y\": 0.9802238253116115}, {\"x\": -0.2827378837520581, \"y\": 2.738778286587925}, {\"x\": 0.5962399204945806, \"y\": 1.5512496182547348}, {\"x\": 0.2028395472124334, \"y\": -0.02469061920313564}, {\"x\": 1.2075889281313106, \"y\": -0.9329367552561503}, {\"x\": -1.5861368491599541, \"y\": -1.115089080598828}, {\"x\": 0.38281746823448076, \"y\": 0.28579819924746913}, {\"x\": 1.4655657335169412, \"y\": 0.184541026179308}, {\"x\": 0.5058221544850497, \"y\": -1.0250307270071601}, {\"x\": -1.5755484173540062, \"y\": 0.774614192641834}, {\"x\": 1.5826353438087968, \"y\": 1.0193923761431996}, {\"x\": 1.8784794134813612, \"y\": 0.5081377720145185}, {\"x\": 0.11212519270644555, \"y\": -0.39092845066547743}, {\"x\": 1.3130932335196848, \"y\": -1.0179209003957381}, {\"x\": -0.0518727352682659, \"y\": -0.5799039572597927}, {\"x\": -1.6959488904749231, \"y\": 0.1669924973635711}, {\"x\": -0.5146185208542582, \"y\": 1.1709766078613646}, {\"x\": -0.28122595527076, \"y\": -1.899072322408625}, {\"x\": -0.9101379498818081, \"y\": 0.7540855990655296}, {\"x\": -0.5412753084153914, \"y\": 1.0243476439056385}, {\"x\": 2.5851138366589206, \"y\": -1.8647545504506307}, {\"x\": 1.0060581965903177, \"y\": 0.96408438108932}, {\"x\": -0.6842562798468552, \"y\": -0.7465182332901126}, {\"x\": -0.3286838587737838, \"y\": 2.4248838158266164}, {\"x\": -0.8896337652970567, \"y\": 0.22296882351382238}, {\"x\": -0.4451304534488323, \"y\": 0.1117879672108567}, {\"x\": -0.5233482934573005, \"y\": -1.2095982723623706}, {\"x\": -0.46917395703984655, \"y\": -1.0338709438195426}, {\"x\": 0.4276142939660884, \"y\": -0.05514493190194536}, {\"x\": 1.4034234671575305, \"y\": 0.11609354856451147}, {\"x\": -1.0650461161430185, \"y\": -0.40865666885320606}, {\"x\": 0.2675078043038604, \"y\": -0.9159716964554122}, {\"x\": -0.04626742760735111, \"y\": 1.3099329639740924}, {\"x\": 0.861371054017281, \"y\": 0.060772251122844984}, {\"x\": -1.5161110160202593, \"y\": 0.8284741433615895}, {\"x\": 1.2975717625604182, \"y\": 0.0007861538175104823}, {\"x\": -0.7426580172548056, \"y\": -0.16886606156312972}, {\"x\": 0.09064194748522497, \"y\": -0.224563495459542}, {\"x\": 1.3725414393531448, \"y\": -0.8346326133856793}, {\"x\": -0.03254783424193631, \"y\": -2.0216730952141186}, {\"x\": -0.32299675579067183, \"y\": -1.3362956062881344}, {\"x\": 2.6673640100888054, \"y\": 0.4500053386069046}, {\"x\": 0.3500172416170993, \"y\": 0.6460414803580872}, {\"x\": 1.5651188833523952, \"y\": 0.9290581302242976}, {\"x\": -0.09124326026395026, \"y\": -0.041554765078860446}, {\"x\": -0.8934122270203497, \"y\": 1.648589350539848}, {\"x\": -0.7491354851326347, \"y\": 1.2094609559004355}, {\"x\": -0.35875039583596874, \"y\": 1.202670997695106}, {\"x\": -1.3889226928693577, \"y\": -1.1673779477430812}, {\"x\": 2.0994008828694066, \"y\": -0.47915222637511334}, {\"x\": 1.2729638936251675, \"y\": -1.5428626575713458}, {\"x\": 0.6357229771100867, \"y\": 0.5349653109363391}, {\"x\": -0.2966248667246928, \"y\": 1.0297382231056285}, {\"x\": -0.7416310411986444, \"y\": -0.8460119989333772}, {\"x\": 0.5806186103165185, \"y\": 1.1629990681607167}, {\"x\": 0.5207608453572062, \"y\": -1.449600955506143}, {\"x\": 1.792666262452378, \"y\": 0.0786436275677335}, {\"x\": -1.8136753843832845, \"y\": -1.0115329453465907}, {\"x\": -2.103942659365062, \"y\": -0.01176691035995276}, {\"x\": -0.8063816984243294, \"y\": 0.20068949960672489}, {\"x\": 1.2065569296861354, \"y\": -1.298801272758237}, {\"x\": -0.8915705640057107, \"y\": 0.4913811588495645}, {\"x\": 0.2356909234135815, \"y\": -1.3572432718241347}, {\"x\": -1.0529310011652826, \"y\": -0.29065185788126424}, {\"x\": 1.406572035219248, \"y\": -2.120634350854351}, {\"x\": 2.1262618802441398, \"y\": 0.9482159419849793}, {\"x\": 0.32246376724818787, \"y\": 1.062928488716262}, {\"x\": 0.08937496258456282, \"y\": -1.0444352299443884}, {\"x\": 0.10844705229833813, \"y\": 0.43152705862083296}, {\"x\": -0.00411480694911862, \"y\": -0.04756006174955844}, {\"x\": -1.3201943366509084, \"y\": 0.07887646171964453}, {\"x\": 0.878818346021685, \"y\": -1.571387888060463}, {\"x\": 0.23453280937505294, \"y\": 0.31020338522404084}, {\"x\": 0.046896199135695475, \"y\": 0.6342825917457817}, {\"x\": -0.5508764057487039, \"y\": 0.2848149089571085}, {\"x\": -1.7003029393090188, \"y\": -0.33270180205265226}, {\"x\": 1.2060077206364264, \"y\": -0.8478162263257643}, {\"x\": -0.6146193452336051, \"y\": -0.1975966860052401}, {\"x\": -1.009263997443151, \"y\": 0.8869810807122764}, {\"x\": 0.1173753994922701, \"y\": 0.7405056842551653}, {\"x\": 0.4736540663023443, \"y\": -0.41436850708188916}, {\"x\": 0.46010545056184066, \"y\": -0.02765127301777275}, {\"x\": -0.20560425041906516, \"y\": -0.5868968047530666}, {\"x\": -1.7134144681296168, \"y\": 0.08239781695239236}, {\"x\": -0.13341322900220112, \"y\": 0.9434167465986532}, {\"x\": 0.7141395089381026, \"y\": 1.415168763623692}, {\"x\": 0.04645471841274525, \"y\": 1.1206035774823644}, {\"x\": -2.191380949747404, \"y\": 1.1332569677930826}, {\"x\": -0.45297481458233413, \"y\": 1.2416509920721428}, {\"x\": 0.16502783818371602, \"y\": 1.1902008004233382}, {\"x\": 0.031483214777432066, \"y\": 0.709426297449114}, {\"x\": 0.9398944391165728, \"y\": 0.6241518182276197}, {\"x\": 1.4870881530580322, \"y\": 0.6941843045885233}, {\"x\": 0.4605986571303376, \"y\": -1.7364577917024986}, {\"x\": 0.382208974937532, \"y\": -1.3463745451497142}, {\"x\": 0.3951541411970715, \"y\": -0.4708539164515565}, {\"x\": -1.2383563695588933, \"y\": 2.173996685590657}, {\"x\": 0.9861787206578663, \"y\": -1.040517152583333}, {\"x\": -0.10622156726875724, \"y\": -1.0633887493773322}, {\"x\": 0.9510288567329345, \"y\": -0.15686064810166622}, {\"x\": -0.679120730104434, \"y\": -0.8003167811570963}, {\"x\": 0.6471667484387917, \"y\": 0.7853033451938474}, {\"x\": -0.346850918453192, \"y\": 0.3891267956117338}, {\"x\": 0.07316506836808793, \"y\": -0.05568744318480471}, {\"x\": -0.40797021460084865, \"y\": 2.5629122553398336}, {\"x\": 0.7159565387810635, \"y\": -0.776361391114944}, {\"x\": 0.007403419598907608, \"y\": 0.15969938077464746}, {\"x\": 0.31549974344830156, \"y\": 2.16164501439402}, {\"x\": -1.0674647473739212, \"y\": -2.1053924166784888}, {\"x\": -0.5660586165068405, \"y\": 0.8303355833388244}, {\"x\": -0.7715478654903443, \"y\": 1.102167901650219}, {\"x\": -0.5482646181237045, \"y\": -0.8112849813736199}, {\"x\": -0.2887960858673812, \"y\": 0.07600429340665353}, {\"x\": 3.0688130277299477, \"y\": 1.206320505238401}, {\"x\": 0.22124489186522864, \"y\": -0.8355917086680849}, {\"x\": -1.2656115375898813, \"y\": 1.1362164069706948}, {\"x\": 0.11612591209433454, \"y\": -0.3535242533731957}, {\"x\": -1.8557943643111634, \"y\": 0.5298063013782183}, {\"x\": 0.8058586097937159, \"y\": -1.535044516036527}, {\"x\": -0.8804131796431146, \"y\": 1.3275117531662894}, {\"x\": 0.8847096120687068, \"y\": 0.4827696400837659}, {\"x\": 1.4104353197524182, \"y\": 1.6264257065647059}, {\"x\": 0.30091951519928023, \"y\": -1.3904940495821638}, {\"x\": 0.8151393282510959, \"y\": 1.0263520364771253}, {\"x\": 1.0142459109635245, \"y\": -0.6494026555730488}, {\"x\": -1.8703519122094534, \"y\": -0.8262466581202941}, {\"x\": -0.378801567952794, \"y\": 0.03920871855558746}, {\"x\": 0.34687206623615, \"y\": 0.48926021731279246}, {\"x\": 0.6030926665448024, \"y\": 1.1414656656292042}, {\"x\": 1.0807939008346088, \"y\": -0.05828649487167111}, {\"x\": 0.3430686541501398, \"y\": -0.06394686225130847}, {\"x\": -0.13395983151496255, \"y\": -0.6623681589284762}, {\"x\": -0.09209070985625839, \"y\": 0.23809695339332873}, {\"x\": 1.2407965085289263, \"y\": -1.0215066683571246}, {\"x\": 1.0550464820544416, \"y\": -0.8513131690914015}, {\"x\": 0.7176750937063241, \"y\": 0.4686260711876967}, {\"x\": -0.6520551204950531, \"y\": -0.059714156021416054}, {\"x\": -0.3012587742364557, \"y\": -0.4082268810244483}, {\"x\": -0.02458652915856158, \"y\": 0.5575741871497846}, {\"x\": 0.5508926607077359, \"y\": -0.40308854216043616}, {\"x\": -0.8853459948884239, \"y\": 1.447193025833557}, {\"x\": -1.3374229147685217, \"y\": 0.5869858022717142}, {\"x\": -0.34992201973421094, \"y\": 0.1712997546465389}, {\"x\": -1.4849276437206025, \"y\": 0.6756642103441575}, {\"x\": -0.6660526384796971, \"y\": -0.2316770720010595}, {\"x\": 2.292976560162722, \"y\": 0.14707568823428746}, {\"x\": -1.527745249333512, \"y\": -0.5493154807679823}, {\"x\": -0.16928617248939706, \"y\": 0.47108955505695194}, {\"x\": 0.06606007255551173, \"y\": 0.20051811480532142}, {\"x\": -0.9894960434712016, \"y\": -1.5923505670476388}, {\"x\": -0.08117424816896075, \"y\": 0.8542596032496155}, {\"x\": 0.509553976509402, \"y\": -0.04230633602543284}, {\"x\": 0.6854645881272172, \"y\": -0.5406239730851534}, {\"x\": 1.730899757758024, \"y\": 0.21112069761355198}, {\"x\": -1.8178781613571313, \"y\": -1.0591806408743722}, {\"x\": 0.41062402482342925, \"y\": -0.9798733315276511}, {\"x\": 1.377676801019026, \"y\": 0.2096489820141533}, {\"x\": -0.12530940987678596, \"y\": -0.5804786716561172}, {\"x\": 1.018569616931084, \"y\": -3.34439498778519}, {\"x\": 1.2286725707576107, \"y\": 0.009736817433768955}, {\"x\": 0.398405761323421, \"y\": -1.6960860076021353}, {\"x\": 0.5532036695974877, \"y\": 0.023503626336260346}, {\"x\": 0.6164033210011507, \"y\": 1.319663581558876}, {\"x\": -0.28096345746287976, \"y\": -0.2974247353779952}, {\"x\": 1.7992589534128665, \"y\": 0.7850361910116243}, {\"x\": 0.10706990884428479, \"y\": -0.10502627917435034}, {\"x\": -0.0367903312526445, \"y\": 0.3611765643855655}, {\"x\": 0.35990223810423083, \"y\": -0.7550016229651454}, {\"x\": 0.5651162265584129, \"y\": -0.9997493800816947}, {\"x\": 0.14715123145720269, \"y\": 0.8542418651981593}, {\"x\": -1.6579398376932195, \"y\": -1.6069002301788384}, {\"x\": 1.3079182766387607, \"y\": 1.1048036405817834}, {\"x\": 0.6381605667426831, \"y\": -0.15148649843474435}, {\"x\": 0.8639085776480647, \"y\": -0.6292112497339847}, {\"x\": 0.3587333639773267, \"y\": 0.9719919136775108}, {\"x\": -0.24680562942986983, \"y\": -0.6887341237582716}, {\"x\": 0.17056860030078314, \"y\": -0.8359582929385881}, {\"x\": 0.756815373183963, \"y\": -0.9989829440260483}, {\"x\": 1.630280975030789, \"y\": 0.6445355327913128}, {\"x\": -1.9588808236568611, \"y\": 1.7163182103679495}, {\"x\": -0.13810930591223125, \"y\": -1.4248845408386324}, {\"x\": -0.9740790079614638, \"y\": -0.3311630381482565}, {\"x\": -1.6850496034142284, \"y\": -0.05639715041954517}, {\"x\": -0.9469366830379671, \"y\": 0.18131609154692668}, {\"x\": 1.9285005594364335, \"y\": -0.11795832766977686}, {\"x\": 0.8121697113754397, \"y\": 1.3887619652951464}, {\"x\": -0.6083565671970361, \"y\": -0.17373305671847344}, {\"x\": -1.1309573019665837, \"y\": 1.1810586354791985}, {\"x\": -0.2650699572862186, \"y\": 1.1141662869026423}, {\"x\": -0.5451505865041859, \"y\": -0.4500452202787011}, {\"x\": 0.14312408619073919, \"y\": -1.5754950403930859}, {\"x\": 1.0205398565374724, \"y\": -0.9769641474745523}, {\"x\": 0.2913158333287744, \"y\": -0.9686015943123044}, {\"x\": 0.6497219996044117, \"y\": 0.5469409970540546}, {\"x\": 0.16104649828266945, \"y\": -0.3176152196746338}, {\"x\": -1.4722683690293403, \"y\": -2.446642570156846}, {\"x\": 2.8897287550824355, \"y\": -0.6125050808512279}, {\"x\": -1.6027577101609956, \"y\": 1.1440888457632286}, {\"x\": 0.37957690568789976, \"y\": -0.5006872793244778}, {\"x\": -0.3456699921405621, \"y\": -0.5856503625685979}, {\"x\": -1.0058598614082968, \"y\": 0.4020901960766673}, {\"x\": -0.9854905069409758, \"y\": -1.182758138964213}, {\"x\": -1.2703992630278735, \"y\": -1.5030567241860626}, {\"x\": -0.5706634504739387, \"y\": 1.3689391793618402}, {\"x\": -0.13333427834265707, \"y\": -0.8884711066672751}, {\"x\": -2.183440641034994, \"y\": -0.1129377917871452}, {\"x\": 0.47910640657782844, \"y\": 1.9780851102027301}, {\"x\": 1.0273522844287073, \"y\": 0.26716970174074955}, {\"x\": 0.022214361601730095, \"y\": 0.6846961383009519}, {\"x\": -1.5578025185654496, \"y\": 0.7078427471509077}, {\"x\": 1.2816725662079653, \"y\": -0.8436906855793512}, {\"x\": -1.3518781572946834, \"y\": 0.7272724990604776}, {\"x\": -0.8990590831387392, \"y\": 1.7749768938930024}, {\"x\": -0.7836790009285417, \"y\": 1.069855982960328}, {\"x\": 0.4541005015067988, \"y\": -0.4167599988035594}, {\"x\": 0.3933084406425658, \"y\": -0.4980645759908038}, {\"x\": -1.060382743639926, \"y\": -0.36585720950251494}, {\"x\": 0.41153386112310586, \"y\": 0.271693889038549}, {\"x\": 1.1908848370704554, \"y\": 1.1600473689532904}, {\"x\": 1.1133600403966066, \"y\": 1.282283566025003}, {\"x\": 1.4140327364271894, \"y\": -0.3674761482272682}, {\"x\": 1.419661745428364, \"y\": -1.6991795766386935}, {\"x\": -0.7164248932484865, \"y\": 0.28905139046643274}, {\"x\": 0.21273991660238678, \"y\": 1.2704215288936378}, {\"x\": 1.2087405527647082, \"y\": -0.42177450825584534}, {\"x\": -1.0159219707187332, \"y\": 2.344974676328942}, {\"x\": -0.7161470118350822, \"y\": 1.0071873223663823}, {\"x\": 0.019853288159750498, \"y\": -0.3279597921229259}, {\"x\": -0.6500517867552774, \"y\": 0.5707148109532282}, {\"x\": -1.1142358948936935, \"y\": -0.7497905887031688}, {\"x\": 0.5687037252246225, \"y\": 0.8890356844430353}, {\"x\": 0.01767178333131644, \"y\": 0.013250430503743695}, {\"x\": 1.1230934432128217, \"y\": 0.4039967656615133}, {\"x\": 0.1635761436948018, \"y\": 0.6520061110699694}, {\"x\": -0.854756289700244, \"y\": 1.3786948878851695}, {\"x\": 0.04287996020545074, \"y\": -2.6519509233704093}, {\"x\": 1.0469851550225497, \"y\": -0.7636634560510991}, {\"x\": 0.7509314653616667, \"y\": -1.3246275756998205}, {\"x\": -0.08682833919802786, \"y\": -0.5903325655655937}, {\"x\": -0.1570223230237437, \"y\": 0.18039639347601366}, {\"x\": 1.3093467121314455, \"y\": 1.313575129305755}, {\"x\": -1.0335652428086044, \"y\": 0.39845495966354877}, {\"x\": 0.3986250271149898, \"y\": -1.1487339443642612}, {\"x\": 0.7288494366513234, \"y\": 1.6084772414901518}, {\"x\": -0.7434301827653825, \"y\": -1.1376183165957041}, {\"x\": 0.5966054347085469, \"y\": 1.9624338263573968}, {\"x\": 1.2160398899318667, \"y\": 1.3024999442275893}, {\"x\": 0.17027544029868547, \"y\": -0.8255074243202941}, {\"x\": -1.2732886464194793, \"y\": -0.546579814637465}, {\"x\": -0.3289116761646669, \"y\": 1.5309804325488818}, {\"x\": -0.3179559995295556, \"y\": 0.1766610422865431}, {\"x\": 0.8951379241496304, \"y\": -0.7097586601773985}, {\"x\": -0.5616236604554795, \"y\": -0.09890621956863233}, {\"x\": -1.1066593244536294, \"y\": -0.5284020593621382}, {\"x\": -0.944920900192389, \"y\": 1.039037416054184}, {\"x\": -1.234374498823697, \"y\": -0.1586906291919832}, {\"x\": 0.43903157630253875, \"y\": -0.596380634971874}, {\"x\": 0.9534758804659147, \"y\": -0.14547443810884314}, {\"x\": 0.24588363178163927, \"y\": 1.6415585933485475}, {\"x\": 0.19536101752447668, \"y\": 0.18353734557004162}, {\"x\": -0.141042443672847, \"y\": 0.11058913753453563}, {\"x\": 0.01571681109313274, \"y\": -0.19687585062939278}, {\"x\": -0.22635161549203048, \"y\": -1.7622481861235395}, {\"x\": 0.18262759458500205, \"y\": -1.5026444824192629}, {\"x\": -0.07859177980465083, \"y\": -1.419192008555224}, {\"x\": 1.1956107927568678, \"y\": -0.012621870110963626}, {\"x\": -1.4091113231398065, \"y\": 0.49405552399251074}, {\"x\": 0.5749280316358724, \"y\": 0.7505357057522704}, {\"x\": 0.049686996279352386, \"y\": -0.3687325696864546}, {\"x\": -1.2085362624424516, \"y\": 0.2406747100349268}, {\"x\": 1.8634009700346978, \"y\": 0.36061081619020824}, {\"x\": -1.158720977434556, \"y\": 2.27474548190343}, {\"x\": -1.5774355244604437, \"y\": -0.027463335383687663}, {\"x\": -0.6689826882873027, \"y\": -0.8820925162260077}, {\"x\": 0.21880532760514834, \"y\": -1.041752884105263}, {\"x\": 0.011492172467146821, \"y\": 1.074848883553704}, {\"x\": -0.3289823747950301, \"y\": 0.2441888649078543}, {\"x\": -0.3243866295897227, \"y\": 0.3557125729626956}, {\"x\": 1.1957569234690413, \"y\": -0.526028942331422}, {\"x\": 0.27274731202821306, \"y\": -2.155203493106252}, {\"x\": 1.3517410341549112, \"y\": -0.32355672343135666}, {\"x\": -1.1354411494906436, \"y\": 1.9509827907401351}, {\"x\": 0.860884592694289, \"y\": 2.0838769369670653}, {\"x\": 0.016766899742244993, \"y\": 0.688972712617109}, {\"x\": 0.5952328535349519, \"y\": -0.8314436588651326}, {\"x\": 1.388041886004409, \"y\": -1.7071655863171535}, {\"x\": -0.32729474395191505, \"y\": -0.07790666612424642}, {\"x\": 0.32276810702840336, \"y\": 2.0677236099329233}, {\"x\": -0.8120950156960118, \"y\": -0.063373948180987}, {\"x\": -0.6248349302810098, \"y\": 0.13991683516851933}, {\"x\": -0.6725298737361498, \"y\": -0.531226952600144}, {\"x\": -0.8946679044880225, \"y\": -1.6083696376774634}, {\"x\": -1.3123259819019382, \"y\": 1.1030553343700513}, {\"x\": 0.3746664937286586, \"y\": -0.44779208595207104}, {\"x\": -0.6365126338268587, \"y\": -1.007731667882782}, {\"x\": -0.8650545165987207, \"y\": -0.9731519398013214}, {\"x\": -1.1904396456382627, \"y\": 0.1314973807335289}, {\"x\": -1.0432650770590945, \"y\": 0.15953862865845989}, {\"x\": 0.008307144446547317, \"y\": 1.3924737840565469}, {\"x\": 0.7353429868371996, \"y\": -0.2372309446066157}, {\"x\": 0.8915860775040024, \"y\": 0.3888341796476675}, {\"x\": -0.9996707897109013, \"y\": 0.7354198857869765}, {\"x\": -0.3614026097494172, \"y\": 0.2107943000577448}, {\"x\": -0.32124101589467596, \"y\": 0.8254880378391832}, {\"x\": -1.556045815832346, \"y\": -1.9119934694478444}, {\"x\": 0.15452527975445024, \"y\": -0.4781659614166237}, {\"x\": 0.24058417599810364, \"y\": 0.005896489415078991}, {\"x\": -0.6377778510604831, \"y\": -1.0371084041158112}, {\"x\": 2.257656624335606, \"y\": 0.20737580885875007}, {\"x\": -0.5667785461021672, \"y\": -0.42181373278404055}, {\"x\": -1.2213411898755155, \"y\": -0.7953080200931032}, {\"x\": 0.15053128296624288, \"y\": -0.37016989611927453}, {\"x\": -0.0008936929136430977, \"y\": -0.5453312164605661}, {\"x\": -0.5987418305103236, \"y\": 0.7464139975718023}, {\"x\": -0.5252551197125189, \"y\": 0.6032863548610296}, {\"x\": 1.418939872777959, \"y\": -0.3748278724876699}, {\"x\": -2.5233713941117006, \"y\": 0.5279140477551686}, {\"x\": -1.0770607068706837, \"y\": -0.0036390795560003095}, {\"x\": -2.3509540172767123, \"y\": 0.6255204874024735}, {\"x\": -0.6579113550596535, \"y\": -0.0677104923345419}, {\"x\": -1.1434018512968496, \"y\": -0.7293337498598421}, {\"x\": 1.1060495275093198, \"y\": 0.4784833570938382}, {\"x\": -0.3522076213483647, \"y\": -0.5176387755863442}, {\"x\": -0.6487619995480177, \"y\": 0.7393957750007856}, {\"x\": 0.7933472659097144, \"y\": -0.628878898206526}, {\"x\": 0.43099811554072365, \"y\": -1.0476925771568861}, {\"x\": -1.156774768408522, \"y\": -1.200071401765914}, {\"x\": 0.45907080718268023, \"y\": 0.3624555717104487}, {\"x\": 0.40365237892687156, \"y\": 0.6435723023889957}, {\"x\": 1.567883592523216, \"y\": 1.0319738619534935}, {\"x\": 0.08906694466064934, \"y\": 1.6210561214645827}, {\"x\": 1.0054778118410699, \"y\": 1.8319800877589754}, {\"x\": 0.5471523316393363, \"y\": 0.14938811550967745}, {\"x\": 1.466631540519311, \"y\": -0.5370270973572469}, {\"x\": 0.014521628669474772, \"y\": 0.957134510656855}, {\"x\": -0.06568469650039167, \"y\": -0.8870484292680746}, {\"x\": -1.8020133727886931, \"y\": 0.4395471489322715}, {\"x\": -1.0377233799129872, \"y\": -1.815996835185111}, {\"x\": 0.7456197731508961, \"y\": 0.6316383947080036}, {\"x\": 1.5017289769746909, \"y\": -0.6925281706820193}, {\"x\": -1.3763965075652014, \"y\": 0.9269204911380498}, {\"x\": -1.82687359053207, \"y\": 0.8810864415301145}, {\"x\": -1.146886226965181, \"y\": 0.5493942347669923}, {\"x\": -0.4552895497360239, \"y\": -1.7942894272745589}, {\"x\": -0.362501945925742, \"y\": -0.62602238940067}, {\"x\": 1.1819492567424164, \"y\": -0.34256456315832967}, {\"x\": -0.46812634248432455, \"y\": -0.00337615745987969}, {\"x\": 1.809820135404871, \"y\": -0.1852123197885491}, {\"x\": -0.7289305217003843, \"y\": -2.6770002263941772}, {\"x\": 0.46392101707990696, \"y\": 0.1692625988931211}, {\"x\": 1.4701580488319252, \"y\": -1.0307628456403344}, {\"x\": 0.05720091531121085, \"y\": 0.380035799176915}, {\"x\": 0.015244259721958647, \"y\": 0.9918340023169724}, {\"x\": 0.869833099898595, \"y\": -1.5106448051430932}, {\"x\": -0.3830603673901506, \"y\": -1.2440060283894976}, {\"x\": 0.11576385355165883, \"y\": 0.28912955275532193}, {\"x\": 0.24938411246001124, \"y\": -0.20051106012430825}, {\"x\": 1.0805408483164836, \"y\": -0.19014277522192316}, {\"x\": 0.27531708352647777, \"y\": -0.20074020914719357}, {\"x\": -0.755345757996983, \"y\": -0.022482178966418492}, {\"x\": -0.5138318468399163, \"y\": 1.1999344811856079}, {\"x\": 0.7429902250855515, \"y\": -0.05861792612754377}, {\"x\": 0.8216238743550845, \"y\": 1.041922010260186}, {\"x\": 1.0889179501704624, \"y\": 0.026584848043356916}, {\"x\": -0.05969188347131966, \"y\": -0.8835663529745296}, {\"x\": 0.37150793624980794, \"y\": 0.21013136052197856}, {\"x\": -0.11921799731268147, \"y\": -0.032646914208717806}, {\"x\": 0.31924113126877435, \"y\": 2.2739905140230943}, {\"x\": -0.28993699209646123, \"y\": -0.7614781473853143}, {\"x\": -0.4889990370685081, \"y\": 0.2141114697714664}, {\"x\": -0.6315947198804883, \"y\": -1.253077772129533}, {\"x\": 0.4324448172552268, \"y\": -0.14380544403885065}, {\"x\": 0.16935851603832194, \"y\": 0.27073796503164577}, {\"x\": -0.345846983947157, \"y\": -0.20804183905683504}, {\"x\": -0.30021375981738263, \"y\": 0.2236034335124383}, {\"x\": 0.5494403417189686, \"y\": -1.437210290547474}, {\"x\": -1.4664609360144087, \"y\": 0.25917523862008185}, {\"x\": 1.2320926011853566, \"y\": 1.34772164693698}, {\"x\": 2.40687822321856, \"y\": 1.938092306888362}, {\"x\": 0.7810967287840823, \"y\": 1.0025964359352155}, {\"x\": 0.4339925170791532, \"y\": 1.3200030843320043}, {\"x\": 0.06252062173414197, \"y\": -1.0559321278295186}, {\"x\": 0.502747038999643, \"y\": -0.1773719357848657}, {\"x\": 0.9951248754180998, \"y\": -1.0049380127904124}, {\"x\": -0.1072176170100928, \"y\": 0.6581924747802452}, {\"x\": 1.5758156828543184, \"y\": -0.9423359243354777}, {\"x\": -0.8135602090420444, \"y\": -0.5971813262056697}, {\"x\": 0.4430758929610127, \"y\": 0.6031616231637167}, {\"x\": -0.7735634548909582, \"y\": -0.8499114993666723}, {\"x\": -0.18886364214590076, \"y\": 0.9131532590339094}, {\"x\": 0.38087338286529576, \"y\": -0.34505100721997944}, {\"x\": 1.268855246602202, \"y\": 1.2699739786123447}, {\"x\": 0.05899796298382669, \"y\": 0.8359074906127208}, {\"x\": -1.283168040243884, \"y\": -0.5169601449125708}, {\"x\": -0.26963689573040844, \"y\": -0.8175601341988664}, {\"x\": -0.9459662419937779, \"y\": 0.11354338205178977}, {\"x\": 0.014568074469907355, \"y\": -0.037631215610497766}, {\"x\": -1.430137859899675, \"y\": 0.9153098537063848}, {\"x\": 0.16134819805534667, \"y\": -1.4230098323834646}, {\"x\": 0.5567402072067729, \"y\": 0.3958773174749366}, {\"x\": 0.1281767569103951, \"y\": 1.0259338592935772}, {\"x\": -0.6700114683790914, \"y\": 0.5232768383621809}, {\"x\": -0.3580561117382023, \"y\": 0.5005735111769862}, {\"x\": -0.30978505529190137, \"y\": 1.654070223507191}, {\"x\": -0.12610237903155389, \"y\": -0.26438476202384215}, {\"x\": 0.5080255384807736, \"y\": 1.1627252213012438}, {\"x\": -0.012489512798482259, \"y\": 0.5860114727077431}, {\"x\": -1.0198392487050185, \"y\": 2.521168051739945}, {\"x\": -0.19420611052550113, \"y\": 0.21149434816405716}, {\"x\": 1.547216953471963, \"y\": 1.0788156194339868}, {\"x\": -0.8205180736840503, \"y\": 0.8734242592575183}, {\"x\": -1.2589214062273084, \"y\": -0.3828934402717605}, {\"x\": 1.3812735061997576, \"y\": 0.7875145683780206}, {\"x\": -1.798534044110059, \"y\": -1.2384617342373216}, {\"x\": 0.35982544955472845, \"y\": -0.6655916049936605}, {\"x\": 0.365873182598351, \"y\": -0.2207677027123841}, {\"x\": 1.4697269362129715, \"y\": 0.8341829023289692}, {\"x\": -0.7683845364902744, \"y\": 0.3151243128858799}, {\"x\": 1.0569946441174527, \"y\": 0.24365719121162985}, {\"x\": -1.5777756265747755, \"y\": 1.4821563543391756}, {\"x\": -0.37554565676259655, \"y\": 0.5468392166812394}, {\"x\": 1.119037697481903, \"y\": -0.29590727096775526}, {\"x\": -2.313355116526692, \"y\": 0.6492021486394218}, {\"x\": 2.1356275885609044, \"y\": 0.010868299054691182}, {\"x\": 0.9482668978084589, \"y\": 1.1213886660737964}, {\"x\": 0.02424357668860611, \"y\": 0.7933291330934727}, {\"x\": 0.45070860428623755, \"y\": -0.3269188238103891}, {\"x\": 0.8347540763512322, \"y\": 0.7847527891605198}, {\"x\": 0.20747093468330738, \"y\": 0.5099536711572967}, {\"x\": 0.737559703248208, \"y\": -1.3578526106767375}, {\"x\": -0.44472612120946065, \"y\": -0.5978105509102757}, {\"x\": 0.6813675335115342, \"y\": 0.1455192922084741}, {\"x\": -1.2276214604728501, \"y\": -1.5047074104576135}, {\"x\": -1.166998014919442, \"y\": -0.8529055887491351}, {\"x\": -1.039366122833908, \"y\": -0.8957501719941248}, {\"x\": 0.35111341760504816, \"y\": -0.5752066396506087}, {\"x\": 2.3941421431955843, \"y\": -0.38323807544284666}, {\"x\": -0.05796961232508397, \"y\": -0.8142276846893558}, {\"x\": 0.9617215643981298, \"y\": 0.6561973740202013}, {\"x\": -0.7443314230211988, \"y\": 0.5665683858898751}, {\"x\": -1.089457150771825, \"y\": -0.9229547708866972}, {\"x\": -0.9454003385259806, \"y\": 0.13047688540937388}, {\"x\": 0.16392854084425137, \"y\": -0.1404852993428554}, {\"x\": 0.456602695051336, \"y\": -0.07487290492788509}, {\"x\": 0.7999409338485965, \"y\": -0.7301382925414361}, {\"x\": -1.687957417993271, \"y\": 1.006075434951371}, {\"x\": 0.09878399694392999, \"y\": 1.1497886142231886}, {\"x\": 0.6240911582797928, \"y\": 0.15945984875918948}, {\"x\": 2.159711130910876, \"y\": 1.0967306196044073}, {\"x\": -0.1678684449097876, \"y\": 0.8338805111663747}, {\"x\": -1.426477076300409, \"y\": 0.2075666046637131}, {\"x\": 1.5374690740282035, \"y\": 0.7650833283208507}, {\"x\": -1.194485851950808, \"y\": -0.037396159825186584}, {\"x\": -0.8442535888071755, \"y\": -0.8479127142414307}, {\"x\": -1.0392765877870376, \"y\": -0.5079111210256851}, {\"x\": 1.9336321344845915, \"y\": -0.05060215451812983}, {\"x\": 0.0516837299596533, \"y\": 0.5612410652607431}, {\"x\": -0.7618826405178447, \"y\": 0.06979215223263871}, {\"x\": -0.16548253442542243, \"y\": 0.5336736082417778}, {\"x\": -0.4494362836427618, \"y\": 1.3538319004001924}, {\"x\": -0.8147792818567905, \"y\": 0.6844959826446677}, {\"x\": -0.3015602751299518, \"y\": -0.6891885840017786}, {\"x\": -0.46736584915422896, \"y\": -2.4252366338506546}, {\"x\": 0.09717779870113627, \"y\": 0.3706221013037558}, {\"x\": 0.7773555995769938, \"y\": -0.25113682326240067}, {\"x\": 1.5502985544221766, \"y\": -0.25823665165838827}, {\"x\": -0.6007518129713069, \"y\": -0.16619381740985426}, {\"x\": -1.014024215540026, \"y\": -1.6872085344804673}, {\"x\": -0.39964315407516676, \"y\": 2.2718380572950867}, {\"x\": -1.2474160477116718, \"y\": -0.7505901994043908}, {\"x\": -0.5888370041279297, \"y\": -0.25720406216717884}, {\"x\": -1.1812967501504865, \"y\": -0.7058687508863611}, {\"x\": -2.6605504096031782, \"y\": 0.7514712199182462}, {\"x\": 0.6934923822304634, \"y\": 0.03841402275970045}, {\"x\": 0.7710091597218647, \"y\": -1.137238594374227}, {\"x\": 0.6652490914035032, \"y\": 0.23900948431887287}, {\"x\": 0.3165127185755873, \"y\": -0.9397787152973186}, {\"x\": 0.9528616078755253, \"y\": 0.8252536742591945}, {\"x\": 0.15240154373756853, \"y\": -0.16074778971705092}, {\"x\": -0.3756858607226193, \"y\": 0.005454594486102518}, {\"x\": -0.8344745950199076, \"y\": 1.344467035015011}, {\"x\": 1.8583285884888985, \"y\": -0.1330431132481053}, {\"x\": 0.6332187493441889, \"y\": 0.11105656166936655}, {\"x\": -0.15820087438352243, \"y\": 0.9921435507145638}, {\"x\": 0.9493191170265308, \"y\": 0.31906857843724934}, {\"x\": -0.11746428912586722, \"y\": 0.06412091749428628}, {\"x\": -1.766729199988259, \"y\": -1.25374252673524}, {\"x\": -0.8030377821786902, \"y\": -0.889624305610535}, {\"x\": 1.1006244749286345, \"y\": -0.5540047842848705}, {\"x\": 1.1004404477878933, \"y\": 0.029526290877146828}, {\"x\": 0.9873665880816979, \"y\": 1.2482503936421614}, {\"x\": 0.37455407960980536, \"y\": -1.430688061394953}, {\"x\": -0.4360688210571881, \"y\": 0.6617321415500186}, {\"x\": 0.1585198685472299, \"y\": 0.29128020220396955}, {\"x\": 0.9007467890700457, \"y\": -0.9225630121374181}, {\"x\": 1.08725950114376, \"y\": -0.4825985015695561}, {\"x\": -3.1822903264163735, \"y\": -0.2998756210238543}, {\"x\": -0.6096512580607076, \"y\": 3.1209823204546394}, {\"x\": -1.4136925055497236, \"y\": 0.215775957852836}, {\"x\": -0.22693228946020025, \"y\": -0.037926545371255435}, {\"x\": 1.505869074780474, \"y\": 1.5330709280884798}, {\"x\": 0.8806431734372506, \"y\": 0.76203013511521}, {\"x\": 2.2040254371278296, \"y\": -1.1164326646234999}, {\"x\": -0.7497990581740525, \"y\": 1.2389132387103055}, {\"x\": 0.8845625530600679, \"y\": 0.1688780937013839}, {\"x\": -1.9184986238110613, \"y\": 1.9497243875378791}, {\"x\": -0.4534010059794528, \"y\": -0.1186793199241172}, {\"x\": 0.7525894623930234, \"y\": -0.8654369494077042}, {\"x\": 0.4664866824301335, \"y\": 0.20867050835076198}, {\"x\": 0.3259375669933895, \"y\": -0.6580916469228737}, {\"x\": 0.5335309527554523, \"y\": -0.30862131864830034}, {\"x\": -0.5475733218886911, \"y\": -0.3139696206598793}, {\"x\": 0.8451892853760328, \"y\": -0.42357454612145046}, {\"x\": -1.2460026162703812, \"y\": 0.9373954523324133}, {\"x\": -1.6581763831325673, \"y\": 1.3757855177151277}, {\"x\": -0.8053593839625172, \"y\": -1.4789523655456942}, {\"x\": 0.370030697702549, \"y\": 0.46910861888616995}, {\"x\": 0.22919712221210428, \"y\": 0.4541323229164462}, {\"x\": -1.2209435682693928, \"y\": 0.351633230086474}, {\"x\": -2.114929279292322, \"y\": 2.1418333266547993}, {\"x\": 0.020456954531706612, \"y\": 0.7280956206122681}, {\"x\": 0.17287045528839332, \"y\": -0.6931752499264778}, {\"x\": -0.8283151666204522, \"y\": 0.23161561346382398}, {\"x\": -0.7709572259590945, \"y\": 0.3919519562120925}, {\"x\": -2.048834444961694, \"y\": -0.15168154150192426}, {\"x\": -0.09151670517866559, \"y\": -0.38683765099589534}, {\"x\": -1.589469645831598, \"y\": -0.6286538936518341}, {\"x\": 0.890392993755531, \"y\": 0.7217852628043435}, {\"x\": -2.1186789161503077, \"y\": -1.9520473631382547}, {\"x\": 0.42068035829591094, \"y\": -0.6450027855991949}, {\"x\": 1.2999152500807725, \"y\": -0.21309211490688904}, {\"x\": 2.416937194028271, \"y\": 0.6210181923749798}, {\"x\": -0.5749157416862646, \"y\": 0.6068653575517965}, {\"x\": 0.003878967437631868, \"y\": -2.216077623200718}, {\"x\": -1.5181308994181653, \"y\": -0.44925805489571413}, {\"x\": -1.1294350624044047, \"y\": 0.9933734136856086}, {\"x\": -0.330572941844194, \"y\": -0.5824820978045442}, {\"x\": 0.655515211585607, \"y\": -0.710720279926664}, {\"x\": 1.0014438475424159, \"y\": -1.4344094651898978}, {\"x\": -0.5643574488741403, \"y\": 0.6562910790179544}, {\"x\": -0.37212950222014135, \"y\": -1.8344951861078655}, {\"x\": -0.02104587995021446, \"y\": 0.1089750136411355}, {\"x\": 1.7826408279735675, \"y\": -0.2762187561695886}, {\"x\": -0.3645498545965716, \"y\": 0.05319869364499451}, {\"x\": 0.9955633348790673, \"y\": 0.7804159629621983}, {\"x\": -1.6186418340339606, \"y\": -0.447530799638432}, {\"x\": -0.6462252942899768, \"y\": -0.28498188866434243}, {\"x\": 0.6815304301483239, \"y\": -1.4168846208309294}, {\"x\": -0.16418661007842936, \"y\": -0.7449402442712085}, {\"x\": 0.9621566845385822, \"y\": -2.156640990968635}, {\"x\": 1.08945897508356, \"y\": 0.5801698500722274}, {\"x\": 0.8339400364449341, \"y\": -0.9542376613143112}, {\"x\": -0.22610084244275888, \"y\": -0.3092808455678484}, {\"x\": 0.12179220899587463, \"y\": -0.5183520865829765}, {\"x\": 1.1466248261501912, \"y\": -1.484635201051637}, {\"x\": 0.11125341616817078, \"y\": -1.0863596591712184}, {\"x\": 0.3790938328474524, \"y\": 0.5964708746446464}, {\"x\": 1.5379840708258536, \"y\": 0.3831549257511979}, {\"x\": 0.45323875919807516, \"y\": 1.0995829436848585}, {\"x\": 1.5046321912693614, \"y\": -0.34302457391036906}, {\"x\": 0.20872295379151465, \"y\": -1.6515158099449916}, {\"x\": 0.45384753077692785, \"y\": -0.08560796422246363}, {\"x\": -1.0140981218220064, \"y\": 0.14483171793474534}, {\"x\": -2.0454686442316676, \"y\": 0.9170347066283473}, {\"x\": 0.382753690189255, \"y\": 1.1087753123775674}, {\"x\": 0.34450138309943207, \"y\": -0.08854619671745283}, {\"x\": 0.4989281079258592, \"y\": 0.4282372209559579}, {\"x\": 2.568705983480564, \"y\": -0.040209018233806765}, {\"x\": -0.752507326140682, \"y\": 0.25147298335169194}, {\"x\": 0.07192295449176957, \"y\": 0.8235612402685104}, {\"x\": 0.2048547386217975, \"y\": 0.41456467358755555}, {\"x\": 0.08582529076561128, \"y\": 0.21313854205178587}, {\"x\": -0.20109037056638177, \"y\": 1.3027437518310654}, {\"x\": 1.9328931929791262, \"y\": 0.31356112848720247}, {\"x\": -1.663314464302514, \"y\": -0.22808537066234388}, {\"x\": -0.05196560663898365, \"y\": 0.6446930088871459}, {\"x\": 0.3323081976420409, \"y\": 0.9439808606273717}, {\"x\": 0.6879966954291586, \"y\": -0.44195483252712275}, {\"x\": -1.1502344462839007, \"y\": 0.49192097222839376}, {\"x\": 1.3248771162796193, \"y\": -0.028356579782612457}, {\"x\": -0.9238228453396693, \"y\": 0.16673161757334082}, {\"x\": 0.1293522342340843, \"y\": 2.055057221590272}, {\"x\": -1.738043238589763, \"y\": 0.8279549068029164}, {\"x\": 0.9298034885768233, \"y\": -1.3319547775076928}, {\"x\": 0.21216887817368119, \"y\": 1.8132848977755773}, {\"x\": 0.5392206726362647, \"y\": -0.43540057476353045}, {\"x\": 0.5528695840898867, \"y\": 0.8954519805458908}, {\"x\": 0.5174375788423543, \"y\": -0.9730226333559291}, {\"x\": 0.12466741247629545, \"y\": -1.6833361408957621}, {\"x\": -0.1648383765552792, \"y\": -0.6868897276475995}, {\"x\": 1.052367237759198, \"y\": 0.5435289807345252}, {\"x\": -0.3130670288548569, \"y\": 0.7043216210041096}, {\"x\": -0.9349333136364518, \"y\": 2.1048632405622523}, {\"x\": -0.36886403957354996, \"y\": -0.34148562222896106}, {\"x\": 0.39612987329246857, \"y\": 0.23093072340992216}, {\"x\": -0.12655804419557717, \"y\": -2.8647048331367313}, {\"x\": -0.10908919401482874, \"y\": -0.41784182093729966}, {\"x\": -0.1210152904255646, \"y\": -1.1458424345152924}, {\"x\": 0.4716102368812233, \"y\": -0.6262063400925968}, {\"x\": 0.5867553222111013, \"y\": -0.3780251627158091}, {\"x\": -0.44994019532404894, \"y\": -0.5240018626831405}, {\"x\": -0.24051505373907608, \"y\": 0.13799984290650427}, {\"x\": -0.29560669794800076, \"y\": 0.7437395139820249}, {\"x\": -0.1488123672642869, \"y\": 0.35443082321028935}, {\"x\": 1.2160052742889493, \"y\": -1.039178220055082}, {\"x\": -0.11041924038645504, \"y\": 0.4891639083757968}, {\"x\": 0.2403045876594291, \"y\": -0.4211792915129688}, {\"x\": -0.18906622054620345, \"y\": 0.09540214025360128}]}}, {\"mode\": \"vega-lite\"});\n",
       "</script>"
      ],
      "text/plain": [
       "alt.Chart(...)"
      ]
     },
     "execution_count": 8,
     "metadata": {},
     "output_type": "execute_result"
    }
   ],
   "source": [
    "import altair as alt\n",
    "\n",
    "alt.Chart(df).encode(x='x', y='y').mark_circle()"
   ]
  },
  {
   "cell_type": "markdown",
   "metadata": {},
   "source": [
    "### Marks "
   ]
  },
  {
   "cell_type": "markdown",
   "metadata": {},
   "source": [
    "#### 1. Bar"
   ]
  },
  {
   "cell_type": "markdown",
   "metadata": {},
   "source": [
    "<img src=\"../images/github.png\" alt=\"github\" width=\"200\">"
   ]
  },
  {
   "cell_type": "code",
   "execution_count": 9,
   "metadata": {},
   "outputs": [
    {
     "data": {
      "text/html": [
       "\n",
       "<div id=\"altair-viz-832aecd0b2d349c7ad8f816c30525e74\"></div>\n",
       "<script type=\"text/javascript\">\n",
       "  var VEGA_DEBUG = (typeof VEGA_DEBUG == \"undefined\") ? {} : VEGA_DEBUG;\n",
       "  (function(spec, embedOpt){\n",
       "    let outputDiv = document.currentScript.previousElementSibling;\n",
       "    if (outputDiv.id !== \"altair-viz-832aecd0b2d349c7ad8f816c30525e74\") {\n",
       "      outputDiv = document.getElementById(\"altair-viz-832aecd0b2d349c7ad8f816c30525e74\");\n",
       "    }\n",
       "    const paths = {\n",
       "      \"vega\": \"https://cdn.jsdelivr.net/npm//vega@5?noext\",\n",
       "      \"vega-lib\": \"https://cdn.jsdelivr.net/npm//vega-lib?noext\",\n",
       "      \"vega-lite\": \"https://cdn.jsdelivr.net/npm//vega-lite@4.17.0?noext\",\n",
       "      \"vega-embed\": \"https://cdn.jsdelivr.net/npm//vega-embed@6?noext\",\n",
       "    };\n",
       "\n",
       "    function maybeLoadScript(lib, version) {\n",
       "      var key = `${lib.replace(\"-\", \"\")}_version`;\n",
       "      return (VEGA_DEBUG[key] == version) ?\n",
       "        Promise.resolve(paths[lib]) :\n",
       "        new Promise(function(resolve, reject) {\n",
       "          var s = document.createElement('script');\n",
       "          document.getElementsByTagName(\"head\")[0].appendChild(s);\n",
       "          s.async = true;\n",
       "          s.onload = () => {\n",
       "            VEGA_DEBUG[key] = version;\n",
       "            return resolve(paths[lib]);\n",
       "          };\n",
       "          s.onerror = () => reject(`Error loading script: ${paths[lib]}`);\n",
       "          s.src = paths[lib];\n",
       "        });\n",
       "    }\n",
       "\n",
       "    function showError(err) {\n",
       "      outputDiv.innerHTML = `<div class=\"error\" style=\"color:red;\">${err}</div>`;\n",
       "      throw err;\n",
       "    }\n",
       "\n",
       "    function displayChart(vegaEmbed) {\n",
       "      vegaEmbed(outputDiv, spec, embedOpt)\n",
       "        .catch(err => showError(`Javascript Error: ${err.message}<br>This usually means there's a typo in your chart specification. See the javascript console for the full traceback.`));\n",
       "    }\n",
       "\n",
       "    if(typeof define === \"function\" && define.amd) {\n",
       "      requirejs.config({paths});\n",
       "      require([\"vega-embed\"], displayChart, err => showError(`Error loading script: ${err.message}`));\n",
       "    } else {\n",
       "      maybeLoadScript(\"vega\", \"5\")\n",
       "        .then(() => maybeLoadScript(\"vega-lite\", \"4.17.0\"))\n",
       "        .then(() => maybeLoadScript(\"vega-embed\", \"6\"))\n",
       "        .catch(showError)\n",
       "        .then(() => displayChart(vegaEmbed));\n",
       "    }\n",
       "  })({\"config\": {\"view\": {\"continuousWidth\": 400, \"continuousHeight\": 300}}, \"data\": {\"name\": \"data-c4ebe93af349d50fdf080b16b04d264f\"}, \"mark\": \"bar\", \"encoding\": {\"x\": {\"field\": \"package\", \"type\": \"nominal\"}, \"y\": {\"field\": \"downloads\", \"type\": \"quantitative\"}}, \"$schema\": \"https://vega.github.io/schema/vega-lite/v4.17.0.json\", \"datasets\": {\"data-c4ebe93af349d50fdf080b16b04d264f\": [{\"downloads\": 8000, \"package\": \"gazpacho\"}, {\"downloads\": 3000, \"package\": \"gif\"}, {\"downloads\": 9000, \"package\": \"mummify\"}, {\"downloads\": 4000, \"package\": \"marc\"}]}}, {\"mode\": \"vega-lite\"});\n",
       "</script>"
      ],
      "text/plain": [
       "alt.Chart(...)"
      ]
     },
     "execution_count": 9,
     "metadata": {},
     "output_type": "execute_result"
    }
   ],
   "source": [
    "packages = pd.DataFrame({\n",
    "    'downloads': [8000, 3000, 9000, 4000],\n",
    "    'package': ['gazpacho', 'gif', 'mummify', 'marc']\n",
    "})\n",
    "\n",
    "alt.Chart(packages).mark_bar().encode(\n",
    "    x='package',\n",
    "    y='downloads'\n",
    ")"
   ]
  },
  {
   "cell_type": "code",
   "execution_count": 10,
   "metadata": {},
   "outputs": [
    {
     "data": {
      "text/html": [
       "\n",
       "<div id=\"altair-viz-b81c5dcefb384433ac3e671265de3872\"></div>\n",
       "<script type=\"text/javascript\">\n",
       "  var VEGA_DEBUG = (typeof VEGA_DEBUG == \"undefined\") ? {} : VEGA_DEBUG;\n",
       "  (function(spec, embedOpt){\n",
       "    let outputDiv = document.currentScript.previousElementSibling;\n",
       "    if (outputDiv.id !== \"altair-viz-b81c5dcefb384433ac3e671265de3872\") {\n",
       "      outputDiv = document.getElementById(\"altair-viz-b81c5dcefb384433ac3e671265de3872\");\n",
       "    }\n",
       "    const paths = {\n",
       "      \"vega\": \"https://cdn.jsdelivr.net/npm//vega@5?noext\",\n",
       "      \"vega-lib\": \"https://cdn.jsdelivr.net/npm//vega-lib?noext\",\n",
       "      \"vega-lite\": \"https://cdn.jsdelivr.net/npm//vega-lite@4.17.0?noext\",\n",
       "      \"vega-embed\": \"https://cdn.jsdelivr.net/npm//vega-embed@6?noext\",\n",
       "    };\n",
       "\n",
       "    function maybeLoadScript(lib, version) {\n",
       "      var key = `${lib.replace(\"-\", \"\")}_version`;\n",
       "      return (VEGA_DEBUG[key] == version) ?\n",
       "        Promise.resolve(paths[lib]) :\n",
       "        new Promise(function(resolve, reject) {\n",
       "          var s = document.createElement('script');\n",
       "          document.getElementsByTagName(\"head\")[0].appendChild(s);\n",
       "          s.async = true;\n",
       "          s.onload = () => {\n",
       "            VEGA_DEBUG[key] = version;\n",
       "            return resolve(paths[lib]);\n",
       "          };\n",
       "          s.onerror = () => reject(`Error loading script: ${paths[lib]}`);\n",
       "          s.src = paths[lib];\n",
       "        });\n",
       "    }\n",
       "\n",
       "    function showError(err) {\n",
       "      outputDiv.innerHTML = `<div class=\"error\" style=\"color:red;\">${err}</div>`;\n",
       "      throw err;\n",
       "    }\n",
       "\n",
       "    function displayChart(vegaEmbed) {\n",
       "      vegaEmbed(outputDiv, spec, embedOpt)\n",
       "        .catch(err => showError(`Javascript Error: ${err.message}<br>This usually means there's a typo in your chart specification. See the javascript console for the full traceback.`));\n",
       "    }\n",
       "\n",
       "    if(typeof define === \"function\" && define.amd) {\n",
       "      requirejs.config({paths});\n",
       "      require([\"vega-embed\"], displayChart, err => showError(`Error loading script: ${err.message}`));\n",
       "    } else {\n",
       "      maybeLoadScript(\"vega\", \"5\")\n",
       "        .then(() => maybeLoadScript(\"vega-lite\", \"4.17.0\"))\n",
       "        .then(() => maybeLoadScript(\"vega-embed\", \"6\"))\n",
       "        .catch(showError)\n",
       "        .then(() => displayChart(vegaEmbed));\n",
       "    }\n",
       "  })({\"config\": {\"view\": {\"continuousWidth\": 400, \"continuousHeight\": 300}}, \"data\": {\"name\": \"data-c4ebe93af349d50fdf080b16b04d264f\"}, \"mark\": \"bar\", \"encoding\": {\"x\": {\"field\": \"downloads\", \"type\": \"quantitative\"}, \"y\": {\"field\": \"package\", \"type\": \"nominal\"}}, \"$schema\": \"https://vega.github.io/schema/vega-lite/v4.17.0.json\", \"datasets\": {\"data-c4ebe93af349d50fdf080b16b04d264f\": [{\"downloads\": 8000, \"package\": \"gazpacho\"}, {\"downloads\": 3000, \"package\": \"gif\"}, {\"downloads\": 9000, \"package\": \"mummify\"}, {\"downloads\": 4000, \"package\": \"marc\"}]}}, {\"mode\": \"vega-lite\"});\n",
       "</script>"
      ],
      "text/plain": [
       "alt.Chart(...)"
      ]
     },
     "execution_count": 10,
     "metadata": {},
     "output_type": "execute_result"
    }
   ],
   "source": [
    "alt.Chart(packages).mark_bar().encode(\n",
    "    y='package',\n",
    "    x='downloads'\n",
    ")"
   ]
  },
  {
   "cell_type": "markdown",
   "metadata": {},
   "source": [
    "#### 2. Line"
   ]
  },
  {
   "cell_type": "markdown",
   "metadata": {},
   "source": [
    "<img src=\"../images/dad.jpg\" alt=\"dad\" width=\"200\">"
   ]
  },
  {
   "cell_type": "code",
   "execution_count": 11,
   "metadata": {},
   "outputs": [],
   "source": [
    "marathon = pd.read_csv('../data/marathon.csv')\n",
    "marathon['time'] = marathon['time'].apply(pd.to_datetime)\n",
    "rich = marathon[marathon['runner'] == 'Rich H.']"
   ]
  },
  {
   "cell_type": "code",
   "execution_count": 12,
   "metadata": {},
   "outputs": [
    {
     "data": {
      "text/html": [
       "<div>\n",
       "<style scoped>\n",
       "    .dataframe tbody tr th:only-of-type {\n",
       "        vertical-align: middle;\n",
       "    }\n",
       "\n",
       "    .dataframe tbody tr th {\n",
       "        vertical-align: top;\n",
       "    }\n",
       "\n",
       "    .dataframe thead th {\n",
       "        text-align: right;\n",
       "    }\n",
       "</style>\n",
       "<table border=\"1\" class=\"dataframe\">\n",
       "  <thead>\n",
       "    <tr style=\"text-align: right;\">\n",
       "      <th></th>\n",
       "      <th>time</th>\n",
       "      <th>distance</th>\n",
       "      <th>runner</th>\n",
       "      <th>dsplit</th>\n",
       "      <th>mph</th>\n",
       "      <th>hour</th>\n",
       "      <th>gender</th>\n",
       "    </tr>\n",
       "  </thead>\n",
       "  <tbody>\n",
       "    <tr>\n",
       "      <th>376</th>\n",
       "      <td>2019-03-24 18:00:00</td>\n",
       "      <td>0.000000</td>\n",
       "      <td>Rich H.</td>\n",
       "      <td>10.430340</td>\n",
       "      <td>5.215170</td>\n",
       "      <td>0</td>\n",
       "      <td>male</td>\n",
       "    </tr>\n",
       "    <tr>\n",
       "      <th>377</th>\n",
       "      <td>2019-03-24 20:00:00</td>\n",
       "      <td>10.430340</td>\n",
       "      <td>Rich H.</td>\n",
       "      <td>10.430340</td>\n",
       "      <td>5.215170</td>\n",
       "      <td>2</td>\n",
       "      <td>male</td>\n",
       "    </tr>\n",
       "    <tr>\n",
       "      <th>378</th>\n",
       "      <td>2019-03-24 22:00:00</td>\n",
       "      <td>20.860680</td>\n",
       "      <td>Rich H.</td>\n",
       "      <td>7.822755</td>\n",
       "      <td>3.911377</td>\n",
       "      <td>4</td>\n",
       "      <td>male</td>\n",
       "    </tr>\n",
       "    <tr>\n",
       "      <th>379</th>\n",
       "      <td>2019-03-24 23:59:00</td>\n",
       "      <td>28.683435</td>\n",
       "      <td>Rich H.</td>\n",
       "      <td>7.822755</td>\n",
       "      <td>3.911377</td>\n",
       "      <td>6</td>\n",
       "      <td>male</td>\n",
       "    </tr>\n",
       "    <tr>\n",
       "      <th>380</th>\n",
       "      <td>2019-03-25 02:00:00</td>\n",
       "      <td>36.506190</td>\n",
       "      <td>Rich H.</td>\n",
       "      <td>7.822755</td>\n",
       "      <td>3.911377</td>\n",
       "      <td>8</td>\n",
       "      <td>male</td>\n",
       "    </tr>\n",
       "  </tbody>\n",
       "</table>\n",
       "</div>"
      ],
      "text/plain": [
       "                   time   distance   runner     dsplit       mph  hour gender\n",
       "376 2019-03-24 18:00:00   0.000000  Rich H.  10.430340  5.215170     0   male\n",
       "377 2019-03-24 20:00:00  10.430340  Rich H.  10.430340  5.215170     2   male\n",
       "378 2019-03-24 22:00:00  20.860680  Rich H.   7.822755  3.911377     4   male\n",
       "379 2019-03-24 23:59:00  28.683435  Rich H.   7.822755  3.911377     6   male\n",
       "380 2019-03-25 02:00:00  36.506190  Rich H.   7.822755  3.911377     8   male"
      ]
     },
     "execution_count": 12,
     "metadata": {},
     "output_type": "execute_result"
    }
   ],
   "source": [
    "rich.head()"
   ]
  },
  {
   "cell_type": "code",
   "execution_count": 13,
   "metadata": {},
   "outputs": [
    {
     "data": {
      "text/html": [
       "\n",
       "<div id=\"altair-viz-7192fc3892f34347bfec0b78e8e5fb49\"></div>\n",
       "<script type=\"text/javascript\">\n",
       "  var VEGA_DEBUG = (typeof VEGA_DEBUG == \"undefined\") ? {} : VEGA_DEBUG;\n",
       "  (function(spec, embedOpt){\n",
       "    let outputDiv = document.currentScript.previousElementSibling;\n",
       "    if (outputDiv.id !== \"altair-viz-7192fc3892f34347bfec0b78e8e5fb49\") {\n",
       "      outputDiv = document.getElementById(\"altair-viz-7192fc3892f34347bfec0b78e8e5fb49\");\n",
       "    }\n",
       "    const paths = {\n",
       "      \"vega\": \"https://cdn.jsdelivr.net/npm//vega@5?noext\",\n",
       "      \"vega-lib\": \"https://cdn.jsdelivr.net/npm//vega-lib?noext\",\n",
       "      \"vega-lite\": \"https://cdn.jsdelivr.net/npm//vega-lite@4.17.0?noext\",\n",
       "      \"vega-embed\": \"https://cdn.jsdelivr.net/npm//vega-embed@6?noext\",\n",
       "    };\n",
       "\n",
       "    function maybeLoadScript(lib, version) {\n",
       "      var key = `${lib.replace(\"-\", \"\")}_version`;\n",
       "      return (VEGA_DEBUG[key] == version) ?\n",
       "        Promise.resolve(paths[lib]) :\n",
       "        new Promise(function(resolve, reject) {\n",
       "          var s = document.createElement('script');\n",
       "          document.getElementsByTagName(\"head\")[0].appendChild(s);\n",
       "          s.async = true;\n",
       "          s.onload = () => {\n",
       "            VEGA_DEBUG[key] = version;\n",
       "            return resolve(paths[lib]);\n",
       "          };\n",
       "          s.onerror = () => reject(`Error loading script: ${paths[lib]}`);\n",
       "          s.src = paths[lib];\n",
       "        });\n",
       "    }\n",
       "\n",
       "    function showError(err) {\n",
       "      outputDiv.innerHTML = `<div class=\"error\" style=\"color:red;\">${err}</div>`;\n",
       "      throw err;\n",
       "    }\n",
       "\n",
       "    function displayChart(vegaEmbed) {\n",
       "      vegaEmbed(outputDiv, spec, embedOpt)\n",
       "        .catch(err => showError(`Javascript Error: ${err.message}<br>This usually means there's a typo in your chart specification. See the javascript console for the full traceback.`));\n",
       "    }\n",
       "\n",
       "    if(typeof define === \"function\" && define.amd) {\n",
       "      requirejs.config({paths});\n",
       "      require([\"vega-embed\"], displayChart, err => showError(`Error loading script: ${err.message}`));\n",
       "    } else {\n",
       "      maybeLoadScript(\"vega\", \"5\")\n",
       "        .then(() => maybeLoadScript(\"vega-lite\", \"4.17.0\"))\n",
       "        .then(() => maybeLoadScript(\"vega-embed\", \"6\"))\n",
       "        .catch(showError)\n",
       "        .then(() => displayChart(vegaEmbed));\n",
       "    }\n",
       "  })({\"config\": {\"view\": {\"continuousWidth\": 400, \"continuousHeight\": 300}}, \"data\": {\"name\": \"data-089769c69a55a3ba2f7f8f4f9c5c3b30\"}, \"mark\": \"line\", \"encoding\": {\"x\": {\"field\": \"time\", \"type\": \"temporal\"}, \"y\": {\"field\": \"distance\", \"type\": \"quantitative\"}}, \"$schema\": \"https://vega.github.io/schema/vega-lite/v4.17.0.json\", \"datasets\": {\"data-089769c69a55a3ba2f7f8f4f9c5c3b30\": [{\"time\": \"2019-03-24T18:00:00\", \"distance\": 0.0, \"runner\": \"Rich H.\", \"dsplit\": 10.43034, \"mph\": 5.21517, \"hour\": 0, \"gender\": \"male\"}, {\"time\": \"2019-03-24T20:00:00\", \"distance\": 10.43034, \"runner\": \"Rich H.\", \"dsplit\": 10.43034, \"mph\": 5.21517, \"hour\": 2, \"gender\": \"male\"}, {\"time\": \"2019-03-24T22:00:00\", \"distance\": 20.86068, \"runner\": \"Rich H.\", \"dsplit\": 7.822755, \"mph\": 3.9113775, \"hour\": 4, \"gender\": \"male\"}, {\"time\": \"2019-03-24T23:59:00\", \"distance\": 28.683435, \"runner\": \"Rich H.\", \"dsplit\": 7.822755, \"mph\": 3.9113775, \"hour\": 6, \"gender\": \"male\"}, {\"time\": \"2019-03-25T02:00:00\", \"distance\": 36.50619, \"runner\": \"Rich H.\", \"dsplit\": 7.822755, \"mph\": 3.9113775, \"hour\": 8, \"gender\": \"male\"}, {\"time\": \"2019-03-25T04:00:00\", \"distance\": 44.328945, \"runner\": \"Rich H.\", \"dsplit\": 5.21517, \"mph\": 2.607585, \"hour\": 10, \"gender\": \"male\"}, {\"time\": \"2019-03-25T06:00:00\", \"distance\": 49.544115, \"runner\": \"Rich H.\", \"dsplit\": 2.607585, \"mph\": 1.3037925, \"hour\": 12, \"gender\": \"male\"}, {\"time\": \"2019-03-25T08:00:00\", \"distance\": 52.1517, \"runner\": \"Rich H.\", \"dsplit\": 5.21517, \"mph\": 2.607585, \"hour\": 14, \"gender\": \"male\"}, {\"time\": \"2019-03-25T10:00:00\", \"distance\": 57.36687, \"runner\": \"Rich H.\", \"dsplit\": 7.822755, \"mph\": 3.9113775, \"hour\": 16, \"gender\": \"male\"}, {\"time\": \"2019-03-25T12:01:00\", \"distance\": 65.189625, \"runner\": \"Rich H.\", \"dsplit\": 2.607585, \"mph\": 1.3037925, \"hour\": 18, \"gender\": \"male\"}, {\"time\": \"2019-03-25T14:00:00\", \"distance\": 67.79721, \"runner\": \"Rich H.\", \"dsplit\": 5.21517, \"mph\": 2.607585, \"hour\": 20, \"gender\": \"male\"}, {\"time\": \"2019-03-25T16:00:00\", \"distance\": 73.01238, \"runner\": \"Rich H.\", \"dsplit\": 5.21517, \"mph\": 2.607585, \"hour\": 22, \"gender\": \"male\"}, {\"time\": \"2019-03-25T18:00:00\", \"distance\": 78.22755, \"runner\": \"Rich H.\", \"dsplit\": 2.607585, \"mph\": 1.3037925, \"hour\": 24, \"gender\": \"male\"}, {\"time\": \"2019-03-25T20:00:00\", \"distance\": 80.835135, \"runner\": \"Rich H.\", \"dsplit\": 2.607585, \"mph\": 1.3037925, \"hour\": 26, \"gender\": \"male\"}, {\"time\": \"2019-03-25T22:00:00\", \"distance\": 83.44272, \"runner\": \"Rich H.\", \"dsplit\": 5.21517, \"mph\": 2.607585, \"hour\": 28, \"gender\": \"male\"}, {\"time\": \"2019-03-25T23:59:00\", \"distance\": 88.65789, \"runner\": \"Rich H.\", \"dsplit\": 2.607585, \"mph\": 1.3037925, \"hour\": 30, \"gender\": \"male\"}, {\"time\": \"2019-03-26T02:00:00\", \"distance\": 91.265475, \"runner\": \"Rich H.\", \"dsplit\": 2.607585, \"mph\": 1.3037925, \"hour\": 32, \"gender\": \"male\"}, {\"time\": \"2019-03-26T04:00:00\", \"distance\": 93.87306, \"runner\": \"Rich H.\", \"dsplit\": 5.21517, \"mph\": 2.607585, \"hour\": 34, \"gender\": \"male\"}, {\"time\": \"2019-03-26T08:00:00\", \"distance\": 99.08823, \"runner\": \"Rich H.\", \"dsplit\": 0.0, \"mph\": 0.0, \"hour\": 38, \"gender\": \"male\"}, {\"time\": \"2019-03-26T06:00:00\", \"distance\": 99.08823, \"runner\": \"Rich H.\", \"dsplit\": 2.607585, \"mph\": 1.3037925, \"hour\": 36, \"gender\": \"male\"}, {\"time\": \"2019-03-26T10:00:00\", \"distance\": 101.695815, \"runner\": \"Rich H.\", \"dsplit\": 5.21517, \"mph\": 2.607585, \"hour\": 40, \"gender\": \"male\"}, {\"time\": \"2019-03-26T14:00:00\", \"distance\": 106.910985, \"runner\": \"Rich H.\", \"dsplit\": 0.0, \"mph\": 0.0, \"hour\": 44, \"gender\": \"male\"}, {\"time\": \"2019-03-26T12:01:00\", \"distance\": 106.910985, \"runner\": \"Rich H.\", \"dsplit\": 5.21517, \"mph\": 2.607585, \"hour\": 42, \"gender\": \"male\"}, {\"time\": \"2019-03-26T16:00:00\", \"distance\": 112.126155, \"runner\": \"Rich H.\", \"dsplit\": 4.007585, \"mph\": 2.0037925, \"hour\": 46, \"gender\": \"male\"}, {\"time\": \"2019-03-26T18:00:00\", \"distance\": 116.13374, \"runner\": \"Rich H.\", \"dsplit\": null, \"mph\": null, \"hour\": 48, \"gender\": \"male\"}]}}, {\"mode\": \"vega-lite\"});\n",
       "</script>"
      ],
      "text/plain": [
       "alt.Chart(...)"
      ]
     },
     "execution_count": 13,
     "metadata": {},
     "output_type": "execute_result"
    }
   ],
   "source": [
    "alt.Chart(rich).mark_line().encode(\n",
    "    x='time',\n",
    "    y='distance'\n",
    ")"
   ]
  },
  {
   "cell_type": "markdown",
   "metadata": {},
   "source": [
    "#### 3. Circle"
   ]
  },
  {
   "cell_type": "markdown",
   "metadata": {},
   "source": [
    "Encoding Data Types\n",
    "\n",
    "\n",
    "| Data Type    | Shorthand Code | Description                       |\n",
    "| ------------ | -------------- | --------------------------------- |\n",
    "| quantitative | `Q`            | a continuous real-valued quantity |\n",
    "| ordinal      | `O`            | a discrete ordered quantity       |\n",
    "| nominal      | `N`            | a discrete unordered category     |\n",
    "| temporal     | `T`            | a time or date value              |\n",
    "| geojson      | `G`            | a geographic shape                |\n"
   ]
  },
  {
   "cell_type": "code",
   "execution_count": 14,
   "metadata": {},
   "outputs": [
    {
     "ename": "ModuleNotFoundError",
     "evalue": "No module named 'vega_datasets'",
     "output_type": "error",
     "traceback": [
      "\u001b[1;31m---------------------------------------------------------------------------\u001b[0m",
      "\u001b[1;31mModuleNotFoundError\u001b[0m                       Traceback (most recent call last)",
      "Input \u001b[1;32mIn [14]\u001b[0m, in \u001b[0;36m<cell line: 1>\u001b[1;34m()\u001b[0m\n\u001b[1;32m----> 1\u001b[0m \u001b[38;5;28;01mfrom\u001b[39;00m \u001b[38;5;21;01mvega_datasets\u001b[39;00m \u001b[38;5;28;01mimport\u001b[39;00m data\n\u001b[0;32m      3\u001b[0m cars \u001b[38;5;241m=\u001b[39m data\u001b[38;5;241m.\u001b[39mcars()\n\u001b[0;32m      5\u001b[0m alt\u001b[38;5;241m.\u001b[39mChart(cars)\u001b[38;5;241m.\u001b[39mmark_circle(size\u001b[38;5;241m=\u001b[39m\u001b[38;5;241m60\u001b[39m)\u001b[38;5;241m.\u001b[39mencode(\n\u001b[0;32m      6\u001b[0m     x\u001b[38;5;241m=\u001b[39m\u001b[38;5;124m'\u001b[39m\u001b[38;5;124mHorsepower:Q\u001b[39m\u001b[38;5;124m'\u001b[39m,\n\u001b[0;32m      7\u001b[0m     y\u001b[38;5;241m=\u001b[39m\u001b[38;5;124m'\u001b[39m\u001b[38;5;124mMiles_per_Gallon:Q\u001b[39m\u001b[38;5;124m'\u001b[39m,\n\u001b[0;32m      8\u001b[0m     color\u001b[38;5;241m=\u001b[39m\u001b[38;5;124m'\u001b[39m\u001b[38;5;124mOrigin:N\u001b[39m\u001b[38;5;124m'\u001b[39m,\n\u001b[0;32m      9\u001b[0m )\n",
      "\u001b[1;31mModuleNotFoundError\u001b[0m: No module named 'vega_datasets'"
     ]
    }
   ],
   "source": [
    "from vega_datasets import data\n",
    "\n",
    "cars = data.cars()\n",
    "\n",
    "alt.Chart(cars).mark_circle(size=60).encode(\n",
    "    x='Horsepower:Q',\n",
    "    y='Miles_per_Gallon:Q',\n",
    "    color='Origin:N',\n",
    ")"
   ]
  },
  {
   "cell_type": "markdown",
   "metadata": {},
   "source": [
    "boooooooooring....."
   ]
  },
  {
   "cell_type": "markdown",
   "metadata": {},
   "source": [
    "<img src=\"../images/bond.jpg\" alt=\"bond\" width=\"500\">"
   ]
  },
  {
   "cell_type": "code",
   "execution_count": 15,
   "metadata": {},
   "outputs": [],
   "source": [
    "cocktails = pd.read_csv('../data/cocktails.tsv', delimiter='\\t')"
   ]
  },
  {
   "cell_type": "code",
   "execution_count": 16,
   "metadata": {},
   "outputs": [
    {
     "data": {
      "text/html": [
       "<div>\n",
       "<style scoped>\n",
       "    .dataframe tbody tr th:only-of-type {\n",
       "        vertical-align: middle;\n",
       "    }\n",
       "\n",
       "    .dataframe tbody tr th {\n",
       "        vertical-align: top;\n",
       "    }\n",
       "\n",
       "    .dataframe thead th {\n",
       "        text-align: right;\n",
       "    }\n",
       "</style>\n",
       "<table border=\"1\" class=\"dataframe\">\n",
       "  <thead>\n",
       "    <tr style=\"text-align: right;\">\n",
       "      <th></th>\n",
       "      <th>name</th>\n",
       "      <th>abv</th>\n",
       "      <th>acid</th>\n",
       "      <th>sugar</th>\n",
       "      <th>type</th>\n",
       "      <th>index</th>\n",
       "      <th>instructions</th>\n",
       "      <th>ingredients</th>\n",
       "      <th>ncotw</th>\n",
       "    </tr>\n",
       "  </thead>\n",
       "  <tbody>\n",
       "    <tr>\n",
       "      <th>28</th>\n",
       "      <td>Negroni</td>\n",
       "      <td>20.7</td>\n",
       "      <td>0.14</td>\n",
       "      <td>9.4</td>\n",
       "      <td>stirred</td>\n",
       "      <td>33</td>\n",
       "      <td>Stir. Coupe or over a large rock. Orange or gr...</td>\n",
       "      <td>1 oz sweet vermouth&lt;br/&gt;1 oz gin (47.3% abv)&lt;b...</td>\n",
       "      <td>&lt;a href=\"https://www.reddit.com/r/cocktails/co...</td>\n",
       "    </tr>\n",
       "    <tr>\n",
       "      <th>9</th>\n",
       "      <td>Hemingway Daiquiri</td>\n",
       "      <td>16.5</td>\n",
       "      <td>0.98</td>\n",
       "      <td>5.1</td>\n",
       "      <td>shaken</td>\n",
       "      <td>14</td>\n",
       "      <td>Shake, coupe. Garnish with lime wheel.</td>\n",
       "      <td>2 oz white rum (40% abv)&lt;br/&gt;3/4 oz lime juice...</td>\n",
       "      <td>&lt;a href=\"https://www.reddit.com/r/cocktails/co...</td>\n",
       "    </tr>\n",
       "    <tr>\n",
       "      <th>7</th>\n",
       "      <td>Blood and Sand</td>\n",
       "      <td>15.6</td>\n",
       "      <td>0.19</td>\n",
       "      <td>8.0</td>\n",
       "      <td>shaken</td>\n",
       "      <td>12</td>\n",
       "      <td>Shake, coupe. (Optionally flamed) orange twist.</td>\n",
       "      <td>1 oz Scotch (43% abv)&lt;br/&gt;3/4 oz Cherry Herrin...</td>\n",
       "      <td>&lt;a href=\"https://www.reddit.com/r/cocktails/co...</td>\n",
       "    </tr>\n",
       "  </tbody>\n",
       "</table>\n",
       "</div>"
      ],
      "text/plain": [
       "                  name   abv  acid  sugar     type  index  \\\n",
       "28             Negroni  20.7  0.14    9.4  stirred     33   \n",
       "9   Hemingway Daiquiri  16.5  0.98    5.1   shaken     14   \n",
       "7       Blood and Sand  15.6  0.19    8.0   shaken     12   \n",
       "\n",
       "                                         instructions  \\\n",
       "28  Stir. Coupe or over a large rock. Orange or gr...   \n",
       "9              Shake, coupe. Garnish with lime wheel.   \n",
       "7     Shake, coupe. (Optionally flamed) orange twist.   \n",
       "\n",
       "                                          ingredients  \\\n",
       "28  1 oz sweet vermouth<br/>1 oz gin (47.3% abv)<b...   \n",
       "9   2 oz white rum (40% abv)<br/>3/4 oz lime juice...   \n",
       "7   1 oz Scotch (43% abv)<br/>3/4 oz Cherry Herrin...   \n",
       "\n",
       "                                                ncotw  \n",
       "28  <a href=\"https://www.reddit.com/r/cocktails/co...  \n",
       "9   <a href=\"https://www.reddit.com/r/cocktails/co...  \n",
       "7   <a href=\"https://www.reddit.com/r/cocktails/co...  "
      ]
     },
     "execution_count": 16,
     "metadata": {},
     "output_type": "execute_result"
    }
   ],
   "source": [
    "cocktails.sample(3)"
   ]
  },
  {
   "cell_type": "code",
   "execution_count": 17,
   "metadata": {},
   "outputs": [
    {
     "data": {
      "text/html": [
       "\n",
       "<div id=\"altair-viz-a3b3bb84013e4ce19430344ced863e28\"></div>\n",
       "<script type=\"text/javascript\">\n",
       "  var VEGA_DEBUG = (typeof VEGA_DEBUG == \"undefined\") ? {} : VEGA_DEBUG;\n",
       "  (function(spec, embedOpt){\n",
       "    let outputDiv = document.currentScript.previousElementSibling;\n",
       "    if (outputDiv.id !== \"altair-viz-a3b3bb84013e4ce19430344ced863e28\") {\n",
       "      outputDiv = document.getElementById(\"altair-viz-a3b3bb84013e4ce19430344ced863e28\");\n",
       "    }\n",
       "    const paths = {\n",
       "      \"vega\": \"https://cdn.jsdelivr.net/npm//vega@5?noext\",\n",
       "      \"vega-lib\": \"https://cdn.jsdelivr.net/npm//vega-lib?noext\",\n",
       "      \"vega-lite\": \"https://cdn.jsdelivr.net/npm//vega-lite@4.17.0?noext\",\n",
       "      \"vega-embed\": \"https://cdn.jsdelivr.net/npm//vega-embed@6?noext\",\n",
       "    };\n",
       "\n",
       "    function maybeLoadScript(lib, version) {\n",
       "      var key = `${lib.replace(\"-\", \"\")}_version`;\n",
       "      return (VEGA_DEBUG[key] == version) ?\n",
       "        Promise.resolve(paths[lib]) :\n",
       "        new Promise(function(resolve, reject) {\n",
       "          var s = document.createElement('script');\n",
       "          document.getElementsByTagName(\"head\")[0].appendChild(s);\n",
       "          s.async = true;\n",
       "          s.onload = () => {\n",
       "            VEGA_DEBUG[key] = version;\n",
       "            return resolve(paths[lib]);\n",
       "          };\n",
       "          s.onerror = () => reject(`Error loading script: ${paths[lib]}`);\n",
       "          s.src = paths[lib];\n",
       "        });\n",
       "    }\n",
       "\n",
       "    function showError(err) {\n",
       "      outputDiv.innerHTML = `<div class=\"error\" style=\"color:red;\">${err}</div>`;\n",
       "      throw err;\n",
       "    }\n",
       "\n",
       "    function displayChart(vegaEmbed) {\n",
       "      vegaEmbed(outputDiv, spec, embedOpt)\n",
       "        .catch(err => showError(`Javascript Error: ${err.message}<br>This usually means there's a typo in your chart specification. See the javascript console for the full traceback.`));\n",
       "    }\n",
       "\n",
       "    if(typeof define === \"function\" && define.amd) {\n",
       "      requirejs.config({paths});\n",
       "      require([\"vega-embed\"], displayChart, err => showError(`Error loading script: ${err.message}`));\n",
       "    } else {\n",
       "      maybeLoadScript(\"vega\", \"5\")\n",
       "        .then(() => maybeLoadScript(\"vega-lite\", \"4.17.0\"))\n",
       "        .then(() => maybeLoadScript(\"vega-embed\", \"6\"))\n",
       "        .catch(showError)\n",
       "        .then(() => displayChart(vegaEmbed));\n",
       "    }\n",
       "  })({\"config\": {\"view\": {\"continuousWidth\": 400, \"continuousHeight\": 300}}, \"data\": {\"name\": \"data-eef8cdb9f814de562d6e0a7156484812\"}, \"mark\": {\"type\": \"circle\", \"size\": 100}, \"encoding\": {\"color\": {\"field\": \"type\", \"type\": \"nominal\"}, \"x\": {\"field\": \"acid\", \"type\": \"quantitative\"}, \"y\": {\"field\": \"sugar\", \"type\": \"quantitative\"}}, \"$schema\": \"https://vega.github.io/schema/vega-lite/v4.17.0.json\", \"datasets\": {\"data-eef8cdb9f814de562d6e0a7156484812\": [{\"name\": \"Pisco Sour\", \"abv\": 12.1, \"acid\": 0.68, \"sugar\": 7.2, \"type\": \"eggwhite\", \"index\": 5, \"instructions\": \"Dry shake, shake with ice, coupe. Add 3 drops of Anostura or Amargo Chuncho.\", \"ingredients\": \"2 oz pisco (40% abv)<br/>1 oz egg white<br/>3/4 oz lime juice<br/>3/4 oz simple syrup\", \"ncotw\": \"not yet\"}, {\"name\": \"Pink Lady\", \"abv\": 12.4, \"acid\": 0.64, \"sugar\": 9.0, \"type\": \"eggwhite\", \"index\": 6, \"instructions\": \"Dry shake, shake with ice, coupe.\", \"ingredients\": \"1 1/2 oz Plymouth gin<br/>1 oz egg white<br/>3/4 oz lemon juice<br/>1/2 oz Grenadine<br/>1/2 oz simple syrup<br/>1/2 oz Lairds Applejack Bottled in Bond\", \"ncotw\": \"not yet\"}, {\"name\": \"Clover Club\", \"abv\": 13.6, \"acid\": 0.49, \"sugar\": 6.7, \"type\": \"eggwhite\", \"index\": 7, \"instructions\": \"Dry shake, shake with ice, coupe. Garnish with a raspberry\", \"ingredients\": \"2 oz Plymouth gin<br/>1 oz egg white<br/>1/2 oz Dolin dry vermouth<br/>1/2 oz raspberry syrup<br/>1/2 oz lemon juice<br/>1 oz egg white\", \"ncotw\": \"<a href=\\\"https://www.reddit.com/r/cocktails/comments/1go8m1/not_cocktail_of_the_week_24_clover_club/\\\">#24</a>\"}, {\"name\": \"Whiskey Sour\", \"abv\": 15.2, \"acid\": 0.53, \"sugar\": 7.1, \"type\": \"eggwhite\", \"index\": 8, \"instructions\": \"Dry shake, shake with ice, coupe.\", \"ingredients\": \"2 oz rye (50% abv)<br/>3/4 oz simple syrup<br/>0.625 oz lemon juice<br/>2 drops saline solution<br/>1 oz egg white\", \"ncotw\": \"not yet\"}, {\"name\": \"Daiquiri with More Lime\", \"abv\": 14.7, \"acid\": 0.94, \"sugar\": 8.7, \"type\": \"shaken\", \"index\": 9, \"instructions\": \"Shake, coupe.\", \"ingredients\": \"2 oz white rum (40% abv)<br/>0.875 oz lime juice<br/>3/4 oz simple syrup\", \"ncotw\": \"<a href=\\\"https://www.reddit.com/r/cocktails/comments/1i0sbt/not_cocktail_of_the_week_27_daiquiri/\\\">#27</a>\"}, {\"name\": \"Honeysuckle\", \"abv\": 15.0, \"acid\": 0.85, \"sugar\": 8.9, \"type\": \"shaken\", \"index\": 10, \"instructions\": \"Shake, coupe. Garnish with lime wheel.\", \"ingredients\": \"2 oz white rum (40% abv)<br/>3/4 oz lime juice<br/>3/4 oz honey syrup\", \"ncotw\": \"<a href=\\\"https://www.reddit.com/r/cocktails/comments/1kd90i/not_cocktail_of_the_week_32_bees_knees/\\\">#32</a>\"}, {\"name\": \"Classic Daiquiri\", \"abv\": 15.0, \"acid\": 0.85, \"sugar\": 8.9, \"type\": \"shaken\", \"index\": 11, \"instructions\": \"Shake, coupe.\", \"ingredients\": \"2 oz white rum (40% abv)<br/>3/4 oz lime juice<br/>3/4 oz simple syrup\", \"ncotw\": \"<a href=\\\"https://www.reddit.com/r/cocktails/comments/1i0sbt/not_cocktail_of_the_week_27_daiquiri/\\\">#27</a>\"}, {\"name\": \"Blood and Sand\", \"abv\": 15.6, \"acid\": 0.19, \"sugar\": 8.0, \"type\": \"shaken\", \"index\": 12, \"instructions\": \"Shake, coupe. (Optionally flamed) orange twist.\", \"ingredients\": \"1 oz Scotch (43% abv)<br/>3/4 oz Cherry Herring<br/>3/4 oz sweet vermouth<br> 1/2 oz orange jucie\", \"ncotw\": \"<a href=\\\"https://www.reddit.com/r/cocktails/comments/1yds2e/not_cocktail_of_the_week_59_blood_and_sand/\\\">#59</a>\"}, {\"name\": \"Alexander\", \"abv\": 16.4, \"acid\": 0.0, \"sugar\": 3.1, \"type\": \"shaken\", \"index\": 13, \"instructions\": \"Shake, coupe. Grated nutmeg.\", \"ingredients\": \"2 oz Cognac (41% abv)<br/>1 oz heavy cream<br/>1/4 oz Demerara syrup\", \"ncotw\": \"not yet\"}, {\"name\": \"Hemingway Daiquiri\", \"abv\": 16.5, \"acid\": 0.98, \"sugar\": 5.1, \"type\": \"shaken\", \"index\": 14, \"instructions\": \"Shake, coupe. Garnish with lime wheel.\", \"ingredients\": \"2 oz white rum (40% abv)<br/>3/4 oz lime juice<br/>1/2 oz grapefruit juice<br/>1/2 oz Luxardo Maraschino<br/>2 drops saline solution\", \"ncotw\": \"<a href=\\\"https://www.reddit.com/r/cocktails/comments/1i0sbt/not_cocktail_of_the_week_27_daiquiri/\\\">#27</a>\"}, {\"name\": \"Brown Derby\", \"abv\": 16.6, \"acid\": 0.44, \"sugar\": 7.6, \"type\": \"shaken\", \"index\": 15, \"instructions\": \"Shake, coupe. Express and discard grapefruit twist.\", \"ingredients\": \"2 oz bourbon (45% abv)<br/>1 oz grapefruit juice<br/>1/2 oz honey syrup\", \"ncotw\": \"<a href=\\\"https://www.reddit.com/r/cocktails/comments/2a9ow3/not_cocktail_of_the_week_79_brown_derby/\\\">#79</a>\"}, {\"name\": \"Cosmopolitan (Modern/Bastardized)\", \"abv\": 16.6, \"acid\": 1.05, \"sugar\": 5.5, \"type\": \"shaken\", \"index\": 16, \"instructions\": \"Shake, coupe. Express and discard (optionally flamed) orange twist.\", \"ingredients\": \"1 1/2 oz Absolut Citron vodka<br/>3/4 oz Cointreau<br/>3/4 oz cranberry juice<br/>1/2 oz lime juice\", \"ncotw\": \"not yet\"}, {\"name\": \"Gold Rush\", \"abv\": 17.2, \"acid\": 0.83, \"sugar\": 8.7, \"type\": \"shaken\", \"index\": 17, \"instructions\": \"Shake, server over large rock.\", \"ingredients\": \"2 oz bourbon (47% abv)<br/>3/4 oz lemon juice<br/>3/4 oz honey syrup\", \"ncotw\": \"not yet\"}, {\"name\": \"Southside\", \"abv\": 17.2, \"acid\": 0.83, \"sugar\": 8.7, \"type\": \"shaken\", \"index\": 18, \"instructions\": \"Shake with handful mint, coupe. Garnish with mint.\", \"ingredients\": \"2 oz gin (47% abv)<br/>3/4 oz lemon juice<br/>3/4 oz simple syrup\", \"ncotw\": \"<a href=\\\"https://www.reddit.com/r/cocktails/comments/1jfrqi/not_cocktail_of_the_week_30_southside_and/\\\">#30</a>\"}, {\"name\": \"Bee's Knees\", \"abv\": 17.2, \"acid\": 0.83, \"sugar\": 8.7, \"type\": \"shaken\", \"index\": 19, \"instructions\": \"Shake, coupe. Garnish with lemon wheel.\", \"ingredients\": \"2 oz gin (47% abv)<br/>3/4 oz lemon juice<br/>3/4 oz honey syrup\", \"ncotw\": \"<a href=\\\"https://www.reddit.com/r/cocktails/comments/1kd90i/not_cocktail_of_the_week_32_bees_knees/\\\">#32</a>\"}, {\"name\": \"20th Century Cocktail\", \"abv\": 17.3, \"acid\": 0.85, \"sugar\": 6.5, \"type\": \"shaken\", \"index\": 20, \"instructions\": \"Shake, coupe.\", \"ingredients\": \"1 1/2 oz gin (47% abv)<br/>3/4 oz lemon juice<br/>3/4 oz white cr\\u008fme de cacao<br/>3/4 oz Lillet Blanc\", \"ncotw\": \"<a href=\\\"https://www.reddit.com/r/cocktails/comments/2377jm/not_cocktail_of_the_week_67_the_20th_century/\\\">#67</a>\"}, {\"name\": \"Fresh Lime Gimlet\", \"abv\": 17.3, \"acid\": 0.82, \"sugar\": 8.7, \"type\": \"shaken\", \"index\": 21, \"instructions\": \"Shake, coupe. Garnish with lime wheel.\", \"ingredients\": \"2 oz gin (47.4% abv)<br/>3/4 oz lime juice<br/>3/4 oz simple syrup\", \"ncotw\": \"<a href=\\\"https://www.reddit.com/r/cocktails/comments/28i1dn/not_cocktail_of_the_week_76_gimlet/\\\">#76</a>\"}, {\"name\": \"Corpse Reviver #2\", \"abv\": 17.4, \"acid\": 1.03, \"sugar\": 5.7, \"type\": \"shaken\", \"index\": 22, \"instructions\": \"Shake, coupe. Express and discard orange twist.\", \"ingredients\": \"3/4 oz lemon juice<br/>3/4 oz gin (47% abv)<br/>3/4 oz Cointreau<br/>3/4 oz Lillet Blanc\", \"ncotw\": \"<a href=\\\"https://www.reddit.com/r/cocktails/comments/1779xr/ncotw_3_corpse_reviver_2/\\\">#3</a>\"}, {\"name\": \"Jack Rose\", \"abv\": 18.2, \"acid\": 0.81, \"sugar\": 8.5, \"type\": \"shaken\", \"index\": 23, \"instructions\": \"Shake, coupe.\", \"ingredients\": \"2 oz apple brandy (50% abv)<br/>3/4 oz Grenadine<br/>3/4 oz lemon juice<br>1 dash Angostura bitters\", \"ncotw\": \"<a href=\\\"https://www.reddit.com/r/cocktails/comments/1bnysd/not_cocktail_of_the_week_13_jack_rose/\\\">#13</a>\"}, {\"name\": \"Margarita\", \"abv\": 18.5, \"acid\": 0.76, \"sugar\": 6.0, \"type\": \"shaken\", \"index\": 24, \"instructions\": \"Shake, coupe (optionally salted rim).\", \"ingredients\": \"2 oz blanco tequila (40% abv)<br/>3/4 oz lime juice<br/>3/4 oz Cointreau<br/>1/4 oz simple syrup<br/>5 drops saline solution\", \"ncotw\": \"not yet\"}, {\"name\": \"Aviation\", \"abv\": 18.7, \"acid\": 0.81, \"sugar\": 5.1, \"type\": \"shaken\", \"index\": 25, \"instructions\": \"Shake, coupe.\", \"ingredients\": \"2 oz Plymouth gin<br/>3/4 oz lemon juice<br/>1/2 oz Luxardo Maraschino<br/>1/4 oz crem de violette\", \"ncotw\": \"not yet\"}, {\"name\": \"Sidecar\", \"abv\": 18.9, \"acid\": 0.76, \"sugar\": 6.0, \"type\": \"shaken\", \"index\": 26, \"instructions\": \"Shake, coupe. Express and discard orange twist.\", \"ingredients\": \"2 oz Cognac (41% abv)<br/>3/4 oz Cointreau<br/>3/4 oz lemon juice<br/>1/4 oz simple syrup\", \"ncotw\": \"<a href=\\\"https://www.reddit.com/r/cocktails/comments/19cmfw/not_cocktail_of_the_week_8_sidecar/\\\">#8</a>\"}, {\"name\": \"Champs-Elysses\", \"abv\": 19.7, \"acid\": 0.8, \"sugar\": 5.2, \"type\": \"shaken\", \"index\": 27, \"instructions\": \"Shake, coupe. Express and discard lemon twist.\", \"ingredients\": \"2 oz Cognac (41% abv)<br/>3/4 oz lemon juice<br/>1/2 oz Green Chartreuse<br/>1/4 oz simple syrup<br/>1 dash Angostura bitters\", \"ncotw\": \"<a href=\\\"https://www.reddit.com/r/cocktails/comments/209moq/not_cocktail_of_the_week_62_champs_%C3%A9lys%C3%A9es/\\\">#62</a>\"}, {\"name\": \"Last Word\", \"abv\": 20.0, \"acid\": 0.92, \"sugar\": 9.6, \"type\": \"shaken\", \"index\": 28, \"instructions\": \"Shake, coupe.\", \"ingredients\": \"3/4 oz lime juice<br/>3/4 oz Green Chartreuse<br/>3/4 oz Luxardo Marschino<b4/>3/4 oz Plymouth gin<br/>2 drop saline\", \"ncotw\": \"<a href=\\\"https://www.reddit.com/r/cocktails/comments/14c11h/cocktail_of_the_week_1_last_word/\\\">COTW #1</a>\"}, {\"name\": \"Between the Sheets\", \"abv\": 20.1, \"acid\": 0.58, \"sugar\": 4.5, \"type\": \"shaken\", \"index\": 29, \"instructions\": \"Shake, coupe. Express and discard lemon twist.\", \"ingredients\": \"1 1/2 oz Cognac (41% abv)<br/>3/4 oz Curacao<br/>1/2 oz white rum (40% abv)<br/>1/2 oz lemon juice\", \"ncotw\": \"<a href=\\\"https://www.reddit.com/r/cocktails/comments/1xqbox/not_cocktail_of_the_week_58_between_the_sheets/\\\">#58</a>\"}, {\"name\": \"Brady Crusta\", \"abv\": 20.2, \"acid\": 0.58, \"sugar\": 7.6, \"type\": \"shaken\", \"index\": 30, \"instructions\": \"Shake, coupe (sugar-rimmed). Large lemon spiral.\", \"ingredients\": \"2 oz Cognac (41% abv)<br/>1/2 oz Curacao<br/>1/2 oz lemon juice<br/>1/4 oz Luxardo Maraschino\", \"ncotw\": \"not yet\"}, {\"name\": \"Pegu Club\", \"abv\": 21.0, \"acid\": 0.78, \"sugar\": 4.2, \"type\": \"shaken\", \"index\": 31, \"instructions\": \"Shake, coupe. Garnish with lime wheel.\", \"ingredients\": \"2 oz gin (47.3% abv)<br/>3/4 oz lime juice<br/>3/4 oz Curacao<br/>1 dash orange bitters<br/>1 dash Angostura bitters\", \"ncotw\": \"<a href=\\\"https://www.reddit.com/r/cocktails/comments/1c3psn/not_cocktail_of_the_week_14_pegu_club/\\\">#14</a>\"}, {\"name\": \"Blinker\", \"abv\": 21.4, \"acid\": 0.39, \"sugar\": 4.1, \"type\": \"shaken\", \"index\": 32, \"instructions\": \"Shake, coupe.\", \"ingredients\": \"2 oz rye (50% abv)<br/>3/4 oz grapefruit juice<br/>1 bsp raspberry syrup\", \"ncotw\": \"not yet\"}, {\"name\": \"Negroni\", \"abv\": 20.7, \"acid\": 0.14, \"sugar\": 9.4, \"type\": \"stirred\", \"index\": 33, \"instructions\": \"Stir. Coupe or over a large rock. Orange or grapefruit twist.\", \"ingredients\": \"1 oz sweet vermouth<br/>1 oz gin (47.3% abv)<br/>1 oz Campari\", \"ncotw\": \"<a href=\\\"https://www.reddit.com/r/cocktails/comments/1aoe1c/not_cocktail_of_the_week_11_negroni/\\\">#11</a>\"}, {\"name\": \"Blackthorn\", \"abv\": 21.1, \"acid\": 0.1, \"sugar\": 6.3, \"type\": \"stirred\", \"index\": 34, \"instructions\": \"Stir, coupe. Orange twist.\", \"ingredients\": \"1 1/2 oz Plymouth gin<br/>3/4 oz sweet vermouth<br/>3/4 oz sloe gin<br/>2 dashes orange bitters\", \"ncotw\": \"not yet\"}, {\"name\": \"Hanky Panky\", \"abv\": 22.4, \"acid\": 0.2, \"sugar\": 5.6, \"type\": \"stirred\", \"index\": 35, \"instructions\": \"Stir, coupe. Orange twist.\", \"ingredients\": \"1 1/2 oz sweet vermouth<br/>1 1/2 oz gin (47% abv)<br/>1 bsp Fernet Branca\", \"ncotw\": \"<a href=\\\"https://www.reddit.com/r/cocktails/comments/5c2njb/not_cocktail_of_the_week_123_hanky_panky/\\\">#123</a>\"}, {\"name\": \"Martinez\", \"abv\": 22.5, \"acid\": 0.13, \"sugar\": 6.6, \"type\": \"stirred\", \"index\": 36, \"instructions\": \"Stir, coupe. Lemon twist.\", \"ingredients\": \"2 oz Old Tom gin (40% abv)<br/>1 oz sweet vermouth<br/>1/4 oz Luxardo Maraschino<br/>1 dash Angostura bitters<br/>1 dash orange bitters\", \"ncotw\": \"<a href=\\\"https://www.reddit.com/r/cocktails/comments/1ck6v2/not_cocktail_of_the_week_15_martinez/\\\">#15</a>\"}, {\"name\": \"Manhatan (Boubon, 45% abv)\", \"abv\": 24.6, \"acid\": 0.14, \"sugar\": 3.7, \"type\": \"stirred\", \"index\": 37, \"instructions\": \"Stir, coupe. Orange twist or cherry.\", \"ingredients\": \"2 oz bourbon (45% abv)<br/>1 oz sweet vermouth<br/>2 dashes Angostura bitters\", \"ncotw\": \"<a href=\\\"https://www.reddit.com/r/cocktails/comments/16pciv/not_cocktail_of_the_week_2_the_manhattan/\\\">#2</a>\"}, {\"name\": \"Bobby Burns\", \"abv\": 24.9, \"acid\": 0.1, \"sugar\": 4.2, \"type\": \"stirred\", \"index\": 38, \"instructions\": \"Stir, coupe. Lemon twist.\", \"ingredients\": \"2 oz Scotch (43% abv)<br/>3/4 oz sweet vermouth<br/>1/4 oz Benedictine\", \"ncotw\": \"<a href=\\\"https://www.reddit.com/r/cocktails/comments/169jv7/cocktail_of_the_week_3_bobby_burns/\\\">#1</a>\"}, {\"name\": \"Rob Roy\", \"abv\": 25.5, \"acid\": 0.09, \"sugar\": 2.5, \"type\": \"stirred\", \"index\": 39, \"instructions\": \"Stir, coupe. Lemon twist.\", \"ingredients\": \"2.5 oz Scotch (43% abv)<br/>3/4 oz sweet vermouth<br/>2 dashes Angostura bitters\", \"ncotw\": \"<a href=\\\"https://www.reddit.com/r/cocktails/comments/2owdug/not_cocktail_of_the_week_101_rob_roy/\\\">#101</a>\"}, {\"name\": \"Old Pal\", \"abv\": 25.6, \"acid\": 0.09, \"sugar\": 4.0, \"type\": \"stirred\", \"index\": 40, \"instructions\": \"Stir, coupe.\", \"ingredients\": \"2 oz rye (50% abv)<br/>3/4 oz Campari<br/>3/4 oz dry vermouth\", \"ncotw\": \"<a href=\\\"https://www.reddit.com/r/cocktails/comments/2sfsns/not_cocktail_of_the_week_105_old_pal/\\\">#105</a>\"}, {\"name\": \"Vieux Carre\", \"abv\": 25.9, \"acid\": 0.1, \"sugar\": 4.1, \"type\": \"stirred\", \"index\": 41, \"instructions\": \"Stir, serve over large rock.\", \"ingredients\": \"1 oz rye (50% abv)<br/>1 oz Cognac (41% abv)<br/>3/4 oz sweet vermouth<br/>1/4 oz Benedictine<br/>1 dash Angostura bitters<br/>1 dash Peychaud's bitters\", \"ncotw\": \"<a href=\\\"https://www.reddit.com/r/cocktails/comments/1a8cs5/not_cocktail_of_the_week_10_vieux_carr%C3%A9/\\\">#10</a>\"}, {\"name\": \"Brooklyn\", \"abv\": 26.3, \"acid\": 0.06, \"sugar\": 4.2, \"type\": \"stirred\", \"index\": 42, \"instructions\": \"Stir, coupe. Garnish with cherry.\", \"ingredients\": \"2 oz rye (50% abv)<br/>1/2 oz Amer Picon<br/>1/2 oz dry vermouth<br/>1/4 oz Luxardo Maraschino<br/>1 dash Angostura bitters\", \"ncotw\": \"<a href=\\\"https://www.reddit.com/r/cocktails/comments/2ni3ba/not_cocktail_of_the_week_99_the_brooklyn/\\\">#99</a>\"}, {\"name\": \"Bijou\", \"abv\": 27.1, \"acid\": 0.14, \"sugar\": 9.3, \"type\": \"stirred\", \"index\": 43, \"instructions\": \"Stir, coupe. Lemon twist or cherry.\", \"ingredients\": \"1 oz gin (47.3% abv)<br/>1 oz sweet vermouth<br/>1 oz Green Chartreuse<br/>1 dash orange bitters\", \"ncotw\": \"<a href=\\\"https://www.reddit.com/r/cocktails/comments/2ypbjw/not_cocktail_of_the_week_109_bijou/\\\">#109</a>\"}, {\"name\": \"Manhatan (Rye, 50% abv)\", \"abv\": 27.2, \"acid\": 0.12, \"sugar\": 3.4, \"type\": \"stirred\", \"index\": 44, \"instructions\": \"Stir, coupe. Orange twist or cherry.\", \"ingredients\": \"2 oz rye (50% abv)<br/>0.875 oz sweet vermouth<br/>2 dashes Angostura bitters\", \"ncotw\": \"<a href=\\\"https://www.reddit.com/r/cocktails/comments/16pciv/not_cocktail_of_the_week_2_the_manhattan/\\\">#2</a>\"}, {\"name\": \"Rusty Nail\", \"abv\": 28.8, \"acid\": 0.0, \"sugar\": 4.1, \"type\": \"stirred\", \"index\": 45, \"instructions\": \"Stir, serve over large rock. Lemon peel.\", \"ingredients\": \"2 oz Scotch (43% abv)<br/>1/2 oz Drambuie\", \"ncotw\": \"not yet\"}, {\"name\": \"Improved Whiskey Cocktail\", \"abv\": 29.3, \"acid\": 0.0, \"sugar\": 6.5, \"type\": \"stirred\", \"index\": 46, \"instructions\": \"Stir, sever over large rock in absinthe-rinsed glass. Lemon twist.\", \"ingredients\": \"2 oz rye (50% abv)<br/>1/4 oz Luxardo Maraschino<br/>1/4 oz simple syrup<br/>2 dashes Angostura bitters\", \"ncotw\": \"<a href=\\\"https://www.reddit.com/r/cocktails/comments/1hkxy5/not_cocktail_of_the_week_26_improved_whiskey/\\\">#26</a>\"}, {\"name\": \"De La Louisiane\", \"abv\": 29.3, \"acid\": 0.06, \"sugar\": 4.5, \"type\": \"stirred\", \"index\": 47, \"instructions\": \"Stir, coupe. Garnish with cherry.\", \"ingredients\": \"2 oz rye (50% abv)<br/>1/2 oz Benedictine<br/>1/2 oz sweet vermouth<br/>3 dashes Peychaud's bitters<br/>3 dashes Angostura bitters<br/>3 dashes absinthe\", \"ncotw\": \"<a href=\\\"https://www.reddit.com/r/cocktails/comments/2tzik7/not_cocktail_of_the_week_106_cocktail_a_la/\\\">#106</a>\"}, {\"name\": \"Widow's Kiss\", \"abv\": 32.3, \"acid\": 0.0, \"sugar\": 3.7, \"type\": \"stirred\", \"index\": 48, \"instructions\": \"Stir, coupe.\", \"ingredients\": \"2 oz apple brandy (50% abv)<br/>1/4 oz Benedictine<br/>1/4 oz Yellow Chartreuse\", \"ncotw\": \"<a href=\\\"https://www.reddit.com/r/cocktails/comments/1toslc/not_cocktail_of_the_week_51_widows_kiss/\\\">#51</a>\"}, {\"name\": \"Old Fashioned\", \"abv\": 32.1, \"acid\": 0.0, \"sugar\": 7.6, \"type\": \"built\", \"index\": 49, \"instructions\": \"Build over large rock in old-fashioned glass. Orange twist.\", \"ingredients\": \"2 oz bourbon<br/>3/8 oz simple syrup<br/>2 dashes Angostura bitters\", \"ncotw\": \"<a href=\\\"https://www.reddit.com/r/cocktails/comments/1u7nb3/not_cocktail_of_the_week_52_oldfashioned/\\\">#52</a>\"}, {\"name\": \"Blender Daiquiri\", \"abv\": 15.0, \"acid\": 0.57, \"sugar\": 8.1, \"type\": \"blended\", \"index\": 50, \"instructions\": \"Blend with 120 g ice, strain, coupe.\", \"ingredients\": \"2 1/2 oz water<br/>2 1/4 oz sugard 80-proof rum<br/>1/2 oz lime juice<br/>4 drops saline solution\", \"ncotw\": \"not yet\"}, {\"name\": \"Blender Margarita\", \"abv\": 17.2, \"acid\": 0.57, \"sugar\": 7.9, \"type\": \"blended\", \"index\": 51, \"instructions\": \"Blend with 120 g ice, strain, coupe.\", \"ingredients\": \"2 1/2 oz water<br/>1 oz Cointreau<br/>3/4 oz white mezcal<br/>1/2 oz Yellow Chartreuse<br/>1/2 oz lime juice<br/>10 drops Hellfire bitters\", \"ncotw\": \"not yet\"}, {\"name\": \"Blender Whiskey Sour\", \"abv\": 16.7, \"acid\": 0.61, \"sugar\": 7.8, \"type\": \"blended\", \"index\": 52, \"instructions\": \"Blend with 120 g ice, strain, coupe.\", \"ingredients\": \"2 1/2 oz water<br/>2 oz sugared 100-proof rye<br/>1/2 oz lemon juice<br/>1/4 oz orange juice<br/>4 drops saline solution\", \"ncotw\": \"not yet\"}, {\"name\": \"Carbonated Margarita\", \"abv\": 14.2, \"acid\": 0.44, \"sugar\": 7.1, \"type\": \"carbonated\", \"index\": 53, \"instructions\": \"Chill, carbonate.\", \"ingredients\": \"2 1/2 oz water<br/>2 oz blanco tequila (40% abv)<br/>5/8 oz simple syrip<br/>3/8 oz clarified lime juice<br/>4 drops saline solution\", \"ncotw\": \"not yet\"}, {\"name\": \"Carbonated Whiskey Sour\", \"abv\": 15.2, \"acid\": 0.44, \"sugar\": 7.2, \"type\": \"carbonated\", \"index\": 54, \"instructions\": \"Chill, carbonate.\", \"ingredients\": \"5/8 oz water<br/>1 3/4 oz bourbon<br/>5/8 oz simple syrup<br/>3/8 oz clarified lime juice<br/>2 drops saline solution\", \"ncotw\": \"not yet\"}, {\"name\": \"Gin and Tonic (Dry)\", \"abv\": 15.4, \"acid\": 0.41, \"sugar\": 4.9, \"type\": \"carbonated\", \"index\": 55, \"instructions\": \"Chill, carbonate.\", \"ingredients\": \"7/8 oz water<br/>1 3/4 oz gin (47.3% abv)<br/>3/8 oz quinine simple syrup<br/>3/8 oz clarified lime juice<br/>2 drops saline solution\", \"ncotw\": \"not yet\"}, {\"name\": \"Carbonated Negroni\", \"abv\": 16.0, \"acid\": 0.38, \"sugar\": 7.3, \"type\": \"carbonated\", \"index\": 56, \"instructions\": \"Chill, carbonate. Express and discard grapefruit twist.\", \"ingredients\": \"2 1/4 oz water<br/>1 oz sweet vermouth<br/>1 oz gin  (47.3% abv)<br/>1 oz Campari<br/>1/4 oz clarified lime juice or champagne acid<br/>2 drops saline solution\", \"ncotw\": \"not yet\"}, {\"name\": \"Gin and Juice Centrifuge\", \"abv\": 15.8, \"acid\": 0.91, \"sugar\": 7.2, \"type\": \"carbonated\", \"index\": 57, \"instructions\": \"Chill, carbonate.\", \"ingredients\": \"1 6/8 oz centrifuge-clarified grapefruit juice<br/>1 6/8 oz gin<br/>1 3/8 oz water<br/>3/8 oz simple<br/>4 dashes champagne acid\", \"ncotw\": \"not yet\"}, {\"name\": \"Gin and Juice Agar\", \"abv\": 16.9, \"acid\": 1.15, \"sugar\": 5.0, \"type\": \"carbonated\", \"index\": 58, \"instructions\": \"Chill, carbonate.\", \"ingredients\": \"2 5/8 oz agar-clarified grapefruit juice<br/>2 oz gin<br/>7/8 oz water<br/>2 drops saline solution\", \"ncotw\": \"not yet\"}, {\"name\": \"Chartruth\", \"abv\": 18.0, \"acid\": 0.51, \"sugar\": 8.3, \"type\": \"carbonated\", \"index\": 59, \"instructions\": \"Chill, carbonate.\", \"ingredients\": \"3 1/4 oz water<br/>1 3/4 oz Green Chartreuse<br/>1/2 oz clarified lime juice\", \"ncotw\": \"not yet\"}]}}, {\"mode\": \"vega-lite\"});\n",
       "</script>"
      ],
      "text/plain": [
       "alt.Chart(...)"
      ]
     },
     "execution_count": 17,
     "metadata": {},
     "output_type": "execute_result"
    }
   ],
   "source": [
    "alt.Chart(cocktails).mark_circle(size=100).encode(\n",
    "    x='acid',\n",
    "    y='sugar',\n",
    "    color='type'\n",
    ")"
   ]
  },
  {
   "cell_type": "markdown",
   "metadata": {},
   "source": [
    "### Other Marks"
   ]
  },
  {
   "cell_type": "markdown",
   "metadata": {},
   "source": [
    "#### Tick"
   ]
  },
  {
   "cell_type": "code",
   "execution_count": 18,
   "metadata": {},
   "outputs": [
    {
     "data": {
      "text/html": [
       "\n",
       "<div id=\"altair-viz-b391637e1a934df9bd148721036bf61a\"></div>\n",
       "<script type=\"text/javascript\">\n",
       "  var VEGA_DEBUG = (typeof VEGA_DEBUG == \"undefined\") ? {} : VEGA_DEBUG;\n",
       "  (function(spec, embedOpt){\n",
       "    let outputDiv = document.currentScript.previousElementSibling;\n",
       "    if (outputDiv.id !== \"altair-viz-b391637e1a934df9bd148721036bf61a\") {\n",
       "      outputDiv = document.getElementById(\"altair-viz-b391637e1a934df9bd148721036bf61a\");\n",
       "    }\n",
       "    const paths = {\n",
       "      \"vega\": \"https://cdn.jsdelivr.net/npm//vega@5?noext\",\n",
       "      \"vega-lib\": \"https://cdn.jsdelivr.net/npm//vega-lib?noext\",\n",
       "      \"vega-lite\": \"https://cdn.jsdelivr.net/npm//vega-lite@4.17.0?noext\",\n",
       "      \"vega-embed\": \"https://cdn.jsdelivr.net/npm//vega-embed@6?noext\",\n",
       "    };\n",
       "\n",
       "    function maybeLoadScript(lib, version) {\n",
       "      var key = `${lib.replace(\"-\", \"\")}_version`;\n",
       "      return (VEGA_DEBUG[key] == version) ?\n",
       "        Promise.resolve(paths[lib]) :\n",
       "        new Promise(function(resolve, reject) {\n",
       "          var s = document.createElement('script');\n",
       "          document.getElementsByTagName(\"head\")[0].appendChild(s);\n",
       "          s.async = true;\n",
       "          s.onload = () => {\n",
       "            VEGA_DEBUG[key] = version;\n",
       "            return resolve(paths[lib]);\n",
       "          };\n",
       "          s.onerror = () => reject(`Error loading script: ${paths[lib]}`);\n",
       "          s.src = paths[lib];\n",
       "        });\n",
       "    }\n",
       "\n",
       "    function showError(err) {\n",
       "      outputDiv.innerHTML = `<div class=\"error\" style=\"color:red;\">${err}</div>`;\n",
       "      throw err;\n",
       "    }\n",
       "\n",
       "    function displayChart(vegaEmbed) {\n",
       "      vegaEmbed(outputDiv, spec, embedOpt)\n",
       "        .catch(err => showError(`Javascript Error: ${err.message}<br>This usually means there's a typo in your chart specification. See the javascript console for the full traceback.`));\n",
       "    }\n",
       "\n",
       "    if(typeof define === \"function\" && define.amd) {\n",
       "      requirejs.config({paths});\n",
       "      require([\"vega-embed\"], displayChart, err => showError(`Error loading script: ${err.message}`));\n",
       "    } else {\n",
       "      maybeLoadScript(\"vega\", \"5\")\n",
       "        .then(() => maybeLoadScript(\"vega-lite\", \"4.17.0\"))\n",
       "        .then(() => maybeLoadScript(\"vega-embed\", \"6\"))\n",
       "        .catch(showError)\n",
       "        .then(() => displayChart(vegaEmbed));\n",
       "    }\n",
       "  })({\"config\": {\"view\": {\"continuousWidth\": 400, \"continuousHeight\": 300}}, \"data\": {\"name\": \"data-eef8cdb9f814de562d6e0a7156484812\"}, \"mark\": \"tick\", \"encoding\": {\"x\": {\"field\": \"abv\", \"type\": \"quantitative\"}, \"y\": {\"field\": \"type\", \"type\": \"nominal\"}}, \"$schema\": \"https://vega.github.io/schema/vega-lite/v4.17.0.json\", \"datasets\": {\"data-eef8cdb9f814de562d6e0a7156484812\": [{\"name\": \"Pisco Sour\", \"abv\": 12.1, \"acid\": 0.68, \"sugar\": 7.2, \"type\": \"eggwhite\", \"index\": 5, \"instructions\": \"Dry shake, shake with ice, coupe. Add 3 drops of Anostura or Amargo Chuncho.\", \"ingredients\": \"2 oz pisco (40% abv)<br/>1 oz egg white<br/>3/4 oz lime juice<br/>3/4 oz simple syrup\", \"ncotw\": \"not yet\"}, {\"name\": \"Pink Lady\", \"abv\": 12.4, \"acid\": 0.64, \"sugar\": 9.0, \"type\": \"eggwhite\", \"index\": 6, \"instructions\": \"Dry shake, shake with ice, coupe.\", \"ingredients\": \"1 1/2 oz Plymouth gin<br/>1 oz egg white<br/>3/4 oz lemon juice<br/>1/2 oz Grenadine<br/>1/2 oz simple syrup<br/>1/2 oz Lairds Applejack Bottled in Bond\", \"ncotw\": \"not yet\"}, {\"name\": \"Clover Club\", \"abv\": 13.6, \"acid\": 0.49, \"sugar\": 6.7, \"type\": \"eggwhite\", \"index\": 7, \"instructions\": \"Dry shake, shake with ice, coupe. Garnish with a raspberry\", \"ingredients\": \"2 oz Plymouth gin<br/>1 oz egg white<br/>1/2 oz Dolin dry vermouth<br/>1/2 oz raspberry syrup<br/>1/2 oz lemon juice<br/>1 oz egg white\", \"ncotw\": \"<a href=\\\"https://www.reddit.com/r/cocktails/comments/1go8m1/not_cocktail_of_the_week_24_clover_club/\\\">#24</a>\"}, {\"name\": \"Whiskey Sour\", \"abv\": 15.2, \"acid\": 0.53, \"sugar\": 7.1, \"type\": \"eggwhite\", \"index\": 8, \"instructions\": \"Dry shake, shake with ice, coupe.\", \"ingredients\": \"2 oz rye (50% abv)<br/>3/4 oz simple syrup<br/>0.625 oz lemon juice<br/>2 drops saline solution<br/>1 oz egg white\", \"ncotw\": \"not yet\"}, {\"name\": \"Daiquiri with More Lime\", \"abv\": 14.7, \"acid\": 0.94, \"sugar\": 8.7, \"type\": \"shaken\", \"index\": 9, \"instructions\": \"Shake, coupe.\", \"ingredients\": \"2 oz white rum (40% abv)<br/>0.875 oz lime juice<br/>3/4 oz simple syrup\", \"ncotw\": \"<a href=\\\"https://www.reddit.com/r/cocktails/comments/1i0sbt/not_cocktail_of_the_week_27_daiquiri/\\\">#27</a>\"}, {\"name\": \"Honeysuckle\", \"abv\": 15.0, \"acid\": 0.85, \"sugar\": 8.9, \"type\": \"shaken\", \"index\": 10, \"instructions\": \"Shake, coupe. Garnish with lime wheel.\", \"ingredients\": \"2 oz white rum (40% abv)<br/>3/4 oz lime juice<br/>3/4 oz honey syrup\", \"ncotw\": \"<a href=\\\"https://www.reddit.com/r/cocktails/comments/1kd90i/not_cocktail_of_the_week_32_bees_knees/\\\">#32</a>\"}, {\"name\": \"Classic Daiquiri\", \"abv\": 15.0, \"acid\": 0.85, \"sugar\": 8.9, \"type\": \"shaken\", \"index\": 11, \"instructions\": \"Shake, coupe.\", \"ingredients\": \"2 oz white rum (40% abv)<br/>3/4 oz lime juice<br/>3/4 oz simple syrup\", \"ncotw\": \"<a href=\\\"https://www.reddit.com/r/cocktails/comments/1i0sbt/not_cocktail_of_the_week_27_daiquiri/\\\">#27</a>\"}, {\"name\": \"Blood and Sand\", \"abv\": 15.6, \"acid\": 0.19, \"sugar\": 8.0, \"type\": \"shaken\", \"index\": 12, \"instructions\": \"Shake, coupe. (Optionally flamed) orange twist.\", \"ingredients\": \"1 oz Scotch (43% abv)<br/>3/4 oz Cherry Herring<br/>3/4 oz sweet vermouth<br> 1/2 oz orange jucie\", \"ncotw\": \"<a href=\\\"https://www.reddit.com/r/cocktails/comments/1yds2e/not_cocktail_of_the_week_59_blood_and_sand/\\\">#59</a>\"}, {\"name\": \"Alexander\", \"abv\": 16.4, \"acid\": 0.0, \"sugar\": 3.1, \"type\": \"shaken\", \"index\": 13, \"instructions\": \"Shake, coupe. Grated nutmeg.\", \"ingredients\": \"2 oz Cognac (41% abv)<br/>1 oz heavy cream<br/>1/4 oz Demerara syrup\", \"ncotw\": \"not yet\"}, {\"name\": \"Hemingway Daiquiri\", \"abv\": 16.5, \"acid\": 0.98, \"sugar\": 5.1, \"type\": \"shaken\", \"index\": 14, \"instructions\": \"Shake, coupe. Garnish with lime wheel.\", \"ingredients\": \"2 oz white rum (40% abv)<br/>3/4 oz lime juice<br/>1/2 oz grapefruit juice<br/>1/2 oz Luxardo Maraschino<br/>2 drops saline solution\", \"ncotw\": \"<a href=\\\"https://www.reddit.com/r/cocktails/comments/1i0sbt/not_cocktail_of_the_week_27_daiquiri/\\\">#27</a>\"}, {\"name\": \"Brown Derby\", \"abv\": 16.6, \"acid\": 0.44, \"sugar\": 7.6, \"type\": \"shaken\", \"index\": 15, \"instructions\": \"Shake, coupe. Express and discard grapefruit twist.\", \"ingredients\": \"2 oz bourbon (45% abv)<br/>1 oz grapefruit juice<br/>1/2 oz honey syrup\", \"ncotw\": \"<a href=\\\"https://www.reddit.com/r/cocktails/comments/2a9ow3/not_cocktail_of_the_week_79_brown_derby/\\\">#79</a>\"}, {\"name\": \"Cosmopolitan (Modern/Bastardized)\", \"abv\": 16.6, \"acid\": 1.05, \"sugar\": 5.5, \"type\": \"shaken\", \"index\": 16, \"instructions\": \"Shake, coupe. Express and discard (optionally flamed) orange twist.\", \"ingredients\": \"1 1/2 oz Absolut Citron vodka<br/>3/4 oz Cointreau<br/>3/4 oz cranberry juice<br/>1/2 oz lime juice\", \"ncotw\": \"not yet\"}, {\"name\": \"Gold Rush\", \"abv\": 17.2, \"acid\": 0.83, \"sugar\": 8.7, \"type\": \"shaken\", \"index\": 17, \"instructions\": \"Shake, server over large rock.\", \"ingredients\": \"2 oz bourbon (47% abv)<br/>3/4 oz lemon juice<br/>3/4 oz honey syrup\", \"ncotw\": \"not yet\"}, {\"name\": \"Southside\", \"abv\": 17.2, \"acid\": 0.83, \"sugar\": 8.7, \"type\": \"shaken\", \"index\": 18, \"instructions\": \"Shake with handful mint, coupe. Garnish with mint.\", \"ingredients\": \"2 oz gin (47% abv)<br/>3/4 oz lemon juice<br/>3/4 oz simple syrup\", \"ncotw\": \"<a href=\\\"https://www.reddit.com/r/cocktails/comments/1jfrqi/not_cocktail_of_the_week_30_southside_and/\\\">#30</a>\"}, {\"name\": \"Bee's Knees\", \"abv\": 17.2, \"acid\": 0.83, \"sugar\": 8.7, \"type\": \"shaken\", \"index\": 19, \"instructions\": \"Shake, coupe. Garnish with lemon wheel.\", \"ingredients\": \"2 oz gin (47% abv)<br/>3/4 oz lemon juice<br/>3/4 oz honey syrup\", \"ncotw\": \"<a href=\\\"https://www.reddit.com/r/cocktails/comments/1kd90i/not_cocktail_of_the_week_32_bees_knees/\\\">#32</a>\"}, {\"name\": \"20th Century Cocktail\", \"abv\": 17.3, \"acid\": 0.85, \"sugar\": 6.5, \"type\": \"shaken\", \"index\": 20, \"instructions\": \"Shake, coupe.\", \"ingredients\": \"1 1/2 oz gin (47% abv)<br/>3/4 oz lemon juice<br/>3/4 oz white cr\\u008fme de cacao<br/>3/4 oz Lillet Blanc\", \"ncotw\": \"<a href=\\\"https://www.reddit.com/r/cocktails/comments/2377jm/not_cocktail_of_the_week_67_the_20th_century/\\\">#67</a>\"}, {\"name\": \"Fresh Lime Gimlet\", \"abv\": 17.3, \"acid\": 0.82, \"sugar\": 8.7, \"type\": \"shaken\", \"index\": 21, \"instructions\": \"Shake, coupe. Garnish with lime wheel.\", \"ingredients\": \"2 oz gin (47.4% abv)<br/>3/4 oz lime juice<br/>3/4 oz simple syrup\", \"ncotw\": \"<a href=\\\"https://www.reddit.com/r/cocktails/comments/28i1dn/not_cocktail_of_the_week_76_gimlet/\\\">#76</a>\"}, {\"name\": \"Corpse Reviver #2\", \"abv\": 17.4, \"acid\": 1.03, \"sugar\": 5.7, \"type\": \"shaken\", \"index\": 22, \"instructions\": \"Shake, coupe. Express and discard orange twist.\", \"ingredients\": \"3/4 oz lemon juice<br/>3/4 oz gin (47% abv)<br/>3/4 oz Cointreau<br/>3/4 oz Lillet Blanc\", \"ncotw\": \"<a href=\\\"https://www.reddit.com/r/cocktails/comments/1779xr/ncotw_3_corpse_reviver_2/\\\">#3</a>\"}, {\"name\": \"Jack Rose\", \"abv\": 18.2, \"acid\": 0.81, \"sugar\": 8.5, \"type\": \"shaken\", \"index\": 23, \"instructions\": \"Shake, coupe.\", \"ingredients\": \"2 oz apple brandy (50% abv)<br/>3/4 oz Grenadine<br/>3/4 oz lemon juice<br>1 dash Angostura bitters\", \"ncotw\": \"<a href=\\\"https://www.reddit.com/r/cocktails/comments/1bnysd/not_cocktail_of_the_week_13_jack_rose/\\\">#13</a>\"}, {\"name\": \"Margarita\", \"abv\": 18.5, \"acid\": 0.76, \"sugar\": 6.0, \"type\": \"shaken\", \"index\": 24, \"instructions\": \"Shake, coupe (optionally salted rim).\", \"ingredients\": \"2 oz blanco tequila (40% abv)<br/>3/4 oz lime juice<br/>3/4 oz Cointreau<br/>1/4 oz simple syrup<br/>5 drops saline solution\", \"ncotw\": \"not yet\"}, {\"name\": \"Aviation\", \"abv\": 18.7, \"acid\": 0.81, \"sugar\": 5.1, \"type\": \"shaken\", \"index\": 25, \"instructions\": \"Shake, coupe.\", \"ingredients\": \"2 oz Plymouth gin<br/>3/4 oz lemon juice<br/>1/2 oz Luxardo Maraschino<br/>1/4 oz crem de violette\", \"ncotw\": \"not yet\"}, {\"name\": \"Sidecar\", \"abv\": 18.9, \"acid\": 0.76, \"sugar\": 6.0, \"type\": \"shaken\", \"index\": 26, \"instructions\": \"Shake, coupe. Express and discard orange twist.\", \"ingredients\": \"2 oz Cognac (41% abv)<br/>3/4 oz Cointreau<br/>3/4 oz lemon juice<br/>1/4 oz simple syrup\", \"ncotw\": \"<a href=\\\"https://www.reddit.com/r/cocktails/comments/19cmfw/not_cocktail_of_the_week_8_sidecar/\\\">#8</a>\"}, {\"name\": \"Champs-Elysses\", \"abv\": 19.7, \"acid\": 0.8, \"sugar\": 5.2, \"type\": \"shaken\", \"index\": 27, \"instructions\": \"Shake, coupe. Express and discard lemon twist.\", \"ingredients\": \"2 oz Cognac (41% abv)<br/>3/4 oz lemon juice<br/>1/2 oz Green Chartreuse<br/>1/4 oz simple syrup<br/>1 dash Angostura bitters\", \"ncotw\": \"<a href=\\\"https://www.reddit.com/r/cocktails/comments/209moq/not_cocktail_of_the_week_62_champs_%C3%A9lys%C3%A9es/\\\">#62</a>\"}, {\"name\": \"Last Word\", \"abv\": 20.0, \"acid\": 0.92, \"sugar\": 9.6, \"type\": \"shaken\", \"index\": 28, \"instructions\": \"Shake, coupe.\", \"ingredients\": \"3/4 oz lime juice<br/>3/4 oz Green Chartreuse<br/>3/4 oz Luxardo Marschino<b4/>3/4 oz Plymouth gin<br/>2 drop saline\", \"ncotw\": \"<a href=\\\"https://www.reddit.com/r/cocktails/comments/14c11h/cocktail_of_the_week_1_last_word/\\\">COTW #1</a>\"}, {\"name\": \"Between the Sheets\", \"abv\": 20.1, \"acid\": 0.58, \"sugar\": 4.5, \"type\": \"shaken\", \"index\": 29, \"instructions\": \"Shake, coupe. Express and discard lemon twist.\", \"ingredients\": \"1 1/2 oz Cognac (41% abv)<br/>3/4 oz Curacao<br/>1/2 oz white rum (40% abv)<br/>1/2 oz lemon juice\", \"ncotw\": \"<a href=\\\"https://www.reddit.com/r/cocktails/comments/1xqbox/not_cocktail_of_the_week_58_between_the_sheets/\\\">#58</a>\"}, {\"name\": \"Brady Crusta\", \"abv\": 20.2, \"acid\": 0.58, \"sugar\": 7.6, \"type\": \"shaken\", \"index\": 30, \"instructions\": \"Shake, coupe (sugar-rimmed). Large lemon spiral.\", \"ingredients\": \"2 oz Cognac (41% abv)<br/>1/2 oz Curacao<br/>1/2 oz lemon juice<br/>1/4 oz Luxardo Maraschino\", \"ncotw\": \"not yet\"}, {\"name\": \"Pegu Club\", \"abv\": 21.0, \"acid\": 0.78, \"sugar\": 4.2, \"type\": \"shaken\", \"index\": 31, \"instructions\": \"Shake, coupe. Garnish with lime wheel.\", \"ingredients\": \"2 oz gin (47.3% abv)<br/>3/4 oz lime juice<br/>3/4 oz Curacao<br/>1 dash orange bitters<br/>1 dash Angostura bitters\", \"ncotw\": \"<a href=\\\"https://www.reddit.com/r/cocktails/comments/1c3psn/not_cocktail_of_the_week_14_pegu_club/\\\">#14</a>\"}, {\"name\": \"Blinker\", \"abv\": 21.4, \"acid\": 0.39, \"sugar\": 4.1, \"type\": \"shaken\", \"index\": 32, \"instructions\": \"Shake, coupe.\", \"ingredients\": \"2 oz rye (50% abv)<br/>3/4 oz grapefruit juice<br/>1 bsp raspberry syrup\", \"ncotw\": \"not yet\"}, {\"name\": \"Negroni\", \"abv\": 20.7, \"acid\": 0.14, \"sugar\": 9.4, \"type\": \"stirred\", \"index\": 33, \"instructions\": \"Stir. Coupe or over a large rock. Orange or grapefruit twist.\", \"ingredients\": \"1 oz sweet vermouth<br/>1 oz gin (47.3% abv)<br/>1 oz Campari\", \"ncotw\": \"<a href=\\\"https://www.reddit.com/r/cocktails/comments/1aoe1c/not_cocktail_of_the_week_11_negroni/\\\">#11</a>\"}, {\"name\": \"Blackthorn\", \"abv\": 21.1, \"acid\": 0.1, \"sugar\": 6.3, \"type\": \"stirred\", \"index\": 34, \"instructions\": \"Stir, coupe. Orange twist.\", \"ingredients\": \"1 1/2 oz Plymouth gin<br/>3/4 oz sweet vermouth<br/>3/4 oz sloe gin<br/>2 dashes orange bitters\", \"ncotw\": \"not yet\"}, {\"name\": \"Hanky Panky\", \"abv\": 22.4, \"acid\": 0.2, \"sugar\": 5.6, \"type\": \"stirred\", \"index\": 35, \"instructions\": \"Stir, coupe. Orange twist.\", \"ingredients\": \"1 1/2 oz sweet vermouth<br/>1 1/2 oz gin (47% abv)<br/>1 bsp Fernet Branca\", \"ncotw\": \"<a href=\\\"https://www.reddit.com/r/cocktails/comments/5c2njb/not_cocktail_of_the_week_123_hanky_panky/\\\">#123</a>\"}, {\"name\": \"Martinez\", \"abv\": 22.5, \"acid\": 0.13, \"sugar\": 6.6, \"type\": \"stirred\", \"index\": 36, \"instructions\": \"Stir, coupe. Lemon twist.\", \"ingredients\": \"2 oz Old Tom gin (40% abv)<br/>1 oz sweet vermouth<br/>1/4 oz Luxardo Maraschino<br/>1 dash Angostura bitters<br/>1 dash orange bitters\", \"ncotw\": \"<a href=\\\"https://www.reddit.com/r/cocktails/comments/1ck6v2/not_cocktail_of_the_week_15_martinez/\\\">#15</a>\"}, {\"name\": \"Manhatan (Boubon, 45% abv)\", \"abv\": 24.6, \"acid\": 0.14, \"sugar\": 3.7, \"type\": \"stirred\", \"index\": 37, \"instructions\": \"Stir, coupe. Orange twist or cherry.\", \"ingredients\": \"2 oz bourbon (45% abv)<br/>1 oz sweet vermouth<br/>2 dashes Angostura bitters\", \"ncotw\": \"<a href=\\\"https://www.reddit.com/r/cocktails/comments/16pciv/not_cocktail_of_the_week_2_the_manhattan/\\\">#2</a>\"}, {\"name\": \"Bobby Burns\", \"abv\": 24.9, \"acid\": 0.1, \"sugar\": 4.2, \"type\": \"stirred\", \"index\": 38, \"instructions\": \"Stir, coupe. Lemon twist.\", \"ingredients\": \"2 oz Scotch (43% abv)<br/>3/4 oz sweet vermouth<br/>1/4 oz Benedictine\", \"ncotw\": \"<a href=\\\"https://www.reddit.com/r/cocktails/comments/169jv7/cocktail_of_the_week_3_bobby_burns/\\\">#1</a>\"}, {\"name\": \"Rob Roy\", \"abv\": 25.5, \"acid\": 0.09, \"sugar\": 2.5, \"type\": \"stirred\", \"index\": 39, \"instructions\": \"Stir, coupe. Lemon twist.\", \"ingredients\": \"2.5 oz Scotch (43% abv)<br/>3/4 oz sweet vermouth<br/>2 dashes Angostura bitters\", \"ncotw\": \"<a href=\\\"https://www.reddit.com/r/cocktails/comments/2owdug/not_cocktail_of_the_week_101_rob_roy/\\\">#101</a>\"}, {\"name\": \"Old Pal\", \"abv\": 25.6, \"acid\": 0.09, \"sugar\": 4.0, \"type\": \"stirred\", \"index\": 40, \"instructions\": \"Stir, coupe.\", \"ingredients\": \"2 oz rye (50% abv)<br/>3/4 oz Campari<br/>3/4 oz dry vermouth\", \"ncotw\": \"<a href=\\\"https://www.reddit.com/r/cocktails/comments/2sfsns/not_cocktail_of_the_week_105_old_pal/\\\">#105</a>\"}, {\"name\": \"Vieux Carre\", \"abv\": 25.9, \"acid\": 0.1, \"sugar\": 4.1, \"type\": \"stirred\", \"index\": 41, \"instructions\": \"Stir, serve over large rock.\", \"ingredients\": \"1 oz rye (50% abv)<br/>1 oz Cognac (41% abv)<br/>3/4 oz sweet vermouth<br/>1/4 oz Benedictine<br/>1 dash Angostura bitters<br/>1 dash Peychaud's bitters\", \"ncotw\": \"<a href=\\\"https://www.reddit.com/r/cocktails/comments/1a8cs5/not_cocktail_of_the_week_10_vieux_carr%C3%A9/\\\">#10</a>\"}, {\"name\": \"Brooklyn\", \"abv\": 26.3, \"acid\": 0.06, \"sugar\": 4.2, \"type\": \"stirred\", \"index\": 42, \"instructions\": \"Stir, coupe. Garnish with cherry.\", \"ingredients\": \"2 oz rye (50% abv)<br/>1/2 oz Amer Picon<br/>1/2 oz dry vermouth<br/>1/4 oz Luxardo Maraschino<br/>1 dash Angostura bitters\", \"ncotw\": \"<a href=\\\"https://www.reddit.com/r/cocktails/comments/2ni3ba/not_cocktail_of_the_week_99_the_brooklyn/\\\">#99</a>\"}, {\"name\": \"Bijou\", \"abv\": 27.1, \"acid\": 0.14, \"sugar\": 9.3, \"type\": \"stirred\", \"index\": 43, \"instructions\": \"Stir, coupe. Lemon twist or cherry.\", \"ingredients\": \"1 oz gin (47.3% abv)<br/>1 oz sweet vermouth<br/>1 oz Green Chartreuse<br/>1 dash orange bitters\", \"ncotw\": \"<a href=\\\"https://www.reddit.com/r/cocktails/comments/2ypbjw/not_cocktail_of_the_week_109_bijou/\\\">#109</a>\"}, {\"name\": \"Manhatan (Rye, 50% abv)\", \"abv\": 27.2, \"acid\": 0.12, \"sugar\": 3.4, \"type\": \"stirred\", \"index\": 44, \"instructions\": \"Stir, coupe. Orange twist or cherry.\", \"ingredients\": \"2 oz rye (50% abv)<br/>0.875 oz sweet vermouth<br/>2 dashes Angostura bitters\", \"ncotw\": \"<a href=\\\"https://www.reddit.com/r/cocktails/comments/16pciv/not_cocktail_of_the_week_2_the_manhattan/\\\">#2</a>\"}, {\"name\": \"Rusty Nail\", \"abv\": 28.8, \"acid\": 0.0, \"sugar\": 4.1, \"type\": \"stirred\", \"index\": 45, \"instructions\": \"Stir, serve over large rock. Lemon peel.\", \"ingredients\": \"2 oz Scotch (43% abv)<br/>1/2 oz Drambuie\", \"ncotw\": \"not yet\"}, {\"name\": \"Improved Whiskey Cocktail\", \"abv\": 29.3, \"acid\": 0.0, \"sugar\": 6.5, \"type\": \"stirred\", \"index\": 46, \"instructions\": \"Stir, sever over large rock in absinthe-rinsed glass. Lemon twist.\", \"ingredients\": \"2 oz rye (50% abv)<br/>1/4 oz Luxardo Maraschino<br/>1/4 oz simple syrup<br/>2 dashes Angostura bitters\", \"ncotw\": \"<a href=\\\"https://www.reddit.com/r/cocktails/comments/1hkxy5/not_cocktail_of_the_week_26_improved_whiskey/\\\">#26</a>\"}, {\"name\": \"De La Louisiane\", \"abv\": 29.3, \"acid\": 0.06, \"sugar\": 4.5, \"type\": \"stirred\", \"index\": 47, \"instructions\": \"Stir, coupe. Garnish with cherry.\", \"ingredients\": \"2 oz rye (50% abv)<br/>1/2 oz Benedictine<br/>1/2 oz sweet vermouth<br/>3 dashes Peychaud's bitters<br/>3 dashes Angostura bitters<br/>3 dashes absinthe\", \"ncotw\": \"<a href=\\\"https://www.reddit.com/r/cocktails/comments/2tzik7/not_cocktail_of_the_week_106_cocktail_a_la/\\\">#106</a>\"}, {\"name\": \"Widow's Kiss\", \"abv\": 32.3, \"acid\": 0.0, \"sugar\": 3.7, \"type\": \"stirred\", \"index\": 48, \"instructions\": \"Stir, coupe.\", \"ingredients\": \"2 oz apple brandy (50% abv)<br/>1/4 oz Benedictine<br/>1/4 oz Yellow Chartreuse\", \"ncotw\": \"<a href=\\\"https://www.reddit.com/r/cocktails/comments/1toslc/not_cocktail_of_the_week_51_widows_kiss/\\\">#51</a>\"}, {\"name\": \"Old Fashioned\", \"abv\": 32.1, \"acid\": 0.0, \"sugar\": 7.6, \"type\": \"built\", \"index\": 49, \"instructions\": \"Build over large rock in old-fashioned glass. Orange twist.\", \"ingredients\": \"2 oz bourbon<br/>3/8 oz simple syrup<br/>2 dashes Angostura bitters\", \"ncotw\": \"<a href=\\\"https://www.reddit.com/r/cocktails/comments/1u7nb3/not_cocktail_of_the_week_52_oldfashioned/\\\">#52</a>\"}, {\"name\": \"Blender Daiquiri\", \"abv\": 15.0, \"acid\": 0.57, \"sugar\": 8.1, \"type\": \"blended\", \"index\": 50, \"instructions\": \"Blend with 120 g ice, strain, coupe.\", \"ingredients\": \"2 1/2 oz water<br/>2 1/4 oz sugard 80-proof rum<br/>1/2 oz lime juice<br/>4 drops saline solution\", \"ncotw\": \"not yet\"}, {\"name\": \"Blender Margarita\", \"abv\": 17.2, \"acid\": 0.57, \"sugar\": 7.9, \"type\": \"blended\", \"index\": 51, \"instructions\": \"Blend with 120 g ice, strain, coupe.\", \"ingredients\": \"2 1/2 oz water<br/>1 oz Cointreau<br/>3/4 oz white mezcal<br/>1/2 oz Yellow Chartreuse<br/>1/2 oz lime juice<br/>10 drops Hellfire bitters\", \"ncotw\": \"not yet\"}, {\"name\": \"Blender Whiskey Sour\", \"abv\": 16.7, \"acid\": 0.61, \"sugar\": 7.8, \"type\": \"blended\", \"index\": 52, \"instructions\": \"Blend with 120 g ice, strain, coupe.\", \"ingredients\": \"2 1/2 oz water<br/>2 oz sugared 100-proof rye<br/>1/2 oz lemon juice<br/>1/4 oz orange juice<br/>4 drops saline solution\", \"ncotw\": \"not yet\"}, {\"name\": \"Carbonated Margarita\", \"abv\": 14.2, \"acid\": 0.44, \"sugar\": 7.1, \"type\": \"carbonated\", \"index\": 53, \"instructions\": \"Chill, carbonate.\", \"ingredients\": \"2 1/2 oz water<br/>2 oz blanco tequila (40% abv)<br/>5/8 oz simple syrip<br/>3/8 oz clarified lime juice<br/>4 drops saline solution\", \"ncotw\": \"not yet\"}, {\"name\": \"Carbonated Whiskey Sour\", \"abv\": 15.2, \"acid\": 0.44, \"sugar\": 7.2, \"type\": \"carbonated\", \"index\": 54, \"instructions\": \"Chill, carbonate.\", \"ingredients\": \"5/8 oz water<br/>1 3/4 oz bourbon<br/>5/8 oz simple syrup<br/>3/8 oz clarified lime juice<br/>2 drops saline solution\", \"ncotw\": \"not yet\"}, {\"name\": \"Gin and Tonic (Dry)\", \"abv\": 15.4, \"acid\": 0.41, \"sugar\": 4.9, \"type\": \"carbonated\", \"index\": 55, \"instructions\": \"Chill, carbonate.\", \"ingredients\": \"7/8 oz water<br/>1 3/4 oz gin (47.3% abv)<br/>3/8 oz quinine simple syrup<br/>3/8 oz clarified lime juice<br/>2 drops saline solution\", \"ncotw\": \"not yet\"}, {\"name\": \"Carbonated Negroni\", \"abv\": 16.0, \"acid\": 0.38, \"sugar\": 7.3, \"type\": \"carbonated\", \"index\": 56, \"instructions\": \"Chill, carbonate. Express and discard grapefruit twist.\", \"ingredients\": \"2 1/4 oz water<br/>1 oz sweet vermouth<br/>1 oz gin  (47.3% abv)<br/>1 oz Campari<br/>1/4 oz clarified lime juice or champagne acid<br/>2 drops saline solution\", \"ncotw\": \"not yet\"}, {\"name\": \"Gin and Juice Centrifuge\", \"abv\": 15.8, \"acid\": 0.91, \"sugar\": 7.2, \"type\": \"carbonated\", \"index\": 57, \"instructions\": \"Chill, carbonate.\", \"ingredients\": \"1 6/8 oz centrifuge-clarified grapefruit juice<br/>1 6/8 oz gin<br/>1 3/8 oz water<br/>3/8 oz simple<br/>4 dashes champagne acid\", \"ncotw\": \"not yet\"}, {\"name\": \"Gin and Juice Agar\", \"abv\": 16.9, \"acid\": 1.15, \"sugar\": 5.0, \"type\": \"carbonated\", \"index\": 58, \"instructions\": \"Chill, carbonate.\", \"ingredients\": \"2 5/8 oz agar-clarified grapefruit juice<br/>2 oz gin<br/>7/8 oz water<br/>2 drops saline solution\", \"ncotw\": \"not yet\"}, {\"name\": \"Chartruth\", \"abv\": 18.0, \"acid\": 0.51, \"sugar\": 8.3, \"type\": \"carbonated\", \"index\": 59, \"instructions\": \"Chill, carbonate.\", \"ingredients\": \"3 1/4 oz water<br/>1 3/4 oz Green Chartreuse<br/>1/2 oz clarified lime juice\", \"ncotw\": \"not yet\"}]}}, {\"mode\": \"vega-lite\"});\n",
       "</script>"
      ],
      "text/plain": [
       "alt.Chart(...)"
      ]
     },
     "execution_count": 18,
     "metadata": {},
     "output_type": "execute_result"
    }
   ],
   "source": [
    "alt.Chart(cocktails).mark_tick().encode(\n",
    "    x='abv',\n",
    "    y='type'\n",
    ")"
   ]
  },
  {
   "cell_type": "markdown",
   "metadata": {},
   "source": [
    "#### Heatmap"
   ]
  },
  {
   "cell_type": "code",
   "execution_count": 21,
   "metadata": {},
   "outputs": [],
   "source": [
    "x, y = np.meshgrid(range(-5, 5), range(-5, 5))\n",
    "z = x ** 2 + y ** 2\n",
    "\n",
    "boring = pd.DataFrame({\n",
    "    'x': x.ravel(),\n",
    "    'y': y.ravel(),\n",
    "    'z': z.ravel()\n",
    "})"
   ]
  },
  {
   "cell_type": "code",
   "execution_count": 22,
   "metadata": {},
   "outputs": [
    {
     "data": {
      "text/html": [
       "<div>\n",
       "<style scoped>\n",
       "    .dataframe tbody tr th:only-of-type {\n",
       "        vertical-align: middle;\n",
       "    }\n",
       "\n",
       "    .dataframe tbody tr th {\n",
       "        vertical-align: top;\n",
       "    }\n",
       "\n",
       "    .dataframe thead th {\n",
       "        text-align: right;\n",
       "    }\n",
       "</style>\n",
       "<table border=\"1\" class=\"dataframe\">\n",
       "  <thead>\n",
       "    <tr style=\"text-align: right;\">\n",
       "      <th></th>\n",
       "      <th>x</th>\n",
       "      <th>y</th>\n",
       "      <th>z</th>\n",
       "    </tr>\n",
       "  </thead>\n",
       "  <tbody>\n",
       "    <tr>\n",
       "      <th>72</th>\n",
       "      <td>-3</td>\n",
       "      <td>2</td>\n",
       "      <td>13</td>\n",
       "    </tr>\n",
       "    <tr>\n",
       "      <th>68</th>\n",
       "      <td>3</td>\n",
       "      <td>1</td>\n",
       "      <td>10</td>\n",
       "    </tr>\n",
       "    <tr>\n",
       "      <th>54</th>\n",
       "      <td>-1</td>\n",
       "      <td>0</td>\n",
       "      <td>1</td>\n",
       "    </tr>\n",
       "    <tr>\n",
       "      <th>23</th>\n",
       "      <td>-2</td>\n",
       "      <td>-3</td>\n",
       "      <td>13</td>\n",
       "    </tr>\n",
       "    <tr>\n",
       "      <th>87</th>\n",
       "      <td>2</td>\n",
       "      <td>3</td>\n",
       "      <td>13</td>\n",
       "    </tr>\n",
       "  </tbody>\n",
       "</table>\n",
       "</div>"
      ],
      "text/plain": [
       "    x  y   z\n",
       "72 -3  2  13\n",
       "68  3  1  10\n",
       "54 -1  0   1\n",
       "23 -2 -3  13\n",
       "87  2  3  13"
      ]
     },
     "execution_count": 22,
     "metadata": {},
     "output_type": "execute_result"
    }
   ],
   "source": [
    "boring.sample(5)"
   ]
  },
  {
   "cell_type": "code",
   "execution_count": 23,
   "metadata": {},
   "outputs": [
    {
     "data": {
      "text/html": [
       "\n",
       "<div id=\"altair-viz-907ec640eaba48eabfe0179ce756c6e2\"></div>\n",
       "<script type=\"text/javascript\">\n",
       "  var VEGA_DEBUG = (typeof VEGA_DEBUG == \"undefined\") ? {} : VEGA_DEBUG;\n",
       "  (function(spec, embedOpt){\n",
       "    let outputDiv = document.currentScript.previousElementSibling;\n",
       "    if (outputDiv.id !== \"altair-viz-907ec640eaba48eabfe0179ce756c6e2\") {\n",
       "      outputDiv = document.getElementById(\"altair-viz-907ec640eaba48eabfe0179ce756c6e2\");\n",
       "    }\n",
       "    const paths = {\n",
       "      \"vega\": \"https://cdn.jsdelivr.net/npm//vega@5?noext\",\n",
       "      \"vega-lib\": \"https://cdn.jsdelivr.net/npm//vega-lib?noext\",\n",
       "      \"vega-lite\": \"https://cdn.jsdelivr.net/npm//vega-lite@4.17.0?noext\",\n",
       "      \"vega-embed\": \"https://cdn.jsdelivr.net/npm//vega-embed@6?noext\",\n",
       "    };\n",
       "\n",
       "    function maybeLoadScript(lib, version) {\n",
       "      var key = `${lib.replace(\"-\", \"\")}_version`;\n",
       "      return (VEGA_DEBUG[key] == version) ?\n",
       "        Promise.resolve(paths[lib]) :\n",
       "        new Promise(function(resolve, reject) {\n",
       "          var s = document.createElement('script');\n",
       "          document.getElementsByTagName(\"head\")[0].appendChild(s);\n",
       "          s.async = true;\n",
       "          s.onload = () => {\n",
       "            VEGA_DEBUG[key] = version;\n",
       "            return resolve(paths[lib]);\n",
       "          };\n",
       "          s.onerror = () => reject(`Error loading script: ${paths[lib]}`);\n",
       "          s.src = paths[lib];\n",
       "        });\n",
       "    }\n",
       "\n",
       "    function showError(err) {\n",
       "      outputDiv.innerHTML = `<div class=\"error\" style=\"color:red;\">${err}</div>`;\n",
       "      throw err;\n",
       "    }\n",
       "\n",
       "    function displayChart(vegaEmbed) {\n",
       "      vegaEmbed(outputDiv, spec, embedOpt)\n",
       "        .catch(err => showError(`Javascript Error: ${err.message}<br>This usually means there's a typo in your chart specification. See the javascript console for the full traceback.`));\n",
       "    }\n",
       "\n",
       "    if(typeof define === \"function\" && define.amd) {\n",
       "      requirejs.config({paths});\n",
       "      require([\"vega-embed\"], displayChart, err => showError(`Error loading script: ${err.message}`));\n",
       "    } else {\n",
       "      maybeLoadScript(\"vega\", \"5\")\n",
       "        .then(() => maybeLoadScript(\"vega-lite\", \"4.17.0\"))\n",
       "        .then(() => maybeLoadScript(\"vega-embed\", \"6\"))\n",
       "        .catch(showError)\n",
       "        .then(() => displayChart(vegaEmbed));\n",
       "    }\n",
       "  })({\"config\": {\"view\": {\"continuousWidth\": 400, \"continuousHeight\": 300}}, \"data\": {\"name\": \"data-1487c93b91dee61ec4c167e470e512f4\"}, \"mark\": \"rect\", \"encoding\": {\"color\": {\"field\": \"z\", \"type\": \"quantitative\"}, \"x\": {\"field\": \"x\", \"type\": \"ordinal\"}, \"y\": {\"field\": \"y\", \"type\": \"ordinal\"}}, \"$schema\": \"https://vega.github.io/schema/vega-lite/v4.17.0.json\", \"datasets\": {\"data-1487c93b91dee61ec4c167e470e512f4\": [{\"x\": -5, \"y\": -5, \"z\": 50}, {\"x\": -4, \"y\": -5, \"z\": 41}, {\"x\": -3, \"y\": -5, \"z\": 34}, {\"x\": -2, \"y\": -5, \"z\": 29}, {\"x\": -1, \"y\": -5, \"z\": 26}, {\"x\": 0, \"y\": -5, \"z\": 25}, {\"x\": 1, \"y\": -5, \"z\": 26}, {\"x\": 2, \"y\": -5, \"z\": 29}, {\"x\": 3, \"y\": -5, \"z\": 34}, {\"x\": 4, \"y\": -5, \"z\": 41}, {\"x\": -5, \"y\": -4, \"z\": 41}, {\"x\": -4, \"y\": -4, \"z\": 32}, {\"x\": -3, \"y\": -4, \"z\": 25}, {\"x\": -2, \"y\": -4, \"z\": 20}, {\"x\": -1, \"y\": -4, \"z\": 17}, {\"x\": 0, \"y\": -4, \"z\": 16}, {\"x\": 1, \"y\": -4, \"z\": 17}, {\"x\": 2, \"y\": -4, \"z\": 20}, {\"x\": 3, \"y\": -4, \"z\": 25}, {\"x\": 4, \"y\": -4, \"z\": 32}, {\"x\": -5, \"y\": -3, \"z\": 34}, {\"x\": -4, \"y\": -3, \"z\": 25}, {\"x\": -3, \"y\": -3, \"z\": 18}, {\"x\": -2, \"y\": -3, \"z\": 13}, {\"x\": -1, \"y\": -3, \"z\": 10}, {\"x\": 0, \"y\": -3, \"z\": 9}, {\"x\": 1, \"y\": -3, \"z\": 10}, {\"x\": 2, \"y\": -3, \"z\": 13}, {\"x\": 3, \"y\": -3, \"z\": 18}, {\"x\": 4, \"y\": -3, \"z\": 25}, {\"x\": -5, \"y\": -2, \"z\": 29}, {\"x\": -4, \"y\": -2, \"z\": 20}, {\"x\": -3, \"y\": -2, \"z\": 13}, {\"x\": -2, \"y\": -2, \"z\": 8}, {\"x\": -1, \"y\": -2, \"z\": 5}, {\"x\": 0, \"y\": -2, \"z\": 4}, {\"x\": 1, \"y\": -2, \"z\": 5}, {\"x\": 2, \"y\": -2, \"z\": 8}, {\"x\": 3, \"y\": -2, \"z\": 13}, {\"x\": 4, \"y\": -2, \"z\": 20}, {\"x\": -5, \"y\": -1, \"z\": 26}, {\"x\": -4, \"y\": -1, \"z\": 17}, {\"x\": -3, \"y\": -1, \"z\": 10}, {\"x\": -2, \"y\": -1, \"z\": 5}, {\"x\": -1, \"y\": -1, \"z\": 2}, {\"x\": 0, \"y\": -1, \"z\": 1}, {\"x\": 1, \"y\": -1, \"z\": 2}, {\"x\": 2, \"y\": -1, \"z\": 5}, {\"x\": 3, \"y\": -1, \"z\": 10}, {\"x\": 4, \"y\": -1, \"z\": 17}, {\"x\": -5, \"y\": 0, \"z\": 25}, {\"x\": -4, \"y\": 0, \"z\": 16}, {\"x\": -3, \"y\": 0, \"z\": 9}, {\"x\": -2, \"y\": 0, \"z\": 4}, {\"x\": -1, \"y\": 0, \"z\": 1}, {\"x\": 0, \"y\": 0, \"z\": 0}, {\"x\": 1, \"y\": 0, \"z\": 1}, {\"x\": 2, \"y\": 0, \"z\": 4}, {\"x\": 3, \"y\": 0, \"z\": 9}, {\"x\": 4, \"y\": 0, \"z\": 16}, {\"x\": -5, \"y\": 1, \"z\": 26}, {\"x\": -4, \"y\": 1, \"z\": 17}, {\"x\": -3, \"y\": 1, \"z\": 10}, {\"x\": -2, \"y\": 1, \"z\": 5}, {\"x\": -1, \"y\": 1, \"z\": 2}, {\"x\": 0, \"y\": 1, \"z\": 1}, {\"x\": 1, \"y\": 1, \"z\": 2}, {\"x\": 2, \"y\": 1, \"z\": 5}, {\"x\": 3, \"y\": 1, \"z\": 10}, {\"x\": 4, \"y\": 1, \"z\": 17}, {\"x\": -5, \"y\": 2, \"z\": 29}, {\"x\": -4, \"y\": 2, \"z\": 20}, {\"x\": -3, \"y\": 2, \"z\": 13}, {\"x\": -2, \"y\": 2, \"z\": 8}, {\"x\": -1, \"y\": 2, \"z\": 5}, {\"x\": 0, \"y\": 2, \"z\": 4}, {\"x\": 1, \"y\": 2, \"z\": 5}, {\"x\": 2, \"y\": 2, \"z\": 8}, {\"x\": 3, \"y\": 2, \"z\": 13}, {\"x\": 4, \"y\": 2, \"z\": 20}, {\"x\": -5, \"y\": 3, \"z\": 34}, {\"x\": -4, \"y\": 3, \"z\": 25}, {\"x\": -3, \"y\": 3, \"z\": 18}, {\"x\": -2, \"y\": 3, \"z\": 13}, {\"x\": -1, \"y\": 3, \"z\": 10}, {\"x\": 0, \"y\": 3, \"z\": 9}, {\"x\": 1, \"y\": 3, \"z\": 10}, {\"x\": 2, \"y\": 3, \"z\": 13}, {\"x\": 3, \"y\": 3, \"z\": 18}, {\"x\": 4, \"y\": 3, \"z\": 25}, {\"x\": -5, \"y\": 4, \"z\": 41}, {\"x\": -4, \"y\": 4, \"z\": 32}, {\"x\": -3, \"y\": 4, \"z\": 25}, {\"x\": -2, \"y\": 4, \"z\": 20}, {\"x\": -1, \"y\": 4, \"z\": 17}, {\"x\": 0, \"y\": 4, \"z\": 16}, {\"x\": 1, \"y\": 4, \"z\": 17}, {\"x\": 2, \"y\": 4, \"z\": 20}, {\"x\": 3, \"y\": 4, \"z\": 25}, {\"x\": 4, \"y\": 4, \"z\": 32}]}}, {\"mode\": \"vega-lite\"});\n",
       "</script>"
      ],
      "text/plain": [
       "alt.Chart(...)"
      ]
     },
     "execution_count": 23,
     "metadata": {},
     "output_type": "execute_result"
    }
   ],
   "source": [
    "alt.Chart(boring).mark_rect().encode(\n",
    "    x='x:O',\n",
    "    y='y:O',\n",
    "    color='z:Q'\n",
    ")"
   ]
  },
  {
   "cell_type": "markdown",
   "metadata": {},
   "source": [
    "#### 🦉"
   ]
  },
  {
   "cell_type": "markdown",
   "metadata": {},
   "source": [
    "<img src=\"../images/art_attack.jpg\" alt=\"art attack\" width=\"500\">"
   ]
  },
  {
   "cell_type": "code",
   "execution_count": 24,
   "metadata": {},
   "outputs": [],
   "source": [
    "owl = pd.read_csv('../data/owl.csv')"
   ]
  },
  {
   "cell_type": "code",
   "execution_count": 25,
   "metadata": {},
   "outputs": [
    {
     "data": {
      "text/html": [
       "<div>\n",
       "<style scoped>\n",
       "    .dataframe tbody tr th:only-of-type {\n",
       "        vertical-align: middle;\n",
       "    }\n",
       "\n",
       "    .dataframe tbody tr th {\n",
       "        vertical-align: top;\n",
       "    }\n",
       "\n",
       "    .dataframe thead th {\n",
       "        text-align: right;\n",
       "    }\n",
       "</style>\n",
       "<table border=\"1\" class=\"dataframe\">\n",
       "  <thead>\n",
       "    <tr style=\"text-align: right;\">\n",
       "      <th></th>\n",
       "      <th>X</th>\n",
       "      <th>Y</th>\n",
       "      <th>Colour</th>\n",
       "    </tr>\n",
       "  </thead>\n",
       "  <tbody>\n",
       "    <tr>\n",
       "      <th>73</th>\n",
       "      <td>7</td>\n",
       "      <td>8</td>\n",
       "      <td>Brown</td>\n",
       "    </tr>\n",
       "    <tr>\n",
       "      <th>92</th>\n",
       "      <td>9</td>\n",
       "      <td>5</td>\n",
       "      <td>Dark Brown</td>\n",
       "    </tr>\n",
       "    <tr>\n",
       "      <th>94</th>\n",
       "      <td>9</td>\n",
       "      <td>7</td>\n",
       "      <td>Dark Brown</td>\n",
       "    </tr>\n",
       "    <tr>\n",
       "      <th>18</th>\n",
       "      <td>2</td>\n",
       "      <td>8</td>\n",
       "      <td>Light Blue</td>\n",
       "    </tr>\n",
       "    <tr>\n",
       "      <th>105</th>\n",
       "      <td>10</td>\n",
       "      <td>7</td>\n",
       "      <td>Light Blue</td>\n",
       "    </tr>\n",
       "  </tbody>\n",
       "</table>\n",
       "</div>"
      ],
      "text/plain": [
       "      X  Y      Colour\n",
       "73    7  8       Brown\n",
       "92    9  5  Dark Brown\n",
       "94    9  7  Dark Brown\n",
       "18    2  8  Light Blue\n",
       "105  10  7  Light Blue"
      ]
     },
     "execution_count": 25,
     "metadata": {},
     "output_type": "execute_result"
    }
   ],
   "source": [
    "owl.sample(5)"
   ]
  },
  {
   "cell_type": "code",
   "execution_count": 26,
   "metadata": {},
   "outputs": [
    {
     "data": {
      "text/html": [
       "\n",
       "<div id=\"altair-viz-7b3421e4c66c49dd9973116c2f37a7d8\"></div>\n",
       "<script type=\"text/javascript\">\n",
       "  var VEGA_DEBUG = (typeof VEGA_DEBUG == \"undefined\") ? {} : VEGA_DEBUG;\n",
       "  (function(spec, embedOpt){\n",
       "    let outputDiv = document.currentScript.previousElementSibling;\n",
       "    if (outputDiv.id !== \"altair-viz-7b3421e4c66c49dd9973116c2f37a7d8\") {\n",
       "      outputDiv = document.getElementById(\"altair-viz-7b3421e4c66c49dd9973116c2f37a7d8\");\n",
       "    }\n",
       "    const paths = {\n",
       "      \"vega\": \"https://cdn.jsdelivr.net/npm//vega@5?noext\",\n",
       "      \"vega-lib\": \"https://cdn.jsdelivr.net/npm//vega-lib?noext\",\n",
       "      \"vega-lite\": \"https://cdn.jsdelivr.net/npm//vega-lite@4.17.0?noext\",\n",
       "      \"vega-embed\": \"https://cdn.jsdelivr.net/npm//vega-embed@6?noext\",\n",
       "    };\n",
       "\n",
       "    function maybeLoadScript(lib, version) {\n",
       "      var key = `${lib.replace(\"-\", \"\")}_version`;\n",
       "      return (VEGA_DEBUG[key] == version) ?\n",
       "        Promise.resolve(paths[lib]) :\n",
       "        new Promise(function(resolve, reject) {\n",
       "          var s = document.createElement('script');\n",
       "          document.getElementsByTagName(\"head\")[0].appendChild(s);\n",
       "          s.async = true;\n",
       "          s.onload = () => {\n",
       "            VEGA_DEBUG[key] = version;\n",
       "            return resolve(paths[lib]);\n",
       "          };\n",
       "          s.onerror = () => reject(`Error loading script: ${paths[lib]}`);\n",
       "          s.src = paths[lib];\n",
       "        });\n",
       "    }\n",
       "\n",
       "    function showError(err) {\n",
       "      outputDiv.innerHTML = `<div class=\"error\" style=\"color:red;\">${err}</div>`;\n",
       "      throw err;\n",
       "    }\n",
       "\n",
       "    function displayChart(vegaEmbed) {\n",
       "      vegaEmbed(outputDiv, spec, embedOpt)\n",
       "        .catch(err => showError(`Javascript Error: ${err.message}<br>This usually means there's a typo in your chart specification. See the javascript console for the full traceback.`));\n",
       "    }\n",
       "\n",
       "    if(typeof define === \"function\" && define.amd) {\n",
       "      requirejs.config({paths});\n",
       "      require([\"vega-embed\"], displayChart, err => showError(`Error loading script: ${err.message}`));\n",
       "    } else {\n",
       "      maybeLoadScript(\"vega\", \"5\")\n",
       "        .then(() => maybeLoadScript(\"vega-lite\", \"4.17.0\"))\n",
       "        .then(() => maybeLoadScript(\"vega-embed\", \"6\"))\n",
       "        .catch(showError)\n",
       "        .then(() => displayChart(vegaEmbed));\n",
       "    }\n",
       "  })({\"config\": {\"view\": {\"continuousWidth\": 400, \"continuousHeight\": 300}}, \"data\": {\"name\": \"data-2a6700b88613219c0348f5ad71778108\"}, \"mark\": \"rect\", \"encoding\": {\"color\": {\"field\": \"Colour\", \"type\": \"nominal\"}, \"x\": {\"field\": \"X\", \"type\": \"ordinal\"}, \"y\": {\"field\": \"Y\", \"type\": \"ordinal\"}}, \"$schema\": \"https://vega.github.io/schema/vega-lite/v4.17.0.json\", \"datasets\": {\"data-2a6700b88613219c0348f5ad71778108\": [{\"X\": 1, \"Y\": 1, \"Colour\": \"Blue\"}, {\"X\": 1, \"Y\": 2, \"Colour\": \"Blue\"}, {\"X\": 1, \"Y\": 3, \"Colour\": \"Blue\"}, {\"X\": 1, \"Y\": 4, \"Colour\": \"Blue\"}, {\"X\": 1, \"Y\": 5, \"Colour\": \"Blue\"}, {\"X\": 1, \"Y\": 6, \"Colour\": \"Blue\"}, {\"X\": 1, \"Y\": 7, \"Colour\": \"Blue\"}, {\"X\": 1, \"Y\": 8, \"Colour\": \"Blue\"}, {\"X\": 1, \"Y\": 9, \"Colour\": \"Blue\"}, {\"X\": 1, \"Y\": 10, \"Colour\": \"Blue\"}, {\"X\": 1, \"Y\": 11, \"Colour\": \"Blue\"}, {\"X\": 2, \"Y\": 1, \"Colour\": \"Dark Brown\"}, {\"X\": 2, \"Y\": 2, \"Colour\": \"Dark Brown\"}, {\"X\": 2, \"Y\": 3, \"Colour\": \"Dark Brown\"}, {\"X\": 2, \"Y\": 4, \"Colour\": \"Brown\"}, {\"X\": 2, \"Y\": 5, \"Colour\": \"Light Blue\"}, {\"X\": 2, \"Y\": 6, \"Colour\": \"Light Blue\"}, {\"X\": 2, \"Y\": 7, \"Colour\": \"Light Blue\"}, {\"X\": 2, \"Y\": 8, \"Colour\": \"Light Blue\"}, {\"X\": 2, \"Y\": 9, \"Colour\": \"Light Blue\"}, {\"X\": 2, \"Y\": 10, \"Colour\": \"Light Blue\"}, {\"X\": 2, \"Y\": 11, \"Colour\": \"Blue\"}, {\"X\": 3, \"Y\": 1, \"Colour\": \"Brown\"}, {\"X\": 3, \"Y\": 2, \"Colour\": \"Brown\"}, {\"X\": 3, \"Y\": 3, \"Colour\": \"Brown\"}, {\"X\": 3, \"Y\": 4, \"Colour\": \"Dark Brown\"}, {\"X\": 3, \"Y\": 5, \"Colour\": \"Dark Brown\"}, {\"X\": 3, \"Y\": 6, \"Colour\": \"Dark Brown\"}, {\"X\": 3, \"Y\": 7, \"Colour\": \"Dark Brown\"}, {\"X\": 3, \"Y\": 8, \"Colour\": \"Dark Brown\"}, {\"X\": 3, \"Y\": 9, \"Colour\": \"Dark Brown\"}, {\"X\": 3, \"Y\": 10, \"Colour\": \"Light Blue\"}, {\"X\": 3, \"Y\": 11, \"Colour\": \"Blue\"}, {\"X\": 4, \"Y\": 1, \"Colour\": \"Brown\"}, {\"X\": 4, \"Y\": 2, \"Colour\": \"Brown\"}, {\"X\": 4, \"Y\": 3, \"Colour\": \"Brown\"}, {\"X\": 4, \"Y\": 4, \"Colour\": \"Brown\"}, {\"X\": 4, \"Y\": 5, \"Colour\": \"Brown\"}, {\"X\": 4, \"Y\": 6, \"Colour\": \"White\"}, {\"X\": 4, \"Y\": 7, \"Colour\": \"White\"}, {\"X\": 4, \"Y\": 8, \"Colour\": \"Brown\"}, {\"X\": 4, \"Y\": 9, \"Colour\": \"Brown\"}, {\"X\": 4, \"Y\": 10, \"Colour\": \"Dark Brown\"}, {\"X\": 4, \"Y\": 11, \"Colour\": \"Blue\"}, {\"X\": 5, \"Y\": 1, \"Colour\": \"Brown\"}, {\"X\": 5, \"Y\": 2, \"Colour\": \"Brown\"}, {\"X\": 5, \"Y\": 3, \"Colour\": \"Brown\"}, {\"X\": 5, \"Y\": 4, \"Colour\": \"Brown\"}, {\"X\": 5, \"Y\": 5, \"Colour\": \"Brown\"}, {\"X\": 5, \"Y\": 6, \"Colour\": \"Black\"}, {\"X\": 5, \"Y\": 7, \"Colour\": \"White\"}, {\"X\": 5, \"Y\": 8, \"Colour\": \"Brown\"}, {\"X\": 5, \"Y\": 9, \"Colour\": \"Dark Brown\"}, {\"X\": 5, \"Y\": 10, \"Colour\": \"Light Blue\"}, {\"X\": 5, \"Y\": 11, \"Colour\": \"Blue\"}, {\"X\": 6, \"Y\": 1, \"Colour\": \"Brown\"}, {\"X\": 6, \"Y\": 2, \"Colour\": \"Brown\"}, {\"X\": 6, \"Y\": 3, \"Colour\": \"Brown\"}, {\"X\": 6, \"Y\": 4, \"Colour\": \"Yellow\"}, {\"X\": 6, \"Y\": 5, \"Colour\": \"Yellow\"}, {\"X\": 6, \"Y\": 6, \"Colour\": \"Brown\"}, {\"X\": 6, \"Y\": 7, \"Colour\": \"Brown\"}, {\"X\": 6, \"Y\": 8, \"Colour\": \"Dark Brown\"}, {\"X\": 6, \"Y\": 9, \"Colour\": \"Brown\"}, {\"X\": 6, \"Y\": 10, \"Colour\": \"Light Blue\"}, {\"X\": 6, \"Y\": 11, \"Colour\": \"Blue\"}, {\"X\": 7, \"Y\": 1, \"Colour\": \"Brown\"}, {\"X\": 7, \"Y\": 2, \"Colour\": \"Brown\"}, {\"X\": 7, \"Y\": 3, \"Colour\": \"Brown\"}, {\"X\": 7, \"Y\": 4, \"Colour\": \"Brown\"}, {\"X\": 7, \"Y\": 5, \"Colour\": \"Brown\"}, {\"X\": 7, \"Y\": 6, \"Colour\": \"Black\"}, {\"X\": 7, \"Y\": 7, \"Colour\": \"White\"}, {\"X\": 7, \"Y\": 8, \"Colour\": \"Brown\"}, {\"X\": 7, \"Y\": 9, \"Colour\": \"Dark Brown\"}, {\"X\": 7, \"Y\": 10, \"Colour\": \"Light Blue\"}, {\"X\": 7, \"Y\": 11, \"Colour\": \"Blue\"}, {\"X\": 8, \"Y\": 1, \"Colour\": \"Brown\"}, {\"X\": 8, \"Y\": 2, \"Colour\": \"Brown\"}, {\"X\": 8, \"Y\": 3, \"Colour\": \"Brown\"}, {\"X\": 8, \"Y\": 4, \"Colour\": \"Brown\"}, {\"X\": 8, \"Y\": 5, \"Colour\": \"Brown\"}, {\"X\": 8, \"Y\": 6, \"Colour\": \"White\"}, {\"X\": 8, \"Y\": 7, \"Colour\": \"White\"}, {\"X\": 8, \"Y\": 8, \"Colour\": \"Brown\"}, {\"X\": 8, \"Y\": 9, \"Colour\": \"Brown\"}, {\"X\": 8, \"Y\": 10, \"Colour\": \"Dark Brown\"}, {\"X\": 8, \"Y\": 11, \"Colour\": \"Blue\"}, {\"X\": 9, \"Y\": 1, \"Colour\": \"Brown\"}, {\"X\": 9, \"Y\": 2, \"Colour\": \"Brown\"}, {\"X\": 9, \"Y\": 3, \"Colour\": \"Brown\"}, {\"X\": 9, \"Y\": 4, \"Colour\": \"Dark Brown\"}, {\"X\": 9, \"Y\": 5, \"Colour\": \"Dark Brown\"}, {\"X\": 9, \"Y\": 6, \"Colour\": \"Dark Brown\"}, {\"X\": 9, \"Y\": 7, \"Colour\": \"Dark Brown\"}, {\"X\": 9, \"Y\": 8, \"Colour\": \"Dark Brown\"}, {\"X\": 9, \"Y\": 9, \"Colour\": \"Dark Brown\"}, {\"X\": 9, \"Y\": 10, \"Colour\": \"Light Blue\"}, {\"X\": 9, \"Y\": 11, \"Colour\": \"Blue\"}, {\"X\": 10, \"Y\": 1, \"Colour\": \"Dark Brown\"}, {\"X\": 10, \"Y\": 2, \"Colour\": \"Dark Brown\"}, {\"X\": 10, \"Y\": 3, \"Colour\": \"Dark Brown\"}, {\"X\": 10, \"Y\": 4, \"Colour\": \"Brown\"}, {\"X\": 10, \"Y\": 5, \"Colour\": \"Light Blue\"}, {\"X\": 10, \"Y\": 6, \"Colour\": \"Light Blue\"}, {\"X\": 10, \"Y\": 7, \"Colour\": \"Light Blue\"}, {\"X\": 10, \"Y\": 8, \"Colour\": \"Light Blue\"}, {\"X\": 10, \"Y\": 9, \"Colour\": \"Light Blue\"}, {\"X\": 10, \"Y\": 10, \"Colour\": \"Light Blue\"}, {\"X\": 10, \"Y\": 11, \"Colour\": \"Blue\"}, {\"X\": 11, \"Y\": 1, \"Colour\": \"Blue\"}, {\"X\": 11, \"Y\": 2, \"Colour\": \"Blue\"}, {\"X\": 11, \"Y\": 3, \"Colour\": \"Blue\"}, {\"X\": 11, \"Y\": 4, \"Colour\": \"Blue\"}, {\"X\": 11, \"Y\": 5, \"Colour\": \"Blue\"}, {\"X\": 11, \"Y\": 6, \"Colour\": \"Blue\"}, {\"X\": 11, \"Y\": 7, \"Colour\": \"Blue\"}, {\"X\": 11, \"Y\": 8, \"Colour\": \"Blue\"}, {\"X\": 11, \"Y\": 9, \"Colour\": \"Blue\"}, {\"X\": 11, \"Y\": 10, \"Colour\": \"Blue\"}, {\"X\": 11, \"Y\": 11, \"Colour\": \"Blue\"}]}}, {\"mode\": \"vega-lite\"});\n",
       "</script>"
      ],
      "text/plain": [
       "alt.Chart(...)"
      ]
     },
     "execution_count": 26,
     "metadata": {},
     "output_type": "execute_result"
    }
   ],
   "source": [
    "alt.Chart(owl).mark_rect().encode(\n",
    "    x='X:O',\n",
    "    y='Y:O',\n",
    "    color='Colour:N'\n",
    ")"
   ]
  },
  {
   "cell_type": "markdown",
   "metadata": {},
   "source": [
    "#### Area"
   ]
  },
  {
   "cell_type": "code",
   "execution_count": 31,
   "metadata": {},
   "outputs": [],
   "source": [
    "dads = marathon[marathon['runner'].isin(['Brian F.', 'Rich H.'])]"
   ]
  },
  {
   "cell_type": "code",
   "execution_count": 32,
   "metadata": {},
   "outputs": [
    {
     "data": {
      "text/html": [
       "<div>\n",
       "<style scoped>\n",
       "    .dataframe tbody tr th:only-of-type {\n",
       "        vertical-align: middle;\n",
       "    }\n",
       "\n",
       "    .dataframe tbody tr th {\n",
       "        vertical-align: top;\n",
       "    }\n",
       "\n",
       "    .dataframe thead th {\n",
       "        text-align: right;\n",
       "    }\n",
       "</style>\n",
       "<table border=\"1\" class=\"dataframe\">\n",
       "  <thead>\n",
       "    <tr style=\"text-align: right;\">\n",
       "      <th></th>\n",
       "      <th>time</th>\n",
       "      <th>distance</th>\n",
       "      <th>runner</th>\n",
       "      <th>dsplit</th>\n",
       "      <th>mph</th>\n",
       "      <th>hour</th>\n",
       "      <th>gender</th>\n",
       "    </tr>\n",
       "  </thead>\n",
       "  <tbody>\n",
       "    <tr>\n",
       "      <th>6</th>\n",
       "      <td>2019-03-25 06:00:00</td>\n",
       "      <td>41.721360</td>\n",
       "      <td>Brian F.</td>\n",
       "      <td>5.21517</td>\n",
       "      <td>2.607585</td>\n",
       "      <td>12</td>\n",
       "      <td>male</td>\n",
       "    </tr>\n",
       "    <tr>\n",
       "      <th>4</th>\n",
       "      <td>2019-03-25 02:00:00</td>\n",
       "      <td>31.291020</td>\n",
       "      <td>Brian F.</td>\n",
       "      <td>5.21517</td>\n",
       "      <td>2.607585</td>\n",
       "      <td>8</td>\n",
       "      <td>male</td>\n",
       "    </tr>\n",
       "    <tr>\n",
       "      <th>381</th>\n",
       "      <td>2019-03-25 04:00:00</td>\n",
       "      <td>44.328945</td>\n",
       "      <td>Rich H.</td>\n",
       "      <td>5.21517</td>\n",
       "      <td>2.607585</td>\n",
       "      <td>10</td>\n",
       "      <td>male</td>\n",
       "    </tr>\n",
       "    <tr>\n",
       "      <th>24</th>\n",
       "      <td>2019-03-26 18:00:00</td>\n",
       "      <td>105.335815</td>\n",
       "      <td>Brian F.</td>\n",
       "      <td>NaN</td>\n",
       "      <td>NaN</td>\n",
       "      <td>48</td>\n",
       "      <td>male</td>\n",
       "    </tr>\n",
       "    <tr>\n",
       "      <th>390</th>\n",
       "      <td>2019-03-25 22:00:00</td>\n",
       "      <td>83.442720</td>\n",
       "      <td>Rich H.</td>\n",
       "      <td>5.21517</td>\n",
       "      <td>2.607585</td>\n",
       "      <td>28</td>\n",
       "      <td>male</td>\n",
       "    </tr>\n",
       "  </tbody>\n",
       "</table>\n",
       "</div>"
      ],
      "text/plain": [
       "                   time    distance    runner   dsplit       mph  hour gender\n",
       "6   2019-03-25 06:00:00   41.721360  Brian F.  5.21517  2.607585    12   male\n",
       "4   2019-03-25 02:00:00   31.291020  Brian F.  5.21517  2.607585     8   male\n",
       "381 2019-03-25 04:00:00   44.328945   Rich H.  5.21517  2.607585    10   male\n",
       "24  2019-03-26 18:00:00  105.335815  Brian F.      NaN       NaN    48   male\n",
       "390 2019-03-25 22:00:00   83.442720   Rich H.  5.21517  2.607585    28   male"
      ]
     },
     "execution_count": 32,
     "metadata": {},
     "output_type": "execute_result"
    }
   ],
   "source": [
    "dads.sample(5)"
   ]
  },
  {
   "cell_type": "code",
   "execution_count": 33,
   "metadata": {},
   "outputs": [
    {
     "data": {
      "text/html": [
       "\n",
       "<div id=\"altair-viz-2f078636623f4375b4795285d4cf8ba6\"></div>\n",
       "<script type=\"text/javascript\">\n",
       "  var VEGA_DEBUG = (typeof VEGA_DEBUG == \"undefined\") ? {} : VEGA_DEBUG;\n",
       "  (function(spec, embedOpt){\n",
       "    let outputDiv = document.currentScript.previousElementSibling;\n",
       "    if (outputDiv.id !== \"altair-viz-2f078636623f4375b4795285d4cf8ba6\") {\n",
       "      outputDiv = document.getElementById(\"altair-viz-2f078636623f4375b4795285d4cf8ba6\");\n",
       "    }\n",
       "    const paths = {\n",
       "      \"vega\": \"https://cdn.jsdelivr.net/npm//vega@5?noext\",\n",
       "      \"vega-lib\": \"https://cdn.jsdelivr.net/npm//vega-lib?noext\",\n",
       "      \"vega-lite\": \"https://cdn.jsdelivr.net/npm//vega-lite@4.17.0?noext\",\n",
       "      \"vega-embed\": \"https://cdn.jsdelivr.net/npm//vega-embed@6?noext\",\n",
       "    };\n",
       "\n",
       "    function maybeLoadScript(lib, version) {\n",
       "      var key = `${lib.replace(\"-\", \"\")}_version`;\n",
       "      return (VEGA_DEBUG[key] == version) ?\n",
       "        Promise.resolve(paths[lib]) :\n",
       "        new Promise(function(resolve, reject) {\n",
       "          var s = document.createElement('script');\n",
       "          document.getElementsByTagName(\"head\")[0].appendChild(s);\n",
       "          s.async = true;\n",
       "          s.onload = () => {\n",
       "            VEGA_DEBUG[key] = version;\n",
       "            return resolve(paths[lib]);\n",
       "          };\n",
       "          s.onerror = () => reject(`Error loading script: ${paths[lib]}`);\n",
       "          s.src = paths[lib];\n",
       "        });\n",
       "    }\n",
       "\n",
       "    function showError(err) {\n",
       "      outputDiv.innerHTML = `<div class=\"error\" style=\"color:red;\">${err}</div>`;\n",
       "      throw err;\n",
       "    }\n",
       "\n",
       "    function displayChart(vegaEmbed) {\n",
       "      vegaEmbed(outputDiv, spec, embedOpt)\n",
       "        .catch(err => showError(`Javascript Error: ${err.message}<br>This usually means there's a typo in your chart specification. See the javascript console for the full traceback.`));\n",
       "    }\n",
       "\n",
       "    if(typeof define === \"function\" && define.amd) {\n",
       "      requirejs.config({paths});\n",
       "      require([\"vega-embed\"], displayChart, err => showError(`Error loading script: ${err.message}`));\n",
       "    } else {\n",
       "      maybeLoadScript(\"vega\", \"5\")\n",
       "        .then(() => maybeLoadScript(\"vega-lite\", \"4.17.0\"))\n",
       "        .then(() => maybeLoadScript(\"vega-embed\", \"6\"))\n",
       "        .catch(showError)\n",
       "        .then(() => displayChart(vegaEmbed));\n",
       "    }\n",
       "  })({\"config\": {\"view\": {\"continuousWidth\": 400, \"continuousHeight\": 300}}, \"data\": {\"name\": \"data-77a14222fb5a27a1879f6bda6af86787\"}, \"mark\": {\"type\": \"area\", \"opacity\": 0.75}, \"encoding\": {\"color\": {\"field\": \"runner\", \"type\": \"nominal\"}, \"x\": {\"field\": \"hour\", \"type\": \"quantitative\"}, \"y\": {\"field\": \"distance\", \"type\": \"quantitative\"}}, \"$schema\": \"https://vega.github.io/schema/vega-lite/v4.17.0.json\", \"datasets\": {\"data-77a14222fb5a27a1879f6bda6af86787\": [{\"time\": \"2019-03-24T18:00:00\", \"distance\": 0.0, \"runner\": \"Brian F.\", \"dsplit\": 7.822755, \"mph\": 3.9113775, \"hour\": 0, \"gender\": \"male\"}, {\"time\": \"2019-03-24T20:00:00\", \"distance\": 7.822755, \"runner\": \"Brian F.\", \"dsplit\": 10.43034, \"mph\": 5.21517, \"hour\": 2, \"gender\": \"male\"}, {\"time\": \"2019-03-24T22:00:00\", \"distance\": 18.253095, \"runner\": \"Brian F.\", \"dsplit\": 5.21517, \"mph\": 2.607585, \"hour\": 4, \"gender\": \"male\"}, {\"time\": \"2019-03-24T23:59:00\", \"distance\": 23.468265, \"runner\": \"Brian F.\", \"dsplit\": 7.822755, \"mph\": 3.9113775, \"hour\": 6, \"gender\": \"male\"}, {\"time\": \"2019-03-25T02:00:00\", \"distance\": 31.29102, \"runner\": \"Brian F.\", \"dsplit\": 5.21517, \"mph\": 2.607585, \"hour\": 8, \"gender\": \"male\"}, {\"time\": \"2019-03-25T04:00:00\", \"distance\": 36.50619, \"runner\": \"Brian F.\", \"dsplit\": 5.21517, \"mph\": 2.607585, \"hour\": 10, \"gender\": \"male\"}, {\"time\": \"2019-03-25T06:00:00\", \"distance\": 41.72136, \"runner\": \"Brian F.\", \"dsplit\": 5.21517, \"mph\": 2.607585, \"hour\": 12, \"gender\": \"male\"}, {\"time\": \"2019-03-25T08:00:00\", \"distance\": 46.93653, \"runner\": \"Brian F.\", \"dsplit\": 5.21517, \"mph\": 2.607585, \"hour\": 14, \"gender\": \"male\"}, {\"time\": \"2019-03-25T10:00:00\", \"distance\": 52.1517, \"runner\": \"Brian F.\", \"dsplit\": 5.21517, \"mph\": 2.607585, \"hour\": 16, \"gender\": \"male\"}, {\"time\": \"2019-03-25T12:01:00\", \"distance\": 57.36687, \"runner\": \"Brian F.\", \"dsplit\": 5.21517, \"mph\": 2.607585, \"hour\": 18, \"gender\": \"male\"}, {\"time\": \"2019-03-25T14:00:00\", \"distance\": 62.58204, \"runner\": \"Brian F.\", \"dsplit\": 5.21517, \"mph\": 2.607585, \"hour\": 20, \"gender\": \"male\"}, {\"time\": \"2019-03-25T20:00:00\", \"distance\": 67.79721, \"runner\": \"Brian F.\", \"dsplit\": 0.0, \"mph\": 0.0, \"hour\": 26, \"gender\": \"male\"}, {\"time\": \"2019-03-25T18:00:00\", \"distance\": 67.79721, \"runner\": \"Brian F.\", \"dsplit\": 0.0, \"mph\": 0.0, \"hour\": 24, \"gender\": \"male\"}, {\"time\": \"2019-03-25T16:00:00\", \"distance\": 67.79721, \"runner\": \"Brian F.\", \"dsplit\": 5.21517, \"mph\": 2.607585, \"hour\": 22, \"gender\": \"male\"}, {\"time\": \"2019-03-25T22:00:00\", \"distance\": 73.01238, \"runner\": \"Brian F.\", \"dsplit\": 2.607585, \"mph\": 1.3037925, \"hour\": 28, \"gender\": \"male\"}, {\"time\": \"2019-03-25T23:59:00\", \"distance\": 75.619965, \"runner\": \"Brian F.\", \"dsplit\": 5.21517, \"mph\": 2.607585, \"hour\": 30, \"gender\": \"male\"}, {\"time\": \"2019-03-26T02:00:00\", \"distance\": 80.835135, \"runner\": \"Brian F.\", \"dsplit\": 2.607585, \"mph\": 1.3037925, \"hour\": 32, \"gender\": \"male\"}, {\"time\": \"2019-03-26T06:00:00\", \"distance\": 83.44272, \"runner\": \"Brian F.\", \"dsplit\": 0.0, \"mph\": 0.0, \"hour\": 36, \"gender\": \"male\"}, {\"time\": \"2019-03-26T04:00:00\", \"distance\": 83.44272, \"runner\": \"Brian F.\", \"dsplit\": 2.607585, \"mph\": 1.3037925, \"hour\": 34, \"gender\": \"male\"}, {\"time\": \"2019-03-26T08:00:00\", \"distance\": 86.050305, \"runner\": \"Brian F.\", \"dsplit\": 5.21517, \"mph\": 2.607585, \"hour\": 38, \"gender\": \"male\"}, {\"time\": \"2019-03-26T10:00:00\", \"distance\": 91.265475, \"runner\": \"Brian F.\", \"dsplit\": 5.21517, \"mph\": 2.607585, \"hour\": 40, \"gender\": \"male\"}, {\"time\": \"2019-03-26T12:01:00\", \"distance\": 96.480645, \"runner\": \"Brian F.\", \"dsplit\": 2.607585, \"mph\": 1.3037925, \"hour\": 42, \"gender\": \"male\"}, {\"time\": \"2019-03-26T14:00:00\", \"distance\": 99.08823, \"runner\": \"Brian F.\", \"dsplit\": 2.607585, \"mph\": 1.3037925, \"hour\": 44, \"gender\": \"male\"}, {\"time\": \"2019-03-26T16:00:00\", \"distance\": 101.695815, \"runner\": \"Brian F.\", \"dsplit\": 3.64, \"mph\": 1.82, \"hour\": 46, \"gender\": \"male\"}, {\"time\": \"2019-03-26T18:00:00\", \"distance\": 105.335815, \"runner\": \"Brian F.\", \"dsplit\": null, \"mph\": null, \"hour\": 48, \"gender\": \"male\"}, {\"time\": \"2019-03-24T18:00:00\", \"distance\": 0.0, \"runner\": \"Rich H.\", \"dsplit\": 10.43034, \"mph\": 5.21517, \"hour\": 0, \"gender\": \"male\"}, {\"time\": \"2019-03-24T20:00:00\", \"distance\": 10.43034, \"runner\": \"Rich H.\", \"dsplit\": 10.43034, \"mph\": 5.21517, \"hour\": 2, \"gender\": \"male\"}, {\"time\": \"2019-03-24T22:00:00\", \"distance\": 20.86068, \"runner\": \"Rich H.\", \"dsplit\": 7.822755, \"mph\": 3.9113775, \"hour\": 4, \"gender\": \"male\"}, {\"time\": \"2019-03-24T23:59:00\", \"distance\": 28.683435, \"runner\": \"Rich H.\", \"dsplit\": 7.822755, \"mph\": 3.9113775, \"hour\": 6, \"gender\": \"male\"}, {\"time\": \"2019-03-25T02:00:00\", \"distance\": 36.50619, \"runner\": \"Rich H.\", \"dsplit\": 7.822755, \"mph\": 3.9113775, \"hour\": 8, \"gender\": \"male\"}, {\"time\": \"2019-03-25T04:00:00\", \"distance\": 44.328945, \"runner\": \"Rich H.\", \"dsplit\": 5.21517, \"mph\": 2.607585, \"hour\": 10, \"gender\": \"male\"}, {\"time\": \"2019-03-25T06:00:00\", \"distance\": 49.544115, \"runner\": \"Rich H.\", \"dsplit\": 2.607585, \"mph\": 1.3037925, \"hour\": 12, \"gender\": \"male\"}, {\"time\": \"2019-03-25T08:00:00\", \"distance\": 52.1517, \"runner\": \"Rich H.\", \"dsplit\": 5.21517, \"mph\": 2.607585, \"hour\": 14, \"gender\": \"male\"}, {\"time\": \"2019-03-25T10:00:00\", \"distance\": 57.36687, \"runner\": \"Rich H.\", \"dsplit\": 7.822755, \"mph\": 3.9113775, \"hour\": 16, \"gender\": \"male\"}, {\"time\": \"2019-03-25T12:01:00\", \"distance\": 65.189625, \"runner\": \"Rich H.\", \"dsplit\": 2.607585, \"mph\": 1.3037925, \"hour\": 18, \"gender\": \"male\"}, {\"time\": \"2019-03-25T14:00:00\", \"distance\": 67.79721, \"runner\": \"Rich H.\", \"dsplit\": 5.21517, \"mph\": 2.607585, \"hour\": 20, \"gender\": \"male\"}, {\"time\": \"2019-03-25T16:00:00\", \"distance\": 73.01238, \"runner\": \"Rich H.\", \"dsplit\": 5.21517, \"mph\": 2.607585, \"hour\": 22, \"gender\": \"male\"}, {\"time\": \"2019-03-25T18:00:00\", \"distance\": 78.22755, \"runner\": \"Rich H.\", \"dsplit\": 2.607585, \"mph\": 1.3037925, \"hour\": 24, \"gender\": \"male\"}, {\"time\": \"2019-03-25T20:00:00\", \"distance\": 80.835135, \"runner\": \"Rich H.\", \"dsplit\": 2.607585, \"mph\": 1.3037925, \"hour\": 26, \"gender\": \"male\"}, {\"time\": \"2019-03-25T22:00:00\", \"distance\": 83.44272, \"runner\": \"Rich H.\", \"dsplit\": 5.21517, \"mph\": 2.607585, \"hour\": 28, \"gender\": \"male\"}, {\"time\": \"2019-03-25T23:59:00\", \"distance\": 88.65789, \"runner\": \"Rich H.\", \"dsplit\": 2.607585, \"mph\": 1.3037925, \"hour\": 30, \"gender\": \"male\"}, {\"time\": \"2019-03-26T02:00:00\", \"distance\": 91.265475, \"runner\": \"Rich H.\", \"dsplit\": 2.607585, \"mph\": 1.3037925, \"hour\": 32, \"gender\": \"male\"}, {\"time\": \"2019-03-26T04:00:00\", \"distance\": 93.87306, \"runner\": \"Rich H.\", \"dsplit\": 5.21517, \"mph\": 2.607585, \"hour\": 34, \"gender\": \"male\"}, {\"time\": \"2019-03-26T08:00:00\", \"distance\": 99.08823, \"runner\": \"Rich H.\", \"dsplit\": 0.0, \"mph\": 0.0, \"hour\": 38, \"gender\": \"male\"}, {\"time\": \"2019-03-26T06:00:00\", \"distance\": 99.08823, \"runner\": \"Rich H.\", \"dsplit\": 2.607585, \"mph\": 1.3037925, \"hour\": 36, \"gender\": \"male\"}, {\"time\": \"2019-03-26T10:00:00\", \"distance\": 101.695815, \"runner\": \"Rich H.\", \"dsplit\": 5.21517, \"mph\": 2.607585, \"hour\": 40, \"gender\": \"male\"}, {\"time\": \"2019-03-26T14:00:00\", \"distance\": 106.910985, \"runner\": \"Rich H.\", \"dsplit\": 0.0, \"mph\": 0.0, \"hour\": 44, \"gender\": \"male\"}, {\"time\": \"2019-03-26T12:01:00\", \"distance\": 106.910985, \"runner\": \"Rich H.\", \"dsplit\": 5.21517, \"mph\": 2.607585, \"hour\": 42, \"gender\": \"male\"}, {\"time\": \"2019-03-26T16:00:00\", \"distance\": 112.126155, \"runner\": \"Rich H.\", \"dsplit\": 4.007585, \"mph\": 2.0037925, \"hour\": 46, \"gender\": \"male\"}, {\"time\": \"2019-03-26T18:00:00\", \"distance\": 116.13374, \"runner\": \"Rich H.\", \"dsplit\": null, \"mph\": null, \"hour\": 48, \"gender\": \"male\"}]}}, {\"mode\": \"vega-lite\"});\n",
       "</script>"
      ],
      "text/plain": [
       "alt.Chart(...)"
      ]
     },
     "execution_count": 33,
     "metadata": {},
     "output_type": "execute_result"
    }
   ],
   "source": [
    "alt.Chart(dads).mark_area(opacity=3/4).encode(\n",
    "    x=\"hour\",\n",
    "    y=\"distance\",\n",
    "    color=\"runner:N\"\n",
    ")"
   ]
  },
  {
   "cell_type": "markdown",
   "metadata": {},
   "source": [
    "#### Histogram"
   ]
  },
  {
   "cell_type": "code",
   "execution_count": 34,
   "metadata": {},
   "outputs": [
    {
     "ename": "NameError",
     "evalue": "name 'data' is not defined",
     "output_type": "error",
     "traceback": [
      "\u001b[1;31m---------------------------------------------------------------------------\u001b[0m",
      "\u001b[1;31mNameError\u001b[0m                                 Traceback (most recent call last)",
      "Input \u001b[1;32mIn [34]\u001b[0m, in \u001b[0;36m<cell line: 1>\u001b[1;34m()\u001b[0m\n\u001b[1;32m----> 1\u001b[0m df \u001b[38;5;241m=\u001b[39m \u001b[43mdata\u001b[49m\u001b[38;5;241m.\u001b[39mmovies\u001b[38;5;241m.\u001b[39murl\n\u001b[0;32m      3\u001b[0m alt\u001b[38;5;241m.\u001b[39mChart(df)\u001b[38;5;241m.\u001b[39mmark_bar()\u001b[38;5;241m.\u001b[39mencode(\n\u001b[0;32m      4\u001b[0m     alt\u001b[38;5;241m.\u001b[39mX(\u001b[38;5;124m\"\u001b[39m\u001b[38;5;124mIMDB_Rating:Q\u001b[39m\u001b[38;5;124m\"\u001b[39m, \u001b[38;5;28mbin\u001b[39m\u001b[38;5;241m=\u001b[39m\u001b[38;5;28;01mTrue\u001b[39;00m),\n\u001b[0;32m      5\u001b[0m     y\u001b[38;5;241m=\u001b[39m\u001b[38;5;124m'\u001b[39m\u001b[38;5;124mcount()\u001b[39m\u001b[38;5;124m'\u001b[39m,\n\u001b[0;32m      6\u001b[0m )\n",
      "\u001b[1;31mNameError\u001b[0m: name 'data' is not defined"
     ]
    }
   ],
   "source": [
    "df = data.movies.url\n",
    "\n",
    "alt.Chart(df).mark_bar().encode(\n",
    "    alt.X(\"IMDB_Rating:Q\", bin=True),\n",
    "    y='count()',\n",
    ")"
   ]
  },
  {
   "cell_type": "code",
   "execution_count": 35,
   "metadata": {},
   "outputs": [],
   "source": [
    "finish = marathon[marathon.hour == 48]"
   ]
  },
  {
   "cell_type": "code",
   "execution_count": 36,
   "metadata": {},
   "outputs": [
    {
     "data": {
      "text/html": [
       "\n",
       "<div id=\"altair-viz-d434f0dcb4384f5483646fab8b3a22a2\"></div>\n",
       "<script type=\"text/javascript\">\n",
       "  var VEGA_DEBUG = (typeof VEGA_DEBUG == \"undefined\") ? {} : VEGA_DEBUG;\n",
       "  (function(spec, embedOpt){\n",
       "    let outputDiv = document.currentScript.previousElementSibling;\n",
       "    if (outputDiv.id !== \"altair-viz-d434f0dcb4384f5483646fab8b3a22a2\") {\n",
       "      outputDiv = document.getElementById(\"altair-viz-d434f0dcb4384f5483646fab8b3a22a2\");\n",
       "    }\n",
       "    const paths = {\n",
       "      \"vega\": \"https://cdn.jsdelivr.net/npm//vega@5?noext\",\n",
       "      \"vega-lib\": \"https://cdn.jsdelivr.net/npm//vega-lib?noext\",\n",
       "      \"vega-lite\": \"https://cdn.jsdelivr.net/npm//vega-lite@4.17.0?noext\",\n",
       "      \"vega-embed\": \"https://cdn.jsdelivr.net/npm//vega-embed@6?noext\",\n",
       "    };\n",
       "\n",
       "    function maybeLoadScript(lib, version) {\n",
       "      var key = `${lib.replace(\"-\", \"\")}_version`;\n",
       "      return (VEGA_DEBUG[key] == version) ?\n",
       "        Promise.resolve(paths[lib]) :\n",
       "        new Promise(function(resolve, reject) {\n",
       "          var s = document.createElement('script');\n",
       "          document.getElementsByTagName(\"head\")[0].appendChild(s);\n",
       "          s.async = true;\n",
       "          s.onload = () => {\n",
       "            VEGA_DEBUG[key] = version;\n",
       "            return resolve(paths[lib]);\n",
       "          };\n",
       "          s.onerror = () => reject(`Error loading script: ${paths[lib]}`);\n",
       "          s.src = paths[lib];\n",
       "        });\n",
       "    }\n",
       "\n",
       "    function showError(err) {\n",
       "      outputDiv.innerHTML = `<div class=\"error\" style=\"color:red;\">${err}</div>`;\n",
       "      throw err;\n",
       "    }\n",
       "\n",
       "    function displayChart(vegaEmbed) {\n",
       "      vegaEmbed(outputDiv, spec, embedOpt)\n",
       "        .catch(err => showError(`Javascript Error: ${err.message}<br>This usually means there's a typo in your chart specification. See the javascript console for the full traceback.`));\n",
       "    }\n",
       "\n",
       "    if(typeof define === \"function\" && define.amd) {\n",
       "      requirejs.config({paths});\n",
       "      require([\"vega-embed\"], displayChart, err => showError(`Error loading script: ${err.message}`));\n",
       "    } else {\n",
       "      maybeLoadScript(\"vega\", \"5\")\n",
       "        .then(() => maybeLoadScript(\"vega-lite\", \"4.17.0\"))\n",
       "        .then(() => maybeLoadScript(\"vega-embed\", \"6\"))\n",
       "        .catch(showError)\n",
       "        .then(() => displayChart(vegaEmbed));\n",
       "    }\n",
       "  })({\"config\": {\"view\": {\"continuousWidth\": 400, \"continuousHeight\": 300}}, \"data\": {\"name\": \"data-a450e26e65388da71558e0b3172aae8f\"}, \"mark\": \"bar\", \"encoding\": {\"x\": {\"bin\": true, \"field\": \"distance\", \"type\": \"quantitative\"}, \"y\": {\"aggregate\": \"count\", \"type\": \"quantitative\"}}, \"$schema\": \"https://vega.github.io/schema/vega-lite/v4.17.0.json\", \"datasets\": {\"data-a450e26e65388da71558e0b3172aae8f\": [{\"time\": \"2019-03-26T18:00:00\", \"distance\": 105.335815, \"runner\": \"Brian F.\", \"dsplit\": null, \"mph\": null, \"hour\": 48, \"gender\": \"male\"}, {\"time\": \"2019-03-26T18:00:00\", \"distance\": 66.78204, \"runner\": \"Cynthia S.\", \"dsplit\": null, \"mph\": null, \"hour\": 48, \"gender\": \"female\"}, {\"time\": \"2019-03-26T18:00:00\", \"distance\": 164.19027, \"runner\": \"Dennis A.\", \"dsplit\": null, \"mph\": null, \"hour\": 48, \"gender\": \"male\"}, {\"time\": \"2019-03-26T18:00:00\", \"distance\": 86.050305, \"runner\": \"Dustin M.\", \"dsplit\": 0.0, \"mph\": 0.0, \"hour\": 48, \"gender\": \"male\"}, {\"time\": \"2019-03-26T18:00:00\", \"distance\": 103.28823, \"runner\": \"Emma S.\", \"dsplit\": null, \"mph\": null, \"hour\": 48, \"gender\": \"female\"}, {\"time\": \"2019-03-26T18:00:00\", \"distance\": 101.695815, \"runner\": \"Evan A.\", \"dsplit\": 0.0, \"mph\": 0.0, \"hour\": 48, \"gender\": \"male\"}, {\"time\": \"2019-03-26T18:00:00\", \"distance\": 140.80959, \"runner\": \"Florian N.\", \"dsplit\": 0.0, \"mph\": 0.0, \"hour\": 48, \"gender\": \"male\"}, {\"time\": \"2019-03-26T18:00:00\", \"distance\": 115.01374, \"runner\": \"Gary H.\", \"dsplit\": null, \"mph\": null, \"hour\": 48, \"gender\": \"male\"}, {\"time\": \"2019-03-26T18:00:00\", \"distance\": 101.695815, \"runner\": \"Jayk R.\", \"dsplit\": 0.0, \"mph\": 0.0, \"hour\": 48, \"gender\": \"male\"}, {\"time\": \"2019-03-26T18:00:00\", \"distance\": 80.74755, \"runner\": \"Jr E.\", \"dsplit\": null, \"mph\": null, \"hour\": 48, \"gender\": \"male\"}, {\"time\": \"2019-03-26T18:00:00\", \"distance\": 151.152345, \"runner\": \"Leon R.\", \"dsplit\": null, \"mph\": null, \"hour\": 48, \"gender\": \"male\"}, {\"time\": \"2019-03-26T18:00:00\", \"distance\": 156.367515, \"runner\": \"Lynette M.\", \"dsplit\": null, \"mph\": null, \"hour\": 48, \"gender\": \"female\"}, {\"time\": \"2019-03-26T18:00:00\", \"distance\": 39.113775, \"runner\": \"Mark W.\", \"dsplit\": 0.0, \"mph\": 0.0, \"hour\": 48, \"gender\": \"male\"}, {\"time\": \"2019-03-26T18:00:00\", \"distance\": 39.113775, \"runner\": \"Michelle A.\", \"dsplit\": 0.0, \"mph\": 0.0, \"hour\": 48, \"gender\": \"female\"}, {\"time\": \"2019-03-26T18:00:00\", \"distance\": 18.253095, \"runner\": \"Nick K.\", \"dsplit\": 0.0, \"mph\": 0.0, \"hour\": 48, \"gender\": \"male\"}, {\"time\": \"2019-03-26T18:00:00\", \"distance\": 116.13374, \"runner\": \"Rich H.\", \"dsplit\": null, \"mph\": null, \"hour\": 48, \"gender\": \"male\"}, {\"time\": \"2019-03-26T18:00:00\", \"distance\": 124.236495, \"runner\": \"Sam C.\", \"dsplit\": null, \"mph\": null, \"hour\": 48, \"gender\": \"male\"}, {\"time\": \"2019-03-26T18:00:00\", \"distance\": 101.695815, \"runner\": \"Stephanie H.\", \"dsplit\": 0.0, \"mph\": 0.0, \"hour\": 48, \"gender\": \"female\"}, {\"time\": \"2019-03-26T18:00:00\", \"distance\": 49.544115, \"runner\": \"Steven B.\", \"dsplit\": 0.0, \"mph\": 0.0, \"hour\": 48, \"gender\": \"male\"}, {\"time\": \"2019-03-26T18:00:00\", \"distance\": 188.58612, \"runner\": \"Thomas J.\", \"dsplit\": null, \"mph\": null, \"hour\": 48, \"gender\": \"male\"}]}}, {\"mode\": \"vega-lite\"});\n",
       "</script>"
      ],
      "text/plain": [
       "alt.Chart(...)"
      ]
     },
     "execution_count": 36,
     "metadata": {},
     "output_type": "execute_result"
    }
   ],
   "source": [
    "alt.Chart(finish).mark_bar().encode(\n",
    "    x=alt.X(\"distance:Q\", bin=True),\n",
    "    y='count()',\n",
    ")"
   ]
  },
  {
   "cell_type": "markdown",
   "metadata": {},
   "source": [
    "#### TL;DR:\n",
    "\n",
    "<img src=\"../images/choose.png\" alt=\"choose\" width=\"1000\">"
   ]
  },
  {
   "cell_type": "markdown",
   "metadata": {},
   "source": [
    "#### Exercise\n",
    "\n",
    "Use the `cocktails` data set to create your own Altair chart!"
   ]
  }
 ],
 "metadata": {
  "kernelspec": {
   "display_name": "Python 3 (ipykernel)",
   "language": "python",
   "name": "python3"
  },
  "language_info": {
   "codemirror_mode": {
    "name": "ipython",
    "version": 3
   },
   "file_extension": ".py",
   "mimetype": "text/x-python",
   "name": "python",
   "nbconvert_exporter": "python",
   "pygments_lexer": "ipython3",
   "version": "3.8.13"
  }
 },
 "nbformat": 4,
 "nbformat_minor": 4
}
