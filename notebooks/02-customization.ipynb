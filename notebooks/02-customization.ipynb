{
 "cells": [
  {
   "cell_type": "markdown",
   "metadata": {},
   "source": [
    "### Customization"
   ]
  },
  {
   "cell_type": "code",
   "execution_count": 1,
   "metadata": {},
   "outputs": [],
   "source": [
    "import altair as alt\n",
    "import pandas as pd"
   ]
  },
  {
   "cell_type": "markdown",
   "metadata": {},
   "source": [
    "#### Colours"
   ]
  },
  {
   "cell_type": "markdown",
   "metadata": {},
   "source": [
    "[Inspiration](https://www.youtube.com/watch?v=dwSe2imUyvg)"
   ]
  },
  {
   "cell_type": "code",
   "execution_count": 2,
   "metadata": {},
   "outputs": [],
   "source": [
    "owl = pd.read_csv('../data/owl.csv')"
   ]
  },
  {
   "cell_type": "code",
   "execution_count": 8,
   "metadata": {},
   "outputs": [
    {
     "data": {
      "text/html": [
       "<div>\n",
       "<style scoped>\n",
       "    .dataframe tbody tr th:only-of-type {\n",
       "        vertical-align: middle;\n",
       "    }\n",
       "\n",
       "    .dataframe tbody tr th {\n",
       "        vertical-align: top;\n",
       "    }\n",
       "\n",
       "    .dataframe thead th {\n",
       "        text-align: right;\n",
       "    }\n",
       "</style>\n",
       "<table border=\"1\" class=\"dataframe\">\n",
       "  <thead>\n",
       "    <tr style=\"text-align: right;\">\n",
       "      <th></th>\n",
       "      <th>X</th>\n",
       "      <th>Y</th>\n",
       "      <th>Colour</th>\n",
       "    </tr>\n",
       "  </thead>\n",
       "  <tbody>\n",
       "    <tr>\n",
       "      <th>0</th>\n",
       "      <td>1</td>\n",
       "      <td>1</td>\n",
       "      <td>Blue</td>\n",
       "    </tr>\n",
       "    <tr>\n",
       "      <th>1</th>\n",
       "      <td>1</td>\n",
       "      <td>2</td>\n",
       "      <td>Blue</td>\n",
       "    </tr>\n",
       "    <tr>\n",
       "      <th>2</th>\n",
       "      <td>1</td>\n",
       "      <td>3</td>\n",
       "      <td>Blue</td>\n",
       "    </tr>\n",
       "    <tr>\n",
       "      <th>3</th>\n",
       "      <td>1</td>\n",
       "      <td>4</td>\n",
       "      <td>Blue</td>\n",
       "    </tr>\n",
       "    <tr>\n",
       "      <th>4</th>\n",
       "      <td>1</td>\n",
       "      <td>5</td>\n",
       "      <td>Blue</td>\n",
       "    </tr>\n",
       "    <tr>\n",
       "      <th>...</th>\n",
       "      <td>...</td>\n",
       "      <td>...</td>\n",
       "      <td>...</td>\n",
       "    </tr>\n",
       "    <tr>\n",
       "      <th>116</th>\n",
       "      <td>11</td>\n",
       "      <td>7</td>\n",
       "      <td>Blue</td>\n",
       "    </tr>\n",
       "    <tr>\n",
       "      <th>117</th>\n",
       "      <td>11</td>\n",
       "      <td>8</td>\n",
       "      <td>Blue</td>\n",
       "    </tr>\n",
       "    <tr>\n",
       "      <th>118</th>\n",
       "      <td>11</td>\n",
       "      <td>9</td>\n",
       "      <td>Blue</td>\n",
       "    </tr>\n",
       "    <tr>\n",
       "      <th>119</th>\n",
       "      <td>11</td>\n",
       "      <td>10</td>\n",
       "      <td>Blue</td>\n",
       "    </tr>\n",
       "    <tr>\n",
       "      <th>120</th>\n",
       "      <td>11</td>\n",
       "      <td>11</td>\n",
       "      <td>Blue</td>\n",
       "    </tr>\n",
       "  </tbody>\n",
       "</table>\n",
       "<p>121 rows × 3 columns</p>\n",
       "</div>"
      ],
      "text/plain": [
       "      X   Y Colour\n",
       "0     1   1   Blue\n",
       "1     1   2   Blue\n",
       "2     1   3   Blue\n",
       "3     1   4   Blue\n",
       "4     1   5   Blue\n",
       "..   ..  ..    ...\n",
       "116  11   7   Blue\n",
       "117  11   8   Blue\n",
       "118  11   9   Blue\n",
       "119  11  10   Blue\n",
       "120  11  11   Blue\n",
       "\n",
       "[121 rows x 3 columns]"
      ]
     },
     "execution_count": 8,
     "metadata": {},
     "output_type": "execute_result"
    }
   ],
   "source": [
    "owl"
   ]
  },
  {
   "cell_type": "code",
   "execution_count": 3,
   "metadata": {},
   "outputs": [
    {
     "data": {
      "text/html": [
       "\n",
       "<div id=\"altair-viz-4f7abd9ef95d4cf88f8313f556fa819e\"></div>\n",
       "<script type=\"text/javascript\">\n",
       "  var VEGA_DEBUG = (typeof VEGA_DEBUG == \"undefined\") ? {} : VEGA_DEBUG;\n",
       "  (function(spec, embedOpt){\n",
       "    let outputDiv = document.currentScript.previousElementSibling;\n",
       "    if (outputDiv.id !== \"altair-viz-4f7abd9ef95d4cf88f8313f556fa819e\") {\n",
       "      outputDiv = document.getElementById(\"altair-viz-4f7abd9ef95d4cf88f8313f556fa819e\");\n",
       "    }\n",
       "    const paths = {\n",
       "      \"vega\": \"https://cdn.jsdelivr.net/npm//vega@5?noext\",\n",
       "      \"vega-lib\": \"https://cdn.jsdelivr.net/npm//vega-lib?noext\",\n",
       "      \"vega-lite\": \"https://cdn.jsdelivr.net/npm//vega-lite@4.17.0?noext\",\n",
       "      \"vega-embed\": \"https://cdn.jsdelivr.net/npm//vega-embed@6?noext\",\n",
       "    };\n",
       "\n",
       "    function maybeLoadScript(lib, version) {\n",
       "      var key = `${lib.replace(\"-\", \"\")}_version`;\n",
       "      return (VEGA_DEBUG[key] == version) ?\n",
       "        Promise.resolve(paths[lib]) :\n",
       "        new Promise(function(resolve, reject) {\n",
       "          var s = document.createElement('script');\n",
       "          document.getElementsByTagName(\"head\")[0].appendChild(s);\n",
       "          s.async = true;\n",
       "          s.onload = () => {\n",
       "            VEGA_DEBUG[key] = version;\n",
       "            return resolve(paths[lib]);\n",
       "          };\n",
       "          s.onerror = () => reject(`Error loading script: ${paths[lib]}`);\n",
       "          s.src = paths[lib];\n",
       "        });\n",
       "    }\n",
       "\n",
       "    function showError(err) {\n",
       "      outputDiv.innerHTML = `<div class=\"error\" style=\"color:red;\">${err}</div>`;\n",
       "      throw err;\n",
       "    }\n",
       "\n",
       "    function displayChart(vegaEmbed) {\n",
       "      vegaEmbed(outputDiv, spec, embedOpt)\n",
       "        .catch(err => showError(`Javascript Error: ${err.message}<br>This usually means there's a typo in your chart specification. See the javascript console for the full traceback.`));\n",
       "    }\n",
       "\n",
       "    if(typeof define === \"function\" && define.amd) {\n",
       "      requirejs.config({paths});\n",
       "      require([\"vega-embed\"], displayChart, err => showError(`Error loading script: ${err.message}`));\n",
       "    } else {\n",
       "      maybeLoadScript(\"vega\", \"5\")\n",
       "        .then(() => maybeLoadScript(\"vega-lite\", \"4.17.0\"))\n",
       "        .then(() => maybeLoadScript(\"vega-embed\", \"6\"))\n",
       "        .catch(showError)\n",
       "        .then(() => displayChart(vegaEmbed));\n",
       "    }\n",
       "  })({\"config\": {\"view\": {\"continuousWidth\": 400, \"continuousHeight\": 300}}, \"data\": {\"name\": \"data-2a6700b88613219c0348f5ad71778108\"}, \"mark\": \"rect\", \"encoding\": {\"color\": {\"field\": \"Colour\", \"type\": \"nominal\"}, \"x\": {\"field\": \"X\", \"type\": \"ordinal\"}, \"y\": {\"field\": \"Y\", \"type\": \"ordinal\"}}, \"$schema\": \"https://vega.github.io/schema/vega-lite/v4.17.0.json\", \"datasets\": {\"data-2a6700b88613219c0348f5ad71778108\": [{\"X\": 1, \"Y\": 1, \"Colour\": \"Blue\"}, {\"X\": 1, \"Y\": 2, \"Colour\": \"Blue\"}, {\"X\": 1, \"Y\": 3, \"Colour\": \"Blue\"}, {\"X\": 1, \"Y\": 4, \"Colour\": \"Blue\"}, {\"X\": 1, \"Y\": 5, \"Colour\": \"Blue\"}, {\"X\": 1, \"Y\": 6, \"Colour\": \"Blue\"}, {\"X\": 1, \"Y\": 7, \"Colour\": \"Blue\"}, {\"X\": 1, \"Y\": 8, \"Colour\": \"Blue\"}, {\"X\": 1, \"Y\": 9, \"Colour\": \"Blue\"}, {\"X\": 1, \"Y\": 10, \"Colour\": \"Blue\"}, {\"X\": 1, \"Y\": 11, \"Colour\": \"Blue\"}, {\"X\": 2, \"Y\": 1, \"Colour\": \"Dark Brown\"}, {\"X\": 2, \"Y\": 2, \"Colour\": \"Dark Brown\"}, {\"X\": 2, \"Y\": 3, \"Colour\": \"Dark Brown\"}, {\"X\": 2, \"Y\": 4, \"Colour\": \"Brown\"}, {\"X\": 2, \"Y\": 5, \"Colour\": \"Light Blue\"}, {\"X\": 2, \"Y\": 6, \"Colour\": \"Light Blue\"}, {\"X\": 2, \"Y\": 7, \"Colour\": \"Light Blue\"}, {\"X\": 2, \"Y\": 8, \"Colour\": \"Light Blue\"}, {\"X\": 2, \"Y\": 9, \"Colour\": \"Light Blue\"}, {\"X\": 2, \"Y\": 10, \"Colour\": \"Light Blue\"}, {\"X\": 2, \"Y\": 11, \"Colour\": \"Blue\"}, {\"X\": 3, \"Y\": 1, \"Colour\": \"Brown\"}, {\"X\": 3, \"Y\": 2, \"Colour\": \"Brown\"}, {\"X\": 3, \"Y\": 3, \"Colour\": \"Brown\"}, {\"X\": 3, \"Y\": 4, \"Colour\": \"Dark Brown\"}, {\"X\": 3, \"Y\": 5, \"Colour\": \"Dark Brown\"}, {\"X\": 3, \"Y\": 6, \"Colour\": \"Dark Brown\"}, {\"X\": 3, \"Y\": 7, \"Colour\": \"Dark Brown\"}, {\"X\": 3, \"Y\": 8, \"Colour\": \"Dark Brown\"}, {\"X\": 3, \"Y\": 9, \"Colour\": \"Dark Brown\"}, {\"X\": 3, \"Y\": 10, \"Colour\": \"Light Blue\"}, {\"X\": 3, \"Y\": 11, \"Colour\": \"Blue\"}, {\"X\": 4, \"Y\": 1, \"Colour\": \"Brown\"}, {\"X\": 4, \"Y\": 2, \"Colour\": \"Brown\"}, {\"X\": 4, \"Y\": 3, \"Colour\": \"Brown\"}, {\"X\": 4, \"Y\": 4, \"Colour\": \"Brown\"}, {\"X\": 4, \"Y\": 5, \"Colour\": \"Brown\"}, {\"X\": 4, \"Y\": 6, \"Colour\": \"White\"}, {\"X\": 4, \"Y\": 7, \"Colour\": \"White\"}, {\"X\": 4, \"Y\": 8, \"Colour\": \"Brown\"}, {\"X\": 4, \"Y\": 9, \"Colour\": \"Brown\"}, {\"X\": 4, \"Y\": 10, \"Colour\": \"Dark Brown\"}, {\"X\": 4, \"Y\": 11, \"Colour\": \"Blue\"}, {\"X\": 5, \"Y\": 1, \"Colour\": \"Brown\"}, {\"X\": 5, \"Y\": 2, \"Colour\": \"Brown\"}, {\"X\": 5, \"Y\": 3, \"Colour\": \"Brown\"}, {\"X\": 5, \"Y\": 4, \"Colour\": \"Brown\"}, {\"X\": 5, \"Y\": 5, \"Colour\": \"Brown\"}, {\"X\": 5, \"Y\": 6, \"Colour\": \"Black\"}, {\"X\": 5, \"Y\": 7, \"Colour\": \"White\"}, {\"X\": 5, \"Y\": 8, \"Colour\": \"Brown\"}, {\"X\": 5, \"Y\": 9, \"Colour\": \"Dark Brown\"}, {\"X\": 5, \"Y\": 10, \"Colour\": \"Light Blue\"}, {\"X\": 5, \"Y\": 11, \"Colour\": \"Blue\"}, {\"X\": 6, \"Y\": 1, \"Colour\": \"Brown\"}, {\"X\": 6, \"Y\": 2, \"Colour\": \"Brown\"}, {\"X\": 6, \"Y\": 3, \"Colour\": \"Brown\"}, {\"X\": 6, \"Y\": 4, \"Colour\": \"Yellow\"}, {\"X\": 6, \"Y\": 5, \"Colour\": \"Yellow\"}, {\"X\": 6, \"Y\": 6, \"Colour\": \"Brown\"}, {\"X\": 6, \"Y\": 7, \"Colour\": \"Brown\"}, {\"X\": 6, \"Y\": 8, \"Colour\": \"Dark Brown\"}, {\"X\": 6, \"Y\": 9, \"Colour\": \"Brown\"}, {\"X\": 6, \"Y\": 10, \"Colour\": \"Light Blue\"}, {\"X\": 6, \"Y\": 11, \"Colour\": \"Blue\"}, {\"X\": 7, \"Y\": 1, \"Colour\": \"Brown\"}, {\"X\": 7, \"Y\": 2, \"Colour\": \"Brown\"}, {\"X\": 7, \"Y\": 3, \"Colour\": \"Brown\"}, {\"X\": 7, \"Y\": 4, \"Colour\": \"Brown\"}, {\"X\": 7, \"Y\": 5, \"Colour\": \"Brown\"}, {\"X\": 7, \"Y\": 6, \"Colour\": \"Black\"}, {\"X\": 7, \"Y\": 7, \"Colour\": \"White\"}, {\"X\": 7, \"Y\": 8, \"Colour\": \"Brown\"}, {\"X\": 7, \"Y\": 9, \"Colour\": \"Dark Brown\"}, {\"X\": 7, \"Y\": 10, \"Colour\": \"Light Blue\"}, {\"X\": 7, \"Y\": 11, \"Colour\": \"Blue\"}, {\"X\": 8, \"Y\": 1, \"Colour\": \"Brown\"}, {\"X\": 8, \"Y\": 2, \"Colour\": \"Brown\"}, {\"X\": 8, \"Y\": 3, \"Colour\": \"Brown\"}, {\"X\": 8, \"Y\": 4, \"Colour\": \"Brown\"}, {\"X\": 8, \"Y\": 5, \"Colour\": \"Brown\"}, {\"X\": 8, \"Y\": 6, \"Colour\": \"White\"}, {\"X\": 8, \"Y\": 7, \"Colour\": \"White\"}, {\"X\": 8, \"Y\": 8, \"Colour\": \"Brown\"}, {\"X\": 8, \"Y\": 9, \"Colour\": \"Brown\"}, {\"X\": 8, \"Y\": 10, \"Colour\": \"Dark Brown\"}, {\"X\": 8, \"Y\": 11, \"Colour\": \"Blue\"}, {\"X\": 9, \"Y\": 1, \"Colour\": \"Brown\"}, {\"X\": 9, \"Y\": 2, \"Colour\": \"Brown\"}, {\"X\": 9, \"Y\": 3, \"Colour\": \"Brown\"}, {\"X\": 9, \"Y\": 4, \"Colour\": \"Dark Brown\"}, {\"X\": 9, \"Y\": 5, \"Colour\": \"Dark Brown\"}, {\"X\": 9, \"Y\": 6, \"Colour\": \"Dark Brown\"}, {\"X\": 9, \"Y\": 7, \"Colour\": \"Dark Brown\"}, {\"X\": 9, \"Y\": 8, \"Colour\": \"Dark Brown\"}, {\"X\": 9, \"Y\": 9, \"Colour\": \"Dark Brown\"}, {\"X\": 9, \"Y\": 10, \"Colour\": \"Light Blue\"}, {\"X\": 9, \"Y\": 11, \"Colour\": \"Blue\"}, {\"X\": 10, \"Y\": 1, \"Colour\": \"Dark Brown\"}, {\"X\": 10, \"Y\": 2, \"Colour\": \"Dark Brown\"}, {\"X\": 10, \"Y\": 3, \"Colour\": \"Dark Brown\"}, {\"X\": 10, \"Y\": 4, \"Colour\": \"Brown\"}, {\"X\": 10, \"Y\": 5, \"Colour\": \"Light Blue\"}, {\"X\": 10, \"Y\": 6, \"Colour\": \"Light Blue\"}, {\"X\": 10, \"Y\": 7, \"Colour\": \"Light Blue\"}, {\"X\": 10, \"Y\": 8, \"Colour\": \"Light Blue\"}, {\"X\": 10, \"Y\": 9, \"Colour\": \"Light Blue\"}, {\"X\": 10, \"Y\": 10, \"Colour\": \"Light Blue\"}, {\"X\": 10, \"Y\": 11, \"Colour\": \"Blue\"}, {\"X\": 11, \"Y\": 1, \"Colour\": \"Blue\"}, {\"X\": 11, \"Y\": 2, \"Colour\": \"Blue\"}, {\"X\": 11, \"Y\": 3, \"Colour\": \"Blue\"}, {\"X\": 11, \"Y\": 4, \"Colour\": \"Blue\"}, {\"X\": 11, \"Y\": 5, \"Colour\": \"Blue\"}, {\"X\": 11, \"Y\": 6, \"Colour\": \"Blue\"}, {\"X\": 11, \"Y\": 7, \"Colour\": \"Blue\"}, {\"X\": 11, \"Y\": 8, \"Colour\": \"Blue\"}, {\"X\": 11, \"Y\": 9, \"Colour\": \"Blue\"}, {\"X\": 11, \"Y\": 10, \"Colour\": \"Blue\"}, {\"X\": 11, \"Y\": 11, \"Colour\": \"Blue\"}]}}, {\"mode\": \"vega-lite\"});\n",
       "</script>"
      ],
      "text/plain": [
       "alt.Chart(...)"
      ]
     },
     "execution_count": 3,
     "metadata": {},
     "output_type": "execute_result"
    }
   ],
   "source": [
    "alt.Chart(owl).mark_rect().encode(\n",
    "    x='X:O',\n",
    "    y='Y:O',\n",
    "    color='Colour:N'\n",
    ")"
   ]
  },
  {
   "cell_type": "markdown",
   "metadata": {},
   "source": [
    "Let's get these colours right..."
   ]
  },
  {
   "cell_type": "code",
   "execution_count": 4,
   "metadata": {},
   "outputs": [
    {
     "data": {
      "text/html": [
       "\n",
       "<div id=\"altair-viz-24e3d1331c6a4266b0af2afc458b5cb9\"></div>\n",
       "<script type=\"text/javascript\">\n",
       "  var VEGA_DEBUG = (typeof VEGA_DEBUG == \"undefined\") ? {} : VEGA_DEBUG;\n",
       "  (function(spec, embedOpt){\n",
       "    let outputDiv = document.currentScript.previousElementSibling;\n",
       "    if (outputDiv.id !== \"altair-viz-24e3d1331c6a4266b0af2afc458b5cb9\") {\n",
       "      outputDiv = document.getElementById(\"altair-viz-24e3d1331c6a4266b0af2afc458b5cb9\");\n",
       "    }\n",
       "    const paths = {\n",
       "      \"vega\": \"https://cdn.jsdelivr.net/npm//vega@5?noext\",\n",
       "      \"vega-lib\": \"https://cdn.jsdelivr.net/npm//vega-lib?noext\",\n",
       "      \"vega-lite\": \"https://cdn.jsdelivr.net/npm//vega-lite@4.17.0?noext\",\n",
       "      \"vega-embed\": \"https://cdn.jsdelivr.net/npm//vega-embed@6?noext\",\n",
       "    };\n",
       "\n",
       "    function maybeLoadScript(lib, version) {\n",
       "      var key = `${lib.replace(\"-\", \"\")}_version`;\n",
       "      return (VEGA_DEBUG[key] == version) ?\n",
       "        Promise.resolve(paths[lib]) :\n",
       "        new Promise(function(resolve, reject) {\n",
       "          var s = document.createElement('script');\n",
       "          document.getElementsByTagName(\"head\")[0].appendChild(s);\n",
       "          s.async = true;\n",
       "          s.onload = () => {\n",
       "            VEGA_DEBUG[key] = version;\n",
       "            return resolve(paths[lib]);\n",
       "          };\n",
       "          s.onerror = () => reject(`Error loading script: ${paths[lib]}`);\n",
       "          s.src = paths[lib];\n",
       "        });\n",
       "    }\n",
       "\n",
       "    function showError(err) {\n",
       "      outputDiv.innerHTML = `<div class=\"error\" style=\"color:red;\">${err}</div>`;\n",
       "      throw err;\n",
       "    }\n",
       "\n",
       "    function displayChart(vegaEmbed) {\n",
       "      vegaEmbed(outputDiv, spec, embedOpt)\n",
       "        .catch(err => showError(`Javascript Error: ${err.message}<br>This usually means there's a typo in your chart specification. See the javascript console for the full traceback.`));\n",
       "    }\n",
       "\n",
       "    if(typeof define === \"function\" && define.amd) {\n",
       "      requirejs.config({paths});\n",
       "      require([\"vega-embed\"], displayChart, err => showError(`Error loading script: ${err.message}`));\n",
       "    } else {\n",
       "      maybeLoadScript(\"vega\", \"5\")\n",
       "        .then(() => maybeLoadScript(\"vega-lite\", \"4.17.0\"))\n",
       "        .then(() => maybeLoadScript(\"vega-embed\", \"6\"))\n",
       "        .catch(showError)\n",
       "        .then(() => displayChart(vegaEmbed));\n",
       "    }\n",
       "  })({\"config\": {\"view\": {\"continuousWidth\": 400, \"continuousHeight\": 300}}, \"data\": {\"name\": \"data-2a6700b88613219c0348f5ad71778108\"}, \"mark\": \"rect\", \"encoding\": {\"color\": {\"field\": \"Colour\", \"legend\": null, \"scale\": {\"domain\": [\"Black\", \"Dark Blue\", \"Brown\", \"Dark Brown\", \"Light Blue\", \"White\", \"Yellow\"], \"range\": [\"#000000\", \"#088DA5\", \"#753A10\", \"#48240A\", \"#21CDF2\", \"#FFFFFF\", \"#FFBA3F\"]}, \"type\": \"nominal\"}, \"x\": {\"field\": \"X\", \"type\": \"ordinal\"}, \"y\": {\"field\": \"Y\", \"type\": \"ordinal\"}}, \"$schema\": \"https://vega.github.io/schema/vega-lite/v4.17.0.json\", \"datasets\": {\"data-2a6700b88613219c0348f5ad71778108\": [{\"X\": 1, \"Y\": 1, \"Colour\": \"Blue\"}, {\"X\": 1, \"Y\": 2, \"Colour\": \"Blue\"}, {\"X\": 1, \"Y\": 3, \"Colour\": \"Blue\"}, {\"X\": 1, \"Y\": 4, \"Colour\": \"Blue\"}, {\"X\": 1, \"Y\": 5, \"Colour\": \"Blue\"}, {\"X\": 1, \"Y\": 6, \"Colour\": \"Blue\"}, {\"X\": 1, \"Y\": 7, \"Colour\": \"Blue\"}, {\"X\": 1, \"Y\": 8, \"Colour\": \"Blue\"}, {\"X\": 1, \"Y\": 9, \"Colour\": \"Blue\"}, {\"X\": 1, \"Y\": 10, \"Colour\": \"Blue\"}, {\"X\": 1, \"Y\": 11, \"Colour\": \"Blue\"}, {\"X\": 2, \"Y\": 1, \"Colour\": \"Dark Brown\"}, {\"X\": 2, \"Y\": 2, \"Colour\": \"Dark Brown\"}, {\"X\": 2, \"Y\": 3, \"Colour\": \"Dark Brown\"}, {\"X\": 2, \"Y\": 4, \"Colour\": \"Brown\"}, {\"X\": 2, \"Y\": 5, \"Colour\": \"Light Blue\"}, {\"X\": 2, \"Y\": 6, \"Colour\": \"Light Blue\"}, {\"X\": 2, \"Y\": 7, \"Colour\": \"Light Blue\"}, {\"X\": 2, \"Y\": 8, \"Colour\": \"Light Blue\"}, {\"X\": 2, \"Y\": 9, \"Colour\": \"Light Blue\"}, {\"X\": 2, \"Y\": 10, \"Colour\": \"Light Blue\"}, {\"X\": 2, \"Y\": 11, \"Colour\": \"Blue\"}, {\"X\": 3, \"Y\": 1, \"Colour\": \"Brown\"}, {\"X\": 3, \"Y\": 2, \"Colour\": \"Brown\"}, {\"X\": 3, \"Y\": 3, \"Colour\": \"Brown\"}, {\"X\": 3, \"Y\": 4, \"Colour\": \"Dark Brown\"}, {\"X\": 3, \"Y\": 5, \"Colour\": \"Dark Brown\"}, {\"X\": 3, \"Y\": 6, \"Colour\": \"Dark Brown\"}, {\"X\": 3, \"Y\": 7, \"Colour\": \"Dark Brown\"}, {\"X\": 3, \"Y\": 8, \"Colour\": \"Dark Brown\"}, {\"X\": 3, \"Y\": 9, \"Colour\": \"Dark Brown\"}, {\"X\": 3, \"Y\": 10, \"Colour\": \"Light Blue\"}, {\"X\": 3, \"Y\": 11, \"Colour\": \"Blue\"}, {\"X\": 4, \"Y\": 1, \"Colour\": \"Brown\"}, {\"X\": 4, \"Y\": 2, \"Colour\": \"Brown\"}, {\"X\": 4, \"Y\": 3, \"Colour\": \"Brown\"}, {\"X\": 4, \"Y\": 4, \"Colour\": \"Brown\"}, {\"X\": 4, \"Y\": 5, \"Colour\": \"Brown\"}, {\"X\": 4, \"Y\": 6, \"Colour\": \"White\"}, {\"X\": 4, \"Y\": 7, \"Colour\": \"White\"}, {\"X\": 4, \"Y\": 8, \"Colour\": \"Brown\"}, {\"X\": 4, \"Y\": 9, \"Colour\": \"Brown\"}, {\"X\": 4, \"Y\": 10, \"Colour\": \"Dark Brown\"}, {\"X\": 4, \"Y\": 11, \"Colour\": \"Blue\"}, {\"X\": 5, \"Y\": 1, \"Colour\": \"Brown\"}, {\"X\": 5, \"Y\": 2, \"Colour\": \"Brown\"}, {\"X\": 5, \"Y\": 3, \"Colour\": \"Brown\"}, {\"X\": 5, \"Y\": 4, \"Colour\": \"Brown\"}, {\"X\": 5, \"Y\": 5, \"Colour\": \"Brown\"}, {\"X\": 5, \"Y\": 6, \"Colour\": \"Black\"}, {\"X\": 5, \"Y\": 7, \"Colour\": \"White\"}, {\"X\": 5, \"Y\": 8, \"Colour\": \"Brown\"}, {\"X\": 5, \"Y\": 9, \"Colour\": \"Dark Brown\"}, {\"X\": 5, \"Y\": 10, \"Colour\": \"Light Blue\"}, {\"X\": 5, \"Y\": 11, \"Colour\": \"Blue\"}, {\"X\": 6, \"Y\": 1, \"Colour\": \"Brown\"}, {\"X\": 6, \"Y\": 2, \"Colour\": \"Brown\"}, {\"X\": 6, \"Y\": 3, \"Colour\": \"Brown\"}, {\"X\": 6, \"Y\": 4, \"Colour\": \"Yellow\"}, {\"X\": 6, \"Y\": 5, \"Colour\": \"Yellow\"}, {\"X\": 6, \"Y\": 6, \"Colour\": \"Brown\"}, {\"X\": 6, \"Y\": 7, \"Colour\": \"Brown\"}, {\"X\": 6, \"Y\": 8, \"Colour\": \"Dark Brown\"}, {\"X\": 6, \"Y\": 9, \"Colour\": \"Brown\"}, {\"X\": 6, \"Y\": 10, \"Colour\": \"Light Blue\"}, {\"X\": 6, \"Y\": 11, \"Colour\": \"Blue\"}, {\"X\": 7, \"Y\": 1, \"Colour\": \"Brown\"}, {\"X\": 7, \"Y\": 2, \"Colour\": \"Brown\"}, {\"X\": 7, \"Y\": 3, \"Colour\": \"Brown\"}, {\"X\": 7, \"Y\": 4, \"Colour\": \"Brown\"}, {\"X\": 7, \"Y\": 5, \"Colour\": \"Brown\"}, {\"X\": 7, \"Y\": 6, \"Colour\": \"Black\"}, {\"X\": 7, \"Y\": 7, \"Colour\": \"White\"}, {\"X\": 7, \"Y\": 8, \"Colour\": \"Brown\"}, {\"X\": 7, \"Y\": 9, \"Colour\": \"Dark Brown\"}, {\"X\": 7, \"Y\": 10, \"Colour\": \"Light Blue\"}, {\"X\": 7, \"Y\": 11, \"Colour\": \"Blue\"}, {\"X\": 8, \"Y\": 1, \"Colour\": \"Brown\"}, {\"X\": 8, \"Y\": 2, \"Colour\": \"Brown\"}, {\"X\": 8, \"Y\": 3, \"Colour\": \"Brown\"}, {\"X\": 8, \"Y\": 4, \"Colour\": \"Brown\"}, {\"X\": 8, \"Y\": 5, \"Colour\": \"Brown\"}, {\"X\": 8, \"Y\": 6, \"Colour\": \"White\"}, {\"X\": 8, \"Y\": 7, \"Colour\": \"White\"}, {\"X\": 8, \"Y\": 8, \"Colour\": \"Brown\"}, {\"X\": 8, \"Y\": 9, \"Colour\": \"Brown\"}, {\"X\": 8, \"Y\": 10, \"Colour\": \"Dark Brown\"}, {\"X\": 8, \"Y\": 11, \"Colour\": \"Blue\"}, {\"X\": 9, \"Y\": 1, \"Colour\": \"Brown\"}, {\"X\": 9, \"Y\": 2, \"Colour\": \"Brown\"}, {\"X\": 9, \"Y\": 3, \"Colour\": \"Brown\"}, {\"X\": 9, \"Y\": 4, \"Colour\": \"Dark Brown\"}, {\"X\": 9, \"Y\": 5, \"Colour\": \"Dark Brown\"}, {\"X\": 9, \"Y\": 6, \"Colour\": \"Dark Brown\"}, {\"X\": 9, \"Y\": 7, \"Colour\": \"Dark Brown\"}, {\"X\": 9, \"Y\": 8, \"Colour\": \"Dark Brown\"}, {\"X\": 9, \"Y\": 9, \"Colour\": \"Dark Brown\"}, {\"X\": 9, \"Y\": 10, \"Colour\": \"Light Blue\"}, {\"X\": 9, \"Y\": 11, \"Colour\": \"Blue\"}, {\"X\": 10, \"Y\": 1, \"Colour\": \"Dark Brown\"}, {\"X\": 10, \"Y\": 2, \"Colour\": \"Dark Brown\"}, {\"X\": 10, \"Y\": 3, \"Colour\": \"Dark Brown\"}, {\"X\": 10, \"Y\": 4, \"Colour\": \"Brown\"}, {\"X\": 10, \"Y\": 5, \"Colour\": \"Light Blue\"}, {\"X\": 10, \"Y\": 6, \"Colour\": \"Light Blue\"}, {\"X\": 10, \"Y\": 7, \"Colour\": \"Light Blue\"}, {\"X\": 10, \"Y\": 8, \"Colour\": \"Light Blue\"}, {\"X\": 10, \"Y\": 9, \"Colour\": \"Light Blue\"}, {\"X\": 10, \"Y\": 10, \"Colour\": \"Light Blue\"}, {\"X\": 10, \"Y\": 11, \"Colour\": \"Blue\"}, {\"X\": 11, \"Y\": 1, \"Colour\": \"Blue\"}, {\"X\": 11, \"Y\": 2, \"Colour\": \"Blue\"}, {\"X\": 11, \"Y\": 3, \"Colour\": \"Blue\"}, {\"X\": 11, \"Y\": 4, \"Colour\": \"Blue\"}, {\"X\": 11, \"Y\": 5, \"Colour\": \"Blue\"}, {\"X\": 11, \"Y\": 6, \"Colour\": \"Blue\"}, {\"X\": 11, \"Y\": 7, \"Colour\": \"Blue\"}, {\"X\": 11, \"Y\": 8, \"Colour\": \"Blue\"}, {\"X\": 11, \"Y\": 9, \"Colour\": \"Blue\"}, {\"X\": 11, \"Y\": 10, \"Colour\": \"Blue\"}, {\"X\": 11, \"Y\": 11, \"Colour\": \"Blue\"}]}}, {\"mode\": \"vega-lite\"});\n",
       "</script>"
      ],
      "text/plain": [
       "alt.Chart(...)"
      ]
     },
     "execution_count": 4,
     "metadata": {},
     "output_type": "execute_result"
    }
   ],
   "source": [
    "alt.Chart(owl).mark_rect().encode(\n",
    "    x='X:O',\n",
    "    y='Y:O',\n",
    "    color=alt.Color('Colour', \n",
    "        scale=alt.Scale(\n",
    "        domain=['Black', 'Dark Blue', 'Brown', 'Dark Brown', 'Light Blue', 'White', 'Yellow'], \n",
    "        range=[\"#000000\", \"#088DA5\", \"#753A10\", \"#48240A\", \"#21CDF2\", \"#FFFFFF\", \"#FFBA3F\"]\n",
    "    ),\n",
    "    legend=None)\n",
    ")"
   ]
  },
  {
   "cell_type": "code",
   "execution_count": 5,
   "metadata": {},
   "outputs": [
    {
     "data": {
      "text/html": [
       "\n",
       "<div id=\"altair-viz-caba92f3053744a8ab10e76dffd4b019\"></div>\n",
       "<script type=\"text/javascript\">\n",
       "  var VEGA_DEBUG = (typeof VEGA_DEBUG == \"undefined\") ? {} : VEGA_DEBUG;\n",
       "  (function(spec, embedOpt){\n",
       "    let outputDiv = document.currentScript.previousElementSibling;\n",
       "    if (outputDiv.id !== \"altair-viz-caba92f3053744a8ab10e76dffd4b019\") {\n",
       "      outputDiv = document.getElementById(\"altair-viz-caba92f3053744a8ab10e76dffd4b019\");\n",
       "    }\n",
       "    const paths = {\n",
       "      \"vega\": \"https://cdn.jsdelivr.net/npm//vega@5?noext\",\n",
       "      \"vega-lib\": \"https://cdn.jsdelivr.net/npm//vega-lib?noext\",\n",
       "      \"vega-lite\": \"https://cdn.jsdelivr.net/npm//vega-lite@4.17.0?noext\",\n",
       "      \"vega-embed\": \"https://cdn.jsdelivr.net/npm//vega-embed@6?noext\",\n",
       "    };\n",
       "\n",
       "    function maybeLoadScript(lib, version) {\n",
       "      var key = `${lib.replace(\"-\", \"\")}_version`;\n",
       "      return (VEGA_DEBUG[key] == version) ?\n",
       "        Promise.resolve(paths[lib]) :\n",
       "        new Promise(function(resolve, reject) {\n",
       "          var s = document.createElement('script');\n",
       "          document.getElementsByTagName(\"head\")[0].appendChild(s);\n",
       "          s.async = true;\n",
       "          s.onload = () => {\n",
       "            VEGA_DEBUG[key] = version;\n",
       "            return resolve(paths[lib]);\n",
       "          };\n",
       "          s.onerror = () => reject(`Error loading script: ${paths[lib]}`);\n",
       "          s.src = paths[lib];\n",
       "        });\n",
       "    }\n",
       "\n",
       "    function showError(err) {\n",
       "      outputDiv.innerHTML = `<div class=\"error\" style=\"color:red;\">${err}</div>`;\n",
       "      throw err;\n",
       "    }\n",
       "\n",
       "    function displayChart(vegaEmbed) {\n",
       "      vegaEmbed(outputDiv, spec, embedOpt)\n",
       "        .catch(err => showError(`Javascript Error: ${err.message}<br>This usually means there's a typo in your chart specification. See the javascript console for the full traceback.`));\n",
       "    }\n",
       "\n",
       "    if(typeof define === \"function\" && define.amd) {\n",
       "      requirejs.config({paths});\n",
       "      require([\"vega-embed\"], displayChart, err => showError(`Error loading script: ${err.message}`));\n",
       "    } else {\n",
       "      maybeLoadScript(\"vega\", \"5\")\n",
       "        .then(() => maybeLoadScript(\"vega-lite\", \"4.17.0\"))\n",
       "        .then(() => maybeLoadScript(\"vega-embed\", \"6\"))\n",
       "        .catch(showError)\n",
       "        .then(() => displayChart(vegaEmbed));\n",
       "    }\n",
       "  })({\"config\": {\"view\": {\"continuousWidth\": 400, \"continuousHeight\": 300}}, \"data\": {\"name\": \"data-2a6700b88613219c0348f5ad71778108\"}, \"mark\": \"rect\", \"encoding\": {\"color\": {\"field\": \"Colour\", \"legend\": null, \"scale\": {\"domain\": [\"Black\", \"Dark Blue\", \"Brown\", \"Dark Brown\", \"Light Blue\", \"White\", \"Yellow\"], \"range\": [\"#000000\", \"#088DA5\", \"#753A10\", \"#48240A\", \"#21CDF2\", \"#FFFFFF\", \"#FFBA3F\"]}, \"type\": \"nominal\"}, \"x\": {\"field\": \"X\", \"type\": \"ordinal\"}, \"y\": {\"field\": \"Y\", \"sort\": \"descending\", \"type\": \"ordinal\"}}, \"$schema\": \"https://vega.github.io/schema/vega-lite/v4.17.0.json\", \"datasets\": {\"data-2a6700b88613219c0348f5ad71778108\": [{\"X\": 1, \"Y\": 1, \"Colour\": \"Blue\"}, {\"X\": 1, \"Y\": 2, \"Colour\": \"Blue\"}, {\"X\": 1, \"Y\": 3, \"Colour\": \"Blue\"}, {\"X\": 1, \"Y\": 4, \"Colour\": \"Blue\"}, {\"X\": 1, \"Y\": 5, \"Colour\": \"Blue\"}, {\"X\": 1, \"Y\": 6, \"Colour\": \"Blue\"}, {\"X\": 1, \"Y\": 7, \"Colour\": \"Blue\"}, {\"X\": 1, \"Y\": 8, \"Colour\": \"Blue\"}, {\"X\": 1, \"Y\": 9, \"Colour\": \"Blue\"}, {\"X\": 1, \"Y\": 10, \"Colour\": \"Blue\"}, {\"X\": 1, \"Y\": 11, \"Colour\": \"Blue\"}, {\"X\": 2, \"Y\": 1, \"Colour\": \"Dark Brown\"}, {\"X\": 2, \"Y\": 2, \"Colour\": \"Dark Brown\"}, {\"X\": 2, \"Y\": 3, \"Colour\": \"Dark Brown\"}, {\"X\": 2, \"Y\": 4, \"Colour\": \"Brown\"}, {\"X\": 2, \"Y\": 5, \"Colour\": \"Light Blue\"}, {\"X\": 2, \"Y\": 6, \"Colour\": \"Light Blue\"}, {\"X\": 2, \"Y\": 7, \"Colour\": \"Light Blue\"}, {\"X\": 2, \"Y\": 8, \"Colour\": \"Light Blue\"}, {\"X\": 2, \"Y\": 9, \"Colour\": \"Light Blue\"}, {\"X\": 2, \"Y\": 10, \"Colour\": \"Light Blue\"}, {\"X\": 2, \"Y\": 11, \"Colour\": \"Blue\"}, {\"X\": 3, \"Y\": 1, \"Colour\": \"Brown\"}, {\"X\": 3, \"Y\": 2, \"Colour\": \"Brown\"}, {\"X\": 3, \"Y\": 3, \"Colour\": \"Brown\"}, {\"X\": 3, \"Y\": 4, \"Colour\": \"Dark Brown\"}, {\"X\": 3, \"Y\": 5, \"Colour\": \"Dark Brown\"}, {\"X\": 3, \"Y\": 6, \"Colour\": \"Dark Brown\"}, {\"X\": 3, \"Y\": 7, \"Colour\": \"Dark Brown\"}, {\"X\": 3, \"Y\": 8, \"Colour\": \"Dark Brown\"}, {\"X\": 3, \"Y\": 9, \"Colour\": \"Dark Brown\"}, {\"X\": 3, \"Y\": 10, \"Colour\": \"Light Blue\"}, {\"X\": 3, \"Y\": 11, \"Colour\": \"Blue\"}, {\"X\": 4, \"Y\": 1, \"Colour\": \"Brown\"}, {\"X\": 4, \"Y\": 2, \"Colour\": \"Brown\"}, {\"X\": 4, \"Y\": 3, \"Colour\": \"Brown\"}, {\"X\": 4, \"Y\": 4, \"Colour\": \"Brown\"}, {\"X\": 4, \"Y\": 5, \"Colour\": \"Brown\"}, {\"X\": 4, \"Y\": 6, \"Colour\": \"White\"}, {\"X\": 4, \"Y\": 7, \"Colour\": \"White\"}, {\"X\": 4, \"Y\": 8, \"Colour\": \"Brown\"}, {\"X\": 4, \"Y\": 9, \"Colour\": \"Brown\"}, {\"X\": 4, \"Y\": 10, \"Colour\": \"Dark Brown\"}, {\"X\": 4, \"Y\": 11, \"Colour\": \"Blue\"}, {\"X\": 5, \"Y\": 1, \"Colour\": \"Brown\"}, {\"X\": 5, \"Y\": 2, \"Colour\": \"Brown\"}, {\"X\": 5, \"Y\": 3, \"Colour\": \"Brown\"}, {\"X\": 5, \"Y\": 4, \"Colour\": \"Brown\"}, {\"X\": 5, \"Y\": 5, \"Colour\": \"Brown\"}, {\"X\": 5, \"Y\": 6, \"Colour\": \"Black\"}, {\"X\": 5, \"Y\": 7, \"Colour\": \"White\"}, {\"X\": 5, \"Y\": 8, \"Colour\": \"Brown\"}, {\"X\": 5, \"Y\": 9, \"Colour\": \"Dark Brown\"}, {\"X\": 5, \"Y\": 10, \"Colour\": \"Light Blue\"}, {\"X\": 5, \"Y\": 11, \"Colour\": \"Blue\"}, {\"X\": 6, \"Y\": 1, \"Colour\": \"Brown\"}, {\"X\": 6, \"Y\": 2, \"Colour\": \"Brown\"}, {\"X\": 6, \"Y\": 3, \"Colour\": \"Brown\"}, {\"X\": 6, \"Y\": 4, \"Colour\": \"Yellow\"}, {\"X\": 6, \"Y\": 5, \"Colour\": \"Yellow\"}, {\"X\": 6, \"Y\": 6, \"Colour\": \"Brown\"}, {\"X\": 6, \"Y\": 7, \"Colour\": \"Brown\"}, {\"X\": 6, \"Y\": 8, \"Colour\": \"Dark Brown\"}, {\"X\": 6, \"Y\": 9, \"Colour\": \"Brown\"}, {\"X\": 6, \"Y\": 10, \"Colour\": \"Light Blue\"}, {\"X\": 6, \"Y\": 11, \"Colour\": \"Blue\"}, {\"X\": 7, \"Y\": 1, \"Colour\": \"Brown\"}, {\"X\": 7, \"Y\": 2, \"Colour\": \"Brown\"}, {\"X\": 7, \"Y\": 3, \"Colour\": \"Brown\"}, {\"X\": 7, \"Y\": 4, \"Colour\": \"Brown\"}, {\"X\": 7, \"Y\": 5, \"Colour\": \"Brown\"}, {\"X\": 7, \"Y\": 6, \"Colour\": \"Black\"}, {\"X\": 7, \"Y\": 7, \"Colour\": \"White\"}, {\"X\": 7, \"Y\": 8, \"Colour\": \"Brown\"}, {\"X\": 7, \"Y\": 9, \"Colour\": \"Dark Brown\"}, {\"X\": 7, \"Y\": 10, \"Colour\": \"Light Blue\"}, {\"X\": 7, \"Y\": 11, \"Colour\": \"Blue\"}, {\"X\": 8, \"Y\": 1, \"Colour\": \"Brown\"}, {\"X\": 8, \"Y\": 2, \"Colour\": \"Brown\"}, {\"X\": 8, \"Y\": 3, \"Colour\": \"Brown\"}, {\"X\": 8, \"Y\": 4, \"Colour\": \"Brown\"}, {\"X\": 8, \"Y\": 5, \"Colour\": \"Brown\"}, {\"X\": 8, \"Y\": 6, \"Colour\": \"White\"}, {\"X\": 8, \"Y\": 7, \"Colour\": \"White\"}, {\"X\": 8, \"Y\": 8, \"Colour\": \"Brown\"}, {\"X\": 8, \"Y\": 9, \"Colour\": \"Brown\"}, {\"X\": 8, \"Y\": 10, \"Colour\": \"Dark Brown\"}, {\"X\": 8, \"Y\": 11, \"Colour\": \"Blue\"}, {\"X\": 9, \"Y\": 1, \"Colour\": \"Brown\"}, {\"X\": 9, \"Y\": 2, \"Colour\": \"Brown\"}, {\"X\": 9, \"Y\": 3, \"Colour\": \"Brown\"}, {\"X\": 9, \"Y\": 4, \"Colour\": \"Dark Brown\"}, {\"X\": 9, \"Y\": 5, \"Colour\": \"Dark Brown\"}, {\"X\": 9, \"Y\": 6, \"Colour\": \"Dark Brown\"}, {\"X\": 9, \"Y\": 7, \"Colour\": \"Dark Brown\"}, {\"X\": 9, \"Y\": 8, \"Colour\": \"Dark Brown\"}, {\"X\": 9, \"Y\": 9, \"Colour\": \"Dark Brown\"}, {\"X\": 9, \"Y\": 10, \"Colour\": \"Light Blue\"}, {\"X\": 9, \"Y\": 11, \"Colour\": \"Blue\"}, {\"X\": 10, \"Y\": 1, \"Colour\": \"Dark Brown\"}, {\"X\": 10, \"Y\": 2, \"Colour\": \"Dark Brown\"}, {\"X\": 10, \"Y\": 3, \"Colour\": \"Dark Brown\"}, {\"X\": 10, \"Y\": 4, \"Colour\": \"Brown\"}, {\"X\": 10, \"Y\": 5, \"Colour\": \"Light Blue\"}, {\"X\": 10, \"Y\": 6, \"Colour\": \"Light Blue\"}, {\"X\": 10, \"Y\": 7, \"Colour\": \"Light Blue\"}, {\"X\": 10, \"Y\": 8, \"Colour\": \"Light Blue\"}, {\"X\": 10, \"Y\": 9, \"Colour\": \"Light Blue\"}, {\"X\": 10, \"Y\": 10, \"Colour\": \"Light Blue\"}, {\"X\": 10, \"Y\": 11, \"Colour\": \"Blue\"}, {\"X\": 11, \"Y\": 1, \"Colour\": \"Blue\"}, {\"X\": 11, \"Y\": 2, \"Colour\": \"Blue\"}, {\"X\": 11, \"Y\": 3, \"Colour\": \"Blue\"}, {\"X\": 11, \"Y\": 4, \"Colour\": \"Blue\"}, {\"X\": 11, \"Y\": 5, \"Colour\": \"Blue\"}, {\"X\": 11, \"Y\": 6, \"Colour\": \"Blue\"}, {\"X\": 11, \"Y\": 7, \"Colour\": \"Blue\"}, {\"X\": 11, \"Y\": 8, \"Colour\": \"Blue\"}, {\"X\": 11, \"Y\": 9, \"Colour\": \"Blue\"}, {\"X\": 11, \"Y\": 10, \"Colour\": \"Blue\"}, {\"X\": 11, \"Y\": 11, \"Colour\": \"Blue\"}]}}, {\"mode\": \"vega-lite\"});\n",
       "</script>"
      ],
      "text/plain": [
       "alt.Chart(...)"
      ]
     },
     "execution_count": 5,
     "metadata": {},
     "output_type": "execute_result"
    }
   ],
   "source": [
    "alt.Chart(owl).mark_rect().encode(\n",
    "    x='X:O',\n",
    "    # whoops!\n",
    "    y=alt.Y('Y:O', sort='descending'),\n",
    "    color=alt.Color('Colour', \n",
    "        scale=alt.Scale(\n",
    "        domain=['Black', 'Dark Blue', 'Brown', 'Dark Brown', 'Light Blue', 'White', 'Yellow'], \n",
    "        range=[\"#000000\", \"#088DA5\", \"#753A10\", \"#48240A\", \"#21CDF2\", \"#FFFFFF\", \"#FFBA3F\"]\n",
    "    ),\n",
    "    legend=None)\n",
    ")"
   ]
  },
  {
   "cell_type": "markdown",
   "metadata": {},
   "source": [
    "Clean it all up..."
   ]
  },
  {
   "cell_type": "code",
   "execution_count": 9,
   "metadata": {},
   "outputs": [
    {
     "data": {
      "text/html": [
       "\n",
       "<div id=\"altair-viz-6f6a947479424ce7992e3c3368b31549\"></div>\n",
       "<script type=\"text/javascript\">\n",
       "  var VEGA_DEBUG = (typeof VEGA_DEBUG == \"undefined\") ? {} : VEGA_DEBUG;\n",
       "  (function(spec, embedOpt){\n",
       "    let outputDiv = document.currentScript.previousElementSibling;\n",
       "    if (outputDiv.id !== \"altair-viz-6f6a947479424ce7992e3c3368b31549\") {\n",
       "      outputDiv = document.getElementById(\"altair-viz-6f6a947479424ce7992e3c3368b31549\");\n",
       "    }\n",
       "    const paths = {\n",
       "      \"vega\": \"https://cdn.jsdelivr.net/npm//vega@5?noext\",\n",
       "      \"vega-lib\": \"https://cdn.jsdelivr.net/npm//vega-lib?noext\",\n",
       "      \"vega-lite\": \"https://cdn.jsdelivr.net/npm//vega-lite@4.17.0?noext\",\n",
       "      \"vega-embed\": \"https://cdn.jsdelivr.net/npm//vega-embed@6?noext\",\n",
       "    };\n",
       "\n",
       "    function maybeLoadScript(lib, version) {\n",
       "      var key = `${lib.replace(\"-\", \"\")}_version`;\n",
       "      return (VEGA_DEBUG[key] == version) ?\n",
       "        Promise.resolve(paths[lib]) :\n",
       "        new Promise(function(resolve, reject) {\n",
       "          var s = document.createElement('script');\n",
       "          document.getElementsByTagName(\"head\")[0].appendChild(s);\n",
       "          s.async = true;\n",
       "          s.onload = () => {\n",
       "            VEGA_DEBUG[key] = version;\n",
       "            return resolve(paths[lib]);\n",
       "          };\n",
       "          s.onerror = () => reject(`Error loading script: ${paths[lib]}`);\n",
       "          s.src = paths[lib];\n",
       "        });\n",
       "    }\n",
       "\n",
       "    function showError(err) {\n",
       "      outputDiv.innerHTML = `<div class=\"error\" style=\"color:red;\">${err}</div>`;\n",
       "      throw err;\n",
       "    }\n",
       "\n",
       "    function displayChart(vegaEmbed) {\n",
       "      vegaEmbed(outputDiv, spec, embedOpt)\n",
       "        .catch(err => showError(`Javascript Error: ${err.message}<br>This usually means there's a typo in your chart specification. See the javascript console for the full traceback.`));\n",
       "    }\n",
       "\n",
       "    if(typeof define === \"function\" && define.amd) {\n",
       "      requirejs.config({paths});\n",
       "      require([\"vega-embed\"], displayChart, err => showError(`Error loading script: ${err.message}`));\n",
       "    } else {\n",
       "      maybeLoadScript(\"vega\", \"5\")\n",
       "        .then(() => maybeLoadScript(\"vega-lite\", \"4.17.0\"))\n",
       "        .then(() => maybeLoadScript(\"vega-embed\", \"6\"))\n",
       "        .catch(showError)\n",
       "        .then(() => displayChart(vegaEmbed));\n",
       "    }\n",
       "  })({\"config\": {\"view\": {\"continuousWidth\": 400, \"continuousHeight\": 300, \"strokeWidth\": 0}, \"axis\": {\"grid\": false}}, \"data\": {\"name\": \"data-2a6700b88613219c0348f5ad71778108\"}, \"mark\": \"rect\", \"encoding\": {\"color\": {\"field\": \"Colour\", \"legend\": null, \"scale\": {\"domain\": [\"Black\", \"Dark Blue\", \"Brown\", \"Dark Brown\", \"Light Blue\", \"White\", \"Yellow\"], \"range\": [\"#000000\", \"#088DA5\", \"#753A10\", \"#48240A\", \"#21CDF2\", \"#FFFFFF\", \"#FFBA3F\"]}, \"type\": \"nominal\"}, \"x\": {\"axis\": null, \"field\": \"X\", \"type\": \"ordinal\"}, \"y\": {\"axis\": null, \"field\": \"Y\", \"sort\": \"descending\", \"type\": \"ordinal\"}}, \"$schema\": \"https://vega.github.io/schema/vega-lite/v4.17.0.json\", \"datasets\": {\"data-2a6700b88613219c0348f5ad71778108\": [{\"X\": 1, \"Y\": 1, \"Colour\": \"Blue\"}, {\"X\": 1, \"Y\": 2, \"Colour\": \"Blue\"}, {\"X\": 1, \"Y\": 3, \"Colour\": \"Blue\"}, {\"X\": 1, \"Y\": 4, \"Colour\": \"Blue\"}, {\"X\": 1, \"Y\": 5, \"Colour\": \"Blue\"}, {\"X\": 1, \"Y\": 6, \"Colour\": \"Blue\"}, {\"X\": 1, \"Y\": 7, \"Colour\": \"Blue\"}, {\"X\": 1, \"Y\": 8, \"Colour\": \"Blue\"}, {\"X\": 1, \"Y\": 9, \"Colour\": \"Blue\"}, {\"X\": 1, \"Y\": 10, \"Colour\": \"Blue\"}, {\"X\": 1, \"Y\": 11, \"Colour\": \"Blue\"}, {\"X\": 2, \"Y\": 1, \"Colour\": \"Dark Brown\"}, {\"X\": 2, \"Y\": 2, \"Colour\": \"Dark Brown\"}, {\"X\": 2, \"Y\": 3, \"Colour\": \"Dark Brown\"}, {\"X\": 2, \"Y\": 4, \"Colour\": \"Brown\"}, {\"X\": 2, \"Y\": 5, \"Colour\": \"Light Blue\"}, {\"X\": 2, \"Y\": 6, \"Colour\": \"Light Blue\"}, {\"X\": 2, \"Y\": 7, \"Colour\": \"Light Blue\"}, {\"X\": 2, \"Y\": 8, \"Colour\": \"Light Blue\"}, {\"X\": 2, \"Y\": 9, \"Colour\": \"Light Blue\"}, {\"X\": 2, \"Y\": 10, \"Colour\": \"Light Blue\"}, {\"X\": 2, \"Y\": 11, \"Colour\": \"Blue\"}, {\"X\": 3, \"Y\": 1, \"Colour\": \"Brown\"}, {\"X\": 3, \"Y\": 2, \"Colour\": \"Brown\"}, {\"X\": 3, \"Y\": 3, \"Colour\": \"Brown\"}, {\"X\": 3, \"Y\": 4, \"Colour\": \"Dark Brown\"}, {\"X\": 3, \"Y\": 5, \"Colour\": \"Dark Brown\"}, {\"X\": 3, \"Y\": 6, \"Colour\": \"Dark Brown\"}, {\"X\": 3, \"Y\": 7, \"Colour\": \"Dark Brown\"}, {\"X\": 3, \"Y\": 8, \"Colour\": \"Dark Brown\"}, {\"X\": 3, \"Y\": 9, \"Colour\": \"Dark Brown\"}, {\"X\": 3, \"Y\": 10, \"Colour\": \"Light Blue\"}, {\"X\": 3, \"Y\": 11, \"Colour\": \"Blue\"}, {\"X\": 4, \"Y\": 1, \"Colour\": \"Brown\"}, {\"X\": 4, \"Y\": 2, \"Colour\": \"Brown\"}, {\"X\": 4, \"Y\": 3, \"Colour\": \"Brown\"}, {\"X\": 4, \"Y\": 4, \"Colour\": \"Brown\"}, {\"X\": 4, \"Y\": 5, \"Colour\": \"Brown\"}, {\"X\": 4, \"Y\": 6, \"Colour\": \"White\"}, {\"X\": 4, \"Y\": 7, \"Colour\": \"White\"}, {\"X\": 4, \"Y\": 8, \"Colour\": \"Brown\"}, {\"X\": 4, \"Y\": 9, \"Colour\": \"Brown\"}, {\"X\": 4, \"Y\": 10, \"Colour\": \"Dark Brown\"}, {\"X\": 4, \"Y\": 11, \"Colour\": \"Blue\"}, {\"X\": 5, \"Y\": 1, \"Colour\": \"Brown\"}, {\"X\": 5, \"Y\": 2, \"Colour\": \"Brown\"}, {\"X\": 5, \"Y\": 3, \"Colour\": \"Brown\"}, {\"X\": 5, \"Y\": 4, \"Colour\": \"Brown\"}, {\"X\": 5, \"Y\": 5, \"Colour\": \"Brown\"}, {\"X\": 5, \"Y\": 6, \"Colour\": \"Black\"}, {\"X\": 5, \"Y\": 7, \"Colour\": \"White\"}, {\"X\": 5, \"Y\": 8, \"Colour\": \"Brown\"}, {\"X\": 5, \"Y\": 9, \"Colour\": \"Dark Brown\"}, {\"X\": 5, \"Y\": 10, \"Colour\": \"Light Blue\"}, {\"X\": 5, \"Y\": 11, \"Colour\": \"Blue\"}, {\"X\": 6, \"Y\": 1, \"Colour\": \"Brown\"}, {\"X\": 6, \"Y\": 2, \"Colour\": \"Brown\"}, {\"X\": 6, \"Y\": 3, \"Colour\": \"Brown\"}, {\"X\": 6, \"Y\": 4, \"Colour\": \"Yellow\"}, {\"X\": 6, \"Y\": 5, \"Colour\": \"Yellow\"}, {\"X\": 6, \"Y\": 6, \"Colour\": \"Brown\"}, {\"X\": 6, \"Y\": 7, \"Colour\": \"Brown\"}, {\"X\": 6, \"Y\": 8, \"Colour\": \"Dark Brown\"}, {\"X\": 6, \"Y\": 9, \"Colour\": \"Brown\"}, {\"X\": 6, \"Y\": 10, \"Colour\": \"Light Blue\"}, {\"X\": 6, \"Y\": 11, \"Colour\": \"Blue\"}, {\"X\": 7, \"Y\": 1, \"Colour\": \"Brown\"}, {\"X\": 7, \"Y\": 2, \"Colour\": \"Brown\"}, {\"X\": 7, \"Y\": 3, \"Colour\": \"Brown\"}, {\"X\": 7, \"Y\": 4, \"Colour\": \"Brown\"}, {\"X\": 7, \"Y\": 5, \"Colour\": \"Brown\"}, {\"X\": 7, \"Y\": 6, \"Colour\": \"Black\"}, {\"X\": 7, \"Y\": 7, \"Colour\": \"White\"}, {\"X\": 7, \"Y\": 8, \"Colour\": \"Brown\"}, {\"X\": 7, \"Y\": 9, \"Colour\": \"Dark Brown\"}, {\"X\": 7, \"Y\": 10, \"Colour\": \"Light Blue\"}, {\"X\": 7, \"Y\": 11, \"Colour\": \"Blue\"}, {\"X\": 8, \"Y\": 1, \"Colour\": \"Brown\"}, {\"X\": 8, \"Y\": 2, \"Colour\": \"Brown\"}, {\"X\": 8, \"Y\": 3, \"Colour\": \"Brown\"}, {\"X\": 8, \"Y\": 4, \"Colour\": \"Brown\"}, {\"X\": 8, \"Y\": 5, \"Colour\": \"Brown\"}, {\"X\": 8, \"Y\": 6, \"Colour\": \"White\"}, {\"X\": 8, \"Y\": 7, \"Colour\": \"White\"}, {\"X\": 8, \"Y\": 8, \"Colour\": \"Brown\"}, {\"X\": 8, \"Y\": 9, \"Colour\": \"Brown\"}, {\"X\": 8, \"Y\": 10, \"Colour\": \"Dark Brown\"}, {\"X\": 8, \"Y\": 11, \"Colour\": \"Blue\"}, {\"X\": 9, \"Y\": 1, \"Colour\": \"Brown\"}, {\"X\": 9, \"Y\": 2, \"Colour\": \"Brown\"}, {\"X\": 9, \"Y\": 3, \"Colour\": \"Brown\"}, {\"X\": 9, \"Y\": 4, \"Colour\": \"Dark Brown\"}, {\"X\": 9, \"Y\": 5, \"Colour\": \"Dark Brown\"}, {\"X\": 9, \"Y\": 6, \"Colour\": \"Dark Brown\"}, {\"X\": 9, \"Y\": 7, \"Colour\": \"Dark Brown\"}, {\"X\": 9, \"Y\": 8, \"Colour\": \"Dark Brown\"}, {\"X\": 9, \"Y\": 9, \"Colour\": \"Dark Brown\"}, {\"X\": 9, \"Y\": 10, \"Colour\": \"Light Blue\"}, {\"X\": 9, \"Y\": 11, \"Colour\": \"Blue\"}, {\"X\": 10, \"Y\": 1, \"Colour\": \"Dark Brown\"}, {\"X\": 10, \"Y\": 2, \"Colour\": \"Dark Brown\"}, {\"X\": 10, \"Y\": 3, \"Colour\": \"Dark Brown\"}, {\"X\": 10, \"Y\": 4, \"Colour\": \"Brown\"}, {\"X\": 10, \"Y\": 5, \"Colour\": \"Light Blue\"}, {\"X\": 10, \"Y\": 6, \"Colour\": \"Light Blue\"}, {\"X\": 10, \"Y\": 7, \"Colour\": \"Light Blue\"}, {\"X\": 10, \"Y\": 8, \"Colour\": \"Light Blue\"}, {\"X\": 10, \"Y\": 9, \"Colour\": \"Light Blue\"}, {\"X\": 10, \"Y\": 10, \"Colour\": \"Light Blue\"}, {\"X\": 10, \"Y\": 11, \"Colour\": \"Blue\"}, {\"X\": 11, \"Y\": 1, \"Colour\": \"Blue\"}, {\"X\": 11, \"Y\": 2, \"Colour\": \"Blue\"}, {\"X\": 11, \"Y\": 3, \"Colour\": \"Blue\"}, {\"X\": 11, \"Y\": 4, \"Colour\": \"Blue\"}, {\"X\": 11, \"Y\": 5, \"Colour\": \"Blue\"}, {\"X\": 11, \"Y\": 6, \"Colour\": \"Blue\"}, {\"X\": 11, \"Y\": 7, \"Colour\": \"Blue\"}, {\"X\": 11, \"Y\": 8, \"Colour\": \"Blue\"}, {\"X\": 11, \"Y\": 9, \"Colour\": \"Blue\"}, {\"X\": 11, \"Y\": 10, \"Colour\": \"Blue\"}, {\"X\": 11, \"Y\": 11, \"Colour\": \"Blue\"}]}}, {\"mode\": \"vega-lite\"});\n",
       "</script>"
      ],
      "text/plain": [
       "alt.Chart(...)"
      ]
     },
     "execution_count": 9,
     "metadata": {},
     "output_type": "execute_result"
    }
   ],
   "source": [
    "owl_chart = (\n",
    "    alt.Chart(owl)\n",
    "    .mark_rect()\n",
    "    .encode(\n",
    "        x=alt.X('X:O', axis=None),\n",
    "        y=alt.Y('Y:O', sort='descending', axis=None),\n",
    "        color=alt.Color('Colour', \n",
    "            scale=alt.Scale(\n",
    "                domain=['Black', 'Dark Blue', 'Brown', 'Dark Brown', 'Light Blue', 'White', 'Yellow'], \n",
    "                range=[\"#000000\", \"#088DA5\", \"#753A10\", \"#48240A\", \"#21CDF2\", \"#FFFFFF\", \"#FFBA3F\"]\n",
    "            ),\n",
    "            legend=None\n",
    "        )\n",
    "    )\n",
    "    .configure_axis(grid=False)\n",
    "    .configure_view(strokeWidth=0)\n",
    ")\n",
    "\n",
    "owl_chart"
   ]
  },
  {
   "cell_type": "markdown",
   "metadata": {},
   "source": [
    "Sidenote:"
   ]
  },
  {
   "cell_type": "code",
   "execution_count": 28,
   "metadata": {},
   "outputs": [
    {
     "data": {
      "text/html": [
       "\n",
       "<div id=\"altair-viz-8e225fc724384cebb4f3b40ed4337c1d\"></div>\n",
       "<script type=\"text/javascript\">\n",
       "  var VEGA_DEBUG = (typeof VEGA_DEBUG == \"undefined\") ? {} : VEGA_DEBUG;\n",
       "  (function(spec, embedOpt){\n",
       "    let outputDiv = document.currentScript.previousElementSibling;\n",
       "    if (outputDiv.id !== \"altair-viz-8e225fc724384cebb4f3b40ed4337c1d\") {\n",
       "      outputDiv = document.getElementById(\"altair-viz-8e225fc724384cebb4f3b40ed4337c1d\");\n",
       "    }\n",
       "    const paths = {\n",
       "      \"vega\": \"https://cdn.jsdelivr.net/npm//vega@5?noext\",\n",
       "      \"vega-lib\": \"https://cdn.jsdelivr.net/npm//vega-lib?noext\",\n",
       "      \"vega-lite\": \"https://cdn.jsdelivr.net/npm//vega-lite@4.17.0?noext\",\n",
       "      \"vega-embed\": \"https://cdn.jsdelivr.net/npm//vega-embed@6?noext\",\n",
       "    };\n",
       "\n",
       "    function maybeLoadScript(lib, version) {\n",
       "      var key = `${lib.replace(\"-\", \"\")}_version`;\n",
       "      return (VEGA_DEBUG[key] == version) ?\n",
       "        Promise.resolve(paths[lib]) :\n",
       "        new Promise(function(resolve, reject) {\n",
       "          var s = document.createElement('script');\n",
       "          document.getElementsByTagName(\"head\")[0].appendChild(s);\n",
       "          s.async = true;\n",
       "          s.onload = () => {\n",
       "            VEGA_DEBUG[key] = version;\n",
       "            return resolve(paths[lib]);\n",
       "          };\n",
       "          s.onerror = () => reject(`Error loading script: ${paths[lib]}`);\n",
       "          s.src = paths[lib];\n",
       "        });\n",
       "    }\n",
       "\n",
       "    function showError(err) {\n",
       "      outputDiv.innerHTML = `<div class=\"error\" style=\"color:red;\">${err}</div>`;\n",
       "      throw err;\n",
       "    }\n",
       "\n",
       "    function displayChart(vegaEmbed) {\n",
       "      vegaEmbed(outputDiv, spec, embedOpt)\n",
       "        .catch(err => showError(`Javascript Error: ${err.message}<br>This usually means there's a typo in your chart specification. See the javascript console for the full traceback.`));\n",
       "    }\n",
       "\n",
       "    if(typeof define === \"function\" && define.amd) {\n",
       "      requirejs.config({paths});\n",
       "      require([\"vega-embed\"], displayChart, err => showError(`Error loading script: ${err.message}`));\n",
       "    } else {\n",
       "      maybeLoadScript(\"vega\", \"5\")\n",
       "        .then(() => maybeLoadScript(\"vega-lite\", \"4.17.0\"))\n",
       "        .then(() => maybeLoadScript(\"vega-embed\", \"6\"))\n",
       "        .catch(showError)\n",
       "        .then(() => displayChart(vegaEmbed));\n",
       "    }\n",
       "  })({\"config\": {\"view\": {\"continuousWidth\": 400, \"continuousHeight\": 300}}, \"data\": {\"name\": \"data-2a6700b88613219c0348f5ad71778108\"}, \"mark\": {\"type\": \"rect\", \"color\": \"#ddd\", \"size\": 10}, \"encoding\": {\"x\": {\"field\": \"X\", \"type\": \"ordinal\"}, \"y\": {\"field\": \"Y\", \"type\": \"ordinal\"}}, \"$schema\": \"https://vega.github.io/schema/vega-lite/v4.17.0.json\", \"datasets\": {\"data-2a6700b88613219c0348f5ad71778108\": [{\"X\": 1, \"Y\": 1, \"Colour\": \"Blue\"}, {\"X\": 1, \"Y\": 2, \"Colour\": \"Blue\"}, {\"X\": 1, \"Y\": 3, \"Colour\": \"Blue\"}, {\"X\": 1, \"Y\": 4, \"Colour\": \"Blue\"}, {\"X\": 1, \"Y\": 5, \"Colour\": \"Blue\"}, {\"X\": 1, \"Y\": 6, \"Colour\": \"Blue\"}, {\"X\": 1, \"Y\": 7, \"Colour\": \"Blue\"}, {\"X\": 1, \"Y\": 8, \"Colour\": \"Blue\"}, {\"X\": 1, \"Y\": 9, \"Colour\": \"Blue\"}, {\"X\": 1, \"Y\": 10, \"Colour\": \"Blue\"}, {\"X\": 1, \"Y\": 11, \"Colour\": \"Blue\"}, {\"X\": 2, \"Y\": 1, \"Colour\": \"Dark Brown\"}, {\"X\": 2, \"Y\": 2, \"Colour\": \"Dark Brown\"}, {\"X\": 2, \"Y\": 3, \"Colour\": \"Dark Brown\"}, {\"X\": 2, \"Y\": 4, \"Colour\": \"Brown\"}, {\"X\": 2, \"Y\": 5, \"Colour\": \"Light Blue\"}, {\"X\": 2, \"Y\": 6, \"Colour\": \"Light Blue\"}, {\"X\": 2, \"Y\": 7, \"Colour\": \"Light Blue\"}, {\"X\": 2, \"Y\": 8, \"Colour\": \"Light Blue\"}, {\"X\": 2, \"Y\": 9, \"Colour\": \"Light Blue\"}, {\"X\": 2, \"Y\": 10, \"Colour\": \"Light Blue\"}, {\"X\": 2, \"Y\": 11, \"Colour\": \"Blue\"}, {\"X\": 3, \"Y\": 1, \"Colour\": \"Brown\"}, {\"X\": 3, \"Y\": 2, \"Colour\": \"Brown\"}, {\"X\": 3, \"Y\": 3, \"Colour\": \"Brown\"}, {\"X\": 3, \"Y\": 4, \"Colour\": \"Dark Brown\"}, {\"X\": 3, \"Y\": 5, \"Colour\": \"Dark Brown\"}, {\"X\": 3, \"Y\": 6, \"Colour\": \"Dark Brown\"}, {\"X\": 3, \"Y\": 7, \"Colour\": \"Dark Brown\"}, {\"X\": 3, \"Y\": 8, \"Colour\": \"Dark Brown\"}, {\"X\": 3, \"Y\": 9, \"Colour\": \"Dark Brown\"}, {\"X\": 3, \"Y\": 10, \"Colour\": \"Light Blue\"}, {\"X\": 3, \"Y\": 11, \"Colour\": \"Blue\"}, {\"X\": 4, \"Y\": 1, \"Colour\": \"Brown\"}, {\"X\": 4, \"Y\": 2, \"Colour\": \"Brown\"}, {\"X\": 4, \"Y\": 3, \"Colour\": \"Brown\"}, {\"X\": 4, \"Y\": 4, \"Colour\": \"Brown\"}, {\"X\": 4, \"Y\": 5, \"Colour\": \"Brown\"}, {\"X\": 4, \"Y\": 6, \"Colour\": \"White\"}, {\"X\": 4, \"Y\": 7, \"Colour\": \"White\"}, {\"X\": 4, \"Y\": 8, \"Colour\": \"Brown\"}, {\"X\": 4, \"Y\": 9, \"Colour\": \"Brown\"}, {\"X\": 4, \"Y\": 10, \"Colour\": \"Dark Brown\"}, {\"X\": 4, \"Y\": 11, \"Colour\": \"Blue\"}, {\"X\": 5, \"Y\": 1, \"Colour\": \"Brown\"}, {\"X\": 5, \"Y\": 2, \"Colour\": \"Brown\"}, {\"X\": 5, \"Y\": 3, \"Colour\": \"Brown\"}, {\"X\": 5, \"Y\": 4, \"Colour\": \"Brown\"}, {\"X\": 5, \"Y\": 5, \"Colour\": \"Brown\"}, {\"X\": 5, \"Y\": 6, \"Colour\": \"Black\"}, {\"X\": 5, \"Y\": 7, \"Colour\": \"White\"}, {\"X\": 5, \"Y\": 8, \"Colour\": \"Brown\"}, {\"X\": 5, \"Y\": 9, \"Colour\": \"Dark Brown\"}, {\"X\": 5, \"Y\": 10, \"Colour\": \"Light Blue\"}, {\"X\": 5, \"Y\": 11, \"Colour\": \"Blue\"}, {\"X\": 6, \"Y\": 1, \"Colour\": \"Brown\"}, {\"X\": 6, \"Y\": 2, \"Colour\": \"Brown\"}, {\"X\": 6, \"Y\": 3, \"Colour\": \"Brown\"}, {\"X\": 6, \"Y\": 4, \"Colour\": \"Yellow\"}, {\"X\": 6, \"Y\": 5, \"Colour\": \"Yellow\"}, {\"X\": 6, \"Y\": 6, \"Colour\": \"Brown\"}, {\"X\": 6, \"Y\": 7, \"Colour\": \"Brown\"}, {\"X\": 6, \"Y\": 8, \"Colour\": \"Dark Brown\"}, {\"X\": 6, \"Y\": 9, \"Colour\": \"Brown\"}, {\"X\": 6, \"Y\": 10, \"Colour\": \"Light Blue\"}, {\"X\": 6, \"Y\": 11, \"Colour\": \"Blue\"}, {\"X\": 7, \"Y\": 1, \"Colour\": \"Brown\"}, {\"X\": 7, \"Y\": 2, \"Colour\": \"Brown\"}, {\"X\": 7, \"Y\": 3, \"Colour\": \"Brown\"}, {\"X\": 7, \"Y\": 4, \"Colour\": \"Brown\"}, {\"X\": 7, \"Y\": 5, \"Colour\": \"Brown\"}, {\"X\": 7, \"Y\": 6, \"Colour\": \"Black\"}, {\"X\": 7, \"Y\": 7, \"Colour\": \"White\"}, {\"X\": 7, \"Y\": 8, \"Colour\": \"Brown\"}, {\"X\": 7, \"Y\": 9, \"Colour\": \"Dark Brown\"}, {\"X\": 7, \"Y\": 10, \"Colour\": \"Light Blue\"}, {\"X\": 7, \"Y\": 11, \"Colour\": \"Blue\"}, {\"X\": 8, \"Y\": 1, \"Colour\": \"Brown\"}, {\"X\": 8, \"Y\": 2, \"Colour\": \"Brown\"}, {\"X\": 8, \"Y\": 3, \"Colour\": \"Brown\"}, {\"X\": 8, \"Y\": 4, \"Colour\": \"Brown\"}, {\"X\": 8, \"Y\": 5, \"Colour\": \"Brown\"}, {\"X\": 8, \"Y\": 6, \"Colour\": \"White\"}, {\"X\": 8, \"Y\": 7, \"Colour\": \"White\"}, {\"X\": 8, \"Y\": 8, \"Colour\": \"Brown\"}, {\"X\": 8, \"Y\": 9, \"Colour\": \"Brown\"}, {\"X\": 8, \"Y\": 10, \"Colour\": \"Dark Brown\"}, {\"X\": 8, \"Y\": 11, \"Colour\": \"Blue\"}, {\"X\": 9, \"Y\": 1, \"Colour\": \"Brown\"}, {\"X\": 9, \"Y\": 2, \"Colour\": \"Brown\"}, {\"X\": 9, \"Y\": 3, \"Colour\": \"Brown\"}, {\"X\": 9, \"Y\": 4, \"Colour\": \"Dark Brown\"}, {\"X\": 9, \"Y\": 5, \"Colour\": \"Dark Brown\"}, {\"X\": 9, \"Y\": 6, \"Colour\": \"Dark Brown\"}, {\"X\": 9, \"Y\": 7, \"Colour\": \"Dark Brown\"}, {\"X\": 9, \"Y\": 8, \"Colour\": \"Dark Brown\"}, {\"X\": 9, \"Y\": 9, \"Colour\": \"Dark Brown\"}, {\"X\": 9, \"Y\": 10, \"Colour\": \"Light Blue\"}, {\"X\": 9, \"Y\": 11, \"Colour\": \"Blue\"}, {\"X\": 10, \"Y\": 1, \"Colour\": \"Dark Brown\"}, {\"X\": 10, \"Y\": 2, \"Colour\": \"Dark Brown\"}, {\"X\": 10, \"Y\": 3, \"Colour\": \"Dark Brown\"}, {\"X\": 10, \"Y\": 4, \"Colour\": \"Brown\"}, {\"X\": 10, \"Y\": 5, \"Colour\": \"Light Blue\"}, {\"X\": 10, \"Y\": 6, \"Colour\": \"Light Blue\"}, {\"X\": 10, \"Y\": 7, \"Colour\": \"Light Blue\"}, {\"X\": 10, \"Y\": 8, \"Colour\": \"Light Blue\"}, {\"X\": 10, \"Y\": 9, \"Colour\": \"Light Blue\"}, {\"X\": 10, \"Y\": 10, \"Colour\": \"Light Blue\"}, {\"X\": 10, \"Y\": 11, \"Colour\": \"Blue\"}, {\"X\": 11, \"Y\": 1, \"Colour\": \"Blue\"}, {\"X\": 11, \"Y\": 2, \"Colour\": \"Blue\"}, {\"X\": 11, \"Y\": 3, \"Colour\": \"Blue\"}, {\"X\": 11, \"Y\": 4, \"Colour\": \"Blue\"}, {\"X\": 11, \"Y\": 5, \"Colour\": \"Blue\"}, {\"X\": 11, \"Y\": 6, \"Colour\": \"Blue\"}, {\"X\": 11, \"Y\": 7, \"Colour\": \"Blue\"}, {\"X\": 11, \"Y\": 8, \"Colour\": \"Blue\"}, {\"X\": 11, \"Y\": 9, \"Colour\": \"Blue\"}, {\"X\": 11, \"Y\": 10, \"Colour\": \"Blue\"}, {\"X\": 11, \"Y\": 11, \"Colour\": \"Blue\"}]}}, {\"mode\": \"vega-lite\"});\n",
       "</script>"
      ],
      "text/plain": [
       "alt.Chart(...)"
      ]
     },
     "execution_count": 28,
     "metadata": {},
     "output_type": "execute_result"
    }
   ],
   "source": [
    "alt.Chart(owl).mark_rect(color='#ddd', size=10).encode(\n",
    "    x='X:O',\n",
    "    y='Y:O'\n",
    ")"
   ]
  },
  {
   "cell_type": "markdown",
   "metadata": {},
   "source": [
    "### Actual Data"
   ]
  },
  {
   "cell_type": "markdown",
   "metadata": {},
   "source": [
    "ZA4950: International Social Survey Programme: Religion III - ISSP 2008\n",
    "        \n",
    "[Source](https://zacat.gesis.org/webview/index.jsp?object=http://zacat.gesis.org/obj/fStudy/ZA4950)"
   ]
  },
  {
   "cell_type": "markdown",
   "metadata": {},
   "source": [
    "<img src=\"../images/sex.png\" alt=\"sex\" width=\"500\">"
   ]
  },
  {
   "cell_type": "code",
   "execution_count": 29,
   "metadata": {},
   "outputs": [],
   "source": [
    "df = pd.read_csv('../data/sex.csv')"
   ]
  },
  {
   "cell_type": "code",
   "execution_count": 30,
   "metadata": {},
   "outputs": [
    {
     "data": {
      "text/html": [
       "<div>\n",
       "<style scoped>\n",
       "    .dataframe tbody tr th:only-of-type {\n",
       "        vertical-align: middle;\n",
       "    }\n",
       "\n",
       "    .dataframe tbody tr th {\n",
       "        vertical-align: top;\n",
       "    }\n",
       "\n",
       "    .dataframe thead th {\n",
       "        text-align: right;\n",
       "    }\n",
       "</style>\n",
       "<table border=\"1\" class=\"dataframe\">\n",
       "  <thead>\n",
       "    <tr style=\"text-align: right;\">\n",
       "      <th></th>\n",
       "      <th>age2</th>\n",
       "      <th>religion</th>\n",
       "      <th>response</th>\n",
       "      <th>n</th>\n",
       "      <th>pct</th>\n",
       "    </tr>\n",
       "  </thead>\n",
       "  <tbody>\n",
       "    <tr>\n",
       "      <th>30</th>\n",
       "      <td>18-24</td>\n",
       "      <td>Roman Catholic</td>\n",
       "      <td>Not wrong</td>\n",
       "      <td>1330</td>\n",
       "      <td>58.1</td>\n",
       "    </tr>\n",
       "    <tr>\n",
       "      <th>107</th>\n",
       "      <td>40-49</td>\n",
       "      <td>Hinduism</td>\n",
       "      <td>Wrong-ish</td>\n",
       "      <td>10</td>\n",
       "      <td>23.8</td>\n",
       "    </tr>\n",
       "    <tr>\n",
       "      <th>108</th>\n",
       "      <td>40-49</td>\n",
       "      <td>Islam</td>\n",
       "      <td>Not wrong</td>\n",
       "      <td>42</td>\n",
       "      <td>9.6</td>\n",
       "    </tr>\n",
       "  </tbody>\n",
       "</table>\n",
       "</div>"
      ],
      "text/plain": [
       "      age2        religion   response     n   pct\n",
       "30   18-24  Roman Catholic  Not wrong  1330  58.1\n",
       "107  40-49        Hinduism  Wrong-ish    10  23.8\n",
       "108  40-49           Islam  Not wrong    42   9.6"
      ]
     },
     "execution_count": 30,
     "metadata": {},
     "output_type": "execute_result"
    }
   ],
   "source": [
    "df.sample(3)"
   ]
  },
  {
   "cell_type": "code",
   "execution_count": 31,
   "metadata": {},
   "outputs": [],
   "source": [
    "df = df.rename(columns={'age2': 'age'})\n",
    "df['pct'] /= 100"
   ]
  },
  {
   "cell_type": "code",
   "execution_count": 32,
   "metadata": {},
   "outputs": [
    {
     "data": {
      "text/plain": [
       "Buddhism                     21\n",
       "Christian Orthodox           21\n",
       "Islam                        21\n",
       "Jewish                       21\n",
       "No religion                  21\n",
       "Other Christian Religions    21\n",
       "Other Eastern Religions      21\n",
       "Other Religions              21\n",
       "Protestant                   21\n",
       "Roman Catholic               21\n",
       "Hinduism                     20\n",
       "Name: religion, dtype: int64"
      ]
     },
     "execution_count": 32,
     "metadata": {},
     "output_type": "execute_result"
    }
   ],
   "source": [
    "df['religion'].value_counts()"
   ]
  },
  {
   "cell_type": "markdown",
   "metadata": {},
   "source": [
    "#### Start Small..."
   ]
  },
  {
   "cell_type": "code",
   "execution_count": 33,
   "metadata": {},
   "outputs": [],
   "source": [
    "no = df[df['religion'] == 'No religion']"
   ]
  },
  {
   "cell_type": "code",
   "execution_count": 34,
   "metadata": {},
   "outputs": [
    {
     "data": {
      "text/html": [
       "\n",
       "<div id=\"altair-viz-5338aa8b4c5e48b48f6d01dcf390864b\"></div>\n",
       "<script type=\"text/javascript\">\n",
       "  var VEGA_DEBUG = (typeof VEGA_DEBUG == \"undefined\") ? {} : VEGA_DEBUG;\n",
       "  (function(spec, embedOpt){\n",
       "    let outputDiv = document.currentScript.previousElementSibling;\n",
       "    if (outputDiv.id !== \"altair-viz-5338aa8b4c5e48b48f6d01dcf390864b\") {\n",
       "      outputDiv = document.getElementById(\"altair-viz-5338aa8b4c5e48b48f6d01dcf390864b\");\n",
       "    }\n",
       "    const paths = {\n",
       "      \"vega\": \"https://cdn.jsdelivr.net/npm//vega@5?noext\",\n",
       "      \"vega-lib\": \"https://cdn.jsdelivr.net/npm//vega-lib?noext\",\n",
       "      \"vega-lite\": \"https://cdn.jsdelivr.net/npm//vega-lite@4.17.0?noext\",\n",
       "      \"vega-embed\": \"https://cdn.jsdelivr.net/npm//vega-embed@6?noext\",\n",
       "    };\n",
       "\n",
       "    function maybeLoadScript(lib, version) {\n",
       "      var key = `${lib.replace(\"-\", \"\")}_version`;\n",
       "      return (VEGA_DEBUG[key] == version) ?\n",
       "        Promise.resolve(paths[lib]) :\n",
       "        new Promise(function(resolve, reject) {\n",
       "          var s = document.createElement('script');\n",
       "          document.getElementsByTagName(\"head\")[0].appendChild(s);\n",
       "          s.async = true;\n",
       "          s.onload = () => {\n",
       "            VEGA_DEBUG[key] = version;\n",
       "            return resolve(paths[lib]);\n",
       "          };\n",
       "          s.onerror = () => reject(`Error loading script: ${paths[lib]}`);\n",
       "          s.src = paths[lib];\n",
       "        });\n",
       "    }\n",
       "\n",
       "    function showError(err) {\n",
       "      outputDiv.innerHTML = `<div class=\"error\" style=\"color:red;\">${err}</div>`;\n",
       "      throw err;\n",
       "    }\n",
       "\n",
       "    function displayChart(vegaEmbed) {\n",
       "      vegaEmbed(outputDiv, spec, embedOpt)\n",
       "        .catch(err => showError(`Javascript Error: ${err.message}<br>This usually means there's a typo in your chart specification. See the javascript console for the full traceback.`));\n",
       "    }\n",
       "\n",
       "    if(typeof define === \"function\" && define.amd) {\n",
       "      requirejs.config({paths});\n",
       "      require([\"vega-embed\"], displayChart, err => showError(`Error loading script: ${err.message}`));\n",
       "    } else {\n",
       "      maybeLoadScript(\"vega\", \"5\")\n",
       "        .then(() => maybeLoadScript(\"vega-lite\", \"4.17.0\"))\n",
       "        .then(() => maybeLoadScript(\"vega-embed\", \"6\"))\n",
       "        .catch(showError)\n",
       "        .then(() => displayChart(vegaEmbed));\n",
       "    }\n",
       "  })({\"config\": {\"view\": {\"continuousWidth\": 400, \"continuousHeight\": 300}}, \"data\": {\"name\": \"data-235d74cff4151e7f691ed260b343d78b\"}, \"mark\": \"circle\", \"encoding\": {\"x\": {\"field\": \"age\", \"type\": \"nominal\"}, \"y\": {\"field\": \"pct\", \"type\": \"quantitative\"}}, \"$schema\": \"https://vega.github.io/schema/vega-lite/v4.17.0.json\", \"datasets\": {\"data-235d74cff4151e7f691ed260b343d78b\": [{\"age\": \"18-24\", \"religion\": \"No religion\", \"response\": \"Not wrong\", \"n\": 1147, \"pct\": 0.762}, {\"age\": \"18-24\", \"religion\": \"No religion\", \"response\": \"Wrong\", \"n\": 161, \"pct\": 0.107}, {\"age\": \"18-24\", \"religion\": \"No religion\", \"response\": \"Wrong-ish\", \"n\": 197, \"pct\": 0.131}, {\"age\": \"25-29\", \"religion\": \"No religion\", \"response\": \"Not wrong\", \"n\": 887, \"pct\": 0.755}, {\"age\": \"25-29\", \"religion\": \"No religion\", \"response\": \"Wrong\", \"n\": 116, \"pct\": 0.099}, {\"age\": \"25-29\", \"religion\": \"No religion\", \"response\": \"Wrong-ish\", \"n\": 172, \"pct\": 0.146}, {\"age\": \"30-39\", \"religion\": \"No religion\", \"response\": \"Not wrong\", \"n\": 1853, \"pct\": 0.763}, {\"age\": \"30-39\", \"religion\": \"No religion\", \"response\": \"Wrong\", \"n\": 205, \"pct\": 0.084}, {\"age\": \"30-39\", \"religion\": \"No religion\", \"response\": \"Wrong-ish\", \"n\": 370, \"pct\": 0.152}, {\"age\": \"40-49\", \"religion\": \"No religion\", \"response\": \"Not wrong\", \"n\": 1818, \"pct\": 0.7440000000000001}, {\"age\": \"40-49\", \"religion\": \"No religion\", \"response\": \"Wrong\", \"n\": 251, \"pct\": 0.10300000000000001}, {\"age\": \"40-49\", \"religion\": \"No religion\", \"response\": \"Wrong-ish\", \"n\": 375, \"pct\": 0.153}, {\"age\": \"50-59\", \"religion\": \"No religion\", \"response\": \"Not wrong\", \"n\": 1591, \"pct\": 0.75}, {\"age\": \"50-59\", \"religion\": \"No religion\", \"response\": \"Wrong\", \"n\": 211, \"pct\": 0.1}, {\"age\": \"50-59\", \"religion\": \"No religion\", \"response\": \"Wrong-ish\", \"n\": 318, \"pct\": 0.15}, {\"age\": \"60-69\", \"religion\": \"No religion\", \"response\": \"Not wrong\", \"n\": 970, \"pct\": 0.6629999999999999}, {\"age\": \"60-69\", \"religion\": \"No religion\", \"response\": \"Wrong\", \"n\": 211, \"pct\": 0.14400000000000002}, {\"age\": \"60-69\", \"religion\": \"No religion\", \"response\": \"Wrong-ish\", \"n\": 282, \"pct\": 0.193}, {\"age\": \"70+\", \"religion\": \"No religion\", \"response\": \"Not wrong\", \"n\": 469, \"pct\": 0.521}, {\"age\": \"70+\", \"religion\": \"No religion\", \"response\": \"Wrong\", \"n\": 236, \"pct\": 0.262}, {\"age\": \"70+\", \"religion\": \"No religion\", \"response\": \"Wrong-ish\", \"n\": 195, \"pct\": 0.217}]}}, {\"mode\": \"vega-lite\"});\n",
       "</script>"
      ],
      "text/plain": [
       "alt.Chart(...)"
      ]
     },
     "execution_count": 34,
     "metadata": {},
     "output_type": "execute_result"
    }
   ],
   "source": [
    "alt.Chart(no).encode(x='age', y='pct').mark_circle()"
   ]
  },
  {
   "cell_type": "code",
   "execution_count": 35,
   "metadata": {},
   "outputs": [
    {
     "data": {
      "text/html": [
       "\n",
       "<div id=\"altair-viz-72c2575f180042fe930fde4c6ecdf7c1\"></div>\n",
       "<script type=\"text/javascript\">\n",
       "  var VEGA_DEBUG = (typeof VEGA_DEBUG == \"undefined\") ? {} : VEGA_DEBUG;\n",
       "  (function(spec, embedOpt){\n",
       "    let outputDiv = document.currentScript.previousElementSibling;\n",
       "    if (outputDiv.id !== \"altair-viz-72c2575f180042fe930fde4c6ecdf7c1\") {\n",
       "      outputDiv = document.getElementById(\"altair-viz-72c2575f180042fe930fde4c6ecdf7c1\");\n",
       "    }\n",
       "    const paths = {\n",
       "      \"vega\": \"https://cdn.jsdelivr.net/npm//vega@5?noext\",\n",
       "      \"vega-lib\": \"https://cdn.jsdelivr.net/npm//vega-lib?noext\",\n",
       "      \"vega-lite\": \"https://cdn.jsdelivr.net/npm//vega-lite@4.17.0?noext\",\n",
       "      \"vega-embed\": \"https://cdn.jsdelivr.net/npm//vega-embed@6?noext\",\n",
       "    };\n",
       "\n",
       "    function maybeLoadScript(lib, version) {\n",
       "      var key = `${lib.replace(\"-\", \"\")}_version`;\n",
       "      return (VEGA_DEBUG[key] == version) ?\n",
       "        Promise.resolve(paths[lib]) :\n",
       "        new Promise(function(resolve, reject) {\n",
       "          var s = document.createElement('script');\n",
       "          document.getElementsByTagName(\"head\")[0].appendChild(s);\n",
       "          s.async = true;\n",
       "          s.onload = () => {\n",
       "            VEGA_DEBUG[key] = version;\n",
       "            return resolve(paths[lib]);\n",
       "          };\n",
       "          s.onerror = () => reject(`Error loading script: ${paths[lib]}`);\n",
       "          s.src = paths[lib];\n",
       "        });\n",
       "    }\n",
       "\n",
       "    function showError(err) {\n",
       "      outputDiv.innerHTML = `<div class=\"error\" style=\"color:red;\">${err}</div>`;\n",
       "      throw err;\n",
       "    }\n",
       "\n",
       "    function displayChart(vegaEmbed) {\n",
       "      vegaEmbed(outputDiv, spec, embedOpt)\n",
       "        .catch(err => showError(`Javascript Error: ${err.message}<br>This usually means there's a typo in your chart specification. See the javascript console for the full traceback.`));\n",
       "    }\n",
       "\n",
       "    if(typeof define === \"function\" && define.amd) {\n",
       "      requirejs.config({paths});\n",
       "      require([\"vega-embed\"], displayChart, err => showError(`Error loading script: ${err.message}`));\n",
       "    } else {\n",
       "      maybeLoadScript(\"vega\", \"5\")\n",
       "        .then(() => maybeLoadScript(\"vega-lite\", \"4.17.0\"))\n",
       "        .then(() => maybeLoadScript(\"vega-embed\", \"6\"))\n",
       "        .catch(showError)\n",
       "        .then(() => displayChart(vegaEmbed));\n",
       "    }\n",
       "  })({\"config\": {\"view\": {\"continuousWidth\": 400, \"continuousHeight\": 300}}, \"data\": {\"name\": \"data-235d74cff4151e7f691ed260b343d78b\"}, \"mark\": \"circle\", \"encoding\": {\"color\": {\"field\": \"response\", \"type\": \"nominal\"}, \"x\": {\"field\": \"age\", \"type\": \"nominal\"}, \"y\": {\"field\": \"pct\", \"type\": \"quantitative\"}}, \"$schema\": \"https://vega.github.io/schema/vega-lite/v4.17.0.json\", \"datasets\": {\"data-235d74cff4151e7f691ed260b343d78b\": [{\"age\": \"18-24\", \"religion\": \"No religion\", \"response\": \"Not wrong\", \"n\": 1147, \"pct\": 0.762}, {\"age\": \"18-24\", \"religion\": \"No religion\", \"response\": \"Wrong\", \"n\": 161, \"pct\": 0.107}, {\"age\": \"18-24\", \"religion\": \"No religion\", \"response\": \"Wrong-ish\", \"n\": 197, \"pct\": 0.131}, {\"age\": \"25-29\", \"religion\": \"No religion\", \"response\": \"Not wrong\", \"n\": 887, \"pct\": 0.755}, {\"age\": \"25-29\", \"religion\": \"No religion\", \"response\": \"Wrong\", \"n\": 116, \"pct\": 0.099}, {\"age\": \"25-29\", \"religion\": \"No religion\", \"response\": \"Wrong-ish\", \"n\": 172, \"pct\": 0.146}, {\"age\": \"30-39\", \"religion\": \"No religion\", \"response\": \"Not wrong\", \"n\": 1853, \"pct\": 0.763}, {\"age\": \"30-39\", \"religion\": \"No religion\", \"response\": \"Wrong\", \"n\": 205, \"pct\": 0.084}, {\"age\": \"30-39\", \"religion\": \"No religion\", \"response\": \"Wrong-ish\", \"n\": 370, \"pct\": 0.152}, {\"age\": \"40-49\", \"religion\": \"No religion\", \"response\": \"Not wrong\", \"n\": 1818, \"pct\": 0.7440000000000001}, {\"age\": \"40-49\", \"religion\": \"No religion\", \"response\": \"Wrong\", \"n\": 251, \"pct\": 0.10300000000000001}, {\"age\": \"40-49\", \"religion\": \"No religion\", \"response\": \"Wrong-ish\", \"n\": 375, \"pct\": 0.153}, {\"age\": \"50-59\", \"religion\": \"No religion\", \"response\": \"Not wrong\", \"n\": 1591, \"pct\": 0.75}, {\"age\": \"50-59\", \"religion\": \"No religion\", \"response\": \"Wrong\", \"n\": 211, \"pct\": 0.1}, {\"age\": \"50-59\", \"religion\": \"No religion\", \"response\": \"Wrong-ish\", \"n\": 318, \"pct\": 0.15}, {\"age\": \"60-69\", \"religion\": \"No religion\", \"response\": \"Not wrong\", \"n\": 970, \"pct\": 0.6629999999999999}, {\"age\": \"60-69\", \"religion\": \"No religion\", \"response\": \"Wrong\", \"n\": 211, \"pct\": 0.14400000000000002}, {\"age\": \"60-69\", \"religion\": \"No religion\", \"response\": \"Wrong-ish\", \"n\": 282, \"pct\": 0.193}, {\"age\": \"70+\", \"religion\": \"No religion\", \"response\": \"Not wrong\", \"n\": 469, \"pct\": 0.521}, {\"age\": \"70+\", \"religion\": \"No religion\", \"response\": \"Wrong\", \"n\": 236, \"pct\": 0.262}, {\"age\": \"70+\", \"religion\": \"No religion\", \"response\": \"Wrong-ish\", \"n\": 195, \"pct\": 0.217}]}}, {\"mode\": \"vega-lite\"});\n",
       "</script>"
      ],
      "text/plain": [
       "alt.Chart(...)"
      ]
     },
     "execution_count": 35,
     "metadata": {},
     "output_type": "execute_result"
    }
   ],
   "source": [
    "alt.Chart(no).encode(x='age', y='pct', color='response').mark_circle()"
   ]
  },
  {
   "cell_type": "markdown",
   "metadata": {},
   "source": [
    "Rotate..."
   ]
  },
  {
   "cell_type": "code",
   "execution_count": 36,
   "metadata": {},
   "outputs": [
    {
     "data": {
      "text/html": [
       "\n",
       "<div id=\"altair-viz-5ae779218ca04e77856c49f2f475cdc0\"></div>\n",
       "<script type=\"text/javascript\">\n",
       "  var VEGA_DEBUG = (typeof VEGA_DEBUG == \"undefined\") ? {} : VEGA_DEBUG;\n",
       "  (function(spec, embedOpt){\n",
       "    let outputDiv = document.currentScript.previousElementSibling;\n",
       "    if (outputDiv.id !== \"altair-viz-5ae779218ca04e77856c49f2f475cdc0\") {\n",
       "      outputDiv = document.getElementById(\"altair-viz-5ae779218ca04e77856c49f2f475cdc0\");\n",
       "    }\n",
       "    const paths = {\n",
       "      \"vega\": \"https://cdn.jsdelivr.net/npm//vega@5?noext\",\n",
       "      \"vega-lib\": \"https://cdn.jsdelivr.net/npm//vega-lib?noext\",\n",
       "      \"vega-lite\": \"https://cdn.jsdelivr.net/npm//vega-lite@4.17.0?noext\",\n",
       "      \"vega-embed\": \"https://cdn.jsdelivr.net/npm//vega-embed@6?noext\",\n",
       "    };\n",
       "\n",
       "    function maybeLoadScript(lib, version) {\n",
       "      var key = `${lib.replace(\"-\", \"\")}_version`;\n",
       "      return (VEGA_DEBUG[key] == version) ?\n",
       "        Promise.resolve(paths[lib]) :\n",
       "        new Promise(function(resolve, reject) {\n",
       "          var s = document.createElement('script');\n",
       "          document.getElementsByTagName(\"head\")[0].appendChild(s);\n",
       "          s.async = true;\n",
       "          s.onload = () => {\n",
       "            VEGA_DEBUG[key] = version;\n",
       "            return resolve(paths[lib]);\n",
       "          };\n",
       "          s.onerror = () => reject(`Error loading script: ${paths[lib]}`);\n",
       "          s.src = paths[lib];\n",
       "        });\n",
       "    }\n",
       "\n",
       "    function showError(err) {\n",
       "      outputDiv.innerHTML = `<div class=\"error\" style=\"color:red;\">${err}</div>`;\n",
       "      throw err;\n",
       "    }\n",
       "\n",
       "    function displayChart(vegaEmbed) {\n",
       "      vegaEmbed(outputDiv, spec, embedOpt)\n",
       "        .catch(err => showError(`Javascript Error: ${err.message}<br>This usually means there's a typo in your chart specification. See the javascript console for the full traceback.`));\n",
       "    }\n",
       "\n",
       "    if(typeof define === \"function\" && define.amd) {\n",
       "      requirejs.config({paths});\n",
       "      require([\"vega-embed\"], displayChart, err => showError(`Error loading script: ${err.message}`));\n",
       "    } else {\n",
       "      maybeLoadScript(\"vega\", \"5\")\n",
       "        .then(() => maybeLoadScript(\"vega-lite\", \"4.17.0\"))\n",
       "        .then(() => maybeLoadScript(\"vega-embed\", \"6\"))\n",
       "        .catch(showError)\n",
       "        .then(() => displayChart(vegaEmbed));\n",
       "    }\n",
       "  })({\"config\": {\"view\": {\"continuousWidth\": 400, \"continuousHeight\": 300}}, \"data\": {\"name\": \"data-235d74cff4151e7f691ed260b343d78b\"}, \"mark\": \"circle\", \"encoding\": {\"color\": {\"field\": \"response\", \"type\": \"nominal\"}, \"x\": {\"field\": \"pct\", \"type\": \"quantitative\"}, \"y\": {\"field\": \"age\", \"type\": \"nominal\"}}, \"$schema\": \"https://vega.github.io/schema/vega-lite/v4.17.0.json\", \"datasets\": {\"data-235d74cff4151e7f691ed260b343d78b\": [{\"age\": \"18-24\", \"religion\": \"No religion\", \"response\": \"Not wrong\", \"n\": 1147, \"pct\": 0.762}, {\"age\": \"18-24\", \"religion\": \"No religion\", \"response\": \"Wrong\", \"n\": 161, \"pct\": 0.107}, {\"age\": \"18-24\", \"religion\": \"No religion\", \"response\": \"Wrong-ish\", \"n\": 197, \"pct\": 0.131}, {\"age\": \"25-29\", \"religion\": \"No religion\", \"response\": \"Not wrong\", \"n\": 887, \"pct\": 0.755}, {\"age\": \"25-29\", \"religion\": \"No religion\", \"response\": \"Wrong\", \"n\": 116, \"pct\": 0.099}, {\"age\": \"25-29\", \"religion\": \"No religion\", \"response\": \"Wrong-ish\", \"n\": 172, \"pct\": 0.146}, {\"age\": \"30-39\", \"religion\": \"No religion\", \"response\": \"Not wrong\", \"n\": 1853, \"pct\": 0.763}, {\"age\": \"30-39\", \"religion\": \"No religion\", \"response\": \"Wrong\", \"n\": 205, \"pct\": 0.084}, {\"age\": \"30-39\", \"religion\": \"No religion\", \"response\": \"Wrong-ish\", \"n\": 370, \"pct\": 0.152}, {\"age\": \"40-49\", \"religion\": \"No religion\", \"response\": \"Not wrong\", \"n\": 1818, \"pct\": 0.7440000000000001}, {\"age\": \"40-49\", \"religion\": \"No religion\", \"response\": \"Wrong\", \"n\": 251, \"pct\": 0.10300000000000001}, {\"age\": \"40-49\", \"religion\": \"No religion\", \"response\": \"Wrong-ish\", \"n\": 375, \"pct\": 0.153}, {\"age\": \"50-59\", \"religion\": \"No religion\", \"response\": \"Not wrong\", \"n\": 1591, \"pct\": 0.75}, {\"age\": \"50-59\", \"religion\": \"No religion\", \"response\": \"Wrong\", \"n\": 211, \"pct\": 0.1}, {\"age\": \"50-59\", \"religion\": \"No religion\", \"response\": \"Wrong-ish\", \"n\": 318, \"pct\": 0.15}, {\"age\": \"60-69\", \"religion\": \"No religion\", \"response\": \"Not wrong\", \"n\": 970, \"pct\": 0.6629999999999999}, {\"age\": \"60-69\", \"religion\": \"No religion\", \"response\": \"Wrong\", \"n\": 211, \"pct\": 0.14400000000000002}, {\"age\": \"60-69\", \"religion\": \"No religion\", \"response\": \"Wrong-ish\", \"n\": 282, \"pct\": 0.193}, {\"age\": \"70+\", \"religion\": \"No religion\", \"response\": \"Not wrong\", \"n\": 469, \"pct\": 0.521}, {\"age\": \"70+\", \"religion\": \"No religion\", \"response\": \"Wrong\", \"n\": 236, \"pct\": 0.262}, {\"age\": \"70+\", \"religion\": \"No religion\", \"response\": \"Wrong-ish\", \"n\": 195, \"pct\": 0.217}]}}, {\"mode\": \"vega-lite\"});\n",
       "</script>"
      ],
      "text/plain": [
       "alt.Chart(...)"
      ]
     },
     "execution_count": 36,
     "metadata": {},
     "output_type": "execute_result"
    }
   ],
   "source": [
    "alt.Chart(no).encode(y='age', x='pct', color='response').mark_circle()"
   ]
  },
  {
   "cell_type": "markdown",
   "metadata": {},
   "source": [
    "Colours that make sense..."
   ]
  },
  {
   "cell_type": "code",
   "execution_count": 37,
   "metadata": {},
   "outputs": [
    {
     "data": {
      "text/html": [
       "\n",
       "<div id=\"altair-viz-d0ebfd699af14b7aa140a8ed15978e9b\"></div>\n",
       "<script type=\"text/javascript\">\n",
       "  var VEGA_DEBUG = (typeof VEGA_DEBUG == \"undefined\") ? {} : VEGA_DEBUG;\n",
       "  (function(spec, embedOpt){\n",
       "    let outputDiv = document.currentScript.previousElementSibling;\n",
       "    if (outputDiv.id !== \"altair-viz-d0ebfd699af14b7aa140a8ed15978e9b\") {\n",
       "      outputDiv = document.getElementById(\"altair-viz-d0ebfd699af14b7aa140a8ed15978e9b\");\n",
       "    }\n",
       "    const paths = {\n",
       "      \"vega\": \"https://cdn.jsdelivr.net/npm//vega@5?noext\",\n",
       "      \"vega-lib\": \"https://cdn.jsdelivr.net/npm//vega-lib?noext\",\n",
       "      \"vega-lite\": \"https://cdn.jsdelivr.net/npm//vega-lite@4.17.0?noext\",\n",
       "      \"vega-embed\": \"https://cdn.jsdelivr.net/npm//vega-embed@6?noext\",\n",
       "    };\n",
       "\n",
       "    function maybeLoadScript(lib, version) {\n",
       "      var key = `${lib.replace(\"-\", \"\")}_version`;\n",
       "      return (VEGA_DEBUG[key] == version) ?\n",
       "        Promise.resolve(paths[lib]) :\n",
       "        new Promise(function(resolve, reject) {\n",
       "          var s = document.createElement('script');\n",
       "          document.getElementsByTagName(\"head\")[0].appendChild(s);\n",
       "          s.async = true;\n",
       "          s.onload = () => {\n",
       "            VEGA_DEBUG[key] = version;\n",
       "            return resolve(paths[lib]);\n",
       "          };\n",
       "          s.onerror = () => reject(`Error loading script: ${paths[lib]}`);\n",
       "          s.src = paths[lib];\n",
       "        });\n",
       "    }\n",
       "\n",
       "    function showError(err) {\n",
       "      outputDiv.innerHTML = `<div class=\"error\" style=\"color:red;\">${err}</div>`;\n",
       "      throw err;\n",
       "    }\n",
       "\n",
       "    function displayChart(vegaEmbed) {\n",
       "      vegaEmbed(outputDiv, spec, embedOpt)\n",
       "        .catch(err => showError(`Javascript Error: ${err.message}<br>This usually means there's a typo in your chart specification. See the javascript console for the full traceback.`));\n",
       "    }\n",
       "\n",
       "    if(typeof define === \"function\" && define.amd) {\n",
       "      requirejs.config({paths});\n",
       "      require([\"vega-embed\"], displayChart, err => showError(`Error loading script: ${err.message}`));\n",
       "    } else {\n",
       "      maybeLoadScript(\"vega\", \"5\")\n",
       "        .then(() => maybeLoadScript(\"vega-lite\", \"4.17.0\"))\n",
       "        .then(() => maybeLoadScript(\"vega-embed\", \"6\"))\n",
       "        .catch(showError)\n",
       "        .then(() => displayChart(vegaEmbed));\n",
       "    }\n",
       "  })({\"config\": {\"view\": {\"continuousWidth\": 400, \"continuousHeight\": 300}}, \"data\": {\"name\": \"data-235d74cff4151e7f691ed260b343d78b\"}, \"mark\": \"circle\", \"encoding\": {\"color\": {\"field\": \"response\", \"scale\": {\"domain\": [\"Not wrong\", \"Wrong\", \"Wrong-ish\"], \"range\": [\"green\", \"yellow\", \"red\"]}, \"type\": \"nominal\"}, \"x\": {\"field\": \"pct\", \"type\": \"quantitative\"}, \"y\": {\"field\": \"age\", \"type\": \"nominal\"}}, \"$schema\": \"https://vega.github.io/schema/vega-lite/v4.17.0.json\", \"datasets\": {\"data-235d74cff4151e7f691ed260b343d78b\": [{\"age\": \"18-24\", \"religion\": \"No religion\", \"response\": \"Not wrong\", \"n\": 1147, \"pct\": 0.762}, {\"age\": \"18-24\", \"religion\": \"No religion\", \"response\": \"Wrong\", \"n\": 161, \"pct\": 0.107}, {\"age\": \"18-24\", \"religion\": \"No religion\", \"response\": \"Wrong-ish\", \"n\": 197, \"pct\": 0.131}, {\"age\": \"25-29\", \"religion\": \"No religion\", \"response\": \"Not wrong\", \"n\": 887, \"pct\": 0.755}, {\"age\": \"25-29\", \"religion\": \"No religion\", \"response\": \"Wrong\", \"n\": 116, \"pct\": 0.099}, {\"age\": \"25-29\", \"religion\": \"No religion\", \"response\": \"Wrong-ish\", \"n\": 172, \"pct\": 0.146}, {\"age\": \"30-39\", \"religion\": \"No religion\", \"response\": \"Not wrong\", \"n\": 1853, \"pct\": 0.763}, {\"age\": \"30-39\", \"religion\": \"No religion\", \"response\": \"Wrong\", \"n\": 205, \"pct\": 0.084}, {\"age\": \"30-39\", \"religion\": \"No religion\", \"response\": \"Wrong-ish\", \"n\": 370, \"pct\": 0.152}, {\"age\": \"40-49\", \"religion\": \"No religion\", \"response\": \"Not wrong\", \"n\": 1818, \"pct\": 0.7440000000000001}, {\"age\": \"40-49\", \"religion\": \"No religion\", \"response\": \"Wrong\", \"n\": 251, \"pct\": 0.10300000000000001}, {\"age\": \"40-49\", \"religion\": \"No religion\", \"response\": \"Wrong-ish\", \"n\": 375, \"pct\": 0.153}, {\"age\": \"50-59\", \"religion\": \"No religion\", \"response\": \"Not wrong\", \"n\": 1591, \"pct\": 0.75}, {\"age\": \"50-59\", \"religion\": \"No religion\", \"response\": \"Wrong\", \"n\": 211, \"pct\": 0.1}, {\"age\": \"50-59\", \"religion\": \"No religion\", \"response\": \"Wrong-ish\", \"n\": 318, \"pct\": 0.15}, {\"age\": \"60-69\", \"religion\": \"No religion\", \"response\": \"Not wrong\", \"n\": 970, \"pct\": 0.6629999999999999}, {\"age\": \"60-69\", \"religion\": \"No religion\", \"response\": \"Wrong\", \"n\": 211, \"pct\": 0.14400000000000002}, {\"age\": \"60-69\", \"religion\": \"No religion\", \"response\": \"Wrong-ish\", \"n\": 282, \"pct\": 0.193}, {\"age\": \"70+\", \"religion\": \"No religion\", \"response\": \"Not wrong\", \"n\": 469, \"pct\": 0.521}, {\"age\": \"70+\", \"religion\": \"No religion\", \"response\": \"Wrong\", \"n\": 236, \"pct\": 0.262}, {\"age\": \"70+\", \"religion\": \"No religion\", \"response\": \"Wrong-ish\", \"n\": 195, \"pct\": 0.217}]}}, {\"mode\": \"vega-lite\"});\n",
       "</script>"
      ],
      "text/plain": [
       "alt.Chart(...)"
      ]
     },
     "execution_count": 37,
     "metadata": {},
     "output_type": "execute_result"
    }
   ],
   "source": [
    "alt.Chart(no).encode(\n",
    "    y='age', \n",
    "    x='pct', \n",
    "    color=alt.Color('response', \n",
    "        scale=alt.Scale(\n",
    "        domain=['Not wrong', 'Wrong', 'Wrong-ish'], \n",
    "        range=['green', 'yellow', 'red'])\n",
    "    )\n",
    ").mark_circle()"
   ]
  },
  {
   "cell_type": "code",
   "execution_count": 38,
   "metadata": {},
   "outputs": [
    {
     "data": {
      "text/html": [
       "\n",
       "<div id=\"altair-viz-1d2e972fe35b4e309d143604bb2fd86b\"></div>\n",
       "<script type=\"text/javascript\">\n",
       "  var VEGA_DEBUG = (typeof VEGA_DEBUG == \"undefined\") ? {} : VEGA_DEBUG;\n",
       "  (function(spec, embedOpt){\n",
       "    let outputDiv = document.currentScript.previousElementSibling;\n",
       "    if (outputDiv.id !== \"altair-viz-1d2e972fe35b4e309d143604bb2fd86b\") {\n",
       "      outputDiv = document.getElementById(\"altair-viz-1d2e972fe35b4e309d143604bb2fd86b\");\n",
       "    }\n",
       "    const paths = {\n",
       "      \"vega\": \"https://cdn.jsdelivr.net/npm//vega@5?noext\",\n",
       "      \"vega-lib\": \"https://cdn.jsdelivr.net/npm//vega-lib?noext\",\n",
       "      \"vega-lite\": \"https://cdn.jsdelivr.net/npm//vega-lite@4.17.0?noext\",\n",
       "      \"vega-embed\": \"https://cdn.jsdelivr.net/npm//vega-embed@6?noext\",\n",
       "    };\n",
       "\n",
       "    function maybeLoadScript(lib, version) {\n",
       "      var key = `${lib.replace(\"-\", \"\")}_version`;\n",
       "      return (VEGA_DEBUG[key] == version) ?\n",
       "        Promise.resolve(paths[lib]) :\n",
       "        new Promise(function(resolve, reject) {\n",
       "          var s = document.createElement('script');\n",
       "          document.getElementsByTagName(\"head\")[0].appendChild(s);\n",
       "          s.async = true;\n",
       "          s.onload = () => {\n",
       "            VEGA_DEBUG[key] = version;\n",
       "            return resolve(paths[lib]);\n",
       "          };\n",
       "          s.onerror = () => reject(`Error loading script: ${paths[lib]}`);\n",
       "          s.src = paths[lib];\n",
       "        });\n",
       "    }\n",
       "\n",
       "    function showError(err) {\n",
       "      outputDiv.innerHTML = `<div class=\"error\" style=\"color:red;\">${err}</div>`;\n",
       "      throw err;\n",
       "    }\n",
       "\n",
       "    function displayChart(vegaEmbed) {\n",
       "      vegaEmbed(outputDiv, spec, embedOpt)\n",
       "        .catch(err => showError(`Javascript Error: ${err.message}<br>This usually means there's a typo in your chart specification. See the javascript console for the full traceback.`));\n",
       "    }\n",
       "\n",
       "    if(typeof define === \"function\" && define.amd) {\n",
       "      requirejs.config({paths});\n",
       "      require([\"vega-embed\"], displayChart, err => showError(`Error loading script: ${err.message}`));\n",
       "    } else {\n",
       "      maybeLoadScript(\"vega\", \"5\")\n",
       "        .then(() => maybeLoadScript(\"vega-lite\", \"4.17.0\"))\n",
       "        .then(() => maybeLoadScript(\"vega-embed\", \"6\"))\n",
       "        .catch(showError)\n",
       "        .then(() => displayChart(vegaEmbed));\n",
       "    }\n",
       "  })({\"config\": {\"view\": {\"continuousWidth\": 400, \"continuousHeight\": 300}}, \"data\": {\"name\": \"data-235d74cff4151e7f691ed260b343d78b\"}, \"mark\": \"circle\", \"encoding\": {\"color\": {\"field\": \"response\", \"scale\": {\"domain\": [\"Not wrong\", \"Wrong\", \"Wrong-ish\"], \"range\": [\"#8EA604\", \"#F5BB00\", \"#DE1A1A\"]}, \"type\": \"nominal\"}, \"x\": {\"field\": \"pct\", \"type\": \"quantitative\"}, \"y\": {\"field\": \"age\", \"scale\": {\"domain\": [\"70+\", \"60-69\", \"50-59\", \"40-49\", \"30-39\", \"25-29\", \"18-24\"]}, \"type\": \"nominal\"}}, \"$schema\": \"https://vega.github.io/schema/vega-lite/v4.17.0.json\", \"datasets\": {\"data-235d74cff4151e7f691ed260b343d78b\": [{\"age\": \"18-24\", \"religion\": \"No religion\", \"response\": \"Not wrong\", \"n\": 1147, \"pct\": 0.762}, {\"age\": \"18-24\", \"religion\": \"No religion\", \"response\": \"Wrong\", \"n\": 161, \"pct\": 0.107}, {\"age\": \"18-24\", \"religion\": \"No religion\", \"response\": \"Wrong-ish\", \"n\": 197, \"pct\": 0.131}, {\"age\": \"25-29\", \"religion\": \"No religion\", \"response\": \"Not wrong\", \"n\": 887, \"pct\": 0.755}, {\"age\": \"25-29\", \"religion\": \"No religion\", \"response\": \"Wrong\", \"n\": 116, \"pct\": 0.099}, {\"age\": \"25-29\", \"religion\": \"No religion\", \"response\": \"Wrong-ish\", \"n\": 172, \"pct\": 0.146}, {\"age\": \"30-39\", \"religion\": \"No religion\", \"response\": \"Not wrong\", \"n\": 1853, \"pct\": 0.763}, {\"age\": \"30-39\", \"religion\": \"No religion\", \"response\": \"Wrong\", \"n\": 205, \"pct\": 0.084}, {\"age\": \"30-39\", \"religion\": \"No religion\", \"response\": \"Wrong-ish\", \"n\": 370, \"pct\": 0.152}, {\"age\": \"40-49\", \"religion\": \"No religion\", \"response\": \"Not wrong\", \"n\": 1818, \"pct\": 0.7440000000000001}, {\"age\": \"40-49\", \"religion\": \"No religion\", \"response\": \"Wrong\", \"n\": 251, \"pct\": 0.10300000000000001}, {\"age\": \"40-49\", \"religion\": \"No religion\", \"response\": \"Wrong-ish\", \"n\": 375, \"pct\": 0.153}, {\"age\": \"50-59\", \"religion\": \"No religion\", \"response\": \"Not wrong\", \"n\": 1591, \"pct\": 0.75}, {\"age\": \"50-59\", \"religion\": \"No religion\", \"response\": \"Wrong\", \"n\": 211, \"pct\": 0.1}, {\"age\": \"50-59\", \"religion\": \"No religion\", \"response\": \"Wrong-ish\", \"n\": 318, \"pct\": 0.15}, {\"age\": \"60-69\", \"religion\": \"No religion\", \"response\": \"Not wrong\", \"n\": 970, \"pct\": 0.6629999999999999}, {\"age\": \"60-69\", \"religion\": \"No religion\", \"response\": \"Wrong\", \"n\": 211, \"pct\": 0.14400000000000002}, {\"age\": \"60-69\", \"religion\": \"No religion\", \"response\": \"Wrong-ish\", \"n\": 282, \"pct\": 0.193}, {\"age\": \"70+\", \"religion\": \"No religion\", \"response\": \"Not wrong\", \"n\": 469, \"pct\": 0.521}, {\"age\": \"70+\", \"religion\": \"No religion\", \"response\": \"Wrong\", \"n\": 236, \"pct\": 0.262}, {\"age\": \"70+\", \"religion\": \"No religion\", \"response\": \"Wrong-ish\", \"n\": 195, \"pct\": 0.217}]}}, {\"mode\": \"vega-lite\"});\n",
       "</script>"
      ],
      "text/plain": [
       "alt.Chart(...)"
      ]
     },
     "execution_count": 38,
     "metadata": {},
     "output_type": "execute_result"
    }
   ],
   "source": [
    "alt.Chart(no).encode(\n",
    "    y=alt.Y('age', scale=alt.Scale(domain=['70+','60-69', '50-59', '40-49', '30-39', '25-29', '18-24'])),\n",
    "    x='pct', \n",
    "    color=alt.Color('response', \n",
    "        scale=alt.Scale(\n",
    "        domain=['Not wrong', 'Wrong', 'Wrong-ish'], \n",
    "        # yikes... need to make a little nicer\n",
    "        range=[\"#8EA604\", \"#F5BB00\", \"#DE1A1A\"])\n",
    "    )\n",
    ").mark_circle()"
   ]
  },
  {
   "cell_type": "markdown",
   "metadata": {},
   "source": [
    "Prep for complexity... "
   ]
  },
  {
   "cell_type": "code",
   "execution_count": 39,
   "metadata": {},
   "outputs": [
    {
     "data": {
      "text/html": [
       "\n",
       "<div id=\"altair-viz-56fb9066c3b84ef394ccfd5a05b91947\"></div>\n",
       "<script type=\"text/javascript\">\n",
       "  var VEGA_DEBUG = (typeof VEGA_DEBUG == \"undefined\") ? {} : VEGA_DEBUG;\n",
       "  (function(spec, embedOpt){\n",
       "    let outputDiv = document.currentScript.previousElementSibling;\n",
       "    if (outputDiv.id !== \"altair-viz-56fb9066c3b84ef394ccfd5a05b91947\") {\n",
       "      outputDiv = document.getElementById(\"altair-viz-56fb9066c3b84ef394ccfd5a05b91947\");\n",
       "    }\n",
       "    const paths = {\n",
       "      \"vega\": \"https://cdn.jsdelivr.net/npm//vega@5?noext\",\n",
       "      \"vega-lib\": \"https://cdn.jsdelivr.net/npm//vega-lib?noext\",\n",
       "      \"vega-lite\": \"https://cdn.jsdelivr.net/npm//vega-lite@4.17.0?noext\",\n",
       "      \"vega-embed\": \"https://cdn.jsdelivr.net/npm//vega-embed@6?noext\",\n",
       "    };\n",
       "\n",
       "    function maybeLoadScript(lib, version) {\n",
       "      var key = `${lib.replace(\"-\", \"\")}_version`;\n",
       "      return (VEGA_DEBUG[key] == version) ?\n",
       "        Promise.resolve(paths[lib]) :\n",
       "        new Promise(function(resolve, reject) {\n",
       "          var s = document.createElement('script');\n",
       "          document.getElementsByTagName(\"head\")[0].appendChild(s);\n",
       "          s.async = true;\n",
       "          s.onload = () => {\n",
       "            VEGA_DEBUG[key] = version;\n",
       "            return resolve(paths[lib]);\n",
       "          };\n",
       "          s.onerror = () => reject(`Error loading script: ${paths[lib]}`);\n",
       "          s.src = paths[lib];\n",
       "        });\n",
       "    }\n",
       "\n",
       "    function showError(err) {\n",
       "      outputDiv.innerHTML = `<div class=\"error\" style=\"color:red;\">${err}</div>`;\n",
       "      throw err;\n",
       "    }\n",
       "\n",
       "    function displayChart(vegaEmbed) {\n",
       "      vegaEmbed(outputDiv, spec, embedOpt)\n",
       "        .catch(err => showError(`Javascript Error: ${err.message}<br>This usually means there's a typo in your chart specification. See the javascript console for the full traceback.`));\n",
       "    }\n",
       "\n",
       "    if(typeof define === \"function\" && define.amd) {\n",
       "      requirejs.config({paths});\n",
       "      require([\"vega-embed\"], displayChart, err => showError(`Error loading script: ${err.message}`));\n",
       "    } else {\n",
       "      maybeLoadScript(\"vega\", \"5\")\n",
       "        .then(() => maybeLoadScript(\"vega-lite\", \"4.17.0\"))\n",
       "        .then(() => maybeLoadScript(\"vega-embed\", \"6\"))\n",
       "        .catch(showError)\n",
       "        .then(() => displayChart(vegaEmbed));\n",
       "    }\n",
       "  })({\"config\": {\"view\": {\"continuousWidth\": 400, \"continuousHeight\": 300}}, \"data\": {\"name\": \"data-235d74cff4151e7f691ed260b343d78b\"}, \"mark\": \"circle\", \"encoding\": {\"color\": {\"field\": \"response\", \"scale\": {\"domain\": [\"Not wrong\", \"Wrong\", \"Wrong-ish\"], \"range\": [\"#8EA604\", \"#F5BB00\", \"#DE1A1A\"]}, \"type\": \"nominal\"}, \"x\": {\"field\": \"pct\", \"type\": \"quantitative\"}, \"y\": {\"field\": \"age\", \"scale\": {\"domain\": [\"70+\", \"60-69\", \"50-59\", \"40-49\", \"30-39\", \"25-29\", \"18-24\"]}, \"type\": \"nominal\"}}, \"$schema\": \"https://vega.github.io/schema/vega-lite/v4.17.0.json\", \"datasets\": {\"data-235d74cff4151e7f691ed260b343d78b\": [{\"age\": \"18-24\", \"religion\": \"No religion\", \"response\": \"Not wrong\", \"n\": 1147, \"pct\": 0.762}, {\"age\": \"18-24\", \"religion\": \"No religion\", \"response\": \"Wrong\", \"n\": 161, \"pct\": 0.107}, {\"age\": \"18-24\", \"religion\": \"No religion\", \"response\": \"Wrong-ish\", \"n\": 197, \"pct\": 0.131}, {\"age\": \"25-29\", \"religion\": \"No religion\", \"response\": \"Not wrong\", \"n\": 887, \"pct\": 0.755}, {\"age\": \"25-29\", \"religion\": \"No religion\", \"response\": \"Wrong\", \"n\": 116, \"pct\": 0.099}, {\"age\": \"25-29\", \"religion\": \"No religion\", \"response\": \"Wrong-ish\", \"n\": 172, \"pct\": 0.146}, {\"age\": \"30-39\", \"religion\": \"No religion\", \"response\": \"Not wrong\", \"n\": 1853, \"pct\": 0.763}, {\"age\": \"30-39\", \"religion\": \"No religion\", \"response\": \"Wrong\", \"n\": 205, \"pct\": 0.084}, {\"age\": \"30-39\", \"religion\": \"No religion\", \"response\": \"Wrong-ish\", \"n\": 370, \"pct\": 0.152}, {\"age\": \"40-49\", \"religion\": \"No religion\", \"response\": \"Not wrong\", \"n\": 1818, \"pct\": 0.7440000000000001}, {\"age\": \"40-49\", \"religion\": \"No religion\", \"response\": \"Wrong\", \"n\": 251, \"pct\": 0.10300000000000001}, {\"age\": \"40-49\", \"religion\": \"No religion\", \"response\": \"Wrong-ish\", \"n\": 375, \"pct\": 0.153}, {\"age\": \"50-59\", \"religion\": \"No religion\", \"response\": \"Not wrong\", \"n\": 1591, \"pct\": 0.75}, {\"age\": \"50-59\", \"religion\": \"No religion\", \"response\": \"Wrong\", \"n\": 211, \"pct\": 0.1}, {\"age\": \"50-59\", \"religion\": \"No religion\", \"response\": \"Wrong-ish\", \"n\": 318, \"pct\": 0.15}, {\"age\": \"60-69\", \"religion\": \"No religion\", \"response\": \"Not wrong\", \"n\": 970, \"pct\": 0.6629999999999999}, {\"age\": \"60-69\", \"religion\": \"No religion\", \"response\": \"Wrong\", \"n\": 211, \"pct\": 0.14400000000000002}, {\"age\": \"60-69\", \"religion\": \"No religion\", \"response\": \"Wrong-ish\", \"n\": 282, \"pct\": 0.193}, {\"age\": \"70+\", \"religion\": \"No religion\", \"response\": \"Not wrong\", \"n\": 469, \"pct\": 0.521}, {\"age\": \"70+\", \"religion\": \"No religion\", \"response\": \"Wrong\", \"n\": 236, \"pct\": 0.262}, {\"age\": \"70+\", \"religion\": \"No religion\", \"response\": \"Wrong-ish\", \"n\": 195, \"pct\": 0.217}]}}, {\"mode\": \"vega-lite\"});\n",
       "</script>"
      ],
      "text/plain": [
       "alt.Chart(...)"
      ]
     },
     "execution_count": 39,
     "metadata": {},
     "output_type": "execute_result"
    }
   ],
   "source": [
    "# just line up everything\n",
    "chart = (\n",
    "    alt.Chart(no)\n",
    "    .mark_circle()\n",
    "    .encode(\n",
    "        x='pct',\n",
    "        y=alt.Y(\n",
    "            'age', \n",
    "            scale=alt.Scale(domain=['70+','60-69', '50-59', '40-49', '30-39', '25-29', '18-24'])\n",
    "        ),\n",
    "        color=alt.Color(\n",
    "            'response', \n",
    "            scale=alt.Scale(\n",
    "            domain=['Not wrong', 'Wrong', 'Wrong-ish'], \n",
    "            range=[\"#8EA604\", \"#F5BB00\", \"#DE1A1A\"])\n",
    "        )\n",
    "    )\n",
    ")\n",
    "\n",
    "chart"
   ]
  },
  {
   "cell_type": "markdown",
   "metadata": {},
   "source": [
    "Flex 💪"
   ]
  },
  {
   "cell_type": "code",
   "execution_count": 40,
   "metadata": {},
   "outputs": [
    {
     "data": {
      "text/html": [
       "\n",
       "<div id=\"altair-viz-a04d269a7f804bb78b5ad76e39c894ec\"></div>\n",
       "<script type=\"text/javascript\">\n",
       "  var VEGA_DEBUG = (typeof VEGA_DEBUG == \"undefined\") ? {} : VEGA_DEBUG;\n",
       "  (function(spec, embedOpt){\n",
       "    let outputDiv = document.currentScript.previousElementSibling;\n",
       "    if (outputDiv.id !== \"altair-viz-a04d269a7f804bb78b5ad76e39c894ec\") {\n",
       "      outputDiv = document.getElementById(\"altair-viz-a04d269a7f804bb78b5ad76e39c894ec\");\n",
       "    }\n",
       "    const paths = {\n",
       "      \"vega\": \"https://cdn.jsdelivr.net/npm//vega@5?noext\",\n",
       "      \"vega-lib\": \"https://cdn.jsdelivr.net/npm//vega-lib?noext\",\n",
       "      \"vega-lite\": \"https://cdn.jsdelivr.net/npm//vega-lite@4.17.0?noext\",\n",
       "      \"vega-embed\": \"https://cdn.jsdelivr.net/npm//vega-embed@6?noext\",\n",
       "    };\n",
       "\n",
       "    function maybeLoadScript(lib, version) {\n",
       "      var key = `${lib.replace(\"-\", \"\")}_version`;\n",
       "      return (VEGA_DEBUG[key] == version) ?\n",
       "        Promise.resolve(paths[lib]) :\n",
       "        new Promise(function(resolve, reject) {\n",
       "          var s = document.createElement('script');\n",
       "          document.getElementsByTagName(\"head\")[0].appendChild(s);\n",
       "          s.async = true;\n",
       "          s.onload = () => {\n",
       "            VEGA_DEBUG[key] = version;\n",
       "            return resolve(paths[lib]);\n",
       "          };\n",
       "          s.onerror = () => reject(`Error loading script: ${paths[lib]}`);\n",
       "          s.src = paths[lib];\n",
       "        });\n",
       "    }\n",
       "\n",
       "    function showError(err) {\n",
       "      outputDiv.innerHTML = `<div class=\"error\" style=\"color:red;\">${err}</div>`;\n",
       "      throw err;\n",
       "    }\n",
       "\n",
       "    function displayChart(vegaEmbed) {\n",
       "      vegaEmbed(outputDiv, spec, embedOpt)\n",
       "        .catch(err => showError(`Javascript Error: ${err.message}<br>This usually means there's a typo in your chart specification. See the javascript console for the full traceback.`));\n",
       "    }\n",
       "\n",
       "    if(typeof define === \"function\" && define.amd) {\n",
       "      requirejs.config({paths});\n",
       "      require([\"vega-embed\"], displayChart, err => showError(`Error loading script: ${err.message}`));\n",
       "    } else {\n",
       "      maybeLoadScript(\"vega\", \"5\")\n",
       "        .then(() => maybeLoadScript(\"vega-lite\", \"4.17.0\"))\n",
       "        .then(() => maybeLoadScript(\"vega-embed\", \"6\"))\n",
       "        .catch(showError)\n",
       "        .then(() => displayChart(vegaEmbed));\n",
       "    }\n",
       "  })({\"config\": {\"view\": {\"continuousWidth\": 400, \"continuousHeight\": 300, \"strokeWidth\": 0}}, \"data\": {\"name\": \"data-235d74cff4151e7f691ed260b343d78b\"}, \"mark\": {\"type\": \"circle\", \"opacity\": 0.75}, \"background\": \"#F0F0F0\", \"encoding\": {\"color\": {\"field\": \"response\", \"legend\": {\"orient\": \"top\", \"title\": \"\"}, \"scale\": {\"domain\": [\"Not wrong\", \"Wrong-ish\", \"Wrong\"], \"range\": [\"#39a9db\", \"#f39237\", \"#d63230\"]}, \"type\": \"nominal\"}, \"x\": {\"axis\": {\"format\": \"%\", \"title\": \"\", \"values\": [0, 0.25, 0.5, 0.75, 1]}, \"field\": \"pct\", \"type\": \"quantitative\"}, \"y\": {\"axis\": {\"grid\": true, \"title\": \"\"}, \"field\": \"age\", \"scale\": {\"domain\": [\"70+\", \"60-69\", \"50-59\", \"40-49\", \"30-39\", \"25-29\", \"18-24\"]}, \"type\": \"nominal\"}}, \"height\": 250, \"title\": \"Sex Before Marriage\", \"width\": 250, \"$schema\": \"https://vega.github.io/schema/vega-lite/v4.17.0.json\", \"datasets\": {\"data-235d74cff4151e7f691ed260b343d78b\": [{\"age\": \"18-24\", \"religion\": \"No religion\", \"response\": \"Not wrong\", \"n\": 1147, \"pct\": 0.762}, {\"age\": \"18-24\", \"religion\": \"No religion\", \"response\": \"Wrong\", \"n\": 161, \"pct\": 0.107}, {\"age\": \"18-24\", \"religion\": \"No religion\", \"response\": \"Wrong-ish\", \"n\": 197, \"pct\": 0.131}, {\"age\": \"25-29\", \"religion\": \"No religion\", \"response\": \"Not wrong\", \"n\": 887, \"pct\": 0.755}, {\"age\": \"25-29\", \"religion\": \"No religion\", \"response\": \"Wrong\", \"n\": 116, \"pct\": 0.099}, {\"age\": \"25-29\", \"religion\": \"No religion\", \"response\": \"Wrong-ish\", \"n\": 172, \"pct\": 0.146}, {\"age\": \"30-39\", \"religion\": \"No religion\", \"response\": \"Not wrong\", \"n\": 1853, \"pct\": 0.763}, {\"age\": \"30-39\", \"religion\": \"No religion\", \"response\": \"Wrong\", \"n\": 205, \"pct\": 0.084}, {\"age\": \"30-39\", \"religion\": \"No religion\", \"response\": \"Wrong-ish\", \"n\": 370, \"pct\": 0.152}, {\"age\": \"40-49\", \"religion\": \"No religion\", \"response\": \"Not wrong\", \"n\": 1818, \"pct\": 0.7440000000000001}, {\"age\": \"40-49\", \"religion\": \"No religion\", \"response\": \"Wrong\", \"n\": 251, \"pct\": 0.10300000000000001}, {\"age\": \"40-49\", \"religion\": \"No religion\", \"response\": \"Wrong-ish\", \"n\": 375, \"pct\": 0.153}, {\"age\": \"50-59\", \"religion\": \"No religion\", \"response\": \"Not wrong\", \"n\": 1591, \"pct\": 0.75}, {\"age\": \"50-59\", \"religion\": \"No religion\", \"response\": \"Wrong\", \"n\": 211, \"pct\": 0.1}, {\"age\": \"50-59\", \"religion\": \"No religion\", \"response\": \"Wrong-ish\", \"n\": 318, \"pct\": 0.15}, {\"age\": \"60-69\", \"religion\": \"No religion\", \"response\": \"Not wrong\", \"n\": 970, \"pct\": 0.6629999999999999}, {\"age\": \"60-69\", \"religion\": \"No religion\", \"response\": \"Wrong\", \"n\": 211, \"pct\": 0.14400000000000002}, {\"age\": \"60-69\", \"religion\": \"No religion\", \"response\": \"Wrong-ish\", \"n\": 282, \"pct\": 0.193}, {\"age\": \"70+\", \"religion\": \"No religion\", \"response\": \"Not wrong\", \"n\": 469, \"pct\": 0.521}, {\"age\": \"70+\", \"religion\": \"No religion\", \"response\": \"Wrong\", \"n\": 236, \"pct\": 0.262}, {\"age\": \"70+\", \"religion\": \"No religion\", \"response\": \"Wrong-ish\", \"n\": 195, \"pct\": 0.217}]}}, {\"mode\": \"vega-lite\"});\n",
       "</script>"
      ],
      "text/plain": [
       "alt.Chart(...)"
      ]
     },
     "execution_count": 40,
     "metadata": {},
     "output_type": "execute_result"
    }
   ],
   "source": [
    "chart = (\n",
    "    alt.Chart(no)\n",
    "    .mark_circle(opacity=3/4)\n",
    "    .encode(\n",
    "        x=alt.X('pct:Q',\n",
    "            axis=alt.Axis(\n",
    "                title='', \n",
    "                # showing off here\n",
    "                format='%', \n",
    "                values=[0, 0.25, 0.5, 0.75, 1]\n",
    "            ),\n",
    "        ), \n",
    "        y=alt.Y('age', \n",
    "            # stripping it all down\n",
    "            axis=alt.Axis(title='', grid=True),\n",
    "            scale=alt.Scale(domain=['70+','60-69', '50-59', '40-49', '30-39', '25-29', '18-24']),\n",
    "        ), \n",
    "        color=alt.Color('response', \n",
    "            scale=alt.Scale(\n",
    "                domain=['Not wrong', 'Wrong-ish', 'Wrong'], \n",
    "                range=[\"#39a9db\", \"#f39237\", \"#d63230\"]\n",
    "            ),\n",
    "            legend=alt.Legend(title='', orient='top')\n",
    "        )\n",
    "    )\n",
    "    # formatting\n",
    "    .configure_view(strokeWidth=0)\n",
    "    .properties(\n",
    "        width=250, \n",
    "        height=250,\n",
    "        background='#F0F0F0',\n",
    "        title='Sex Before Marriage'\n",
    "    )\n",
    ")\n",
    "\n",
    "chart"
   ]
  },
  {
   "cell_type": "markdown",
   "metadata": {},
   "source": [
    "To be continued..."
   ]
  },
  {
   "cell_type": "markdown",
   "metadata": {},
   "source": [
    "#### Marathon"
   ]
  },
  {
   "cell_type": "code",
   "execution_count": 41,
   "metadata": {},
   "outputs": [],
   "source": [
    "marathon = pd.read_csv('../data/marathon.csv')\n",
    "marathon['time'] = marathon['time'].apply(pd.to_datetime)\n",
    "two = marathon[marathon['runner'].isin(['Emma S.', 'Rich H.'])]"
   ]
  },
  {
   "cell_type": "code",
   "execution_count": 42,
   "metadata": {},
   "outputs": [
    {
     "data": {
      "text/html": [
       "\n",
       "<div id=\"altair-viz-0357bfc6c8114dfab6cd044f2a1d5dc5\"></div>\n",
       "<script type=\"text/javascript\">\n",
       "  var VEGA_DEBUG = (typeof VEGA_DEBUG == \"undefined\") ? {} : VEGA_DEBUG;\n",
       "  (function(spec, embedOpt){\n",
       "    let outputDiv = document.currentScript.previousElementSibling;\n",
       "    if (outputDiv.id !== \"altair-viz-0357bfc6c8114dfab6cd044f2a1d5dc5\") {\n",
       "      outputDiv = document.getElementById(\"altair-viz-0357bfc6c8114dfab6cd044f2a1d5dc5\");\n",
       "    }\n",
       "    const paths = {\n",
       "      \"vega\": \"https://cdn.jsdelivr.net/npm//vega@5?noext\",\n",
       "      \"vega-lib\": \"https://cdn.jsdelivr.net/npm//vega-lib?noext\",\n",
       "      \"vega-lite\": \"https://cdn.jsdelivr.net/npm//vega-lite@4.17.0?noext\",\n",
       "      \"vega-embed\": \"https://cdn.jsdelivr.net/npm//vega-embed@6?noext\",\n",
       "    };\n",
       "\n",
       "    function maybeLoadScript(lib, version) {\n",
       "      var key = `${lib.replace(\"-\", \"\")}_version`;\n",
       "      return (VEGA_DEBUG[key] == version) ?\n",
       "        Promise.resolve(paths[lib]) :\n",
       "        new Promise(function(resolve, reject) {\n",
       "          var s = document.createElement('script');\n",
       "          document.getElementsByTagName(\"head\")[0].appendChild(s);\n",
       "          s.async = true;\n",
       "          s.onload = () => {\n",
       "            VEGA_DEBUG[key] = version;\n",
       "            return resolve(paths[lib]);\n",
       "          };\n",
       "          s.onerror = () => reject(`Error loading script: ${paths[lib]}`);\n",
       "          s.src = paths[lib];\n",
       "        });\n",
       "    }\n",
       "\n",
       "    function showError(err) {\n",
       "      outputDiv.innerHTML = `<div class=\"error\" style=\"color:red;\">${err}</div>`;\n",
       "      throw err;\n",
       "    }\n",
       "\n",
       "    function displayChart(vegaEmbed) {\n",
       "      vegaEmbed(outputDiv, spec, embedOpt)\n",
       "        .catch(err => showError(`Javascript Error: ${err.message}<br>This usually means there's a typo in your chart specification. See the javascript console for the full traceback.`));\n",
       "    }\n",
       "\n",
       "    if(typeof define === \"function\" && define.amd) {\n",
       "      requirejs.config({paths});\n",
       "      require([\"vega-embed\"], displayChart, err => showError(`Error loading script: ${err.message}`));\n",
       "    } else {\n",
       "      maybeLoadScript(\"vega\", \"5\")\n",
       "        .then(() => maybeLoadScript(\"vega-lite\", \"4.17.0\"))\n",
       "        .then(() => maybeLoadScript(\"vega-embed\", \"6\"))\n",
       "        .catch(showError)\n",
       "        .then(() => displayChart(vegaEmbed));\n",
       "    }\n",
       "  })({\"config\": {\"view\": {\"continuousWidth\": 400, \"continuousHeight\": 300}}, \"data\": {\"name\": \"data-69a045895c2d24216af589357bfd6fd3\"}, \"mark\": \"line\", \"encoding\": {\"color\": {\"field\": \"runner\", \"type\": \"nominal\"}, \"x\": {\"field\": \"time\", \"type\": \"temporal\"}, \"y\": {\"field\": \"distance\", \"type\": \"quantitative\"}}, \"title\": \"Ultra Runners\", \"$schema\": \"https://vega.github.io/schema/vega-lite/v4.17.0.json\", \"datasets\": {\"data-69a045895c2d24216af589357bfd6fd3\": [{\"time\": \"2019-03-24T18:00:00\", \"distance\": 0.0, \"runner\": \"Emma S.\", \"dsplit\": 7.822755, \"mph\": 3.9113775, \"hour\": 0, \"gender\": \"female\"}, {\"time\": \"2019-03-24T20:00:00\", \"distance\": 7.822755, \"runner\": \"Emma S.\", \"dsplit\": 7.822755, \"mph\": 3.9113775, \"hour\": 2, \"gender\": \"female\"}, {\"time\": \"2019-03-24T22:00:00\", \"distance\": 15.64551, \"runner\": \"Emma S.\", \"dsplit\": 5.21517, \"mph\": 2.607585, \"hour\": 4, \"gender\": \"female\"}, {\"time\": \"2019-03-25T06:00:00\", \"distance\": 20.86068, \"runner\": \"Emma S.\", \"dsplit\": 0.0, \"mph\": 0.0, \"hour\": 12, \"gender\": \"female\"}, {\"time\": \"2019-03-25T04:00:00\", \"distance\": 20.86068, \"runner\": \"Emma S.\", \"dsplit\": 0.0, \"mph\": 0.0, \"hour\": 10, \"gender\": \"female\"}, {\"time\": \"2019-03-25T02:00:00\", \"distance\": 20.86068, \"runner\": \"Emma S.\", \"dsplit\": 0.0, \"mph\": 0.0, \"hour\": 8, \"gender\": \"female\"}, {\"time\": \"2019-03-24T23:59:00\", \"distance\": 20.86068, \"runner\": \"Emma S.\", \"dsplit\": 7.822755, \"mph\": 3.9113775, \"hour\": 6, \"gender\": \"female\"}, {\"time\": \"2019-03-25T08:00:00\", \"distance\": 28.683435, \"runner\": \"Emma S.\", \"dsplit\": 5.21517, \"mph\": 2.607585, \"hour\": 14, \"gender\": \"female\"}, {\"time\": \"2019-03-25T10:00:00\", \"distance\": 33.898605, \"runner\": \"Emma S.\", \"dsplit\": 7.822755, \"mph\": 3.9113775, \"hour\": 16, \"gender\": \"female\"}, {\"time\": \"2019-03-25T12:01:00\", \"distance\": 41.72136, \"runner\": \"Emma S.\", \"dsplit\": 2.607585, \"mph\": 1.3037925, \"hour\": 18, \"gender\": \"female\"}, {\"time\": \"2019-03-25T14:00:00\", \"distance\": 44.328945, \"runner\": \"Emma S.\", \"dsplit\": 7.822755, \"mph\": 3.9113775, \"hour\": 20, \"gender\": \"female\"}, {\"time\": \"2019-03-25T16:00:00\", \"distance\": 52.1517, \"runner\": \"Emma S.\", \"dsplit\": 2.607585, \"mph\": 1.3037925, \"hour\": 22, \"gender\": \"female\"}, {\"time\": \"2019-03-25T18:00:00\", \"distance\": 54.759285, \"runner\": \"Emma S.\", \"dsplit\": 5.21517, \"mph\": 2.607585, \"hour\": 24, \"gender\": \"female\"}, {\"time\": \"2019-03-25T20:00:00\", \"distance\": 59.974455, \"runner\": \"Emma S.\", \"dsplit\": 5.21517, \"mph\": 2.607585, \"hour\": 26, \"gender\": \"female\"}, {\"time\": \"2019-03-25T22:00:00\", \"distance\": 65.189625, \"runner\": \"Emma S.\", \"dsplit\": 2.607585, \"mph\": 1.3037925, \"hour\": 28, \"gender\": \"female\"}, {\"time\": \"2019-03-26T06:00:00\", \"distance\": 67.79721, \"runner\": \"Emma S.\", \"dsplit\": 0.0, \"mph\": 0.0, \"hour\": 36, \"gender\": \"female\"}, {\"time\": \"2019-03-26T04:00:00\", \"distance\": 67.79721, \"runner\": \"Emma S.\", \"dsplit\": 0.0, \"mph\": 0.0, \"hour\": 34, \"gender\": \"female\"}, {\"time\": \"2019-03-26T02:00:00\", \"distance\": 67.79721, \"runner\": \"Emma S.\", \"dsplit\": 0.0, \"mph\": 0.0, \"hour\": 32, \"gender\": \"female\"}, {\"time\": \"2019-03-25T23:59:00\", \"distance\": 67.79721, \"runner\": \"Emma S.\", \"dsplit\": 5.21517, \"mph\": 2.607585, \"hour\": 30, \"gender\": \"female\"}, {\"time\": \"2019-03-26T08:00:00\", \"distance\": 73.01238, \"runner\": \"Emma S.\", \"dsplit\": 2.607585, \"mph\": 1.3037925, \"hour\": 38, \"gender\": \"female\"}, {\"time\": \"2019-03-26T10:00:00\", \"distance\": 75.619965, \"runner\": \"Emma S.\", \"dsplit\": 7.822755, \"mph\": 3.9113775, \"hour\": 40, \"gender\": \"female\"}, {\"time\": \"2019-03-26T12:01:00\", \"distance\": 83.44272, \"runner\": \"Emma S.\", \"dsplit\": 5.21517, \"mph\": 2.607585, \"hour\": 42, \"gender\": \"female\"}, {\"time\": \"2019-03-26T14:00:00\", \"distance\": 88.65789, \"runner\": \"Emma S.\", \"dsplit\": 7.822755, \"mph\": 3.9113775, \"hour\": 44, \"gender\": \"female\"}, {\"time\": \"2019-03-26T16:00:00\", \"distance\": 96.480645, \"runner\": \"Emma S.\", \"dsplit\": 6.807585, \"mph\": 3.4037925, \"hour\": 46, \"gender\": \"female\"}, {\"time\": \"2019-03-26T18:00:00\", \"distance\": 103.28823, \"runner\": \"Emma S.\", \"dsplit\": null, \"mph\": null, \"hour\": 48, \"gender\": \"female\"}, {\"time\": \"2019-03-24T18:00:00\", \"distance\": 0.0, \"runner\": \"Rich H.\", \"dsplit\": 10.43034, \"mph\": 5.21517, \"hour\": 0, \"gender\": \"male\"}, {\"time\": \"2019-03-24T20:00:00\", \"distance\": 10.43034, \"runner\": \"Rich H.\", \"dsplit\": 10.43034, \"mph\": 5.21517, \"hour\": 2, \"gender\": \"male\"}, {\"time\": \"2019-03-24T22:00:00\", \"distance\": 20.86068, \"runner\": \"Rich H.\", \"dsplit\": 7.822755, \"mph\": 3.9113775, \"hour\": 4, \"gender\": \"male\"}, {\"time\": \"2019-03-24T23:59:00\", \"distance\": 28.683435, \"runner\": \"Rich H.\", \"dsplit\": 7.822755, \"mph\": 3.9113775, \"hour\": 6, \"gender\": \"male\"}, {\"time\": \"2019-03-25T02:00:00\", \"distance\": 36.50619, \"runner\": \"Rich H.\", \"dsplit\": 7.822755, \"mph\": 3.9113775, \"hour\": 8, \"gender\": \"male\"}, {\"time\": \"2019-03-25T04:00:00\", \"distance\": 44.328945, \"runner\": \"Rich H.\", \"dsplit\": 5.21517, \"mph\": 2.607585, \"hour\": 10, \"gender\": \"male\"}, {\"time\": \"2019-03-25T06:00:00\", \"distance\": 49.544115, \"runner\": \"Rich H.\", \"dsplit\": 2.607585, \"mph\": 1.3037925, \"hour\": 12, \"gender\": \"male\"}, {\"time\": \"2019-03-25T08:00:00\", \"distance\": 52.1517, \"runner\": \"Rich H.\", \"dsplit\": 5.21517, \"mph\": 2.607585, \"hour\": 14, \"gender\": \"male\"}, {\"time\": \"2019-03-25T10:00:00\", \"distance\": 57.36687, \"runner\": \"Rich H.\", \"dsplit\": 7.822755, \"mph\": 3.9113775, \"hour\": 16, \"gender\": \"male\"}, {\"time\": \"2019-03-25T12:01:00\", \"distance\": 65.189625, \"runner\": \"Rich H.\", \"dsplit\": 2.607585, \"mph\": 1.3037925, \"hour\": 18, \"gender\": \"male\"}, {\"time\": \"2019-03-25T14:00:00\", \"distance\": 67.79721, \"runner\": \"Rich H.\", \"dsplit\": 5.21517, \"mph\": 2.607585, \"hour\": 20, \"gender\": \"male\"}, {\"time\": \"2019-03-25T16:00:00\", \"distance\": 73.01238, \"runner\": \"Rich H.\", \"dsplit\": 5.21517, \"mph\": 2.607585, \"hour\": 22, \"gender\": \"male\"}, {\"time\": \"2019-03-25T18:00:00\", \"distance\": 78.22755, \"runner\": \"Rich H.\", \"dsplit\": 2.607585, \"mph\": 1.3037925, \"hour\": 24, \"gender\": \"male\"}, {\"time\": \"2019-03-25T20:00:00\", \"distance\": 80.835135, \"runner\": \"Rich H.\", \"dsplit\": 2.607585, \"mph\": 1.3037925, \"hour\": 26, \"gender\": \"male\"}, {\"time\": \"2019-03-25T22:00:00\", \"distance\": 83.44272, \"runner\": \"Rich H.\", \"dsplit\": 5.21517, \"mph\": 2.607585, \"hour\": 28, \"gender\": \"male\"}, {\"time\": \"2019-03-25T23:59:00\", \"distance\": 88.65789, \"runner\": \"Rich H.\", \"dsplit\": 2.607585, \"mph\": 1.3037925, \"hour\": 30, \"gender\": \"male\"}, {\"time\": \"2019-03-26T02:00:00\", \"distance\": 91.265475, \"runner\": \"Rich H.\", \"dsplit\": 2.607585, \"mph\": 1.3037925, \"hour\": 32, \"gender\": \"male\"}, {\"time\": \"2019-03-26T04:00:00\", \"distance\": 93.87306, \"runner\": \"Rich H.\", \"dsplit\": 5.21517, \"mph\": 2.607585, \"hour\": 34, \"gender\": \"male\"}, {\"time\": \"2019-03-26T08:00:00\", \"distance\": 99.08823, \"runner\": \"Rich H.\", \"dsplit\": 0.0, \"mph\": 0.0, \"hour\": 38, \"gender\": \"male\"}, {\"time\": \"2019-03-26T06:00:00\", \"distance\": 99.08823, \"runner\": \"Rich H.\", \"dsplit\": 2.607585, \"mph\": 1.3037925, \"hour\": 36, \"gender\": \"male\"}, {\"time\": \"2019-03-26T10:00:00\", \"distance\": 101.695815, \"runner\": \"Rich H.\", \"dsplit\": 5.21517, \"mph\": 2.607585, \"hour\": 40, \"gender\": \"male\"}, {\"time\": \"2019-03-26T14:00:00\", \"distance\": 106.910985, \"runner\": \"Rich H.\", \"dsplit\": 0.0, \"mph\": 0.0, \"hour\": 44, \"gender\": \"male\"}, {\"time\": \"2019-03-26T12:01:00\", \"distance\": 106.910985, \"runner\": \"Rich H.\", \"dsplit\": 5.21517, \"mph\": 2.607585, \"hour\": 42, \"gender\": \"male\"}, {\"time\": \"2019-03-26T16:00:00\", \"distance\": 112.126155, \"runner\": \"Rich H.\", \"dsplit\": 4.007585, \"mph\": 2.0037925, \"hour\": 46, \"gender\": \"male\"}, {\"time\": \"2019-03-26T18:00:00\", \"distance\": 116.13374, \"runner\": \"Rich H.\", \"dsplit\": null, \"mph\": null, \"hour\": 48, \"gender\": \"male\"}]}}, {\"mode\": \"vega-lite\"});\n",
       "</script>"
      ],
      "text/plain": [
       "alt.Chart(...)"
      ]
     },
     "execution_count": 42,
     "metadata": {},
     "output_type": "execute_result"
    }
   ],
   "source": [
    "alt.Chart(two).mark_line().encode(\n",
    "    x='time:T',\n",
    "    y='distance',\n",
    "    color='runner'\n",
    ").properties(title='Ultra Runners')"
   ]
  },
  {
   "cell_type": "code",
   "execution_count": 43,
   "metadata": {},
   "outputs": [
    {
     "data": {
      "text/html": [
       "\n",
       "<div id=\"altair-viz-2e4bbd2a85114d9ab8125b9c2f36ea45\"></div>\n",
       "<script type=\"text/javascript\">\n",
       "  var VEGA_DEBUG = (typeof VEGA_DEBUG == \"undefined\") ? {} : VEGA_DEBUG;\n",
       "  (function(spec, embedOpt){\n",
       "    let outputDiv = document.currentScript.previousElementSibling;\n",
       "    if (outputDiv.id !== \"altair-viz-2e4bbd2a85114d9ab8125b9c2f36ea45\") {\n",
       "      outputDiv = document.getElementById(\"altair-viz-2e4bbd2a85114d9ab8125b9c2f36ea45\");\n",
       "    }\n",
       "    const paths = {\n",
       "      \"vega\": \"https://cdn.jsdelivr.net/npm//vega@5?noext\",\n",
       "      \"vega-lib\": \"https://cdn.jsdelivr.net/npm//vega-lib?noext\",\n",
       "      \"vega-lite\": \"https://cdn.jsdelivr.net/npm//vega-lite@4.17.0?noext\",\n",
       "      \"vega-embed\": \"https://cdn.jsdelivr.net/npm//vega-embed@6?noext\",\n",
       "    };\n",
       "\n",
       "    function maybeLoadScript(lib, version) {\n",
       "      var key = `${lib.replace(\"-\", \"\")}_version`;\n",
       "      return (VEGA_DEBUG[key] == version) ?\n",
       "        Promise.resolve(paths[lib]) :\n",
       "        new Promise(function(resolve, reject) {\n",
       "          var s = document.createElement('script');\n",
       "          document.getElementsByTagName(\"head\")[0].appendChild(s);\n",
       "          s.async = true;\n",
       "          s.onload = () => {\n",
       "            VEGA_DEBUG[key] = version;\n",
       "            return resolve(paths[lib]);\n",
       "          };\n",
       "          s.onerror = () => reject(`Error loading script: ${paths[lib]}`);\n",
       "          s.src = paths[lib];\n",
       "        });\n",
       "    }\n",
       "\n",
       "    function showError(err) {\n",
       "      outputDiv.innerHTML = `<div class=\"error\" style=\"color:red;\">${err}</div>`;\n",
       "      throw err;\n",
       "    }\n",
       "\n",
       "    function displayChart(vegaEmbed) {\n",
       "      vegaEmbed(outputDiv, spec, embedOpt)\n",
       "        .catch(err => showError(`Javascript Error: ${err.message}<br>This usually means there's a typo in your chart specification. See the javascript console for the full traceback.`));\n",
       "    }\n",
       "\n",
       "    if(typeof define === \"function\" && define.amd) {\n",
       "      requirejs.config({paths});\n",
       "      require([\"vega-embed\"], displayChart, err => showError(`Error loading script: ${err.message}`));\n",
       "    } else {\n",
       "      maybeLoadScript(\"vega\", \"5\")\n",
       "        .then(() => maybeLoadScript(\"vega-lite\", \"4.17.0\"))\n",
       "        .then(() => maybeLoadScript(\"vega-embed\", \"6\"))\n",
       "        .catch(showError)\n",
       "        .then(() => displayChart(vegaEmbed));\n",
       "    }\n",
       "  })({\"config\": {\"view\": {\"continuousWidth\": 400, \"continuousHeight\": 300}}, \"data\": {\"name\": \"data-69a045895c2d24216af589357bfd6fd3\"}, \"mark\": {\"type\": \"line\", \"size\": 3}, \"encoding\": {\"color\": {\"field\": \"runner\", \"legend\": {\"orient\": \"top\", \"title\": null}, \"scale\": {\"domain\": [\"Rich H.\", \"Emma S.\"], \"range\": [\"blue\", \"pink\"]}, \"type\": \"nominal\"}, \"x\": {\"field\": \"time\", \"title\": \"Timestamp\", \"type\": \"temporal\"}, \"y\": {\"field\": \"distance\", \"title\": \"Miles\", \"type\": \"quantitative\"}}, \"height\": 200, \"title\": \"My Dad vs. a 9 year-old\", \"width\": 400, \"$schema\": \"https://vega.github.io/schema/vega-lite/v4.17.0.json\", \"datasets\": {\"data-69a045895c2d24216af589357bfd6fd3\": [{\"time\": \"2019-03-24T18:00:00\", \"distance\": 0.0, \"runner\": \"Emma S.\", \"dsplit\": 7.822755, \"mph\": 3.9113775, \"hour\": 0, \"gender\": \"female\"}, {\"time\": \"2019-03-24T20:00:00\", \"distance\": 7.822755, \"runner\": \"Emma S.\", \"dsplit\": 7.822755, \"mph\": 3.9113775, \"hour\": 2, \"gender\": \"female\"}, {\"time\": \"2019-03-24T22:00:00\", \"distance\": 15.64551, \"runner\": \"Emma S.\", \"dsplit\": 5.21517, \"mph\": 2.607585, \"hour\": 4, \"gender\": \"female\"}, {\"time\": \"2019-03-25T06:00:00\", \"distance\": 20.86068, \"runner\": \"Emma S.\", \"dsplit\": 0.0, \"mph\": 0.0, \"hour\": 12, \"gender\": \"female\"}, {\"time\": \"2019-03-25T04:00:00\", \"distance\": 20.86068, \"runner\": \"Emma S.\", \"dsplit\": 0.0, \"mph\": 0.0, \"hour\": 10, \"gender\": \"female\"}, {\"time\": \"2019-03-25T02:00:00\", \"distance\": 20.86068, \"runner\": \"Emma S.\", \"dsplit\": 0.0, \"mph\": 0.0, \"hour\": 8, \"gender\": \"female\"}, {\"time\": \"2019-03-24T23:59:00\", \"distance\": 20.86068, \"runner\": \"Emma S.\", \"dsplit\": 7.822755, \"mph\": 3.9113775, \"hour\": 6, \"gender\": \"female\"}, {\"time\": \"2019-03-25T08:00:00\", \"distance\": 28.683435, \"runner\": \"Emma S.\", \"dsplit\": 5.21517, \"mph\": 2.607585, \"hour\": 14, \"gender\": \"female\"}, {\"time\": \"2019-03-25T10:00:00\", \"distance\": 33.898605, \"runner\": \"Emma S.\", \"dsplit\": 7.822755, \"mph\": 3.9113775, \"hour\": 16, \"gender\": \"female\"}, {\"time\": \"2019-03-25T12:01:00\", \"distance\": 41.72136, \"runner\": \"Emma S.\", \"dsplit\": 2.607585, \"mph\": 1.3037925, \"hour\": 18, \"gender\": \"female\"}, {\"time\": \"2019-03-25T14:00:00\", \"distance\": 44.328945, \"runner\": \"Emma S.\", \"dsplit\": 7.822755, \"mph\": 3.9113775, \"hour\": 20, \"gender\": \"female\"}, {\"time\": \"2019-03-25T16:00:00\", \"distance\": 52.1517, \"runner\": \"Emma S.\", \"dsplit\": 2.607585, \"mph\": 1.3037925, \"hour\": 22, \"gender\": \"female\"}, {\"time\": \"2019-03-25T18:00:00\", \"distance\": 54.759285, \"runner\": \"Emma S.\", \"dsplit\": 5.21517, \"mph\": 2.607585, \"hour\": 24, \"gender\": \"female\"}, {\"time\": \"2019-03-25T20:00:00\", \"distance\": 59.974455, \"runner\": \"Emma S.\", \"dsplit\": 5.21517, \"mph\": 2.607585, \"hour\": 26, \"gender\": \"female\"}, {\"time\": \"2019-03-25T22:00:00\", \"distance\": 65.189625, \"runner\": \"Emma S.\", \"dsplit\": 2.607585, \"mph\": 1.3037925, \"hour\": 28, \"gender\": \"female\"}, {\"time\": \"2019-03-26T06:00:00\", \"distance\": 67.79721, \"runner\": \"Emma S.\", \"dsplit\": 0.0, \"mph\": 0.0, \"hour\": 36, \"gender\": \"female\"}, {\"time\": \"2019-03-26T04:00:00\", \"distance\": 67.79721, \"runner\": \"Emma S.\", \"dsplit\": 0.0, \"mph\": 0.0, \"hour\": 34, \"gender\": \"female\"}, {\"time\": \"2019-03-26T02:00:00\", \"distance\": 67.79721, \"runner\": \"Emma S.\", \"dsplit\": 0.0, \"mph\": 0.0, \"hour\": 32, \"gender\": \"female\"}, {\"time\": \"2019-03-25T23:59:00\", \"distance\": 67.79721, \"runner\": \"Emma S.\", \"dsplit\": 5.21517, \"mph\": 2.607585, \"hour\": 30, \"gender\": \"female\"}, {\"time\": \"2019-03-26T08:00:00\", \"distance\": 73.01238, \"runner\": \"Emma S.\", \"dsplit\": 2.607585, \"mph\": 1.3037925, \"hour\": 38, \"gender\": \"female\"}, {\"time\": \"2019-03-26T10:00:00\", \"distance\": 75.619965, \"runner\": \"Emma S.\", \"dsplit\": 7.822755, \"mph\": 3.9113775, \"hour\": 40, \"gender\": \"female\"}, {\"time\": \"2019-03-26T12:01:00\", \"distance\": 83.44272, \"runner\": \"Emma S.\", \"dsplit\": 5.21517, \"mph\": 2.607585, \"hour\": 42, \"gender\": \"female\"}, {\"time\": \"2019-03-26T14:00:00\", \"distance\": 88.65789, \"runner\": \"Emma S.\", \"dsplit\": 7.822755, \"mph\": 3.9113775, \"hour\": 44, \"gender\": \"female\"}, {\"time\": \"2019-03-26T16:00:00\", \"distance\": 96.480645, \"runner\": \"Emma S.\", \"dsplit\": 6.807585, \"mph\": 3.4037925, \"hour\": 46, \"gender\": \"female\"}, {\"time\": \"2019-03-26T18:00:00\", \"distance\": 103.28823, \"runner\": \"Emma S.\", \"dsplit\": null, \"mph\": null, \"hour\": 48, \"gender\": \"female\"}, {\"time\": \"2019-03-24T18:00:00\", \"distance\": 0.0, \"runner\": \"Rich H.\", \"dsplit\": 10.43034, \"mph\": 5.21517, \"hour\": 0, \"gender\": \"male\"}, {\"time\": \"2019-03-24T20:00:00\", \"distance\": 10.43034, \"runner\": \"Rich H.\", \"dsplit\": 10.43034, \"mph\": 5.21517, \"hour\": 2, \"gender\": \"male\"}, {\"time\": \"2019-03-24T22:00:00\", \"distance\": 20.86068, \"runner\": \"Rich H.\", \"dsplit\": 7.822755, \"mph\": 3.9113775, \"hour\": 4, \"gender\": \"male\"}, {\"time\": \"2019-03-24T23:59:00\", \"distance\": 28.683435, \"runner\": \"Rich H.\", \"dsplit\": 7.822755, \"mph\": 3.9113775, \"hour\": 6, \"gender\": \"male\"}, {\"time\": \"2019-03-25T02:00:00\", \"distance\": 36.50619, \"runner\": \"Rich H.\", \"dsplit\": 7.822755, \"mph\": 3.9113775, \"hour\": 8, \"gender\": \"male\"}, {\"time\": \"2019-03-25T04:00:00\", \"distance\": 44.328945, \"runner\": \"Rich H.\", \"dsplit\": 5.21517, \"mph\": 2.607585, \"hour\": 10, \"gender\": \"male\"}, {\"time\": \"2019-03-25T06:00:00\", \"distance\": 49.544115, \"runner\": \"Rich H.\", \"dsplit\": 2.607585, \"mph\": 1.3037925, \"hour\": 12, \"gender\": \"male\"}, {\"time\": \"2019-03-25T08:00:00\", \"distance\": 52.1517, \"runner\": \"Rich H.\", \"dsplit\": 5.21517, \"mph\": 2.607585, \"hour\": 14, \"gender\": \"male\"}, {\"time\": \"2019-03-25T10:00:00\", \"distance\": 57.36687, \"runner\": \"Rich H.\", \"dsplit\": 7.822755, \"mph\": 3.9113775, \"hour\": 16, \"gender\": \"male\"}, {\"time\": \"2019-03-25T12:01:00\", \"distance\": 65.189625, \"runner\": \"Rich H.\", \"dsplit\": 2.607585, \"mph\": 1.3037925, \"hour\": 18, \"gender\": \"male\"}, {\"time\": \"2019-03-25T14:00:00\", \"distance\": 67.79721, \"runner\": \"Rich H.\", \"dsplit\": 5.21517, \"mph\": 2.607585, \"hour\": 20, \"gender\": \"male\"}, {\"time\": \"2019-03-25T16:00:00\", \"distance\": 73.01238, \"runner\": \"Rich H.\", \"dsplit\": 5.21517, \"mph\": 2.607585, \"hour\": 22, \"gender\": \"male\"}, {\"time\": \"2019-03-25T18:00:00\", \"distance\": 78.22755, \"runner\": \"Rich H.\", \"dsplit\": 2.607585, \"mph\": 1.3037925, \"hour\": 24, \"gender\": \"male\"}, {\"time\": \"2019-03-25T20:00:00\", \"distance\": 80.835135, \"runner\": \"Rich H.\", \"dsplit\": 2.607585, \"mph\": 1.3037925, \"hour\": 26, \"gender\": \"male\"}, {\"time\": \"2019-03-25T22:00:00\", \"distance\": 83.44272, \"runner\": \"Rich H.\", \"dsplit\": 5.21517, \"mph\": 2.607585, \"hour\": 28, \"gender\": \"male\"}, {\"time\": \"2019-03-25T23:59:00\", \"distance\": 88.65789, \"runner\": \"Rich H.\", \"dsplit\": 2.607585, \"mph\": 1.3037925, \"hour\": 30, \"gender\": \"male\"}, {\"time\": \"2019-03-26T02:00:00\", \"distance\": 91.265475, \"runner\": \"Rich H.\", \"dsplit\": 2.607585, \"mph\": 1.3037925, \"hour\": 32, \"gender\": \"male\"}, {\"time\": \"2019-03-26T04:00:00\", \"distance\": 93.87306, \"runner\": \"Rich H.\", \"dsplit\": 5.21517, \"mph\": 2.607585, \"hour\": 34, \"gender\": \"male\"}, {\"time\": \"2019-03-26T08:00:00\", \"distance\": 99.08823, \"runner\": \"Rich H.\", \"dsplit\": 0.0, \"mph\": 0.0, \"hour\": 38, \"gender\": \"male\"}, {\"time\": \"2019-03-26T06:00:00\", \"distance\": 99.08823, \"runner\": \"Rich H.\", \"dsplit\": 2.607585, \"mph\": 1.3037925, \"hour\": 36, \"gender\": \"male\"}, {\"time\": \"2019-03-26T10:00:00\", \"distance\": 101.695815, \"runner\": \"Rich H.\", \"dsplit\": 5.21517, \"mph\": 2.607585, \"hour\": 40, \"gender\": \"male\"}, {\"time\": \"2019-03-26T14:00:00\", \"distance\": 106.910985, \"runner\": \"Rich H.\", \"dsplit\": 0.0, \"mph\": 0.0, \"hour\": 44, \"gender\": \"male\"}, {\"time\": \"2019-03-26T12:01:00\", \"distance\": 106.910985, \"runner\": \"Rich H.\", \"dsplit\": 5.21517, \"mph\": 2.607585, \"hour\": 42, \"gender\": \"male\"}, {\"time\": \"2019-03-26T16:00:00\", \"distance\": 112.126155, \"runner\": \"Rich H.\", \"dsplit\": 4.007585, \"mph\": 2.0037925, \"hour\": 46, \"gender\": \"male\"}, {\"time\": \"2019-03-26T18:00:00\", \"distance\": 116.13374, \"runner\": \"Rich H.\", \"dsplit\": null, \"mph\": null, \"hour\": 48, \"gender\": \"male\"}]}}, {\"mode\": \"vega-lite\"});\n",
       "</script>"
      ],
      "text/plain": [
       "alt.Chart(...)"
      ]
     },
     "execution_count": 43,
     "metadata": {},
     "output_type": "execute_result"
    }
   ],
   "source": [
    "(\n",
    "    alt.Chart(two)\n",
    "    .mark_line(size=3)\n",
    "    .encode(\n",
    "        # axis titles\n",
    "        x=alt.X('time:T', title='Timestamp'),\n",
    "        y=alt.Y('distance', title='Miles'),\n",
    "        color=alt.Color(\n",
    "            'runner', \n",
    "            # colouring\n",
    "            scale=alt.Scale(domain=['Rich H.', 'Emma S.'], range=['blue', 'pink']),\n",
    "            legend=alt.Legend(title=None, orient='top')\n",
    "        )\n",
    "    )\n",
    "    # formatting\n",
    "    .properties(\n",
    "        title='My Dad vs. a 9 year-old',\n",
    "        width=400,\n",
    "        height=200\n",
    "    )\n",
    ")"
   ]
  },
  {
   "cell_type": "markdown",
   "metadata": {},
   "source": [
    "#### Exercise\n",
    "\n",
    "Build an Altair chart to compare the attitudes of two different religions in the `sex` data set!"
   ]
  }
 ],
 "metadata": {
  "kernelspec": {
   "display_name": "Python 3 (ipykernel)",
   "language": "python",
   "name": "python3"
  },
  "language_info": {
   "codemirror_mode": {
    "name": "ipython",
    "version": 3
   },
   "file_extension": ".py",
   "mimetype": "text/x-python",
   "name": "python",
   "nbconvert_exporter": "python",
   "pygments_lexer": "ipython3",
   "version": "3.8.13"
  }
 },
 "nbformat": 4,
 "nbformat_minor": 4
}
